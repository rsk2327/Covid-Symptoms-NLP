{
 "cells": [
  {
   "cell_type": "code",
   "execution_count": 1,
   "metadata": {},
   "outputs": [],
   "source": [
    "import pandas as pd\n",
    "import numpy as np\n",
    "\n",
    "import os\n",
    "\n",
    "import nltk\n",
    "from nltk.tokenize import TweetTokenizer\n",
    "from nltk.corpus import stopwords \n",
    "\n",
    "from transformers import BertForSequenceClassification, BertTokenizer, BertForMaskedLM\n",
    "\n",
    "from simpletransformers.language_modeling import LanguageModelingModel\n",
    "\n",
    "from sklearn.metrics.pairwise import cosine_similarity, paired_euclidean_distances\n",
    "from sklearn.metrics.pairwise import euclidean_distances\n",
    "from sklearn.preprocessing import normalize, StandardScaler, MinMaxScaler\n",
    "\n",
    "from tqdm import tqdm\n",
    "import torch\n",
    "\n",
    "import networkx as nx\n",
    "\n",
    "import matplotlib.pyplot as plt\n",
    "%matplotlib inline\n",
    "\n",
    "import plotly.graph_objects as go\n",
    "from functools import partial\n",
    "\n",
    "import pickle\n",
    "\n",
    "from collections import deque\n",
    "\n",
    "stop_words = set(stopwords.words('english')) \n",
    "\n",
    "\n",
    "%load_ext autoreload\n",
    "\n",
    "%autoreload 2\n",
    "\n",
    "from utils import *\n",
    "from plotting import *"
   ]
  },
  {
   "cell_type": "code",
   "execution_count": 2,
   "metadata": {},
   "outputs": [],
   "source": [
    "from utils import *"
   ]
  },
  {
   "cell_type": "code",
   "execution_count": 3,
   "metadata": {},
   "outputs": [
    {
     "name": "stdout",
     "output_type": "stream",
     "text": [
      "489\n",
      "withdrawal          13\n",
      "tired                9\n",
      "withdrawals          7\n",
      "sleep                7\n",
      "sick                 6\n",
      "                    ..\n",
      "sucidal thoughts     1\n",
      "mood swings          1\n",
      "tummytrouble         1\n",
      "burnt                1\n",
      "aches                1\n",
      "Name: ADR, Length: 367, dtype: int64\n"
     ]
    }
   ],
   "source": [
    "dataFolder = '/data1/roshansk/TwitterADR/'\n",
    "\n",
    "\n",
    "df = pd.read_csv(os.path.join(dataFolder,'trainTweetData.csv'))\n",
    "df1 = pd.read_csv(os.path.join(dataFolder,'train_tweet_annotations.tsv'),sep='\\t', header = None)\n",
    "df2 = pd.read_csv(os.path.join(dataFolder,'train_tweet_ids.tsv'),sep='\\t', header = None)\n",
    "df2.columns = ['id','user_id','text_id']\n",
    "\n",
    "df1.columns = ['text_id','start','end','type','ADR','drug','drug1']\n",
    "\n",
    "\n",
    "df1 = df1.merge(df2, on='text_id')\n",
    "df = df1.merge(df[['id','text']], on='id')\n",
    "\n",
    "trainDf = df.copy()\n",
    "\n",
    "df = pd.read_csv(os.path.join(dataFolder,'testTweetData.csv'))\n",
    "df1 = pd.read_csv(os.path.join(dataFolder,'test_tweet_annotations.tsv'),sep='\\t', header = None)\n",
    "df2 = pd.read_csv(os.path.join(dataFolder,'test_tweet_ids.tsv'),sep='\\t', header = None)\n",
    "df2.columns = ['id','user_id','text_id']\n",
    "\n",
    "df1.columns = ['text_id','start','end','type','ADR','drug','drug1']\n",
    "\n",
    "\n",
    "df1 = df1.merge(df2, on='text_id')\n",
    "df = df1.merge(df[['id','text']], on='id')\n",
    "\n",
    "testDf = df.copy()\n",
    "\n",
    "fullDf = pd.concat([trainDf,testDf],axis =0)\n",
    "\n",
    "\n",
    "fullDf['message'] = fullDf.text\n",
    "\n",
    "fullDf.drop_duplicates(subset='message',inplace =True)\n",
    "\n",
    "print(len(fullDf))\n",
    "print(fullDf.ADR.value_counts())"
   ]
  },
  {
   "cell_type": "code",
   "execution_count": 4,
   "metadata": {},
   "outputs": [],
   "source": [
    "model = BertForSequenceClassification.from_pretrained('/data1/roshansk/Exp1/checkpoint-141753-epoch-1', output_hidden_states= True)\n",
    "\n",
    "tokenizer = BertTokenizer.from_pretrained('/data1/roshansk/Exp1/checkpoint-141753-epoch-1')"
   ]
  },
  {
   "cell_type": "code",
   "execution_count": 36,
   "metadata": {},
   "outputs": [],
   "source": [
    "class ADRModel(object):\n",
    "    \n",
    "    def __init__(self, model, tokenizer, graph, queue=None, useMasterEmb = False, masterContrib = 0.5):\n",
    "        \n",
    "        self.model = model\n",
    "        self.tokenizer = tokenizer\n",
    "        self.graph = graph\n",
    "        if queue is None:\n",
    "            self.q = deque()\n",
    "        else:\n",
    "            self.q = queue\n",
    "            \n",
    "            \n",
    "        self.masterEmb = None\n",
    "        \n",
    "        self.useMasterEmb = useMasterEmb\n",
    "        self.masterContrib = masterContrib\n",
    "        \n",
    "        \n",
    "        \n",
    "        \n",
    "    def getSymptomEmbedding(self, df, symptom,  embeddingType = 'last4sum', subset = None):\n",
    "    \n",
    "        embeddingList = []\n",
    "        messageList = []\n",
    "\n",
    "        if subset is not None:\n",
    "            df = df.iloc[subset]\n",
    "\n",
    "        if type(df) == pd.Series:\n",
    "            df = pd.DataFrame(df).T\n",
    "\n",
    "        symptomToken = self.tokenizer.encode(symptom)[1]\n",
    "\n",
    "        for i in range(len(df)):\n",
    "\n",
    "            if symptomToken in self.tokenizer.encode(df.iloc[i]['message'].lower()):\n",
    "\n",
    "                tokens = self.tokenizer.encode(df.iloc[i]['message'].lower())\n",
    "                decoded = self.tokenizer.decode(tokens).split(\" \")\n",
    "                logits, hidden_states = self.model(torch.Tensor(tokens).unsqueeze(0).long())\n",
    "\n",
    "                hidden_states = torch.stack(hidden_states).squeeze(1).permute(1,0,2)\n",
    "\n",
    "\n",
    "                try:\n",
    "                    tokenIndex = tokens.index(symptomToken)\n",
    "                except:\n",
    "                    a= 1\n",
    "                    continue\n",
    "\n",
    "\n",
    "                if embeddingType == 'last4sum':\n",
    "                    embedding = torch.sum(hidden_states[tokenIndex,9:13,:],0)\n",
    "                elif embeddingType =='last4concat':\n",
    "                    embedding = hidden_states[tokenIndex,9:13,:].reshape(-1)\n",
    "                elif embeddingType == 'secondlast':\n",
    "                    embedding = hidden_states[tokenIndex,-2,:]\n",
    "                else:\n",
    "                    embedding = hidden_states[tokenIndex,-1,:]\n",
    "\n",
    "\n",
    "                embeddingList.append(embedding.detach().cpu().numpy())\n",
    "                messageList.append(df.iloc[i]['message'].lower())\n",
    "\n",
    "                if len(embeddingList)==30:\n",
    "                    break\n",
    "\n",
    "\n",
    "\n",
    "        return embeddingList, messageList\n",
    "    \n",
    "    \n",
    "    \n",
    "    def getSimilarWords(self,df, symptom, embList, similarityThreshold = 0.3, numThreshold = 10000):\n",
    "    \n",
    "     \n",
    "        output = []\n",
    "\n",
    "\n",
    "        symptomToken = self.tokenizer.encode(symptom)[1]\n",
    "\n",
    "        for i in range(len(df)):\n",
    "\n",
    "            if symptomToken in self.tokenizer.encode(df.iloc[i]['message'].lower()):\n",
    "\n",
    "                tokens = self.tokenizer.encode(df.iloc[i]['message'].lower())\n",
    "                decoded = self.tokenizer.decode(tokens).split(\" \")\n",
    "                logits, hidden_states = self.model(torch.Tensor(tokens).unsqueeze(0).long())\n",
    "\n",
    "                hidden_states = torch.stack(hidden_states).squeeze(1).permute(1,0,2)\n",
    "\n",
    "\n",
    "                hidden_states = hidden_states[:,9:13,:]\n",
    "                hidden_states = torch.sum(hidden_states,1).detach().cpu().numpy()\n",
    "\n",
    "                similarity = cosine_similarity(hidden_states, embList.reshape(1,-1)).reshape(-1)\n",
    "\n",
    "\n",
    "                index = np.where([similarity> similarityThreshold])[1]\n",
    "\n",
    "                selectTokens = np.array(tokens)[index]\n",
    "                selectSim = similarity[index]\n",
    "\n",
    "\n",
    "\n",
    "                for j in range(len(index)):\n",
    "                    token = self.tokenizer.ids_to_tokens[selectTokens[j]]\n",
    "                    sim = selectSim[j]\n",
    "                    output.append((token, sim,i))\n",
    "\n",
    "\n",
    "            if i==numThreshold:\n",
    "                break\n",
    "\n",
    "        return output\n",
    "    \n",
    "    \n",
    "    \n",
    "    def getOutput(self, out):\n",
    "    \n",
    "        output = out\n",
    "\n",
    "        outMap = {}\n",
    "\n",
    "        for i in range(len(output)):\n",
    "            if output[i][0] in outMap:\n",
    "                outMap[output[i][0]].append(output[i][1])\n",
    "            else:\n",
    "                outMap[output[i][0]] = [output[i][1]]\n",
    "\n",
    "\n",
    "        outMap_ = {}\n",
    "\n",
    "        for i in range(len(output)):\n",
    "            if output[i][0] in outMap_:\n",
    "                outMap_[output[i][0]].append(output[i][2])\n",
    "            else:\n",
    "                outMap_[output[i][0]] = [output[i][2]]\n",
    "\n",
    "\n",
    "        outputDf = []\n",
    "\n",
    "        for key in outMap.keys():\n",
    "            length = len(outMap[key])\n",
    "            mean = np.mean(outMap[key])\n",
    "\n",
    "            outputDf.append([key, length, mean])\n",
    "\n",
    "        outputDf = pd.DataFrame(outputDf)\n",
    "        outputDf.columns = ['word','counts','mean_sim']\n",
    "        outputDf = outputDf.sort_values('mean_sim', ascending=False)\n",
    "\n",
    "        return outputDf, outMap, outMap_\n",
    "    \n",
    "    \n",
    "    \n",
    "    \n",
    "    def exploreNode(self, word, depth, fullDf, maxDepth = 3, topk = 5):\n",
    "\n",
    "    \n",
    "        self.graph.addNode(word,0,depth)\n",
    "\n",
    "        print(f\"Depth : {depth} Exploring {word}\")\n",
    "\n",
    "        if depth == maxDepth:\n",
    "            print(\"Reached max depth\")\n",
    "            return\n",
    "\n",
    "        keyWord = word\n",
    "\n",
    "        token = self.tokenizer.encode(keyWord)[1]\n",
    "\n",
    "        if self.graph[word].vector is None:\n",
    "\n",
    "            inEdgeList = self.graph[word].edges_in\n",
    "\n",
    "            if len(inEdgeList)==0:\n",
    "                textIDList = None\n",
    "            else:\n",
    "                textIDList = []\n",
    "\n",
    "                for edge in inEdgeList:\n",
    "                    textIDList.append(self.graph.edgeList[edge].textID)\n",
    "\n",
    "                textIDList = list(set(list(itertools.chain.from_iterable(textIDList))))\n",
    "\n",
    "            \n",
    "            embList,msgList = self.getSymptomEmbedding(fullDf, keyWord, embeddingType='last4sum', subset = textIDList)\n",
    "\n",
    "            meanEmb = np.array(embList)\n",
    "            meanEmb = np.mean(meanEmb,0)\n",
    "\n",
    "\n",
    "            self.graph[word].vector = meanEmb\n",
    "            \n",
    "            if self.masterEmb is None:\n",
    "                self.masterEmb = meanEmb\n",
    "            \n",
    "            dist = getCosineDist(meanEmb, self.masterEmb)\n",
    "            \n",
    "            self.graph[word].masterDist = dist\n",
    "\n",
    "        else:\n",
    "            meanEmb = self.graph[word].vector\n",
    "\n",
    "\n",
    "        symptom_ =''\n",
    "        embList_ = meanEmb\n",
    "\n",
    "        if self.useMasterEmb:\n",
    "            \n",
    "            finalEmb = self.masterContrib*self.masterEmb + (1 - self.masterContrib)*meanEmb\n",
    "            \n",
    "            out = self.getSimilarWords(fullDf.iloc[0:100], symptom_, finalEmb , similarityThreshold = 0.3, numThreshold = 100000)\n",
    "        else:\n",
    "            out = self.getSimilarWords(fullDf.iloc[0:100], symptom_, meanEmb, similarityThreshold = 0.3, numThreshold = 100000)\n",
    "\n",
    "        outputDf, outMap, outMap_ = self.getOutput(out)\n",
    "\n",
    "        outputDf = outputDf[outputDf.word!=keyWord]\n",
    "    #     outputDf = outputDf[~outputDf.word.isin(list(graph.wordMap.keys()))]\n",
    "        outputDf = outputDf.sort_values('mean_sim', ascending=False)\n",
    "        outputDf = outputDf.head(topk)\n",
    "\n",
    "        outputDf = outputDf[outputDf.mean_sim>0.4]\n",
    "\n",
    "        print(outputDf)\n",
    "        print(\"-----------------------\")\n",
    "\n",
    "        for i in range(len(outputDf)):\n",
    "\n",
    "            word = outputDf.iloc[i]['word']\n",
    "            numCount = outputDf.iloc[i]['counts']\n",
    "            weight = outputDf.iloc[i]['mean_sim']\n",
    "            textIDs = outMap_[word]\n",
    "\n",
    "            wordList = set(self.graph.wordMap.keys())\n",
    "\n",
    "            self.graph.addNode(word,0,depth+1)\n",
    "            self.graph[word].textIDList.append(textIDs)\n",
    "            self.graph.addEdge(keyWord, word, numCount, weight, textIDs)\n",
    "\n",
    "            if word in wordList:\n",
    "                continue\n",
    "\n",
    "            if \"#\" in word:\n",
    "                continue\n",
    "\n",
    "\n",
    "            self.q.append((word, depth+1))\n",
    "            \n",
    "            \n",
    "    def trainModel(self, maxDepth = 3, topk = 5):\n",
    "        \n",
    "        currDepth = 0\n",
    "        \n",
    "        while len(self.q)>0:\n",
    "            token, depth = self.q.popleft()\n",
    "            \n",
    "            if depth> currDepth:\n",
    "                self.getMeanEmbedding(depth-1)\n",
    "                currDepth += 1\n",
    "            \n",
    "            self.exploreNode(word = token, depth = depth, fullDf = fullDf, maxDepth=maxDepth, topk=topk)\n",
    "\n",
    "\n",
    "            \n",
    "    def getMeanEmbedding(self, depth, topk = 3):\n",
    "        \n",
    "        candidates = self.graph.depthMap[depth]\n",
    "        \n",
    "        vals = [self.graph[x].masterDist for x in candidates]\n",
    "        \n",
    "        vals = [(x,y) for x,y in zip(candidates,vals)]\n",
    "        \n",
    "        vals = sorted(vals, key = lambda x : -x[1])\n",
    "        \n",
    "        meanEmb = self.masterEmb\n",
    "        \n",
    "        for i in range(min(topk, len(vals)) ):\n",
    "            meanEmb += self.graph[ vals[i][0] ].vector\n",
    "            \n",
    "        meanEmb = meanEmb/(topk+1)\n",
    "        \n",
    "        self.masterEmb = meanEmb\n",
    "        \n",
    "        print(\"Master Embedding updated\")\n",
    "        \n",
    "        \n",
    "    \n",
    "    def plotGraph(self):\n",
    "        \n",
    "        edgeList, nodeList, nodeValues, nodeCount, nodeText, nodeSize = getGraphComponents(self.graph)\n",
    "\n",
    "        G=nx.Graph()\n",
    "\n",
    "        G.add_nodes_from(nodeList)\n",
    "        G.add_edges_from(edgeList)\n",
    "\n",
    "        edge_trace, node_trace1, node_trace = getPlotlyComponents(G, nodeList, nodeSize, nodeValues, nodeText)\n",
    "\n",
    "\n",
    "        fig = go.Figure(data=[edge_trace, node_trace1, node_trace],\n",
    "             layout=go.Layout(\n",
    "                title='<br>Network graph made with Python',\n",
    "                titlefont_size=16,\n",
    "                showlegend=False,\n",
    "                hovermode='closest',\n",
    "                margin=dict(b=20,l=5,r=5,t=50),\n",
    "\n",
    "                xaxis=dict(showgrid=False, zeroline=False, showticklabels=False),\n",
    "                yaxis=dict(showgrid=False, zeroline=False, showticklabels=False))\n",
    "                )\n",
    "        \n",
    "        fig.show()\n",
    "        \n",
    "        \n"
   ]
  },
  {
   "cell_type": "code",
   "execution_count": 34,
   "metadata": {},
   "outputs": [],
   "source": [
    "graph = Graph()\n",
    "\n",
    "q = deque()\n",
    "q.append(('tired',0))\n",
    "\n",
    "ADR = ADRModel(model, tokenizer, graph, q, useMasterEmb=True, masterContrib=0.3)"
   ]
  },
  {
   "cell_type": "code",
   "execution_count": 13,
   "metadata": {},
   "outputs": [
    {
     "name": "stdout",
     "output_type": "stream",
     "text": [
      "Depth : 0 Exploring tired\n",
      "          word  counts  mean_sim\n",
      "119  depressed       2  0.655812\n",
      "70     anxious       2  0.650671\n",
      "7       sleepy       2  0.628737\n",
      "29        sick       5  0.608247\n",
      "-----------------------\n",
      "Master Embedding updated\n",
      "Depth : 1 Exploring depressed\n",
      "       word  counts  mean_sim\n",
      "55  anxious       2  0.787428\n",
      "5     tired       4  0.696910\n",
      "75    angry       1  0.624555\n",
      "52    weird       1  0.597824\n",
      "-----------------------\n",
      "Depth : 1 Exploring anxious\n",
      "          word  counts  mean_sim\n",
      "107  depressed       2  0.778725\n",
      "5        tired       4  0.711929\n",
      "84       angry       1  0.629397\n",
      "69       happy       1  0.627978\n",
      "-----------------------\n",
      "Depth : 1 Exploring sleepy\n",
      "          word  counts  mean_sim\n",
      "6        tired       4  0.709991\n",
      "187     asleep       1  0.697489\n",
      "51     anxious       2  0.653966\n",
      "91   depressed       2  0.588023\n",
      "-----------------------\n",
      "Depth : 1 Exploring sick\n",
      "       word  counts  mean_sim\n",
      "4     tired       4  0.670607\n",
      "77  anxious       2  0.622801\n",
      "28    dizzy       1  0.584544\n",
      "73    weird       1  0.578389\n",
      "-----------------------\n",
      "Master Embedding updated\n",
      "Depth : 2 Exploring angry\n",
      "Reached max depth\n",
      "Depth : 2 Exploring weird\n",
      "Reached max depth\n",
      "Depth : 2 Exploring happy\n",
      "Reached max depth\n",
      "Depth : 2 Exploring asleep\n",
      "Reached max depth\n",
      "Depth : 2 Exploring dizzy\n",
      "Reached max depth\n"
     ]
    }
   ],
   "source": [
    "ADR.trainModel(maxDepth=3,topk=4) #Master Contrib = 0.3"
   ]
  },
  {
   "cell_type": "code",
   "execution_count": 35,
   "metadata": {
    "scrolled": true
   },
   "outputs": [
    {
     "name": "stdout",
     "output_type": "stream",
     "text": [
      "Depth : 0 Exploring tired\n",
      "          word  counts  mean_sim\n",
      "119  depressed       2  0.655812\n",
      "70     anxious       2  0.650671\n",
      "7       sleepy       2  0.628737\n",
      "29        sick       5  0.608247\n",
      "-----------------------\n",
      "Master Embedding updated\n",
      "Depth : 1 Exploring depressed\n",
      "       word  counts  mean_sim\n",
      "55  anxious       2  0.787428\n",
      "5     tired       4  0.696910\n",
      "75    angry       1  0.624555\n",
      "52    weird       1  0.597824\n",
      "-----------------------\n",
      "Depth : 1 Exploring anxious\n",
      "          word  counts  mean_sim\n",
      "107  depressed       2  0.778725\n",
      "5        tired       4  0.711929\n",
      "84       angry       1  0.629397\n",
      "69       happy       1  0.627978\n",
      "-----------------------\n",
      "Depth : 1 Exploring sleepy\n",
      "          word  counts  mean_sim\n",
      "6        tired       4  0.709991\n",
      "187     asleep       1  0.697489\n",
      "51     anxious       2  0.653966\n",
      "91   depressed       2  0.588023\n",
      "-----------------------\n",
      "Depth : 1 Exploring sick\n",
      "       word  counts  mean_sim\n",
      "4     tired       4  0.670607\n",
      "77  anxious       2  0.622801\n",
      "28    dizzy       1  0.584544\n",
      "73    weird       1  0.578389\n",
      "-----------------------\n",
      "Master Embedding updated\n",
      "Depth : 2 Exploring angry\n",
      "         word  counts  mean_sim\n",
      "35    anxious       2  0.729500\n",
      "68  depressed       2  0.709657\n",
      "41     crying       1  0.615737\n",
      "40        sad       1  0.596997\n",
      "-----------------------\n",
      "Depth : 2 Exploring weird\n",
      "          word  counts  mean_sim\n",
      "141    awesome       1  0.718036\n",
      "84     anxious       2  0.675541\n",
      "147  depressed       2  0.666352\n",
      "5        tired       4  0.589598\n",
      "-----------------------\n",
      "Depth : 2 Exploring happy\n",
      "          word  counts  mean_sim\n",
      "55     anxious       2  0.710564\n",
      "100  depressed       2  0.611824\n",
      "4        tired       4  0.591672\n",
      "5       sleepy       2  0.575746\n",
      "-----------------------\n",
      "Depth : 2 Exploring asleep\n",
      "       word  counts  mean_sim\n",
      "4    sleepy       2  0.709876\n",
      "96   dreams       1  0.618620\n",
      "3     tired       4  0.615296\n",
      "41  anxious       2  0.600035\n",
      "-----------------------\n",
      "Depth : 2 Exploring dizzy\n",
      "         word  counts  mean_sim\n",
      "49    anxious       2  0.642167\n",
      "89  depressed       2  0.617476\n",
      "4       tired       4  0.593335\n",
      "5      sleepy       2  0.586075\n",
      "-----------------------\n",
      "Master Embedding updated\n",
      "Depth : 3 Exploring crying\n",
      "          word  counts  mean_sim\n",
      "85         sad       1  0.702218\n",
      "256        cry       2  0.640394\n",
      "100      angry       1  0.632083\n",
      "135  depressed       2  0.613660\n",
      "-----------------------\n",
      "Depth : 3 Exploring sad\n",
      "         word  counts  mean_sim\n",
      "49     crying       1  0.704601\n",
      "77  depressed       2  0.647065\n",
      "58      angry       1  0.607343\n",
      "40    anxious       2  0.581544\n",
      "-----------------------\n",
      "Depth : 3 Exploring awesome\n",
      "        word  counts  mean_sim\n",
      "91     weird       1  0.789156\n",
      "95   anxious       2  0.573597\n",
      "97    insane       1  0.565395\n",
      "254   shitty       1  0.563974\n",
      "-----------------------\n",
      "Depth : 3 Exploring dreams\n",
      "          word  counts  mean_sim\n",
      "127     asleep       1  0.677695\n",
      "3       sleepy       2  0.618393\n",
      "34     anxious       2  0.554786\n",
      "62   depressed       2  0.543288\n",
      "-----------------------\n",
      "Master Embedding updated\n",
      "Depth : 4 Exploring cry\n",
      "Reached max depth\n",
      "Depth : 4 Exploring insane\n",
      "Reached max depth\n",
      "Depth : 4 Exploring shitty\n",
      "Reached max depth\n"
     ]
    }
   ],
   "source": [
    "ADR.trainModel(maxDepth=4,topk=4) #Master Contrib = 0.3"
   ]
  },
  {
   "cell_type": "code",
   "execution_count": 37,
   "metadata": {},
   "outputs": [
    {
     "data": {
      "application/vnd.plotly.v1+json": {
       "config": {
        "plotlyServerURL": "https://plot.ly"
       },
       "data": [
        {
         "hoverinfo": "none",
         "line": {
          "color": "#888",
          "width": 0.5
         },
         "mode": "lines",
         "type": "scatter",
         "x": [
          239.19,
          275.19,
          null,
          239.19,
          176.83,
          null,
          239.19,
          169.64,
          null,
          239.19,
          188.28,
          null,
          239.19,
          220.55,
          null,
          239.19,
          257.82,
          null,
          239.19,
          290.1,
          null,
          239.19,
          308.73,
          null,
          275.19,
          176.83,
          null,
          275.19,
          378.28,
          null,
          275.19,
          220.55,
          null,
          275.19,
          169.64,
          null,
          275.19,
          257.82,
          null,
          275.19,
          308.73,
          null,
          275.19,
          341.01,
          null,
          275.19,
          276.46,
          null,
          275.19,
          201.92,
          null,
          176.83,
          378.28,
          null,
          176.83,
          257.82,
          null,
          176.83,
          169.64,
          null,
          176.83,
          188.28,
          null,
          176.83,
          220.55,
          null,
          176.83,
          290.1,
          null,
          176.83,
          308.73,
          null,
          176.83,
          276.46,
          null,
          176.83,
          114.48,
          null,
          176.83,
          201.92,
          null,
          169.64,
          290.1,
          null,
          169.64,
          257.82,
          null,
          169.64,
          308.73,
          null,
          169.64,
          201.92,
          null,
          188.28,
          308.73,
          null,
          188.28,
          220.55,
          null,
          378.28,
          341.01,
          null,
          378.28,
          276.46,
          null,
          220.55,
          114.48,
          null,
          290.1,
          201.92,
          null,
          341.01,
          276.46,
          null,
          341.01,
          391.92,
          null,
          114.48,
          86.452,
          null,
          114.48,
          30.547,
          null
         ],
         "y": [
          87.547,
          149.9,
          null,
          87.547,
          123.55,
          null,
          87.547,
          68.912,
          null,
          87.547,
          36.635,
          null,
          87.547,
          18,
          null,
          87.547,
          18,
          null,
          87.547,
          36.635,
          null,
          87.547,
          68.912,
          null,
          149.9,
          123.55,
          null,
          149.9,
          124.82,
          null,
          149.9,
          18,
          null,
          149.9,
          68.912,
          null,
          149.9,
          18,
          null,
          149.9,
          68.912,
          null,
          149.9,
          189.37,
          null,
          149.9,
          226.64,
          null,
          149.9,
          226.64,
          null,
          123.55,
          124.82,
          null,
          123.55,
          18,
          null,
          123.55,
          68.912,
          null,
          123.55,
          36.635,
          null,
          123.55,
          18,
          null,
          123.55,
          36.635,
          null,
          123.55,
          68.912,
          null,
          123.55,
          226.64,
          null,
          123.55,
          159.55,
          null,
          123.55,
          226.64,
          null,
          68.912,
          36.635,
          null,
          68.912,
          18,
          null,
          68.912,
          68.912,
          null,
          68.912,
          226.64,
          null,
          36.635,
          68.912,
          null,
          36.635,
          18,
          null,
          124.82,
          189.37,
          null,
          124.82,
          226.64,
          null,
          18,
          159.55,
          null,
          36.635,
          226.64,
          null,
          189.37,
          226.64,
          null,
          189.37,
          240.28,
          null,
          159.55,
          240.28,
          null,
          159.55,
          143.45,
          null
         ]
        },
        {
         "marker": {
          "color": [],
          "colorscale": [
           [
            0,
            "rgb(255,255,217)"
           ],
           [
            0.125,
            "rgb(237,248,177)"
           ],
           [
            0.25,
            "rgb(199,233,180)"
           ],
           [
            0.375,
            "rgb(127,205,187)"
           ],
           [
            0.5,
            "rgb(65,182,196)"
           ],
           [
            0.625,
            "rgb(29,145,192)"
           ],
           [
            0.75,
            "rgb(34,94,168)"
           ],
           [
            0.875,
            "rgb(37,52,148)"
           ],
           [
            1,
            "rgb(8,29,88)"
           ]
          ],
          "line": {
           "width": 0
          },
          "reversescale": true,
          "showscale": false,
          "size": [
           15,
           11.129032258064516,
           12.419354838709678,
           7.903225806451612,
           6.290322580645161,
           5.967741935483871,
           5.645161290322581,
           5,
           5.32258064516129,
           5,
           5.32258064516129,
           5.32258064516129,
           5,
           5,
           5.32258064516129,
           5,
           5
          ]
         },
         "mode": "markers+text",
         "text": [
          "tired",
          "depressed",
          "anxious",
          "sleepy",
          "sick",
          "angry",
          "weird",
          "happy",
          "asleep",
          "dizzy",
          "crying",
          "sad",
          "awesome",
          "dreams",
          "cry",
          "insane",
          "shitty"
         ],
         "textposition": "bottom center",
         "type": "scatter",
         "x": [
          239.19,
          275.19,
          176.83,
          169.64,
          188.28,
          378.28,
          220.55,
          257.82,
          290.1,
          308.73,
          341.01,
          276.46,
          114.48,
          201.92,
          391.92,
          86.452,
          30.547
         ],
         "y": [
          87.547,
          149.9,
          123.55,
          68.912,
          36.635,
          124.82,
          18,
          18,
          36.635,
          68.912,
          189.37,
          226.64,
          159.55,
          226.64,
          240.28,
          240.28,
          143.45
         ]
        },
        {
         "hoverinfo": "text",
         "marker": {
          "color": [
           0.647,
           0.643,
           0.649,
           0.624,
           0.608,
           0.623,
           0.655,
           0.628,
           0.688,
           0.585,
           0.66,
           0.65,
           0.718,
           0.619,
           0.64,
           0.565,
           0.564
          ],
          "colorbar": {
           "thickness": 15,
           "title": {
            "side": "right",
            "text": "Node Connections"
           },
           "xanchor": "left"
          },
          "colorscale": [
           [
            0,
            "rgb(255,245,240)"
           ],
           [
            0.125,
            "rgb(254,224,210)"
           ],
           [
            0.25,
            "rgb(252,187,161)"
           ],
           [
            0.375,
            "rgb(252,146,114)"
           ],
           [
            0.5,
            "rgb(251,106,74)"
           ],
           [
            0.625,
            "rgb(239,59,44)"
           ],
           [
            0.75,
            "rgb(203,24,29)"
           ],
           [
            0.875,
            "rgb(165,15,21)"
           ],
           [
            1,
            "rgb(103,0,13)"
           ]
          ],
          "line": {
           "width": 1
          },
          "reversescale": false,
          "showscale": true,
          "size": [
           15,
           11.129032258064516,
           12.419354838709678,
           7.903225806451612,
           6.290322580645161,
           5.967741935483871,
           5.645161290322581,
           5,
           5.32258064516129,
           5,
           5.32258064516129,
           5.32258064516129,
           5,
           5,
           5.32258064516129,
           5,
           5
          ]
         },
         "mode": "markers",
         "text": [
          "tired <br>Count : 32 <br>Score : 0.647",
          "depressed <br>Count : 20 <br>Score : 0.643",
          "anxious <br>Count : 24 <br>Score : 0.649",
          "sleepy <br>Count : 10 <br>Score : 0.624",
          "sick <br>Count : 5 <br>Score : 0.608",
          "angry <br>Count : 4 <br>Score : 0.623",
          "weird <br>Count : 3 <br>Score : 0.655",
          "happy <br>Count : 1 <br>Score : 0.628",
          "asleep <br>Count : 2 <br>Score : 0.688",
          "dizzy <br>Count : 1 <br>Score : 0.585",
          "crying <br>Count : 2 <br>Score : 0.66",
          "sad <br>Count : 2 <br>Score : 0.65",
          "awesome <br>Count : 1 <br>Score : 0.718",
          "dreams <br>Count : 1 <br>Score : 0.619",
          "cry <br>Count : 2 <br>Score : 0.64",
          "insane <br>Count : 1 <br>Score : 0.565",
          "shitty <br>Count : 1 <br>Score : 0.564"
         ],
         "type": "scatter",
         "x": [
          239.19,
          275.19,
          176.83,
          169.64,
          188.28,
          378.28,
          220.55,
          257.82,
          290.1,
          308.73,
          341.01,
          276.46,
          114.48,
          201.92,
          391.92,
          86.452,
          30.547
         ],
         "y": [
          87.547,
          149.9,
          123.55,
          68.912,
          36.635,
          124.82,
          18,
          18,
          36.635,
          68.912,
          189.37,
          226.64,
          159.55,
          226.64,
          240.28,
          240.28,
          143.45
         ]
        }
       ],
       "layout": {
        "hovermode": "closest",
        "margin": {
         "b": 20,
         "l": 5,
         "r": 5,
         "t": 50
        },
        "showlegend": false,
        "template": {
         "data": {
          "bar": [
           {
            "error_x": {
             "color": "#2a3f5f"
            },
            "error_y": {
             "color": "#2a3f5f"
            },
            "marker": {
             "line": {
              "color": "#E5ECF6",
              "width": 0.5
             }
            },
            "type": "bar"
           }
          ],
          "barpolar": [
           {
            "marker": {
             "line": {
              "color": "#E5ECF6",
              "width": 0.5
             }
            },
            "type": "barpolar"
           }
          ],
          "carpet": [
           {
            "aaxis": {
             "endlinecolor": "#2a3f5f",
             "gridcolor": "white",
             "linecolor": "white",
             "minorgridcolor": "white",
             "startlinecolor": "#2a3f5f"
            },
            "baxis": {
             "endlinecolor": "#2a3f5f",
             "gridcolor": "white",
             "linecolor": "white",
             "minorgridcolor": "white",
             "startlinecolor": "#2a3f5f"
            },
            "type": "carpet"
           }
          ],
          "choropleth": [
           {
            "colorbar": {
             "outlinewidth": 0,
             "ticks": ""
            },
            "type": "choropleth"
           }
          ],
          "contour": [
           {
            "colorbar": {
             "outlinewidth": 0,
             "ticks": ""
            },
            "colorscale": [
             [
              0,
              "#0d0887"
             ],
             [
              0.1111111111111111,
              "#46039f"
             ],
             [
              0.2222222222222222,
              "#7201a8"
             ],
             [
              0.3333333333333333,
              "#9c179e"
             ],
             [
              0.4444444444444444,
              "#bd3786"
             ],
             [
              0.5555555555555556,
              "#d8576b"
             ],
             [
              0.6666666666666666,
              "#ed7953"
             ],
             [
              0.7777777777777778,
              "#fb9f3a"
             ],
             [
              0.8888888888888888,
              "#fdca26"
             ],
             [
              1,
              "#f0f921"
             ]
            ],
            "type": "contour"
           }
          ],
          "contourcarpet": [
           {
            "colorbar": {
             "outlinewidth": 0,
             "ticks": ""
            },
            "type": "contourcarpet"
           }
          ],
          "heatmap": [
           {
            "colorbar": {
             "outlinewidth": 0,
             "ticks": ""
            },
            "colorscale": [
             [
              0,
              "#0d0887"
             ],
             [
              0.1111111111111111,
              "#46039f"
             ],
             [
              0.2222222222222222,
              "#7201a8"
             ],
             [
              0.3333333333333333,
              "#9c179e"
             ],
             [
              0.4444444444444444,
              "#bd3786"
             ],
             [
              0.5555555555555556,
              "#d8576b"
             ],
             [
              0.6666666666666666,
              "#ed7953"
             ],
             [
              0.7777777777777778,
              "#fb9f3a"
             ],
             [
              0.8888888888888888,
              "#fdca26"
             ],
             [
              1,
              "#f0f921"
             ]
            ],
            "type": "heatmap"
           }
          ],
          "heatmapgl": [
           {
            "colorbar": {
             "outlinewidth": 0,
             "ticks": ""
            },
            "colorscale": [
             [
              0,
              "#0d0887"
             ],
             [
              0.1111111111111111,
              "#46039f"
             ],
             [
              0.2222222222222222,
              "#7201a8"
             ],
             [
              0.3333333333333333,
              "#9c179e"
             ],
             [
              0.4444444444444444,
              "#bd3786"
             ],
             [
              0.5555555555555556,
              "#d8576b"
             ],
             [
              0.6666666666666666,
              "#ed7953"
             ],
             [
              0.7777777777777778,
              "#fb9f3a"
             ],
             [
              0.8888888888888888,
              "#fdca26"
             ],
             [
              1,
              "#f0f921"
             ]
            ],
            "type": "heatmapgl"
           }
          ],
          "histogram": [
           {
            "marker": {
             "colorbar": {
              "outlinewidth": 0,
              "ticks": ""
             }
            },
            "type": "histogram"
           }
          ],
          "histogram2d": [
           {
            "colorbar": {
             "outlinewidth": 0,
             "ticks": ""
            },
            "colorscale": [
             [
              0,
              "#0d0887"
             ],
             [
              0.1111111111111111,
              "#46039f"
             ],
             [
              0.2222222222222222,
              "#7201a8"
             ],
             [
              0.3333333333333333,
              "#9c179e"
             ],
             [
              0.4444444444444444,
              "#bd3786"
             ],
             [
              0.5555555555555556,
              "#d8576b"
             ],
             [
              0.6666666666666666,
              "#ed7953"
             ],
             [
              0.7777777777777778,
              "#fb9f3a"
             ],
             [
              0.8888888888888888,
              "#fdca26"
             ],
             [
              1,
              "#f0f921"
             ]
            ],
            "type": "histogram2d"
           }
          ],
          "histogram2dcontour": [
           {
            "colorbar": {
             "outlinewidth": 0,
             "ticks": ""
            },
            "colorscale": [
             [
              0,
              "#0d0887"
             ],
             [
              0.1111111111111111,
              "#46039f"
             ],
             [
              0.2222222222222222,
              "#7201a8"
             ],
             [
              0.3333333333333333,
              "#9c179e"
             ],
             [
              0.4444444444444444,
              "#bd3786"
             ],
             [
              0.5555555555555556,
              "#d8576b"
             ],
             [
              0.6666666666666666,
              "#ed7953"
             ],
             [
              0.7777777777777778,
              "#fb9f3a"
             ],
             [
              0.8888888888888888,
              "#fdca26"
             ],
             [
              1,
              "#f0f921"
             ]
            ],
            "type": "histogram2dcontour"
           }
          ],
          "mesh3d": [
           {
            "colorbar": {
             "outlinewidth": 0,
             "ticks": ""
            },
            "type": "mesh3d"
           }
          ],
          "parcoords": [
           {
            "line": {
             "colorbar": {
              "outlinewidth": 0,
              "ticks": ""
             }
            },
            "type": "parcoords"
           }
          ],
          "pie": [
           {
            "automargin": true,
            "type": "pie"
           }
          ],
          "scatter": [
           {
            "marker": {
             "colorbar": {
              "outlinewidth": 0,
              "ticks": ""
             }
            },
            "type": "scatter"
           }
          ],
          "scatter3d": [
           {
            "line": {
             "colorbar": {
              "outlinewidth": 0,
              "ticks": ""
             }
            },
            "marker": {
             "colorbar": {
              "outlinewidth": 0,
              "ticks": ""
             }
            },
            "type": "scatter3d"
           }
          ],
          "scattercarpet": [
           {
            "marker": {
             "colorbar": {
              "outlinewidth": 0,
              "ticks": ""
             }
            },
            "type": "scattercarpet"
           }
          ],
          "scattergeo": [
           {
            "marker": {
             "colorbar": {
              "outlinewidth": 0,
              "ticks": ""
             }
            },
            "type": "scattergeo"
           }
          ],
          "scattergl": [
           {
            "marker": {
             "colorbar": {
              "outlinewidth": 0,
              "ticks": ""
             }
            },
            "type": "scattergl"
           }
          ],
          "scattermapbox": [
           {
            "marker": {
             "colorbar": {
              "outlinewidth": 0,
              "ticks": ""
             }
            },
            "type": "scattermapbox"
           }
          ],
          "scatterpolar": [
           {
            "marker": {
             "colorbar": {
              "outlinewidth": 0,
              "ticks": ""
             }
            },
            "type": "scatterpolar"
           }
          ],
          "scatterpolargl": [
           {
            "marker": {
             "colorbar": {
              "outlinewidth": 0,
              "ticks": ""
             }
            },
            "type": "scatterpolargl"
           }
          ],
          "scatterternary": [
           {
            "marker": {
             "colorbar": {
              "outlinewidth": 0,
              "ticks": ""
             }
            },
            "type": "scatterternary"
           }
          ],
          "surface": [
           {
            "colorbar": {
             "outlinewidth": 0,
             "ticks": ""
            },
            "colorscale": [
             [
              0,
              "#0d0887"
             ],
             [
              0.1111111111111111,
              "#46039f"
             ],
             [
              0.2222222222222222,
              "#7201a8"
             ],
             [
              0.3333333333333333,
              "#9c179e"
             ],
             [
              0.4444444444444444,
              "#bd3786"
             ],
             [
              0.5555555555555556,
              "#d8576b"
             ],
             [
              0.6666666666666666,
              "#ed7953"
             ],
             [
              0.7777777777777778,
              "#fb9f3a"
             ],
             [
              0.8888888888888888,
              "#fdca26"
             ],
             [
              1,
              "#f0f921"
             ]
            ],
            "type": "surface"
           }
          ],
          "table": [
           {
            "cells": {
             "fill": {
              "color": "#EBF0F8"
             },
             "line": {
              "color": "white"
             }
            },
            "header": {
             "fill": {
              "color": "#C8D4E3"
             },
             "line": {
              "color": "white"
             }
            },
            "type": "table"
           }
          ]
         },
         "layout": {
          "annotationdefaults": {
           "arrowcolor": "#2a3f5f",
           "arrowhead": 0,
           "arrowwidth": 1
          },
          "coloraxis": {
           "colorbar": {
            "outlinewidth": 0,
            "ticks": ""
           }
          },
          "colorscale": {
           "diverging": [
            [
             0,
             "#8e0152"
            ],
            [
             0.1,
             "#c51b7d"
            ],
            [
             0.2,
             "#de77ae"
            ],
            [
             0.3,
             "#f1b6da"
            ],
            [
             0.4,
             "#fde0ef"
            ],
            [
             0.5,
             "#f7f7f7"
            ],
            [
             0.6,
             "#e6f5d0"
            ],
            [
             0.7,
             "#b8e186"
            ],
            [
             0.8,
             "#7fbc41"
            ],
            [
             0.9,
             "#4d9221"
            ],
            [
             1,
             "#276419"
            ]
           ],
           "sequential": [
            [
             0,
             "#0d0887"
            ],
            [
             0.1111111111111111,
             "#46039f"
            ],
            [
             0.2222222222222222,
             "#7201a8"
            ],
            [
             0.3333333333333333,
             "#9c179e"
            ],
            [
             0.4444444444444444,
             "#bd3786"
            ],
            [
             0.5555555555555556,
             "#d8576b"
            ],
            [
             0.6666666666666666,
             "#ed7953"
            ],
            [
             0.7777777777777778,
             "#fb9f3a"
            ],
            [
             0.8888888888888888,
             "#fdca26"
            ],
            [
             1,
             "#f0f921"
            ]
           ],
           "sequentialminus": [
            [
             0,
             "#0d0887"
            ],
            [
             0.1111111111111111,
             "#46039f"
            ],
            [
             0.2222222222222222,
             "#7201a8"
            ],
            [
             0.3333333333333333,
             "#9c179e"
            ],
            [
             0.4444444444444444,
             "#bd3786"
            ],
            [
             0.5555555555555556,
             "#d8576b"
            ],
            [
             0.6666666666666666,
             "#ed7953"
            ],
            [
             0.7777777777777778,
             "#fb9f3a"
            ],
            [
             0.8888888888888888,
             "#fdca26"
            ],
            [
             1,
             "#f0f921"
            ]
           ]
          },
          "colorway": [
           "#636efa",
           "#EF553B",
           "#00cc96",
           "#ab63fa",
           "#FFA15A",
           "#19d3f3",
           "#FF6692",
           "#B6E880",
           "#FF97FF",
           "#FECB52"
          ],
          "font": {
           "color": "#2a3f5f"
          },
          "geo": {
           "bgcolor": "white",
           "lakecolor": "white",
           "landcolor": "#E5ECF6",
           "showlakes": true,
           "showland": true,
           "subunitcolor": "white"
          },
          "hoverlabel": {
           "align": "left"
          },
          "hovermode": "closest",
          "mapbox": {
           "style": "light"
          },
          "paper_bgcolor": "white",
          "plot_bgcolor": "#E5ECF6",
          "polar": {
           "angularaxis": {
            "gridcolor": "white",
            "linecolor": "white",
            "ticks": ""
           },
           "bgcolor": "#E5ECF6",
           "radialaxis": {
            "gridcolor": "white",
            "linecolor": "white",
            "ticks": ""
           }
          },
          "scene": {
           "xaxis": {
            "backgroundcolor": "#E5ECF6",
            "gridcolor": "white",
            "gridwidth": 2,
            "linecolor": "white",
            "showbackground": true,
            "ticks": "",
            "zerolinecolor": "white"
           },
           "yaxis": {
            "backgroundcolor": "#E5ECF6",
            "gridcolor": "white",
            "gridwidth": 2,
            "linecolor": "white",
            "showbackground": true,
            "ticks": "",
            "zerolinecolor": "white"
           },
           "zaxis": {
            "backgroundcolor": "#E5ECF6",
            "gridcolor": "white",
            "gridwidth": 2,
            "linecolor": "white",
            "showbackground": true,
            "ticks": "",
            "zerolinecolor": "white"
           }
          },
          "shapedefaults": {
           "line": {
            "color": "#2a3f5f"
           }
          },
          "ternary": {
           "aaxis": {
            "gridcolor": "white",
            "linecolor": "white",
            "ticks": ""
           },
           "baxis": {
            "gridcolor": "white",
            "linecolor": "white",
            "ticks": ""
           },
           "bgcolor": "#E5ECF6",
           "caxis": {
            "gridcolor": "white",
            "linecolor": "white",
            "ticks": ""
           }
          },
          "title": {
           "x": 0.05
          },
          "xaxis": {
           "automargin": true,
           "gridcolor": "white",
           "linecolor": "white",
           "ticks": "",
           "title": {
            "standoff": 15
           },
           "zerolinecolor": "white",
           "zerolinewidth": 2
          },
          "yaxis": {
           "automargin": true,
           "gridcolor": "white",
           "linecolor": "white",
           "ticks": "",
           "title": {
            "standoff": 15
           },
           "zerolinecolor": "white",
           "zerolinewidth": 2
          }
         }
        },
        "title": {
         "font": {
          "size": 16
         },
         "text": "<br>Network graph made with Python"
        },
        "xaxis": {
         "showgrid": false,
         "showticklabels": false,
         "zeroline": false
        },
        "yaxis": {
         "showgrid": false,
         "showticklabels": false,
         "zeroline": false
        }
       }
      },
      "text/html": [
       "<div>\n",
       "        \n",
       "        \n",
       "            <div id=\"657c8273-3951-40fd-a61c-c1bb81cd2741\" class=\"plotly-graph-div\" style=\"height:525px; width:100%;\"></div>\n",
       "            <script type=\"text/javascript\">\n",
       "                require([\"plotly\"], function(Plotly) {\n",
       "                    window.PLOTLYENV=window.PLOTLYENV || {};\n",
       "                    \n",
       "                if (document.getElementById(\"657c8273-3951-40fd-a61c-c1bb81cd2741\")) {\n",
       "                    Plotly.newPlot(\n",
       "                        '657c8273-3951-40fd-a61c-c1bb81cd2741',\n",
       "                        [{\"hoverinfo\": \"none\", \"line\": {\"color\": \"#888\", \"width\": 0.5}, \"mode\": \"lines\", \"type\": \"scatter\", \"x\": [239.19, 275.19, null, 239.19, 176.83, null, 239.19, 169.64, null, 239.19, 188.28, null, 239.19, 220.55, null, 239.19, 257.82, null, 239.19, 290.1, null, 239.19, 308.73, null, 275.19, 176.83, null, 275.19, 378.28, null, 275.19, 220.55, null, 275.19, 169.64, null, 275.19, 257.82, null, 275.19, 308.73, null, 275.19, 341.01, null, 275.19, 276.46, null, 275.19, 201.92, null, 176.83, 378.28, null, 176.83, 257.82, null, 176.83, 169.64, null, 176.83, 188.28, null, 176.83, 220.55, null, 176.83, 290.1, null, 176.83, 308.73, null, 176.83, 276.46, null, 176.83, 114.48, null, 176.83, 201.92, null, 169.64, 290.1, null, 169.64, 257.82, null, 169.64, 308.73, null, 169.64, 201.92, null, 188.28, 308.73, null, 188.28, 220.55, null, 378.28, 341.01, null, 378.28, 276.46, null, 220.55, 114.48, null, 290.1, 201.92, null, 341.01, 276.46, null, 341.01, 391.92, null, 114.48, 86.452, null, 114.48, 30.547, null], \"y\": [87.547, 149.9, null, 87.547, 123.55, null, 87.547, 68.912, null, 87.547, 36.635, null, 87.547, 18.0, null, 87.547, 18.0, null, 87.547, 36.635, null, 87.547, 68.912, null, 149.9, 123.55, null, 149.9, 124.82, null, 149.9, 18.0, null, 149.9, 68.912, null, 149.9, 18.0, null, 149.9, 68.912, null, 149.9, 189.37, null, 149.9, 226.64, null, 149.9, 226.64, null, 123.55, 124.82, null, 123.55, 18.0, null, 123.55, 68.912, null, 123.55, 36.635, null, 123.55, 18.0, null, 123.55, 36.635, null, 123.55, 68.912, null, 123.55, 226.64, null, 123.55, 159.55, null, 123.55, 226.64, null, 68.912, 36.635, null, 68.912, 18.0, null, 68.912, 68.912, null, 68.912, 226.64, null, 36.635, 68.912, null, 36.635, 18.0, null, 124.82, 189.37, null, 124.82, 226.64, null, 18.0, 159.55, null, 36.635, 226.64, null, 189.37, 226.64, null, 189.37, 240.28, null, 159.55, 240.28, null, 159.55, 143.45, null]}, {\"marker\": {\"color\": [], \"colorscale\": [[0.0, \"rgb(255,255,217)\"], [0.125, \"rgb(237,248,177)\"], [0.25, \"rgb(199,233,180)\"], [0.375, \"rgb(127,205,187)\"], [0.5, \"rgb(65,182,196)\"], [0.625, \"rgb(29,145,192)\"], [0.75, \"rgb(34,94,168)\"], [0.875, \"rgb(37,52,148)\"], [1.0, \"rgb(8,29,88)\"]], \"line\": {\"width\": 0}, \"reversescale\": true, \"showscale\": false, \"size\": [15.0, 11.129032258064516, 12.419354838709678, 7.903225806451612, 6.290322580645161, 5.967741935483871, 5.645161290322581, 5.0, 5.32258064516129, 5.0, 5.32258064516129, 5.32258064516129, 5.0, 5.0, 5.32258064516129, 5.0, 5.0]}, \"mode\": \"markers+text\", \"text\": [\"tired\", \"depressed\", \"anxious\", \"sleepy\", \"sick\", \"angry\", \"weird\", \"happy\", \"asleep\", \"dizzy\", \"crying\", \"sad\", \"awesome\", \"dreams\", \"cry\", \"insane\", \"shitty\"], \"textposition\": \"bottom center\", \"type\": \"scatter\", \"x\": [239.19, 275.19, 176.83, 169.64, 188.28, 378.28, 220.55, 257.82, 290.1, 308.73, 341.01, 276.46, 114.48, 201.92, 391.92, 86.452, 30.547], \"y\": [87.547, 149.9, 123.55, 68.912, 36.635, 124.82, 18.0, 18.0, 36.635, 68.912, 189.37, 226.64, 159.55, 226.64, 240.28, 240.28, 143.45]}, {\"hoverinfo\": \"text\", \"marker\": {\"color\": [0.647, 0.643, 0.649, 0.624, 0.608, 0.623, 0.655, 0.628, 0.688, 0.585, 0.66, 0.65, 0.718, 0.619, 0.64, 0.565, 0.564], \"colorbar\": {\"thickness\": 15, \"title\": {\"side\": \"right\", \"text\": \"Node Connections\"}, \"xanchor\": \"left\"}, \"colorscale\": [[0.0, \"rgb(255,245,240)\"], [0.125, \"rgb(254,224,210)\"], [0.25, \"rgb(252,187,161)\"], [0.375, \"rgb(252,146,114)\"], [0.5, \"rgb(251,106,74)\"], [0.625, \"rgb(239,59,44)\"], [0.75, \"rgb(203,24,29)\"], [0.875, \"rgb(165,15,21)\"], [1.0, \"rgb(103,0,13)\"]], \"line\": {\"width\": 1}, \"reversescale\": false, \"showscale\": true, \"size\": [15.0, 11.129032258064516, 12.419354838709678, 7.903225806451612, 6.290322580645161, 5.967741935483871, 5.645161290322581, 5.0, 5.32258064516129, 5.0, 5.32258064516129, 5.32258064516129, 5.0, 5.0, 5.32258064516129, 5.0, 5.0]}, \"mode\": \"markers\", \"text\": [\"tired <br>Count : 32 <br>Score : 0.647\", \"depressed <br>Count : 20 <br>Score : 0.643\", \"anxious <br>Count : 24 <br>Score : 0.649\", \"sleepy <br>Count : 10 <br>Score : 0.624\", \"sick <br>Count : 5 <br>Score : 0.608\", \"angry <br>Count : 4 <br>Score : 0.623\", \"weird <br>Count : 3 <br>Score : 0.655\", \"happy <br>Count : 1 <br>Score : 0.628\", \"asleep <br>Count : 2 <br>Score : 0.688\", \"dizzy <br>Count : 1 <br>Score : 0.585\", \"crying <br>Count : 2 <br>Score : 0.66\", \"sad <br>Count : 2 <br>Score : 0.65\", \"awesome <br>Count : 1 <br>Score : 0.718\", \"dreams <br>Count : 1 <br>Score : 0.619\", \"cry <br>Count : 2 <br>Score : 0.64\", \"insane <br>Count : 1 <br>Score : 0.565\", \"shitty <br>Count : 1 <br>Score : 0.564\"], \"type\": \"scatter\", \"x\": [239.19, 275.19, 176.83, 169.64, 188.28, 378.28, 220.55, 257.82, 290.1, 308.73, 341.01, 276.46, 114.48, 201.92, 391.92, 86.452, 30.547], \"y\": [87.547, 149.9, 123.55, 68.912, 36.635, 124.82, 18.0, 18.0, 36.635, 68.912, 189.37, 226.64, 159.55, 226.64, 240.28, 240.28, 143.45]}],\n",
       "                        {\"hovermode\": \"closest\", \"margin\": {\"b\": 20, \"l\": 5, \"r\": 5, \"t\": 50}, \"showlegend\": false, \"template\": {\"data\": {\"bar\": [{\"error_x\": {\"color\": \"#2a3f5f\"}, \"error_y\": {\"color\": \"#2a3f5f\"}, \"marker\": {\"line\": {\"color\": \"#E5ECF6\", \"width\": 0.5}}, \"type\": \"bar\"}], \"barpolar\": [{\"marker\": {\"line\": {\"color\": \"#E5ECF6\", \"width\": 0.5}}, \"type\": \"barpolar\"}], \"carpet\": [{\"aaxis\": {\"endlinecolor\": \"#2a3f5f\", \"gridcolor\": \"white\", \"linecolor\": \"white\", \"minorgridcolor\": \"white\", \"startlinecolor\": \"#2a3f5f\"}, \"baxis\": {\"endlinecolor\": \"#2a3f5f\", \"gridcolor\": \"white\", \"linecolor\": \"white\", \"minorgridcolor\": \"white\", \"startlinecolor\": \"#2a3f5f\"}, \"type\": \"carpet\"}], \"choropleth\": [{\"colorbar\": {\"outlinewidth\": 0, \"ticks\": \"\"}, \"type\": \"choropleth\"}], \"contour\": [{\"colorbar\": {\"outlinewidth\": 0, \"ticks\": \"\"}, \"colorscale\": [[0.0, \"#0d0887\"], [0.1111111111111111, \"#46039f\"], [0.2222222222222222, \"#7201a8\"], [0.3333333333333333, \"#9c179e\"], [0.4444444444444444, \"#bd3786\"], [0.5555555555555556, \"#d8576b\"], [0.6666666666666666, \"#ed7953\"], [0.7777777777777778, \"#fb9f3a\"], [0.8888888888888888, \"#fdca26\"], [1.0, \"#f0f921\"]], \"type\": \"contour\"}], \"contourcarpet\": [{\"colorbar\": {\"outlinewidth\": 0, \"ticks\": \"\"}, \"type\": \"contourcarpet\"}], \"heatmap\": [{\"colorbar\": {\"outlinewidth\": 0, \"ticks\": \"\"}, \"colorscale\": [[0.0, \"#0d0887\"], [0.1111111111111111, \"#46039f\"], [0.2222222222222222, \"#7201a8\"], [0.3333333333333333, \"#9c179e\"], [0.4444444444444444, \"#bd3786\"], [0.5555555555555556, \"#d8576b\"], [0.6666666666666666, \"#ed7953\"], [0.7777777777777778, \"#fb9f3a\"], [0.8888888888888888, \"#fdca26\"], [1.0, \"#f0f921\"]], \"type\": \"heatmap\"}], \"heatmapgl\": [{\"colorbar\": {\"outlinewidth\": 0, \"ticks\": \"\"}, \"colorscale\": [[0.0, \"#0d0887\"], [0.1111111111111111, \"#46039f\"], [0.2222222222222222, \"#7201a8\"], [0.3333333333333333, \"#9c179e\"], [0.4444444444444444, \"#bd3786\"], [0.5555555555555556, \"#d8576b\"], [0.6666666666666666, \"#ed7953\"], [0.7777777777777778, \"#fb9f3a\"], [0.8888888888888888, \"#fdca26\"], [1.0, \"#f0f921\"]], \"type\": \"heatmapgl\"}], \"histogram\": [{\"marker\": {\"colorbar\": {\"outlinewidth\": 0, \"ticks\": \"\"}}, \"type\": \"histogram\"}], \"histogram2d\": [{\"colorbar\": {\"outlinewidth\": 0, \"ticks\": \"\"}, \"colorscale\": [[0.0, \"#0d0887\"], [0.1111111111111111, \"#46039f\"], [0.2222222222222222, \"#7201a8\"], [0.3333333333333333, \"#9c179e\"], [0.4444444444444444, \"#bd3786\"], [0.5555555555555556, \"#d8576b\"], [0.6666666666666666, \"#ed7953\"], [0.7777777777777778, \"#fb9f3a\"], [0.8888888888888888, \"#fdca26\"], [1.0, \"#f0f921\"]], \"type\": \"histogram2d\"}], \"histogram2dcontour\": [{\"colorbar\": {\"outlinewidth\": 0, \"ticks\": \"\"}, \"colorscale\": [[0.0, \"#0d0887\"], [0.1111111111111111, \"#46039f\"], [0.2222222222222222, \"#7201a8\"], [0.3333333333333333, \"#9c179e\"], [0.4444444444444444, \"#bd3786\"], [0.5555555555555556, \"#d8576b\"], [0.6666666666666666, \"#ed7953\"], [0.7777777777777778, \"#fb9f3a\"], [0.8888888888888888, \"#fdca26\"], [1.0, \"#f0f921\"]], \"type\": \"histogram2dcontour\"}], \"mesh3d\": [{\"colorbar\": {\"outlinewidth\": 0, \"ticks\": \"\"}, \"type\": \"mesh3d\"}], \"parcoords\": [{\"line\": {\"colorbar\": {\"outlinewidth\": 0, \"ticks\": \"\"}}, \"type\": \"parcoords\"}], \"pie\": [{\"automargin\": true, \"type\": \"pie\"}], \"scatter\": [{\"marker\": {\"colorbar\": {\"outlinewidth\": 0, \"ticks\": \"\"}}, \"type\": \"scatter\"}], \"scatter3d\": [{\"line\": {\"colorbar\": {\"outlinewidth\": 0, \"ticks\": \"\"}}, \"marker\": {\"colorbar\": {\"outlinewidth\": 0, \"ticks\": \"\"}}, \"type\": \"scatter3d\"}], \"scattercarpet\": [{\"marker\": {\"colorbar\": {\"outlinewidth\": 0, \"ticks\": \"\"}}, \"type\": \"scattercarpet\"}], \"scattergeo\": [{\"marker\": {\"colorbar\": {\"outlinewidth\": 0, \"ticks\": \"\"}}, \"type\": \"scattergeo\"}], \"scattergl\": [{\"marker\": {\"colorbar\": {\"outlinewidth\": 0, \"ticks\": \"\"}}, \"type\": \"scattergl\"}], \"scattermapbox\": [{\"marker\": {\"colorbar\": {\"outlinewidth\": 0, \"ticks\": \"\"}}, \"type\": \"scattermapbox\"}], \"scatterpolar\": [{\"marker\": {\"colorbar\": {\"outlinewidth\": 0, \"ticks\": \"\"}}, \"type\": \"scatterpolar\"}], \"scatterpolargl\": [{\"marker\": {\"colorbar\": {\"outlinewidth\": 0, \"ticks\": \"\"}}, \"type\": \"scatterpolargl\"}], \"scatterternary\": [{\"marker\": {\"colorbar\": {\"outlinewidth\": 0, \"ticks\": \"\"}}, \"type\": \"scatterternary\"}], \"surface\": [{\"colorbar\": {\"outlinewidth\": 0, \"ticks\": \"\"}, \"colorscale\": [[0.0, \"#0d0887\"], [0.1111111111111111, \"#46039f\"], [0.2222222222222222, \"#7201a8\"], [0.3333333333333333, \"#9c179e\"], [0.4444444444444444, \"#bd3786\"], [0.5555555555555556, \"#d8576b\"], [0.6666666666666666, \"#ed7953\"], [0.7777777777777778, \"#fb9f3a\"], [0.8888888888888888, \"#fdca26\"], [1.0, \"#f0f921\"]], \"type\": \"surface\"}], \"table\": [{\"cells\": {\"fill\": {\"color\": \"#EBF0F8\"}, \"line\": {\"color\": \"white\"}}, \"header\": {\"fill\": {\"color\": \"#C8D4E3\"}, \"line\": {\"color\": \"white\"}}, \"type\": \"table\"}]}, \"layout\": {\"annotationdefaults\": {\"arrowcolor\": \"#2a3f5f\", \"arrowhead\": 0, \"arrowwidth\": 1}, \"coloraxis\": {\"colorbar\": {\"outlinewidth\": 0, \"ticks\": \"\"}}, \"colorscale\": {\"diverging\": [[0, \"#8e0152\"], [0.1, \"#c51b7d\"], [0.2, \"#de77ae\"], [0.3, \"#f1b6da\"], [0.4, \"#fde0ef\"], [0.5, \"#f7f7f7\"], [0.6, \"#e6f5d0\"], [0.7, \"#b8e186\"], [0.8, \"#7fbc41\"], [0.9, \"#4d9221\"], [1, \"#276419\"]], \"sequential\": [[0.0, \"#0d0887\"], [0.1111111111111111, \"#46039f\"], [0.2222222222222222, \"#7201a8\"], [0.3333333333333333, \"#9c179e\"], [0.4444444444444444, \"#bd3786\"], [0.5555555555555556, \"#d8576b\"], [0.6666666666666666, \"#ed7953\"], [0.7777777777777778, \"#fb9f3a\"], [0.8888888888888888, \"#fdca26\"], [1.0, \"#f0f921\"]], \"sequentialminus\": [[0.0, \"#0d0887\"], [0.1111111111111111, \"#46039f\"], [0.2222222222222222, \"#7201a8\"], [0.3333333333333333, \"#9c179e\"], [0.4444444444444444, \"#bd3786\"], [0.5555555555555556, \"#d8576b\"], [0.6666666666666666, \"#ed7953\"], [0.7777777777777778, \"#fb9f3a\"], [0.8888888888888888, \"#fdca26\"], [1.0, \"#f0f921\"]]}, \"colorway\": [\"#636efa\", \"#EF553B\", \"#00cc96\", \"#ab63fa\", \"#FFA15A\", \"#19d3f3\", \"#FF6692\", \"#B6E880\", \"#FF97FF\", \"#FECB52\"], \"font\": {\"color\": \"#2a3f5f\"}, \"geo\": {\"bgcolor\": \"white\", \"lakecolor\": \"white\", \"landcolor\": \"#E5ECF6\", \"showlakes\": true, \"showland\": true, \"subunitcolor\": \"white\"}, \"hoverlabel\": {\"align\": \"left\"}, \"hovermode\": \"closest\", \"mapbox\": {\"style\": \"light\"}, \"paper_bgcolor\": \"white\", \"plot_bgcolor\": \"#E5ECF6\", \"polar\": {\"angularaxis\": {\"gridcolor\": \"white\", \"linecolor\": \"white\", \"ticks\": \"\"}, \"bgcolor\": \"#E5ECF6\", \"radialaxis\": {\"gridcolor\": \"white\", \"linecolor\": \"white\", \"ticks\": \"\"}}, \"scene\": {\"xaxis\": {\"backgroundcolor\": \"#E5ECF6\", \"gridcolor\": \"white\", \"gridwidth\": 2, \"linecolor\": \"white\", \"showbackground\": true, \"ticks\": \"\", \"zerolinecolor\": \"white\"}, \"yaxis\": {\"backgroundcolor\": \"#E5ECF6\", \"gridcolor\": \"white\", \"gridwidth\": 2, \"linecolor\": \"white\", \"showbackground\": true, \"ticks\": \"\", \"zerolinecolor\": \"white\"}, \"zaxis\": {\"backgroundcolor\": \"#E5ECF6\", \"gridcolor\": \"white\", \"gridwidth\": 2, \"linecolor\": \"white\", \"showbackground\": true, \"ticks\": \"\", \"zerolinecolor\": \"white\"}}, \"shapedefaults\": {\"line\": {\"color\": \"#2a3f5f\"}}, \"ternary\": {\"aaxis\": {\"gridcolor\": \"white\", \"linecolor\": \"white\", \"ticks\": \"\"}, \"baxis\": {\"gridcolor\": \"white\", \"linecolor\": \"white\", \"ticks\": \"\"}, \"bgcolor\": \"#E5ECF6\", \"caxis\": {\"gridcolor\": \"white\", \"linecolor\": \"white\", \"ticks\": \"\"}}, \"title\": {\"x\": 0.05}, \"xaxis\": {\"automargin\": true, \"gridcolor\": \"white\", \"linecolor\": \"white\", \"ticks\": \"\", \"title\": {\"standoff\": 15}, \"zerolinecolor\": \"white\", \"zerolinewidth\": 2}, \"yaxis\": {\"automargin\": true, \"gridcolor\": \"white\", \"linecolor\": \"white\", \"ticks\": \"\", \"title\": {\"standoff\": 15}, \"zerolinecolor\": \"white\", \"zerolinewidth\": 2}}}, \"title\": {\"font\": {\"size\": 16}, \"text\": \"<br>Network graph made with Python\"}, \"xaxis\": {\"showgrid\": false, \"showticklabels\": false, \"zeroline\": false}, \"yaxis\": {\"showgrid\": false, \"showticklabels\": false, \"zeroline\": false}},\n",
       "                        {\"responsive\": true}\n",
       "                    ).then(function(){\n",
       "                            \n",
       "var gd = document.getElementById('657c8273-3951-40fd-a61c-c1bb81cd2741');\n",
       "var x = new MutationObserver(function (mutations, observer) {{\n",
       "        var display = window.getComputedStyle(gd).display;\n",
       "        if (!display || display === 'none') {{\n",
       "            console.log([gd, 'removed!']);\n",
       "            Plotly.purge(gd);\n",
       "            observer.disconnect();\n",
       "        }}\n",
       "}});\n",
       "\n",
       "// Listen for the removal of the full notebook cells\n",
       "var notebookContainer = gd.closest('#notebook-container');\n",
       "if (notebookContainer) {{\n",
       "    x.observe(notebookContainer, {childList: true});\n",
       "}}\n",
       "\n",
       "// Listen for the clearing of the current output cell\n",
       "var outputEl = gd.closest('.output');\n",
       "if (outputEl) {{\n",
       "    x.observe(outputEl, {childList: true});\n",
       "}}\n",
       "\n",
       "                        })\n",
       "                };\n",
       "                });\n",
       "            </script>\n",
       "        </div>"
      ]
     },
     "metadata": {},
     "output_type": "display_data"
    }
   ],
   "source": [
    "edgeList, nodeList, nodeValues, nodeCount, nodeText, nodeSize = getGraphComponents(graph)\n",
    "\n",
    "G=nx.Graph()\n",
    "\n",
    "G.add_nodes_from(nodeList)\n",
    "G.add_edges_from(edgeList)\n",
    "\n",
    "edge_trace, node_trace1, node_trace = getPlotlyComponents(G, nodeList, nodeSize, nodeValues, nodeText)\n",
    "\n",
    "\n",
    "fig = go.Figure(data=[edge_trace, node_trace1, node_trace],\n",
    "     layout=go.Layout(\n",
    "        title='<br>Network graph made with Python',\n",
    "        titlefont_size=16,\n",
    "        showlegend=False,\n",
    "        hovermode='closest',\n",
    "        margin=dict(b=20,l=5,r=5,t=50),\n",
    "\n",
    "        xaxis=dict(showgrid=False, zeroline=False, showticklabels=False),\n",
    "        yaxis=dict(showgrid=False, zeroline=False, showticklabels=False))\n",
    "        )\n",
    "\n",
    "fig.show()"
   ]
  },
  {
   "cell_type": "code",
   "execution_count": 40,
   "metadata": {},
   "outputs": [
    {
     "name": "stdout",
     "output_type": "stream",
     "text": [
      "Exploring insane\n",
      "awesome    -> insane     | 1 |  0.565 | [20]\n",
      "--------------------\n"
     ]
    }
   ],
   "source": [
    "graph.describeNode('insane')"
   ]
  },
  {
   "cell_type": "code",
   "execution_count": 41,
   "metadata": {},
   "outputs": [
    {
     "data": {
      "text/plain": [
       "\"Cymbalta, you're driving me insane.\""
      ]
     },
     "execution_count": 41,
     "metadata": {},
     "output_type": "execute_result"
    }
   ],
   "source": [
    "fullDf.iloc[20]['message']"
   ]
  },
  {
   "cell_type": "code",
   "execution_count": 30,
   "metadata": {},
   "outputs": [],
   "source": [
    "emb,_ = getSymptomEmbedding(model,tokenizer, fullDf.iloc[39], 'awesome',0)"
   ]
  },
  {
   "cell_type": "code",
   "execution_count": 33,
   "metadata": {},
   "outputs": [
    {
     "data": {
      "text/plain": [
       "array([[0.6298677]], dtype=float32)"
      ]
     },
     "execution_count": 33,
     "metadata": {},
     "output_type": "execute_result"
    }
   ],
   "source": [
    "getCosineDist(ADR.masterEmb, emb[0])"
   ]
  },
  {
   "cell_type": "code",
   "execution_count": 32,
   "metadata": {},
   "outputs": [
    {
     "data": {
      "text/plain": [
       "[array([ 2.96444631e+00,  3.27073956e+00, -9.96160686e-01, -1.19822514e+00,\n",
       "         3.59868497e-01, -3.48791075e+00, -2.61698818e+00, -2.96509117e-02,\n",
       "        -4.04700375e+00, -1.52275771e-01, -8.97271097e-01, -1.26959610e+00,\n",
       "        -7.63639033e-01, -1.06069577e+00, -3.62464041e-02, -2.40681097e-01,\n",
       "         8.91781807e-01, -2.79965729e-01, -3.12939167e+00, -4.79267502e+00,\n",
       "        -1.75556517e+00,  2.88245976e-01, -4.18346214e+00,  1.24458587e+00,\n",
       "         1.12164366e+00,  4.49977905e-01,  9.37017202e-01, -4.03610611e+00,\n",
       "        -1.70025206e+00, -1.44806409e+00, -8.84110808e-01,  7.05302715e-01,\n",
       "        -1.26265311e+00,  2.15598726e+00, -1.00698316e+00, -2.26036167e+00,\n",
       "        -1.40388042e-01, -9.82859135e-02,  1.88572335e+00,  6.94026947e-01,\n",
       "         1.33543718e+00, -2.99743032e+00, -1.56085563e+00,  3.24682212e+00,\n",
       "         1.09423548e-01,  4.07448262e-01,  9.24590647e-01,  1.03492069e+00,\n",
       "         1.58998752e+00, -2.42028236e+00,  2.23505163e+00, -8.98798943e-01,\n",
       "        -3.43203163e+00, -6.98155224e-01, -7.40734458e-01, -6.85859382e-01,\n",
       "        -2.57980728e+00, -3.83050293e-01,  2.88772273e+00, -1.14264798e+00,\n",
       "        -5.55368483e-01,  1.61290610e+00, -1.15083134e+00,  3.52472886e-02,\n",
       "         1.88205647e+00, -1.53965735e+00, -1.70809138e+00,  5.00909090e-01,\n",
       "        -3.79705811e+00, -1.35129404e+00, -6.15755558e-01, -2.44251013e+00,\n",
       "        -9.89540458e-01,  1.14598423e-01, -1.73761487e+00, -8.07512939e-01,\n",
       "         6.48498356e-01,  1.54250598e+00, -9.46142137e-01,  9.75388288e-01,\n",
       "         2.53905630e+00,  1.52358317e+00,  2.21502900e-01, -1.03405058e+00,\n",
       "         5.46654820e-01, -7.48372614e-01,  1.16601181e+00,  2.62858534e+00,\n",
       "        -1.15507555e+00,  2.75306249e+00, -1.57159591e+00, -1.21106005e+00,\n",
       "         3.15831035e-01,  4.77575827e+00,  3.22922778e+00,  1.24706042e+00,\n",
       "        -7.97105670e-01,  7.30651736e-01, -2.74996781e+00, -2.98636532e+00,\n",
       "        -6.69045568e-01, -3.50251985e+00,  3.07260942e+00, -1.98336184e-01,\n",
       "         2.01274705e+00,  6.43997550e-01,  1.24642015e+00, -2.33522463e+00,\n",
       "         6.10628501e-02,  3.82690525e+00, -1.35893917e+00,  1.77229035e+00,\n",
       "         4.18710232e-01, -3.24693608e+00, -1.98563468e+00, -5.14785409e-01,\n",
       "        -2.14032984e+00,  7.21497238e-01, -7.94118106e-01,  2.15387011e+00,\n",
       "        -5.28760374e-01, -5.39571226e-01,  2.22523236e+00,  1.26784444e-01,\n",
       "        -2.14523643e-01, -1.75671768e+00, -1.56117782e-01, -8.32652569e-01,\n",
       "         9.10632610e-01,  1.27891853e-01, -4.01835561e-01, -2.72500515e-01,\n",
       "         8.94029617e-01,  7.71338940e-01,  2.04641676e+00, -1.12763381e+00,\n",
       "         1.39368916e+00,  1.41275525e-01, -1.26007009e+00, -7.76761174e-02,\n",
       "         3.08677149e+00,  4.58079147e+00,  1.00901055e+00,  1.46520638e+00,\n",
       "         3.49714851e+00, -2.59739780e+00,  4.42512465e+00, -1.47449672e+00,\n",
       "        -2.36227918e+00, -3.20703602e+00, -3.27426434e+00, -1.73271203e+00,\n",
       "        -3.87453461e+00,  6.07531726e-01,  9.74438965e-01, -1.15222812e-01,\n",
       "        -1.68320847e+00, -6.53399348e-01,  3.81929374e+00, -8.45303357e-01,\n",
       "        -2.13095784e+00, -1.13527262e+00, -1.23368359e+00, -1.38557410e+00,\n",
       "         1.83860421e+00,  4.85777617e-01, -2.72277260e+00,  9.97801781e-01,\n",
       "        -1.92667580e+00, -9.72378254e-01,  1.27563119e+00, -2.86557078e+00,\n",
       "        -2.60133922e-01,  2.69658709e+00,  7.86535323e-01, -4.21473145e-01,\n",
       "         2.27079582e+00,  1.48072600e+00,  2.02967334e+00, -2.51644611e-01,\n",
       "        -4.02128011e-01,  6.80498421e-01, -5.86220264e-01, -3.24010539e+00,\n",
       "        -3.06927323e+00,  3.34144950e+00,  1.80294847e+00, -1.93652582e+00,\n",
       "        -1.76408219e+00,  2.76566595e-01, -6.64719820e-01, -1.12066400e+00,\n",
       "         1.50598979e+00, -1.52155995e+00,  8.25260222e-01,  1.57121813e+00,\n",
       "        -1.13259232e+00,  2.40339565e+00,  2.84583235e+00, -4.91085529e-01,\n",
       "        -1.57658064e+00,  1.69600010e+00,  3.80891681e-01,  1.23015058e+00,\n",
       "        -1.38085127e+00, -2.21559334e+00, -7.07768559e-01, -7.04401508e-02,\n",
       "        -1.91352081e+00,  2.00843859e+00,  1.38170481e+00, -3.27321720e+00,\n",
       "         1.91806483e+00,  2.37961459e+00, -1.07770586e+00, -1.68428874e+00,\n",
       "        -1.52636826e+00,  3.55232072e+00,  2.02184963e+00, -1.08632743e+00,\n",
       "        -5.62700152e-01,  2.57566023e+00, -5.66193008e+00,  1.79431438e+00,\n",
       "         2.75416672e-02,  3.00256777e+00,  1.28610373e+00, -1.02466261e+00,\n",
       "         2.62664914e+00,  2.07187176e+00,  9.55476999e-01, -8.61808658e-04,\n",
       "         2.31822681e+00,  3.06852698e+00, -7.42962956e-01, -2.03683212e-01,\n",
       "         2.54624462e+00,  1.47304428e+00,  4.51138496e-01, -2.68647885e+00,\n",
       "        -1.73743129e+00, -4.54287231e-02,  6.56907916e-01,  1.87747574e+00,\n",
       "        -1.71392572e+00,  1.76991153e+00, -3.06832170e+00,  8.03747952e-01,\n",
       "        -1.12355804e+00,  8.20501029e-01,  1.47644734e+00, -3.61395383e+00,\n",
       "        -3.18028831e+00,  5.69656730e-01,  3.57766777e-01, -4.59022701e-01,\n",
       "         3.05507874e+00,  1.57139271e-01, -7.09970474e-01, -9.68450367e-01,\n",
       "         4.36838150e+00, -2.34864378e+00, -3.01040673e+00, -1.67595482e+00,\n",
       "        -4.12648737e-01, -6.80774510e-01, -7.43566751e-02,  1.61842942e+00,\n",
       "        -1.81838214e+00,  4.74516153e+00, -1.08236507e-01, -2.50059175e+00,\n",
       "         4.28238153e+00,  4.79098797e+00, -2.10015655e+00, -4.03472281e+00,\n",
       "        -4.57830995e-01,  2.67727375e+00, -7.04873860e-01, -4.92964649e+00,\n",
       "         7.94182420e-01,  1.41245997e+00, -4.53421450e+00, -2.01032019e+00,\n",
       "        -1.30408096e+00,  3.19794714e-01, -8.43621850e-01,  1.02213252e+00,\n",
       "         8.08850825e-01, -3.43966651e+00, -8.43130291e-01,  1.19858265e+00,\n",
       "        -4.84532326e-01, -1.48086643e+00,  1.41505957e-01,  3.98151493e+00,\n",
       "        -9.35382247e-01,  2.74139047e-01, -8.14678133e-01, -2.93062758e+00,\n",
       "         3.81706238e+00, -9.08494234e-01,  7.00975478e-01,  8.92947018e-01,\n",
       "        -2.00745058e+00,  2.57061362e+00, -7.22728074e-01, -2.62555861e+00,\n",
       "        -2.26263447e+01,  1.13523692e-01,  2.19318032e+00, -5.70611954e-01,\n",
       "        -3.61390734e+00,  2.36850977e+00, -2.99872136e+00,  3.68564487e+00,\n",
       "        -2.01610065e+00, -2.68459654e+00,  7.16852069e-01,  1.54468060e+00,\n",
       "         1.37544131e+00,  2.75226784e+00,  1.00571263e+00, -1.97198331e+00,\n",
       "        -5.38573802e-01, -2.79291123e-02, -1.67997646e+00,  3.43311024e+00,\n",
       "        -6.24565840e+00, -1.27096403e+00, -1.98161268e+00, -7.44414330e-01,\n",
       "         3.45334482e+00,  1.55362338e-02,  1.52498782e+00,  1.67592907e+00,\n",
       "         5.76629043e-01, -5.41700661e-01, -4.25713110e+00, -3.01288986e+00,\n",
       "         3.40012729e-01,  2.86081433e+00,  3.15041924e+00,  1.29047346e+00,\n",
       "         4.28501189e-01,  1.22168846e-01, -2.46220016e+00,  2.90889740e-01,\n",
       "         3.09953570e-01, -2.21617794e+00, -3.99587345e+00,  2.99475461e-01,\n",
       "         1.15173626e+00, -5.44398129e-02,  1.51560926e+00,  1.17721927e+00,\n",
       "        -1.46064818e+00,  5.42057037e-01,  1.27987909e+00,  7.51553595e-01,\n",
       "        -3.65624666e+00, -1.61779392e+00, -2.32154474e-01, -1.25324440e+00,\n",
       "         2.77494717e+00,  5.37910128e+00, -3.49788928e+00, -1.04256642e+00,\n",
       "        -6.58288002e-01,  1.27940059e-01, -1.69197810e+00, -2.28567624e+00,\n",
       "         4.03905249e+00,  5.05354404e-01,  1.08900928e+00, -1.90693247e+00,\n",
       "         1.97201502e+00, -1.94354653e+00, -2.98144150e+00, -3.10285878e+00,\n",
       "         2.28199139e-02, -1.24429531e+01,  3.62862051e-01, -1.62154377e+00,\n",
       "        -5.49707592e-01, -4.31879103e-01, -2.79980123e-01,  1.14948606e+00,\n",
       "         3.04668403e+00, -5.11505306e-01, -9.68786240e-01,  1.33870661e+00,\n",
       "         9.73362923e-01,  8.89457583e-01,  6.63421035e-01, -7.36590028e-01,\n",
       "         4.65273798e-01, -1.10529995e+00, -1.88208818e-02,  3.12488699e+00,\n",
       "        -2.11790180e+00,  1.52942932e+00, -1.42162502e+00,  4.51567024e-02,\n",
       "         3.21331561e-01, -2.05955833e-01, -1.00147033e+00, -6.07569218e-02,\n",
       "         2.06183925e-01,  5.80143642e+00, -3.36235166e+00, -3.10587358e+00,\n",
       "         2.33490658e+00, -2.26982045e+00, -1.82355475e+00, -8.12370598e-01,\n",
       "        -1.08942068e+00,  2.49743044e-01, -2.35857487e+00, -1.25489926e+00,\n",
       "         2.88295937e+00,  1.15474448e-01,  5.12000227e+00,  5.61766267e-01,\n",
       "         2.73427558e+00, -2.13786960e+00,  2.53262353e+00,  1.73624396e+00,\n",
       "         1.83042085e+00,  1.01345563e+00,  3.40335655e+00, -4.66389626e-01,\n",
       "         4.45169836e-01,  1.41529560e+00, -2.51418686e+00,  3.99005842e+00,\n",
       "         7.49068320e-01, -8.25362563e-01, -2.24911785e+00,  2.33697796e+00,\n",
       "         8.22819233e-01, -3.01454997e+00, -1.04479182e+00,  5.28014302e-01,\n",
       "         1.44661593e+00, -4.09664631e+00,  3.21175408e+00,  1.39697587e+00,\n",
       "         5.77769458e-01,  1.66423351e-01,  1.66571820e+00, -3.18491316e+00,\n",
       "         3.00872684e-01,  5.19742608e-01,  2.60058212e+00, -6.00938845e+00,\n",
       "        -1.07830429e+00,  1.94840145e+00, -1.28633308e+00, -1.15231618e-01,\n",
       "         9.49797273e-01, -3.78066683e+00, -3.44223833e+00,  3.40305305e+00,\n",
       "        -9.57296550e-01, -3.21905136e+00, -4.68235075e-01, -1.77226150e+00,\n",
       "         1.30838883e+00, -1.25867486e+00,  2.81941032e+00,  2.20973444e+00,\n",
       "        -1.01813197e+00,  3.06243896e-01,  5.52330852e-01,  1.57845545e+00,\n",
       "        -1.96765512e-02, -5.79566288e+00,  5.91842318e+00,  3.47478509e-01,\n",
       "        -9.98753756e-02,  1.52588964e+00,  1.07237816e-01,  3.03947091e+00,\n",
       "         2.67620230e+00,  6.57653093e-01, -6.80676699e-01,  5.72639048e-01,\n",
       "        -1.81256890e+00,  9.58500266e-01, -1.38442254e+00, -7.95250833e-01,\n",
       "         8.13692331e-01,  1.69620767e-01, -6.26196861e-02,  8.94345522e-01,\n",
       "         2.98461270e+00,  3.18720400e-01, -1.51651800e-01, -3.29708159e-01,\n",
       "         1.53265107e+00, -1.13207388e+00, -6.08345903e-02, -1.31242537e+00,\n",
       "         2.23111176e+00,  1.39807546e+00, -5.69439530e-02,  6.74059033e-01,\n",
       "        -1.77214634e+00,  2.49769068e+00, -2.72529650e+00,  2.56329596e-01,\n",
       "         9.20220733e-01, -4.17228317e+00,  4.39539194e-01,  3.76325786e-01,\n",
       "        -3.21742201e+00, -5.03878891e-01, -2.00135279e+00, -3.07796746e-01,\n",
       "         8.56972396e-01,  1.25925779e+00,  2.35010862e+00, -7.93759763e-01,\n",
       "        -3.78960520e-02, -1.09612620e+00,  3.51432145e-01, -6.54128194e-01,\n",
       "        -1.03051805e+00, -2.28129816e+00, -6.21720552e-01, -2.56841719e-01,\n",
       "         2.97075093e-01, -2.47421455e+00, -1.49886012e-02,  4.90340948e-01,\n",
       "        -1.16294515e+00,  1.58731723e+00,  1.98075223e+00, -4.68615818e+00,\n",
       "        -1.67032838e+00,  1.52923179e+00,  7.36144900e-01, -2.02727556e-01,\n",
       "         3.13762665e+00, -2.22711253e+00, -1.75185418e+00, -2.49836102e-01,\n",
       "         1.14470005e+00,  1.48942232e+00, -2.06260037e+00, -2.60382748e+00,\n",
       "         2.65490460e+00, -2.74159938e-01,  1.16195440e+00,  1.08423305e+00,\n",
       "        -1.60598886e+00, -3.88959074e+00,  1.97769356e+00, -1.76902795e+00,\n",
       "        -4.98978317e-01,  3.49780035e+00, -2.24733293e-01, -7.23666000e+00,\n",
       "        -3.59206676e+00,  1.18516159e+00, -3.26607764e-01,  1.22001064e+00,\n",
       "         2.60264969e+00,  3.96155417e-02, -3.36528540e+00, -3.69430423e-01,\n",
       "        -6.53087139e-01,  1.18660831e+00, -1.22574568e-02,  1.39120722e+00,\n",
       "        -1.33649755e+00, -2.95815825e+00,  2.52128911e+00, -9.24949944e-02,\n",
       "        -1.22345519e+00, -2.99001646e+00, -5.69867790e-01,  2.86676884e+00,\n",
       "        -1.38007402e+00,  8.32069099e-01,  2.28371978e+00, -4.51613903e+00,\n",
       "        -2.68017936e+00,  4.16383791e+00, -1.47406328e+00,  6.92836702e-01,\n",
       "        -2.41214752e+00, -3.87337852e+00,  6.22503221e-01, -1.00556538e-01,\n",
       "         1.01696575e+00,  2.68409085e+00, -2.07789993e+00, -2.26182818e-01,\n",
       "        -9.69178081e-01, -2.54811716e+00,  1.19377100e+00, -9.93775070e-01,\n",
       "        -3.29151225e+00,  2.67999673e+00,  5.62019873e+00, -7.51792669e-01,\n",
       "        -3.79897308e+00, -3.49482596e-02, -3.16611195e+00, -8.11164677e-02,\n",
       "        -8.63266945e-01,  1.42653143e+00,  5.45564115e-01, -2.96212530e+00,\n",
       "        -2.68341732e+00,  5.70517874e+00, -9.15861487e-01, -1.96934998e+00,\n",
       "         3.56276703e+00,  4.18836623e-01,  2.95503616e+00, -1.30556357e+00,\n",
       "         1.75710392e+00, -1.24288416e+00,  2.37582755e+00,  1.87425339e+00,\n",
       "         2.49821258e+00,  6.03028908e-02, -2.50004029e+00,  1.89090312e+00,\n",
       "         1.71074867e+00,  1.23084486e+00, -1.63376480e-01, -7.96631396e-01,\n",
       "         3.27413726e+00,  3.19164944e+00, -1.17375255e+00, -9.91460145e-01,\n",
       "         5.47453053e-02,  2.83590102e+00, -1.79419947e+00, -2.41381478e+00,\n",
       "         1.68332720e+00,  3.33528709e+00,  3.75041246e-01,  2.80800915e+00,\n",
       "         7.82554567e-01,  2.28704596e+00,  5.12102699e+00,  8.05756569e-01,\n",
       "        -1.31440890e+00,  2.12737560e+00,  2.24000365e-01, -1.77157879e+00,\n",
       "         6.62213564e-01,  2.39216018e+00, -3.96188676e-01, -2.07535315e+00,\n",
       "        -1.29001331e+00,  1.60519123e+00, -3.56890488e+00, -3.65599656e+00,\n",
       "        -1.86275661e-01,  2.57365131e+00,  4.93890095e+00,  1.02849734e+00,\n",
       "         1.08332717e+00, -1.00745726e+00, -4.63740706e-01,  1.83246195e+00,\n",
       "         1.59047937e+00, -2.31804609e+00, -1.37181175e+00,  3.33643079e-01,\n",
       "        -7.75050640e-01,  5.92461288e-01,  1.23461378e+00, -5.67211628e-01,\n",
       "        -2.18834114e+00, -1.12571561e+00, -3.28268647e-01, -8.65398794e-02,\n",
       "         7.12230206e-01, -1.37922120e+00, -2.17699662e-01,  2.39806843e+00,\n",
       "        -5.05023909e+00,  5.35081744e-01, -2.14152068e-01,  3.15139860e-01,\n",
       "        -1.05617499e+00, -1.49516881e+00,  9.78556871e-01, -1.38870490e+00,\n",
       "         2.16594648e+00, -1.26136875e+00, -3.93741345e+00, -4.49682325e-01,\n",
       "         1.32340515e+00, -1.48899841e+00,  2.59957552e-01,  8.02425265e-01,\n",
       "         1.91930795e+00, -1.45031929e+00, -3.63363624e-01,  1.01816845e+00,\n",
       "        -1.56904057e-01, -5.41825235e-01,  1.75141916e-01,  1.97692740e+00,\n",
       "         4.42500889e-01,  3.00119686e+00,  1.25974536e+00, -1.38491952e+00,\n",
       "         3.46418166e+00,  2.17523575e+00,  1.08064377e+00,  8.85602713e-01,\n",
       "         7.30008781e-01,  2.22709918e+00, -1.54171324e+00,  2.52345018e-02,\n",
       "         1.07873690e+00, -1.90247893e+00,  1.18413162e+00, -3.50354004e+00,\n",
       "         1.26087427e+00,  5.08112144e+00, -1.21055886e-01,  5.87709695e-02,\n",
       "         4.45999205e-01,  4.13233948e+00, -1.85480499e+00, -2.09156036e+00,\n",
       "        -8.70331109e-01, -2.04060268e+00, -6.51726484e-01,  1.53377855e+00,\n",
       "        -1.04451954e+00,  1.81355977e+00, -3.03157139e+00, -2.48055553e+00,\n",
       "        -1.26245952e+00, -1.38387620e-01,  1.19268954e+00,  1.79432541e-01,\n",
       "         2.96090364e-01,  1.65720809e+00, -3.47682905e+00, -1.30032992e+00,\n",
       "         4.20525169e+00,  8.03041458e-01, -5.12699366e+00,  1.08784568e+00,\n",
       "        -2.17495233e-01, -3.80095929e-01, -4.22233152e+00,  1.42759490e+00,\n",
       "         1.97896731e+00, -8.22918177e-01,  2.50306845e-01,  2.49318528e+00,\n",
       "        -2.28983343e-01,  2.13121176e-02, -1.31662035e+00, -1.26273263e+00],\n",
       "       dtype=float32)]"
      ]
     },
     "execution_count": 32,
     "metadata": {},
     "output_type": "execute_result"
    }
   ],
   "source": [
    "emb"
   ]
  },
  {
   "cell_type": "code",
   "execution_count": 9,
   "metadata": {},
   "outputs": [
    {
     "name": "stdout",
     "output_type": "stream",
     "text": [
      "Depth : 0 Exploring tired\n",
      "          word  counts  mean_sim\n",
      "119  depressed       2  0.655812\n",
      "70     anxious       2  0.650671\n",
      "7       sleepy       2  0.628737\n",
      "29        sick       5  0.608247\n",
      "-----------------------\n",
      "Master Embedding updated\n",
      "Depth : 1 Exploring depressed\n",
      "       word  counts  mean_sim\n",
      "63  anxious       2  0.789780\n",
      "5     tired       4  0.753729\n",
      "85    angry       1  0.612941\n",
      "59    weird       1  0.607613\n",
      "-----------------------\n",
      "Depth : 1 Exploring anxious\n",
      "          word  counts  mean_sim\n",
      "124  depressed       2  0.785289\n",
      "5        tired       4  0.767029\n",
      "6       sleepy       2  0.643648\n",
      "78       happy       1  0.627828\n",
      "-----------------------\n",
      "Depth : 1 Exploring sleepy\n",
      "          word  counts  mean_sim\n",
      "6        tired       4  0.764397\n",
      "220     asleep       1  0.695253\n",
      "62     anxious       2  0.676594\n",
      "107  depressed       2  0.621635\n",
      "-----------------------\n",
      "Depth : 1 Exploring sick\n",
      "          word  counts  mean_sim\n",
      "5        tired       4  0.735753\n",
      "94     anxious       2  0.653078\n",
      "163  depressed       2  0.616507\n",
      "89       weird       1  0.593106\n",
      "-----------------------\n",
      "Master Embedding updated\n",
      "Depth : 2 Exploring angry\n",
      "Reached max depth\n",
      "Depth : 2 Exploring weird\n",
      "Reached max depth\n",
      "Depth : 2 Exploring happy\n",
      "Reached max depth\n",
      "Depth : 2 Exploring asleep\n",
      "Reached max depth\n"
     ]
    }
   ],
   "source": [
    "ADR.trainModel(maxDepth=2,topk=4) #Master Contrib = 0.5"
   ]
  },
  {
   "cell_type": "code",
   "execution_count": null,
   "metadata": {},
   "outputs": [],
   "source": []
  },
  {
   "cell_type": "code",
   "execution_count": null,
   "metadata": {},
   "outputs": [],
   "source": [
    "ADR.trainModel(maxDepth=2,topk=4)"
   ]
  },
  {
   "cell_type": "code",
   "execution_count": 35,
   "metadata": {},
   "outputs": [
    {
     "name": "stdout",
     "output_type": "stream",
     "text": [
      "Depth : 0 Exploring tired\n",
      "          word  counts  mean_sim\n",
      "119  depressed       2  0.655812\n",
      "70     anxious       2  0.650671\n",
      "7       sleepy       2  0.628737\n",
      "29        sick       5  0.608247\n",
      "-----------------------\n",
      "Master Embedding updated\n",
      "Depth : 1 Exploring depressed\n",
      "       word  counts  mean_sim\n",
      "6     tired       4  0.865564\n",
      "70  anxious       2  0.650671\n",
      "7    sleepy       2  0.628737\n",
      "29     sick       5  0.608247\n",
      "-----------------------\n",
      "Depth : 1 Exploring anxious\n",
      "          word  counts  mean_sim\n",
      "6        tired       4  0.865564\n",
      "119  depressed       2  0.655812\n",
      "7       sleepy       2  0.628737\n",
      "29        sick       5  0.608247\n",
      "-----------------------\n",
      "Depth : 1 Exploring sleepy\n",
      "          word  counts  mean_sim\n",
      "6        tired       4  0.865564\n",
      "119  depressed       2  0.655812\n",
      "70     anxious       2  0.650671\n",
      "29        sick       5  0.608247\n",
      "-----------------------\n",
      "Depth : 1 Exploring sick\n",
      "          word  counts  mean_sim\n",
      "6        tired       4  0.865564\n",
      "119  depressed       2  0.655812\n",
      "70     anxious       2  0.650671\n",
      "7       sleepy       2  0.628737\n",
      "-----------------------\n"
     ]
    }
   ],
   "source": [
    "ADR.trainModel(maxDepth=2,topk=4)"
   ]
  },
  {
   "cell_type": "code",
   "execution_count": 29,
   "metadata": {},
   "outputs": [
    {
     "name": "stdout",
     "output_type": "stream",
     "text": [
      "Depth : 0 Exploring tired\n",
      "          word  counts  mean_sim\n",
      "119  depressed       2  0.655812\n",
      "70     anxious       2  0.650671\n",
      "7       sleepy       2  0.628737\n",
      "29        sick       5  0.608247\n",
      "-----------------------\n",
      "Depth : 1 Exploring depressed\n",
      "       word  counts  mean_sim\n",
      "40  anxious       2  0.773500\n",
      "4     tired       4  0.629324\n",
      "56    angry       1  0.627117\n",
      "45      sad       1  0.580321\n",
      "-----------------------\n",
      "Depth : 1 Exploring anxious\n",
      "         word  counts  mean_sim\n",
      "84  depressed       2  0.760904\n",
      "4       tired       4  0.646776\n",
      "69      angry       1  0.630664\n",
      "52      happy       1  0.619025\n",
      "-----------------------\n",
      "Depth : 1 Exploring sleepy\n",
      "        word  counts  mean_sim\n",
      "149   asleep       1  0.689712\n",
      "5      tired       4  0.644995\n",
      "40   anxious       2  0.621777\n",
      "113     ##wn       1  0.576222\n",
      "-----------------------\n",
      "Depth : 1 Exploring sick\n",
      "       word  counts  mean_sim\n",
      "4     tired       4  0.592778\n",
      "63  anxious       2  0.581277\n",
      "25    dizzy       1  0.568730\n",
      "60    weird       1  0.553463\n",
      "-----------------------\n",
      "Depth : 2 Exploring angry\n",
      "Reached max depth\n",
      "Depth : 2 Exploring sad\n",
      "Reached max depth\n",
      "Depth : 2 Exploring happy\n",
      "Reached max depth\n",
      "Depth : 2 Exploring asleep\n",
      "Reached max depth\n",
      "Depth : 2 Exploring dizzy\n",
      "Reached max depth\n",
      "Depth : 2 Exploring weird\n",
      "Reached max depth\n"
     ]
    }
   ],
   "source": [
    "ADR.trainModel(maxDepth=2,topk=4)"
   ]
  },
  {
   "cell_type": "code",
   "execution_count": 16,
   "metadata": {},
   "outputs": [
    {
     "data": {
      "text/plain": [
       "0"
      ]
     },
     "execution_count": 16,
     "metadata": {},
     "output_type": "execute_result"
    }
   ],
   "source": []
  },
  {
   "cell_type": "code",
   "execution_count": null,
   "metadata": {},
   "outputs": [],
   "source": []
  }
 ],
 "metadata": {
  "kernelspec": {
   "display_name": "env",
   "language": "python",
   "name": "env"
  },
  "language_info": {
   "codemirror_mode": {
    "name": "ipython",
    "version": 3
   },
   "file_extension": ".py",
   "mimetype": "text/x-python",
   "name": "python",
   "nbconvert_exporter": "python",
   "pygments_lexer": "ipython3",
   "version": "3.6.4"
  }
 },
 "nbformat": 4,
 "nbformat_minor": 4
}
