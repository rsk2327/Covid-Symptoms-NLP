{
 "cells": [
  {
   "cell_type": "code",
   "execution_count": 1,
   "metadata": {},
   "outputs": [],
   "source": [
    "import pandas as pd\n",
    "import numpy as np"
   ]
  },
  {
   "cell_type": "code",
   "execution_count": 2,
   "metadata": {},
   "outputs": [],
   "source": [
    "import pandas as pd\n",
    "import numpy as np\n",
    "import os\n",
    "\n",
    "import torch\n",
    "import torchvision\n",
    "\n",
    "\n",
    "\n",
    "import transformers\n",
    "import simpletransformers\n",
    "\n",
    "from simpletransformers.language_modeling import LanguageModelingModel\n",
    "from simpletransformers.classification import ClassificationModel\n",
    "\n",
    "\n",
    "from transformers import BertForSequenceClassification, BertTokenizer, BertForMaskedLM\n",
    "\n",
    "from sklearn.metrics.pairwise import cosine_similarity, paired_euclidean_distances\n",
    "from sklearn.metrics.pairwise import euclidean_distances\n",
    "\n",
    "from sklearn.model_selection import train_test_split\n",
    "\n",
    "\n",
    "from sklearn.metrics import accuracy_score, f1_score, classification_report\n",
    "\n",
    "from utils import *"
   ]
  },
  {
   "cell_type": "code",
   "execution_count": 3,
   "metadata": {},
   "outputs": [],
   "source": [
    "df = pd.read_csv('MedicineCorpus_Final.csv',sep='\\t',lineterminator='\\n')"
   ]
  },
  {
   "cell_type": "code",
   "execution_count": 4,
   "metadata": {},
   "outputs": [],
   "source": [
    "df = df[['id','text','PET']]"
   ]
  },
  {
   "cell_type": "code",
   "execution_count": 5,
   "metadata": {},
   "outputs": [],
   "source": [
    "df['labels'] = df.PET.apply(lambda x : 1 if x == \"Yes\" else 0)"
   ]
  },
  {
   "cell_type": "markdown",
   "metadata": {},
   "source": [
    "### Model Training"
   ]
  },
  {
   "cell_type": "code",
   "execution_count": 22,
   "metadata": {},
   "outputs": [
    {
     "name": "stdout",
     "output_type": "stream",
     "text": [
      "Model loaded\n"
     ]
    }
   ],
   "source": [
    "train_args = {\n",
    "    \"output_dir\":'PETModel',\n",
    "    \"reprocess_input_data\": True,\n",
    "    \"overwrite_output_dir\": True,\n",
    "    'fp16':False,\n",
    "    'num_train_epochs':2\n",
    "}\n",
    "\n",
    "\n",
    "\n",
    "model = ClassificationModel('bert', 'bert-base-uncased', num_labels=2, use_cuda=True,\n",
    "                            args=train_args) \n",
    "\n",
    "# model = BertForSequenceClassification.from_pretrained('bert-base-uncased', output_hidden_states= False)\n",
    "# tokenizer = BertTokenizer.from_pretrained('bert-base-uncased')\n",
    "\n",
    "print('Model loaded')"
   ]
  },
  {
   "cell_type": "code",
   "execution_count": 7,
   "metadata": {},
   "outputs": [],
   "source": [
    "trainDf, testDf, _, _ = train_test_split(df, df.labels, test_size = 0.2)"
   ]
  },
  {
   "cell_type": "code",
   "execution_count": 8,
   "metadata": {},
   "outputs": [
    {
     "data": {
      "text/html": [
       "<div>\n",
       "<style scoped>\n",
       "    .dataframe tbody tr th:only-of-type {\n",
       "        vertical-align: middle;\n",
       "    }\n",
       "\n",
       "    .dataframe tbody tr th {\n",
       "        vertical-align: top;\n",
       "    }\n",
       "\n",
       "    .dataframe thead th {\n",
       "        text-align: right;\n",
       "    }\n",
       "</style>\n",
       "<table border=\"1\" class=\"dataframe\">\n",
       "  <thead>\n",
       "    <tr style=\"text-align: right;\">\n",
       "      <th></th>\n",
       "      <th>text</th>\n",
       "      <th>labels</th>\n",
       "    </tr>\n",
       "  </thead>\n",
       "  <tbody>\n",
       "    <tr>\n",
       "      <th>1396</th>\n",
       "      <td>I don't not study these lame lamez I'm just go...</td>\n",
       "      <td>0</td>\n",
       "    </tr>\n",
       "    <tr>\n",
       "      <th>1444</th>\n",
       "      <td>Legends to Singapore, Part I:\\n\"Where are my A...</td>\n",
       "      <td>0</td>\n",
       "    </tr>\n",
       "    <tr>\n",
       "      <th>5235</th>\n",
       "      <td>@MALEFICENTHILDA lmao damn that's some crazy s...</td>\n",
       "      <td>0</td>\n",
       "    </tr>\n",
       "    <tr>\n",
       "      <th>3938</th>\n",
       "      <td>@thebestjasmine @maureenjohnson I TRYING TOO G...</td>\n",
       "      <td>0</td>\n",
       "    </tr>\n",
       "    <tr>\n",
       "      <th>4213</th>\n",
       "      <td>Someone give Keanu Reeves a Xanax. Dude has no...</td>\n",
       "      <td>0</td>\n",
       "    </tr>\n",
       "  </tbody>\n",
       "</table>\n",
       "</div>"
      ],
      "text/plain": [
       "                                                   text  labels\n",
       "1396  I don't not study these lame lamez I'm just go...       0\n",
       "1444  Legends to Singapore, Part I:\\n\"Where are my A...       0\n",
       "5235  @MALEFICENTHILDA lmao damn that's some crazy s...       0\n",
       "3938  @thebestjasmine @maureenjohnson I TRYING TOO G...       0\n",
       "4213  Someone give Keanu Reeves a Xanax. Dude has no...       0"
      ]
     },
     "execution_count": 8,
     "metadata": {},
     "output_type": "execute_result"
    }
   ],
   "source": [
    "trainDf = trainDf[['text','labels']]\n",
    "\n",
    "testDf = testDf[['text','labels']]\n",
    "\n",
    "trainDf.head()"
   ]
  },
  {
   "cell_type": "code",
   "execution_count": 25,
   "metadata": {},
   "outputs": [],
   "source": [
    "trainDf_ = upsampleDf(trainDf, targetVar='labels')"
   ]
  },
  {
   "cell_type": "code",
   "execution_count": 26,
   "metadata": {},
   "outputs": [
    {
     "data": {
      "text/plain": [
       "1    4349\n",
       "0    4349\n",
       "Name: labels, dtype: int64"
      ]
     },
     "execution_count": 26,
     "metadata": {},
     "output_type": "execute_result"
    }
   ],
   "source": [
    "trainDf_.labels.value_counts()"
   ]
  },
  {
   "cell_type": "code",
   "execution_count": 27,
   "metadata": {},
   "outputs": [
    {
     "data": {
      "application/vnd.jupyter.widget-view+json": {
       "model_id": "d5e0020fd1384a9494575012008c9ae2",
       "version_major": 2,
       "version_minor": 0
      },
      "text/plain": [
       "HBox(children=(FloatProgress(value=0.0, max=8698.0), HTML(value='')))"
      ]
     },
     "metadata": {},
     "output_type": "display_data"
    },
    {
     "name": "stdout",
     "output_type": "stream",
     "text": [
      "\n"
     ]
    },
    {
     "data": {
      "application/vnd.jupyter.widget-view+json": {
       "model_id": "da8997efb2724ea583c3ec5e1587146a",
       "version_major": 2,
       "version_minor": 0
      },
      "text/plain": [
       "HBox(children=(FloatProgress(value=0.0, description='Epoch', max=2.0, style=ProgressStyle(description_width='i…"
      ]
     },
     "metadata": {},
     "output_type": "display_data"
    },
    {
     "data": {
      "application/vnd.jupyter.widget-view+json": {
       "model_id": "7462482cdcf34f9c8f1e83ff1620612d",
       "version_major": 2,
       "version_minor": 0
      },
      "text/plain": [
       "HBox(children=(FloatProgress(value=0.0, description='Current iteration', max=1088.0, style=ProgressStyle(descr…"
      ]
     },
     "metadata": {},
     "output_type": "display_data"
    },
    {
     "name": "stdout",
     "output_type": "stream",
     "text": [
      "Running loss: 0.010134\n"
     ]
    },
    {
     "data": {
      "application/vnd.jupyter.widget-view+json": {
       "model_id": "f7459f805fba477297bab51dba9b47d4",
       "version_major": 2,
       "version_minor": 0
      },
      "text/plain": [
       "HBox(children=(FloatProgress(value=0.0, description='Current iteration', max=1088.0, style=ProgressStyle(descr…"
      ]
     },
     "metadata": {},
     "output_type": "display_data"
    },
    {
     "name": "stdout",
     "output_type": "stream",
     "text": [
      "Running loss: 0.001665\n",
      "\n"
     ]
    }
   ],
   "source": [
    "model.train_model(trainDf_)"
   ]
  },
  {
   "cell_type": "code",
   "execution_count": 9,
   "metadata": {},
   "outputs": [
    {
     "data": {
      "application/vnd.jupyter.widget-view+json": {
       "model_id": "e4a31c38eea14e4a8294fc6da2e5de4f",
       "version_major": 2,
       "version_minor": 0
      },
      "text/plain": [
       "HBox(children=(FloatProgress(value=0.0, max=1414.0), HTML(value='')))"
      ]
     },
     "metadata": {},
     "output_type": "display_data"
    },
    {
     "name": "stdout",
     "output_type": "stream",
     "text": [
      "\n"
     ]
    },
    {
     "data": {
      "application/vnd.jupyter.widget-view+json": {
       "model_id": "914358928f854817824dbf3cb3e7a087",
       "version_major": 2,
       "version_minor": 0
      },
      "text/plain": [
       "HBox(children=(FloatProgress(value=0.0, max=177.0), HTML(value='')))"
      ]
     },
     "metadata": {},
     "output_type": "display_data"
    },
    {
     "name": "stdout",
     "output_type": "stream",
     "text": [
      "\n"
     ]
    }
   ],
   "source": [
    "pred = model.eval_model(testDf)"
   ]
  },
  {
   "cell_type": "code",
   "execution_count": 10,
   "metadata": {},
   "outputs": [],
   "source": [
    "pred = pred[1]"
   ]
  },
  {
   "cell_type": "code",
   "execution_count": 12,
   "metadata": {},
   "outputs": [],
   "source": [
    "from scipy.special import softmax"
   ]
  },
  {
   "cell_type": "code",
   "execution_count": 14,
   "metadata": {},
   "outputs": [
    {
     "data": {
      "text/plain": [
       "array([[0.0016298 , 0.9983703 ],\n",
       "       [0.99867266, 0.00132725],\n",
       "       [0.99813825, 0.00186176],\n",
       "       ...,\n",
       "       [0.9979529 , 0.00204708],\n",
       "       [0.9983915 , 0.00160852],\n",
       "       [0.99823177, 0.00176836]], dtype=float32)"
      ]
     },
     "execution_count": 14,
     "metadata": {},
     "output_type": "execute_result"
    }
   ],
   "source": [
    "softmax(pred,1)"
   ]
  },
  {
   "cell_type": "code",
   "execution_count": null,
   "metadata": {},
   "outputs": [],
   "source": []
  },
  {
   "cell_type": "code",
   "execution_count": null,
   "metadata": {},
   "outputs": [],
   "source": []
  },
  {
   "cell_type": "code",
   "execution_count": 12,
   "metadata": {},
   "outputs": [],
   "source": [
    "pred = pred[1]\n",
    "finalPred = np.argmax(pred,1)"
   ]
  },
  {
   "cell_type": "code",
   "execution_count": 13,
   "metadata": {},
   "outputs": [
    {
     "data": {
      "text/plain": [
       "0.9512022630834512"
      ]
     },
     "execution_count": 13,
     "metadata": {},
     "output_type": "execute_result"
    }
   ],
   "source": [
    "accuracy_score(testDf.labels, finalPred)"
   ]
  },
  {
   "cell_type": "code",
   "execution_count": 31,
   "metadata": {},
   "outputs": [
    {
     "name": "stdout",
     "output_type": "stream",
     "text": [
      "              precision    recall  f1-score   support\n",
      "\n",
      "           0       0.89      0.92      0.91      1064\n",
      "           1       0.73      0.66      0.69       350\n",
      "\n",
      "    accuracy                           0.86      1414\n",
      "   macro avg       0.81      0.79      0.80      1414\n",
      "weighted avg       0.85      0.86      0.85      1414\n",
      "\n"
     ]
    }
   ],
   "source": [
    "print(classification_report(testDf.labels, finalPred)) "
   ]
  },
  {
   "cell_type": "markdown",
   "metadata": {},
   "source": [
    "### Loading trained model"
   ]
  },
  {
   "cell_type": "code",
   "execution_count": 15,
   "metadata": {},
   "outputs": [],
   "source": [
    "model = ClassificationModel('bert', 'PETModel/checkpoint-2176-epoch-2/', num_labels=2, use_cuda=True) "
   ]
  },
  {
   "cell_type": "code",
   "execution_count": null,
   "metadata": {},
   "outputs": [],
   "source": []
  },
  {
   "cell_type": "markdown",
   "metadata": {},
   "source": [
    "### Predicting on Covid Data"
   ]
  },
  {
   "cell_type": "code",
   "execution_count": 16,
   "metadata": {},
   "outputs": [],
   "source": [
    "dataFolder = '/data1/roshansk/covid_data/'"
   ]
  },
  {
   "cell_type": "code",
   "execution_count": 8,
   "metadata": {},
   "outputs": [
    {
     "data": {
      "text/plain": [
       "['messages_cm_mar1_apr23_noRT.csv',\n",
       " 'messages_cm_mar1_apr23.csv',\n",
       " 'CovidTrainDf_1.csv',\n",
       " 'covid19_msgs_2020_02.csv']"
      ]
     },
     "execution_count": 8,
     "metadata": {},
     "output_type": "execute_result"
    }
   ],
   "source": [
    "os.listdir(dataFolder)"
   ]
  },
  {
   "cell_type": "code",
   "execution_count": 17,
   "metadata": {},
   "outputs": [],
   "source": [
    "covidDf = pd.read_csv(os.path.join(dataFolder, 'messages_cm_mar1_apr23_noRT.csv'), nrows = 100000)"
   ]
  },
  {
   "cell_type": "code",
   "execution_count": 10,
   "metadata": {},
   "outputs": [
    {
     "data": {
      "text/html": [
       "<div>\n",
       "<style scoped>\n",
       "    .dataframe tbody tr th:only-of-type {\n",
       "        vertical-align: middle;\n",
       "    }\n",
       "\n",
       "    .dataframe tbody tr th {\n",
       "        vertical-align: top;\n",
       "    }\n",
       "\n",
       "    .dataframe thead th {\n",
       "        text-align: right;\n",
       "    }\n",
       "</style>\n",
       "<table border=\"1\" class=\"dataframe\">\n",
       "  <thead>\n",
       "    <tr style=\"text-align: right;\">\n",
       "      <th></th>\n",
       "      <th>message_id</th>\n",
       "      <th>user_id</th>\n",
       "      <th>message</th>\n",
       "      <th>created_at_utc</th>\n",
       "      <th>retweeted</th>\n",
       "      <th>retweet_message_id</th>\n",
       "      <th>in_reply_to_message_id</th>\n",
       "      <th>in_reply_to_user_id</th>\n",
       "      <th>favorite_count</th>\n",
       "      <th>retweet_count</th>\n",
       "      <th>...</th>\n",
       "      <th>tweet_location</th>\n",
       "      <th>tweet_location_short</th>\n",
       "      <th>place_type</th>\n",
       "      <th>coordinates</th>\n",
       "      <th>coordinates_state</th>\n",
       "      <th>fips</th>\n",
       "      <th>county</th>\n",
       "      <th>city</th>\n",
       "      <th>state</th>\n",
       "      <th>RT</th>\n",
       "    </tr>\n",
       "  </thead>\n",
       "  <tbody>\n",
       "    <tr>\n",
       "      <th>0</th>\n",
       "      <td>1238220897720336390</td>\n",
       "      <td>790013818999074820</td>\n",
       "      <td>loving how i predicted the #coronavirus in my ...</td>\n",
       "      <td>2020-03-12 21:50:41</td>\n",
       "      <td>NaN</td>\n",
       "      <td>0</td>\n",
       "      <td>0</td>\n",
       "      <td>0</td>\n",
       "      <td>0</td>\n",
       "      <td>0</td>\n",
       "      <td>...</td>\n",
       "      <td>NaN</td>\n",
       "      <td>NaN</td>\n",
       "      <td>NaN</td>\n",
       "      <td>NaN</td>\n",
       "      <td>NaN</td>\n",
       "      <td>12095.0</td>\n",
       "      <td>Orange County</td>\n",
       "      <td>winter park</td>\n",
       "      <td>FL</td>\n",
       "      <td>0</td>\n",
       "    </tr>\n",
       "    <tr>\n",
       "      <th>1</th>\n",
       "      <td>1238220898307432448</td>\n",
       "      <td>320608440</td>\n",
       "      <td>The markets is hemorrhaging #trump and his pal...</td>\n",
       "      <td>2020-03-12 21:50:41</td>\n",
       "      <td>NaN</td>\n",
       "      <td>0</td>\n",
       "      <td>0</td>\n",
       "      <td>0</td>\n",
       "      <td>0</td>\n",
       "      <td>0</td>\n",
       "      <td>...</td>\n",
       "      <td>NaN</td>\n",
       "      <td>NaN</td>\n",
       "      <td>NaN</td>\n",
       "      <td>NaN</td>\n",
       "      <td>NaN</td>\n",
       "      <td>25005.0</td>\n",
       "      <td>Bristol County</td>\n",
       "      <td>Freetown</td>\n",
       "      <td>MA</td>\n",
       "      <td>0</td>\n",
       "    </tr>\n",
       "    <tr>\n",
       "      <th>2</th>\n",
       "      <td>1238220912530522123</td>\n",
       "      <td>305058336</td>\n",
       "      <td>Amar es prevenirn#coronavirus</td>\n",
       "      <td>2020-03-12 21:50:45</td>\n",
       "      <td>NaN</td>\n",
       "      <td>0</td>\n",
       "      <td>0</td>\n",
       "      <td>0</td>\n",
       "      <td>0</td>\n",
       "      <td>0</td>\n",
       "      <td>...</td>\n",
       "      <td>NaN</td>\n",
       "      <td>NaN</td>\n",
       "      <td>NaN</td>\n",
       "      <td>NaN</td>\n",
       "      <td>NaN</td>\n",
       "      <td>12086.0</td>\n",
       "      <td>Miami-Dade County</td>\n",
       "      <td>Miami</td>\n",
       "      <td>FL</td>\n",
       "      <td>0</td>\n",
       "    </tr>\n",
       "    <tr>\n",
       "      <th>3</th>\n",
       "      <td>1238220933384593413</td>\n",
       "      <td>137437056</td>\n",
       "      <td>Chris's glib, histrionic commentary on COVID-1...</td>\n",
       "      <td>2020-03-12 21:50:50</td>\n",
       "      <td>NaN</td>\n",
       "      <td>0</td>\n",
       "      <td>0</td>\n",
       "      <td>0</td>\n",
       "      <td>0</td>\n",
       "      <td>0</td>\n",
       "      <td>...</td>\n",
       "      <td>NaN</td>\n",
       "      <td>NaN</td>\n",
       "      <td>NaN</td>\n",
       "      <td>NaN</td>\n",
       "      <td>NaN</td>\n",
       "      <td>11001.0</td>\n",
       "      <td>District of Columbia</td>\n",
       "      <td>Washington</td>\n",
       "      <td>D.C.</td>\n",
       "      <td>0</td>\n",
       "    </tr>\n",
       "    <tr>\n",
       "      <th>4</th>\n",
       "      <td>1238220933766230017</td>\n",
       "      <td>1012237740</td>\n",
       "      <td>If only COVID-19 started in Madagascar</td>\n",
       "      <td>2020-03-12 21:50:50</td>\n",
       "      <td>NaN</td>\n",
       "      <td>0</td>\n",
       "      <td>0</td>\n",
       "      <td>0</td>\n",
       "      <td>0</td>\n",
       "      <td>0</td>\n",
       "      <td>...</td>\n",
       "      <td>NaN</td>\n",
       "      <td>NaN</td>\n",
       "      <td>NaN</td>\n",
       "      <td>NaN</td>\n",
       "      <td>NaN</td>\n",
       "      <td>40015.0</td>\n",
       "      <td>Caddo County</td>\n",
       "      <td>Anadarko</td>\n",
       "      <td>OK</td>\n",
       "      <td>0</td>\n",
       "    </tr>\n",
       "  </tbody>\n",
       "</table>\n",
       "<p>5 rows × 36 columns</p>\n",
       "</div>"
      ],
      "text/plain": [
       "            message_id             user_id  \\\n",
       "0  1238220897720336390  790013818999074820   \n",
       "1  1238220898307432448           320608440   \n",
       "2  1238220912530522123           305058336   \n",
       "3  1238220933384593413           137437056   \n",
       "4  1238220933766230017          1012237740   \n",
       "\n",
       "                                             message       created_at_utc  \\\n",
       "0  loving how i predicted the #coronavirus in my ...  2020-03-12 21:50:41   \n",
       "1  The markets is hemorrhaging #trump and his pal...  2020-03-12 21:50:41   \n",
       "2                      Amar es prevenirn#coronavirus  2020-03-12 21:50:45   \n",
       "3  Chris's glib, histrionic commentary on COVID-1...  2020-03-12 21:50:50   \n",
       "4             If only COVID-19 started in Madagascar  2020-03-12 21:50:50   \n",
       "\n",
       "   retweeted  retweet_message_id  in_reply_to_message_id  in_reply_to_user_id  \\\n",
       "0        NaN                   0                       0                    0   \n",
       "1        NaN                   0                       0                    0   \n",
       "2        NaN                   0                       0                    0   \n",
       "3        NaN                   0                       0                    0   \n",
       "4        NaN                   0                       0                    0   \n",
       "\n",
       "   favorite_count  retweet_count  ... tweet_location tweet_location_short  \\\n",
       "0               0              0  ...            NaN                  NaN   \n",
       "1               0              0  ...            NaN                  NaN   \n",
       "2               0              0  ...            NaN                  NaN   \n",
       "3               0              0  ...            NaN                  NaN   \n",
       "4               0              0  ...            NaN                  NaN   \n",
       "\n",
       "  place_type coordinates  coordinates_state     fips                county  \\\n",
       "0        NaN         NaN                NaN  12095.0         Orange County   \n",
       "1        NaN         NaN                NaN  25005.0        Bristol County   \n",
       "2        NaN         NaN                NaN  12086.0     Miami-Dade County   \n",
       "3        NaN         NaN                NaN  11001.0  District of Columbia   \n",
       "4        NaN         NaN                NaN  40015.0          Caddo County   \n",
       "\n",
       "          city  state RT  \n",
       "0  winter park     FL  0  \n",
       "1     Freetown     MA  0  \n",
       "2        Miami     FL  0  \n",
       "3   Washington   D.C.  0  \n",
       "4     Anadarko     OK  0  \n",
       "\n",
       "[5 rows x 36 columns]"
      ]
     },
     "execution_count": 10,
     "metadata": {},
     "output_type": "execute_result"
    }
   ],
   "source": [
    "covidDf.head()"
   ]
  },
  {
   "cell_type": "code",
   "execution_count": 18,
   "metadata": {},
   "outputs": [],
   "source": [
    "covidDf = covidDf[['message','message_id']]\n",
    "covidDf.columns = ['text','labels']\n",
    "\n",
    "covidDf.labels = len(covidDf)*[0]"
   ]
  },
  {
   "cell_type": "code",
   "execution_count": 13,
   "metadata": {},
   "outputs": [],
   "source": []
  },
  {
   "cell_type": "code",
   "execution_count": 14,
   "metadata": {},
   "outputs": [
    {
     "data": {
      "text/html": [
       "<div>\n",
       "<style scoped>\n",
       "    .dataframe tbody tr th:only-of-type {\n",
       "        vertical-align: middle;\n",
       "    }\n",
       "\n",
       "    .dataframe tbody tr th {\n",
       "        vertical-align: top;\n",
       "    }\n",
       "\n",
       "    .dataframe thead th {\n",
       "        text-align: right;\n",
       "    }\n",
       "</style>\n",
       "<table border=\"1\" class=\"dataframe\">\n",
       "  <thead>\n",
       "    <tr style=\"text-align: right;\">\n",
       "      <th></th>\n",
       "      <th>text</th>\n",
       "      <th>labels</th>\n",
       "    </tr>\n",
       "  </thead>\n",
       "  <tbody>\n",
       "    <tr>\n",
       "      <th>0</th>\n",
       "      <td>loving how i predicted the #coronavirus in my ...</td>\n",
       "      <td>0</td>\n",
       "    </tr>\n",
       "    <tr>\n",
       "      <th>1</th>\n",
       "      <td>The markets is hemorrhaging #trump and his pal...</td>\n",
       "      <td>0</td>\n",
       "    </tr>\n",
       "    <tr>\n",
       "      <th>2</th>\n",
       "      <td>Amar es prevenirn#coronavirus</td>\n",
       "      <td>0</td>\n",
       "    </tr>\n",
       "    <tr>\n",
       "      <th>3</th>\n",
       "      <td>Chris's glib, histrionic commentary on COVID-1...</td>\n",
       "      <td>0</td>\n",
       "    </tr>\n",
       "    <tr>\n",
       "      <th>4</th>\n",
       "      <td>If only COVID-19 started in Madagascar</td>\n",
       "      <td>0</td>\n",
       "    </tr>\n",
       "  </tbody>\n",
       "</table>\n",
       "</div>"
      ],
      "text/plain": [
       "                                                text  labels\n",
       "0  loving how i predicted the #coronavirus in my ...       0\n",
       "1  The markets is hemorrhaging #trump and his pal...       0\n",
       "2                      Amar es prevenirn#coronavirus       0\n",
       "3  Chris's glib, histrionic commentary on COVID-1...       0\n",
       "4             If only COVID-19 started in Madagascar       0"
      ]
     },
     "execution_count": 14,
     "metadata": {},
     "output_type": "execute_result"
    }
   ],
   "source": [
    "covidDf.head()"
   ]
  },
  {
   "cell_type": "code",
   "execution_count": 15,
   "metadata": {},
   "outputs": [],
   "source": [
    "i = 0\n",
    "subDf = covidDf.iloc[i*100000:(i+1)*100000]"
   ]
  },
  {
   "cell_type": "code",
   "execution_count": 19,
   "metadata": {},
   "outputs": [
    {
     "data": {
      "application/vnd.jupyter.widget-view+json": {
       "model_id": "f415a66af21543fdb842610fdaaa276e",
       "version_major": 2,
       "version_minor": 0
      },
      "text/plain": [
       "HBox(children=(FloatProgress(value=0.0, max=100000.0), HTML(value='')))"
      ]
     },
     "metadata": {},
     "output_type": "display_data"
    },
    {
     "name": "stdout",
     "output_type": "stream",
     "text": [
      "\n"
     ]
    },
    {
     "data": {
      "application/vnd.jupyter.widget-view+json": {
       "model_id": "2a5a8ac89ce04227abdc6cebfcc69d16",
       "version_major": 2,
       "version_minor": 0
      },
      "text/plain": [
       "HBox(children=(FloatProgress(value=0.0, max=12500.0), HTML(value='')))"
      ]
     },
     "metadata": {},
     "output_type": "display_data"
    },
    {
     "name": "stdout",
     "output_type": "stream",
     "text": [
      "\n"
     ]
    }
   ],
   "source": [
    "pred = model.eval_model(covidDf)"
   ]
  },
  {
   "cell_type": "code",
   "execution_count": 20,
   "metadata": {},
   "outputs": [],
   "source": [
    "pred = pred[1]\n",
    "finalPred = np.argmax(pred,1)\n"
   ]
  },
  {
   "cell_type": "code",
   "execution_count": 23,
   "metadata": {},
   "outputs": [],
   "source": [
    "pd.Series(finalPred).to_csv('finalPred_0.csv',index = False, index_label = False)"
   ]
  },
  {
   "cell_type": "code",
   "execution_count": 25,
   "metadata": {},
   "outputs": [],
   "source": [
    "subDf = covidDf[finalPred==1]"
   ]
  },
  {
   "cell_type": "code",
   "execution_count": 26,
   "metadata": {},
   "outputs": [
    {
     "data": {
      "text/plain": [
       "2570"
      ]
     },
     "execution_count": 26,
     "metadata": {},
     "output_type": "execute_result"
    }
   ],
   "source": [
    "len(subDf)"
   ]
  },
  {
   "cell_type": "code",
   "execution_count": 27,
   "metadata": {},
   "outputs": [
    {
     "data": {
      "text/html": [
       "<div>\n",
       "<style scoped>\n",
       "    .dataframe tbody tr th:only-of-type {\n",
       "        vertical-align: middle;\n",
       "    }\n",
       "\n",
       "    .dataframe tbody tr th {\n",
       "        vertical-align: top;\n",
       "    }\n",
       "\n",
       "    .dataframe thead th {\n",
       "        text-align: right;\n",
       "    }\n",
       "</style>\n",
       "<table border=\"1\" class=\"dataframe\">\n",
       "  <thead>\n",
       "    <tr style=\"text-align: right;\">\n",
       "      <th></th>\n",
       "      <th>text</th>\n",
       "      <th>labels</th>\n",
       "    </tr>\n",
       "  </thead>\n",
       "  <tbody>\n",
       "    <tr>\n",
       "      <th>105</th>\n",
       "      <td>Man WHAT???! This is absolutely insane lmaooooo</td>\n",
       "      <td>0</td>\n",
       "    </tr>\n",
       "    <tr>\n",
       "      <th>158</th>\n",
       "      <td>- Do not downplay my fears. This virus can kil...</td>\n",
       "      <td>0</td>\n",
       "    </tr>\n",
       "    <tr>\n",
       "      <th>245</th>\n",
       "      <td>Guys. I'm not sick. I just ran up the stairs a...</td>\n",
       "      <td>0</td>\n",
       "    </tr>\n",
       "    <tr>\n",
       "      <th>253</th>\n",
       "      <td>Welp...</td>\n",
       "      <td>0</td>\n",
       "    </tr>\n",
       "    <tr>\n",
       "      <th>262</th>\n",
       "      <td>NOOO BRO STOP ðŸ˜­ðŸ˜­</td>\n",
       "      <td>0</td>\n",
       "    </tr>\n",
       "  </tbody>\n",
       "</table>\n",
       "</div>"
      ],
      "text/plain": [
       "                                                  text  labels\n",
       "105    Man WHAT???! This is absolutely insane lmaooooo       0\n",
       "158  - Do not downplay my fears. This virus can kil...       0\n",
       "245  Guys. I'm not sick. I just ran up the stairs a...       0\n",
       "253                                            Welp...       0\n",
       "262                             NOOO BRO STOP ðŸ˜­ðŸ˜­       0"
      ]
     },
     "execution_count": 27,
     "metadata": {},
     "output_type": "execute_result"
    }
   ],
   "source": [
    "subDf.head()"
   ]
  },
  {
   "cell_type": "code",
   "execution_count": 30,
   "metadata": {},
   "outputs": [
    {
     "name": "stdout",
     "output_type": "stream",
     "text": [
      "Man WHAT???! This is absolutely insane lmaooooo\n",
      "-----------\n",
      "- Do not downplay my fears. This virus can kill me.nn- Be kind if/when I don't want to engage with your \"hilarious\"â€¦ https://t.co/E5XIaNi3XY\n",
      "-----------\n",
      "Guys. I'm not sick. I just ran up the stairs and am REALLY OUT OF SHAPE.n#CoronaOutbreak\n",
      "-----------\n",
      "Welp...\n",
      "-----------\n",
      "NOOO BRO STOP ðŸ˜­ðŸ˜­\n",
      "-----------\n",
      "It all sucks but I have to appreciate 2020â€™s sense of Irony.nn#Bond now has PLENTY of time to die.n#FastAndFuriousÂ â€¦ https://t.co/Wtez2Pkovx\n",
      "-----------\n",
      "PUBLIC STATEMENT FROM @TPACtix ON COVID-19 AND THE EXTRA MEASURES IN PLACE FOR PUBLIC ATTENDING SHOWS... https://t.co/bTx5Gr6nqE\n",
      "-----------\n",
      "All these #Coronavirus lockdowns got me feeling like I just got one of these in the mail. https://t.co/fguRDZjAXA\n",
      "-----------\n",
      "The Tribeca Film Festival And â€œMulanâ€ Among The Latest Coronavirus Postponementsnn#Tribeca2020 #Tribecaâ€¦ https://t.co/RMjKZR5ALW\n",
      "-----------\n",
      "Ahahaha....I'm dying. ðŸ¤£ðŸ¦ n#Covid_19 #COVIDãƒ¼19 https://t.co/F2bOVMdyKs\n",
      "-----------\n",
      "45#, then 35 (or 25#), then 25 (or 10#..depending whatâ€™s available). Repeat twice. Fun shoulder circuit ðŸ’ªnotâ€¦ https://t.co/rLDFQ8LlMi\n",
      "-----------\n",
      "my feed is ONLY about #COVID19 and itâ€™s making my head spin\n",
      "-----------\n",
      "Sleazy beyond sleazy.\n",
      "-----------\n",
      "Disneyland shutting down amid #CoronavirusPandemic! Details: https://t.co/jObDQlQMu5\n",
      "-----------\n",
      "On Thursday, Parker County Judge Pat Deen and Parker County Emergency Management Coordinator Sean Hughes participatâ€¦ https://t.co/Vphpz5A3zz\n",
      "-----------\n",
      "A Rational Look At Covid-19 & The Ramifications Of Its Affect On You - https://t.co/KPaboyVqFi\n",
      "-----------\n",
      "@TDanevirke Yes, we are being told to shelter in place (quarntine for 2 weeks).  If my symptoms get worse, canâ€™t brâ€¦ https://t.co/0gabDwLLCG\n",
      "-----------\n",
      "I am fucking pissed.\n",
      "-----------\n",
      "Trucking Not Immune From Worries Over COVID-19 https://t.co/tspdT9uxQ1\n",
      "-----------\n",
      "This is....such a relief\n",
      "-----------\n",
      "The Stock Market Is Suffering To Crash Due To #CoronaVirus #DonaldTrump @ The White House https://t.co/Nf28gGe4ag\n",
      "-----------\n",
      "Disneyland To Shut Down Due to COVID-19 Coronavirus Pandemic https://t.co/x66iwRL2oY\n",
      "-----------\n",
      "Hearing This made my joint smoke smoother... thank you Doctor Drew\n",
      "-----------\n",
      "I'm dying ðŸ˜‚ðŸ˜‚\n",
      "-----------\n",
      "Watching @TheDemocrats blame @realDonaldTrump for the Coronavirus is disgusting. Knock it off!! You are not helpingâ€¦ https://t.co/C1N8LbF60X\n",
      "-----------\n",
      "Broadway Suspends Operations In Response To COVID-19 Outbreak https://t.co/kZvPcn0Cj3 https://t.co/pX8eUlSlkC\n",
      "-----------\n",
      "This is why I kinda just want to sleep for like two weeks straight. I donâ€™t have the energy to be questioning everyâ€¦ https://t.co/ZYkVvRqLNL\n",
      "-----------\n",
      "A real story, from the middle of Iowa:  Person has fever, cough, aches. Person calls Dr. They Facetime. Nurse saysâ€¦ https://t.co/SV6PPTiHkS\n",
      "-----------\n",
      "Side effects of COVID-19 now include depression because of events canceling. Seriously not happy. ðŸ˜­\n",
      "-----------\n",
      "Disneyland Closes Amid #Coronavirus Pandemic https://t.co/6F1QQMYxvd\n",
      "-----------\n",
      "This is amazing\n",
      "-----------\n",
      "Now that the coronavirus has somehow found a way to mess up my life without making me ill....I just feel like sayinâ€¦ https://t.co/Mw2KBOMcba\n",
      "-----------\n",
      "Nurse Slams Question Asking Bernie How He'd Pay for Free COVID-19 Vaccin... https://t.co/CjzICwYQKk via @YouTube Heâ€¦ https://t.co/gnqqssxUpE\n",
      "-----------\n",
      "â€œTHE PRESS SHOULD NOT BE REPORTING MEDICAL STORIES AS IF THEY KNOW HOW TO REPORT IT â€œPERIOD â€¼ï¸\n",
      "-----------\n",
      "Hey I feel so much better now! #CoronavirusPandemic\n",
      "-----------\n",
      "brutal. ðŸ“‰ðŸ§¨nn#coronavirus #CoronaCrash https://t.co/XqZpHstbAN\n",
      "-----------\n",
      "I know #coronavirus is a serious thing, but this tweet made me laugh\n",
      "-----------\n",
      "English | Spanish | Amharic | Arabic | Burmese | Chinese | Dari | Farsi | French | Pashto | Swahili | Tigrinya | Viâ€¦ https://t.co/PvdHxYbGTr\n",
      "-----------\n",
      "INFORMATION IMPORTANTE AU SUJET DE LA PROPAGATION DU CORONAVIRUS COVID-19nAU SEIN DE LA COMMUNAUTÃ‰ nhttps://t.co/ghRcsQerWV\n",
      "-----------\n",
      "ARTETA TESTED POSITIVE WHAT THE FUCK\n",
      "-----------\n",
      "False. False as hell.\n",
      "-----------\n",
      "A Message To Our Customers Regarding COVID-19 - https://t.co/Ep0QnG1nxc\n",
      "-----------\n",
      "@SenateDems @SenateGOP @CNN  @HouseDemocrats  @HouseGOP PLEASE DO WHATEVER YOU CAN TO CURB THE MASS HYSTERIA MOVINGâ€¦ https://t.co/1DVsKRVgYI\n",
      "-----------\n",
      "Here's my #COVID19 story. First, I don't know if I have COVID19 though I do have some symptoms. I became ill abt Feâ€¦ https://t.co/vSKobIUW1B\n",
      "-----------\n",
      "He always sounds sick.\n",
      "-----------\n",
      "Trucking Not Immune From Worries Over COVID-19 https://t.co/4s5147vlnZ\n",
      "-----------\n",
      "People Should 'Brace For The Long Haul' Regarding #Coronavirus, Says Juliette Kayyem https://t.co/Vhq0tuqBGN\n",
      "-----------\n",
      "#BernieSanders Pitched #MedicareForAll As The Way To Fight The #Coronavirus https://t.co/u8OtjSODFG\n",
      "-----------\n",
      "ðŸš¨ Key Vote NO on the Families First #Coronavirus Response Act, H.R. 6201 #ampFW âž¡ï¸ https://t.co/lukusXnAkp https://t.co/u4DtByuXaH\n",
      "-----------\n",
      "COVID-19 really doesnâ€™t worry me at all; however, it really pisses me off. Does that make sense? just rude.\n",
      "-----------\n"
     ]
    }
   ],
   "source": [
    "for i in range(50):\n",
    "    print(subDf.iloc[i]['text'])\n",
    "    print(\"-----------\")"
   ]
  },
  {
   "cell_type": "code",
   "execution_count": null,
   "metadata": {},
   "outputs": [],
   "source": []
  }
 ],
 "metadata": {
  "kernelspec": {
   "display_name": "env",
   "language": "python",
   "name": "env"
  },
  "language_info": {
   "codemirror_mode": {
    "name": "ipython",
    "version": 3
   },
   "file_extension": ".py",
   "mimetype": "text/x-python",
   "name": "python",
   "nbconvert_exporter": "python",
   "pygments_lexer": "ipython3",
   "version": "3.6.4"
  }
 },
 "nbformat": 4,
 "nbformat_minor": 4
}
