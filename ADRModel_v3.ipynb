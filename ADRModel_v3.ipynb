{
 "cells": [
  {
   "cell_type": "code",
   "execution_count": 1,
   "metadata": {},
   "outputs": [],
   "source": [
    "import pandas as pd\n",
    "import numpy as np\n",
    "\n",
    "import os\n",
    "\n",
    "import nltk\n",
    "from nltk.tokenize import TweetTokenizer\n",
    "from nltk.corpus import stopwords \n",
    "\n",
    "from transformers import BertForSequenceClassification, BertTokenizer, BertForMaskedLM\n",
    "\n",
    "from simpletransformers.language_modeling import LanguageModelingModel\n",
    "\n",
    "from sklearn.metrics.pairwise import cosine_similarity, paired_euclidean_distances\n",
    "from sklearn.metrics.pairwise import euclidean_distances\n",
    "from sklearn.preprocessing import normalize, StandardScaler, MinMaxScaler\n",
    "\n",
    "from tqdm import tqdm\n",
    "import torch\n",
    "\n",
    "import networkx as nx\n",
    "\n",
    "import matplotlib.pyplot as plt\n",
    "%matplotlib inline\n",
    "\n",
    "import plotly.graph_objects as go\n",
    "from functools import partial\n",
    "\n",
    "import pickle\n",
    "\n",
    "from collections import deque\n",
    "\n",
    "stop_words = set(stopwords.words('english')) \n",
    "\n",
    "import time\n",
    "\n",
    "%load_ext autoreload\n",
    "\n",
    "%autoreload 2\n",
    "\n",
    "from utils import *\n",
    "from plotting import *\n",
    "\n",
    "import marshal"
   ]
  },
  {
   "cell_type": "code",
   "execution_count": 33,
   "metadata": {},
   "outputs": [],
   "source": [
    "from utils import *\n",
    "import time"
   ]
  },
  {
   "cell_type": "code",
   "execution_count": 3,
   "metadata": {},
   "outputs": [],
   "source": [
    "model = BertForSequenceClassification.from_pretrained('/data1/roshansk/Exp1/checkpoint-141753-epoch-1', output_hidden_states= True)\n",
    "\n",
    "tokenizer = BertTokenizer.from_pretrained('/data1/roshansk/Exp1/checkpoint-141753-epoch-1')"
   ]
  },
  {
   "cell_type": "code",
   "execution_count": 34,
   "metadata": {},
   "outputs": [],
   "source": [
    "class ADRModel(object):\n",
    "    \n",
    "    def __init__(self, df, model, tokenizer, graph, outputFolder, combinedOutputFolder, modelOutputFolder = './', queue=None, useMasterEmb = False, \n",
    "                 masterContrib = 0.5, embeddingType='last4sum',\n",
    "                 numThreshold= 10000, saveEveryDepth = False,\n",
    "                numComp = 10000):\n",
    "        \n",
    "        self.df = df\n",
    "        self.model = model\n",
    "        self.tokenizer = tokenizer\n",
    "        self.graph = graph\n",
    "        self.outputFolder = outputFolder\n",
    "        self.combinedOutputFolder = combinedOutputFolder\n",
    "        self.embeddingType = embeddingType\n",
    "        self.numThreshold = numThreshold\n",
    "        self.saveEveryDepth = saveEveryDepth\n",
    "        self.modelOutputFolder = modelOutputFolder\n",
    "        self.numComp = numComp\n",
    "        \n",
    "        if queue is None:\n",
    "            self.q = deque()\n",
    "        else:\n",
    "            self.q = queue\n",
    "            \n",
    "            \n",
    "        self.masterEmb = None\n",
    "        \n",
    "        self.useMasterEmb = useMasterEmb\n",
    "        self.masterContrib = masterContrib\n",
    "        \n",
    "        self.generateStates()\n",
    "        \n",
    "        \n",
    "    def generateStates(self):\n",
    "        \n",
    "        \n",
    "        for i in tqdm(range(len(self.df))):\n",
    "            \n",
    "            if os.path.exists(os.path.join(self.outputFolder, f\"{i}.msh\")):\n",
    "                continue\n",
    "\n",
    "\n",
    "            tokens = self.tokenizer.encode(self.df.iloc[i]['message'].lower())\n",
    "            decoded = self.tokenizer.decode(tokens).split(\" \")\n",
    "            logits, hidden_states = self.model(torch.Tensor(tokens).unsqueeze(0).long())\n",
    "\n",
    "            hidden_states = torch.stack(hidden_states).squeeze(1).permute(1,0,2)\n",
    "\n",
    "            \n",
    "            if self.embeddingType == 'last4sum':\n",
    "                embedding = torch.sum(hidden_states[:,9:13,:],1)\n",
    "            elif self.embeddingType =='last4concat':\n",
    "                embedding = hidden_states[tokenIndex,9:13,:].reshape(-1)\n",
    "            elif self.embeddingType == 'secondlast':\n",
    "                embedding = hidden_states[tokenIndex,-2,:]\n",
    "            else:\n",
    "                embedding = hidden_states[tokenIndex,-1,:]\n",
    "                    \n",
    "                    \n",
    "            embedding = embedding.detach().cpu().numpy()\n",
    "            \n",
    "            marshal.dump(embedding.tolist(), open(os.path.join(self.outputFolder, f\"{i}.msh\"), 'wb'))\n",
    "        \n",
    "        \n",
    "        \n",
    "        \n",
    "    def getSymptomEmbedding(self, symptom, subset = None):\n",
    "    \n",
    "        embeddingList = []\n",
    "        messageList = []\n",
    "\n",
    "#         if subset is not None:\n",
    "#             self.df = self.df.iloc[subset]\n",
    "\n",
    "#         if type(df) == pd.Series:\n",
    "#             self.df = pd.DataFrame(self.df).T\n",
    "\n",
    "#         symptomToken = self.tokenizer.encode(symptom)[1]\n",
    "        symptomToken = self.tokenizer.convert_tokens_to_ids(symptom)\n",
    "\n",
    "        for i in range(len(self.df)):\n",
    "\n",
    "            if symptomToken in self.tokenizer.encode(self.df.iloc[i]['message'].lower()):\n",
    "\n",
    "                tokens = self.tokenizer.encode(self.df.iloc[i]['message'].lower())\n",
    "                decoded = self.tokenizer.decode(tokens).split(\" \")\n",
    "\n",
    "                hidden_states = np.array(marshal.load( open(os.path.join(self.outputFolder, f\"{i}.msh\"), 'rb') ))\n",
    "\n",
    "                try:\n",
    "                    tokenIndex = tokens.index(symptomToken)\n",
    "                except:\n",
    "                    a= 1\n",
    "                    continue\n",
    "\n",
    " \n",
    "                embedding = hidden_states[tokenIndex,:]\n",
    "\n",
    "                embeddingList.append(embedding)\n",
    "                messageList.append(self.df.iloc[i]['message'].lower())\n",
    "\n",
    "                if len(embeddingList)==30:\n",
    "                    break\n",
    "\n",
    "\n",
    "\n",
    "        return embeddingList, messageList\n",
    "    \n",
    "    \n",
    "    \n",
    "    def getSimilarWords(self, symptom, meanEmb, similarityThreshold = 0.3):\n",
    "        \n",
    "        output = []\n",
    "        \n",
    "        symptomToken = self.tokenizer.encode(symptom)[1]\n",
    "        \n",
    "        fileList = os.listdir(self.combinedOutputFolder)\n",
    "        \n",
    "        examineCount = 0\n",
    "        \n",
    "        for i in range(len(fileList)):\n",
    "            \n",
    "            if examineCount >= self.numThreshold:\n",
    "                break\n",
    "            \n",
    "            \n",
    "            filename = os.path.join(self.combinedOutputFolder, f\"{i}.pkl\")\n",
    "            subDict = pickle.load(open(filename,'rb'))\n",
    "            \n",
    "            IDList = subDict['id']\n",
    "            tokenList = subDict['token']\n",
    "            embList = subDict['emb']\n",
    "\n",
    "            sim = np.round(cosine_similarity(embList, meanEmb.reshape(1,-1)).reshape(-1),4)\n",
    "\n",
    "            index= np.where([sim> similarityThreshold])[1]\n",
    "\n",
    "            tokenList_ = tokenList[index]\n",
    "            IDList_ = IDList[index]\n",
    "            simList = sim[index]\n",
    "\n",
    "            out = [(x,y,z) for x,y,z in zip(tokenList_, simList, IDList_)]\n",
    "            \n",
    "            output += out\n",
    "            \n",
    "            examineCount += self.numComp\n",
    "            \n",
    "        return output\n",
    "        \n",
    "    \n",
    "    \n",
    "    def getOutput(self, out):\n",
    "    \n",
    "        output = out\n",
    "\n",
    "        outMap = {}\n",
    "\n",
    "        for i in range(len(output)):\n",
    "            if output[i][0] in outMap:\n",
    "                outMap[output[i][0]].append(output[i][1])\n",
    "            else:\n",
    "                outMap[output[i][0]] = [output[i][1]]\n",
    "\n",
    "\n",
    "        outMap_ = {}\n",
    "\n",
    "        for i in range(len(output)):\n",
    "            if output[i][0] in outMap_:\n",
    "                outMap_[output[i][0]].append(output[i][2])\n",
    "            else:\n",
    "                outMap_[output[i][0]] = [output[i][2]]\n",
    "\n",
    "\n",
    "        outputDf = []\n",
    "\n",
    "        for key in outMap.keys():\n",
    "            length = len(outMap[key])\n",
    "            mean = np.mean(outMap[key])\n",
    "\n",
    "            outputDf.append([key, length, mean])\n",
    "\n",
    "        outputDf = pd.DataFrame(outputDf)\n",
    "        outputDf.columns = ['word','counts','mean_sim']\n",
    "        outputDf = outputDf.sort_values('mean_sim', ascending=False)\n",
    "\n",
    "        return outputDf, outMap, outMap_\n",
    "    \n",
    "    \n",
    "    \n",
    "    \n",
    "    def exploreNode(self, word, depth, maxDepth = 3, topk = 5):\n",
    "\n",
    "    \n",
    "        self.graph.addNode(word,0,depth)\n",
    "\n",
    "        print(f\"Depth : {depth} Exploring {word}\")\n",
    "\n",
    "        if depth == maxDepth:\n",
    "            print(\"Reached max depth\")\n",
    "            return\n",
    "\n",
    "        keyWord = word\n",
    "\n",
    "        token = self.tokenizer.encode(keyWord)[1]\n",
    "\n",
    "        if self.graph[word].vector is None:\n",
    "\n",
    "            inEdgeList = self.graph[word].edges_in\n",
    "\n",
    "            if len(inEdgeList)==0:\n",
    "                textIDList = None\n",
    "            else:\n",
    "                textIDList = []\n",
    "\n",
    "                for edge in inEdgeList:\n",
    "                    textIDList.append(self.graph.edgeList[edge].textID)\n",
    "\n",
    "                textIDList = list(set(list(itertools.chain.from_iterable(textIDList))))\n",
    "\n",
    "            \n",
    "            embList,msgList = self.getSymptomEmbedding(keyWord, subset = textIDList)\n",
    "\n",
    "            meanEmb = np.array(embList)\n",
    "            meanEmb = np.mean(meanEmb,0)\n",
    "\n",
    "\n",
    "            self.graph[word].vector = meanEmb\n",
    "            \n",
    "            if self.masterEmb is None:\n",
    "                self.masterEmb = meanEmb\n",
    "            \n",
    "            dist = getCosineDist(meanEmb, self.masterEmb)\n",
    "            \n",
    "            self.graph[word].masterDist = dist\n",
    "\n",
    "        else:\n",
    "            meanEmb = self.graph[word].vector\n",
    "            \n",
    "            if self.masterEmb is None:\n",
    "                self.masterEmb = meanEmb\n",
    "                \n",
    "            dist = getCosineDist(meanEmb, self.masterEmb)\n",
    "            \n",
    "            self.graph[word].masterDist = dist\n",
    "\n",
    "\n",
    "        symptom_ =''\n",
    "        embList_ = meanEmb\n",
    "\n",
    "        if self.useMasterEmb:\n",
    "            \n",
    "            finalEmb = self.masterContrib*self.masterEmb + (1 - self.masterContrib)*meanEmb\n",
    "            \n",
    "            out = self.getSimilarWords( symptom_, finalEmb , similarityThreshold = 0.3)\n",
    "        else:\n",
    "            out = self.getSimilarWords( symptom_, meanEmb, similarityThreshold = 0.3)\n",
    "\n",
    "        outputDf, outMap, outMap_ = self.getOutput(out)\n",
    "\n",
    "        outputDf = outputDf[outputDf.word!=keyWord]\n",
    "    #     outputDf = outputDf[~outputDf.word.isin(list(graph.wordMap.keys()))]\n",
    "        outputDf = outputDf.sort_values('mean_sim', ascending=False)\n",
    "        outputDf = outputDf.head(topk)\n",
    "\n",
    "        outputDf = outputDf[outputDf.mean_sim>0.4]\n",
    "\n",
    "        print(outputDf)\n",
    "        print(\"-----------------------\")\n",
    "\n",
    "        for i in range(len(outputDf)):\n",
    "\n",
    "            word = outputDf.iloc[i]['word']\n",
    "            numCount = outputDf.iloc[i]['counts']\n",
    "            weight = outputDf.iloc[i]['mean_sim']\n",
    "            textIDs = outMap_[word]\n",
    "\n",
    "            wordList = set(self.graph.wordMap.keys())\n",
    "\n",
    "            self.graph.addNode(word,0,depth+1)\n",
    "            self.graph[word].textIDList.append(textIDs)\n",
    "            self.graph.addEdge(keyWord, word, numCount, weight, textIDs)\n",
    "\n",
    "            if word in wordList:\n",
    "                continue\n",
    "\n",
    "#             if \"#\" in word:\n",
    "#                 continue\n",
    "\n",
    "\n",
    "            self.q.append((word, depth+1))\n",
    "            \n",
    "            \n",
    "    def trainModel(self, maxDepth = 3, topk = 5):\n",
    "        \n",
    "        currDepth = 0\n",
    "        \n",
    "        while len(self.q)>0:\n",
    "            token, depth = self.q.popleft()\n",
    "            \n",
    "            if depth> currDepth:\n",
    "                \n",
    "                if self.saveEveryDepth:\n",
    "                    filepath = os.path.join( self.modelOutputFolder, f\"depth_{currDepth}.pkl\")\n",
    "                    self.saveModel(filepath)\n",
    "                \n",
    "                self.getMeanEmbedding(depth-1)\n",
    "                currDepth += 1\n",
    "            \n",
    "            self.exploreNode(word = token, depth = depth, maxDepth=maxDepth, topk=topk)\n",
    "        \n",
    "        #Saving final model\n",
    "        filepath = os.path.join(self.modelOutputFolder, \"final.pkl\")\n",
    "        self.saveModel(filepath)\n",
    "\n",
    "\n",
    "            \n",
    "    def getMeanEmbedding(self, depth, topk = 3):\n",
    "        \n",
    "        candidates = self.graph.depthMap[depth]\n",
    "        \n",
    "        vals = [self.graph[x].masterDist for x in candidates]\n",
    "        \n",
    "        vals = [(x,y) for x,y in zip(candidates,vals)]\n",
    "        \n",
    "        vals = sorted(vals, key = lambda x : -x[1])\n",
    "        \n",
    "        meanEmb = self.masterEmb\n",
    "        \n",
    "        for i in range(min(topk, len(vals)) ):\n",
    "            meanEmb += self.graph[ vals[i][0] ].vector\n",
    "            \n",
    "        meanEmb = meanEmb/(topk+1)\n",
    "        \n",
    "        self.masterEmb = meanEmb\n",
    "        \n",
    "        print(\"Master Embedding updated\")\n",
    "        \n",
    "        \n",
    "    \n",
    "    def plotGraph(self):\n",
    "        \n",
    "        edgeList, nodeList, nodeValues, nodeCount, nodeText, nodeSize = getGraphComponents(self.graph)\n",
    "\n",
    "        G=nx.Graph()\n",
    "\n",
    "        G.add_nodes_from(nodeList)\n",
    "        G.add_edges_from(edgeList)\n",
    "\n",
    "        edge_trace, node_trace1, node_trace = getPlotlyComponents(G, nodeList, nodeSize, nodeValues, nodeText)\n",
    "\n",
    "\n",
    "        fig = go.Figure(data=[edge_trace, node_trace1, node_trace],\n",
    "             layout=go.Layout(\n",
    "                title='<br>Network graph made with Python',\n",
    "                titlefont_size=16,\n",
    "                showlegend=False,\n",
    "                hovermode='closest',\n",
    "                margin=dict(b=20,l=5,r=5,t=50),\n",
    "\n",
    "                xaxis=dict(showgrid=False, zeroline=False, showticklabels=False),\n",
    "                yaxis=dict(showgrid=False, zeroline=False, showticklabels=False))\n",
    "                )\n",
    "        \n",
    "        fig.show()\n",
    "        \n",
    "        \n",
    "    def saveModel(self,filename):\n",
    "        \n",
    "        classDict = self.__dict__.copy()\n",
    "        classDict.pop('model')\n",
    "        classDict.pop('tokenizer')\n",
    "        classDict.pop('df')\n",
    "        \n",
    "        pickle.dump( classDict, open( filename, \"wb\" ) )\n",
    "        \n",
    "        \n",
    "    def loadModel(self, filename):\n",
    "        \n",
    "        classDict = pickle.load(open(filename, 'rb'))\n",
    "        \n",
    "        for key in list(classDict.keys()):\n",
    "            self.__dict__[key] = classDict[key]\n",
    "        \n",
    "        \n"
   ]
  },
  {
   "cell_type": "markdown",
   "metadata": {},
   "source": [
    "### Model Training"
   ]
  },
  {
   "cell_type": "markdown",
   "metadata": {},
   "source": [
    "### Covid Testing"
   ]
  },
  {
   "cell_type": "code",
   "execution_count": 6,
   "metadata": {},
   "outputs": [
    {
     "data": {
      "text/plain": [
       "['messages_cm_mar1_apr23_noRT.csv',\n",
       " 'messages_cm_mar1_apr23.csv',\n",
       " 'msgs_orig_latest.csv',\n",
       " 'CovidTrainDf_1.csv',\n",
       " 'covid19_msgs_2020_02.csv',\n",
       " 'messages_cm_mar1_apr23_noRT_PET.csv']"
      ]
     },
     "execution_count": 6,
     "metadata": {},
     "output_type": "execute_result"
    }
   ],
   "source": [
    "covidData = '/data1/roshansk/covid_data/'\n",
    "os.listdir(covidData)"
   ]
  },
  {
   "cell_type": "code",
   "execution_count": 7,
   "metadata": {},
   "outputs": [],
   "source": [
    "df = pd.read_csv(os.path.join(covidData, 'messages_cm_mar1_apr23_noRT.csv'), nrows = 10000)\n",
    "\n",
    "df = df[['message_id','user_id','message']]"
   ]
  },
  {
   "cell_type": "code",
   "execution_count": 11,
   "metadata": {},
   "outputs": [
    {
     "data": {
      "text/html": [
       "<div>\n",
       "<style scoped>\n",
       "    .dataframe tbody tr th:only-of-type {\n",
       "        vertical-align: middle;\n",
       "    }\n",
       "\n",
       "    .dataframe tbody tr th {\n",
       "        vertical-align: top;\n",
       "    }\n",
       "\n",
       "    .dataframe thead th {\n",
       "        text-align: right;\n",
       "    }\n",
       "</style>\n",
       "<table border=\"1\" class=\"dataframe\">\n",
       "  <thead>\n",
       "    <tr style=\"text-align: right;\">\n",
       "      <th></th>\n",
       "      <th>message_id</th>\n",
       "      <th>user_id</th>\n",
       "      <th>message</th>\n",
       "    </tr>\n",
       "  </thead>\n",
       "  <tbody>\n",
       "    <tr>\n",
       "      <th>0</th>\n",
       "      <td>1238220897720336390</td>\n",
       "      <td>790013818999074820</td>\n",
       "      <td>loving how i predicted the #coronavirus in my ...</td>\n",
       "    </tr>\n",
       "    <tr>\n",
       "      <th>1</th>\n",
       "      <td>1238220898307432448</td>\n",
       "      <td>320608440</td>\n",
       "      <td>The markets is hemorrhaging #trump and his pal...</td>\n",
       "    </tr>\n",
       "    <tr>\n",
       "      <th>2</th>\n",
       "      <td>1238220912530522123</td>\n",
       "      <td>305058336</td>\n",
       "      <td>Amar es prevenirn#coronavirus</td>\n",
       "    </tr>\n",
       "    <tr>\n",
       "      <th>3</th>\n",
       "      <td>1238220933384593413</td>\n",
       "      <td>137437056</td>\n",
       "      <td>Chris's glib, histrionic commentary on COVID-1...</td>\n",
       "    </tr>\n",
       "    <tr>\n",
       "      <th>4</th>\n",
       "      <td>1238220933766230017</td>\n",
       "      <td>1012237740</td>\n",
       "      <td>If only COVID-19 started in Madagascar</td>\n",
       "    </tr>\n",
       "  </tbody>\n",
       "</table>\n",
       "</div>"
      ],
      "text/plain": [
       "            message_id             user_id  \\\n",
       "0  1238220897720336390  790013818999074820   \n",
       "1  1238220898307432448           320608440   \n",
       "2  1238220912530522123           305058336   \n",
       "3  1238220933384593413           137437056   \n",
       "4  1238220933766230017          1012237740   \n",
       "\n",
       "                                             message  \n",
       "0  loving how i predicted the #coronavirus in my ...  \n",
       "1  The markets is hemorrhaging #trump and his pal...  \n",
       "2                      Amar es prevenirn#coronavirus  \n",
       "3  Chris's glib, histrionic commentary on COVID-1...  \n",
       "4             If only COVID-19 started in Madagascar  "
      ]
     },
     "execution_count": 11,
     "metadata": {},
     "output_type": "execute_result"
    }
   ],
   "source": [
    "df.head()"
   ]
  },
  {
   "cell_type": "code",
   "execution_count": 12,
   "metadata": {},
   "outputs": [],
   "source": [
    "embList, msgList = getSymptomEmbedding(model,tokenizer, df, 'cough',0)"
   ]
  },
  {
   "cell_type": "code",
   "execution_count": 13,
   "metadata": {
    "scrolled": true
   },
   "outputs": [
    {
     "name": "stdout",
     "output_type": "stream",
     "text": [
      "0 | per the state health department: nnsymptoms of covid-19 can include fever, cough and breathing trouble. most develoâ€¦ https://t.co/u1cnlahiw1\n",
      "------------\n",
      "1 | this coronavirus shit is so crazy that i'm waiting for an announcement that if you cough or sneeze in public, you wâ€¦ https://t.co/dt4l43mows\n",
      "------------\n",
      "2 | a real story, from the middle of iowa:  person has fever, cough, aches. person calls dr. they facetime. nurse saysâ€¦ https://t.co/sv6pptihks\n",
      "------------\n",
      "3 | yâ€™all really made toilet paper a commodity when the symptoms of covid-19 are shortness of breath, fever, and cough according to the cdc ðÿ¥´\n",
      "------------\n",
      "4 | someone go grab mitch mcconnell cough in his face and kick his ass into his senate seat.\n",
      "------------\n",
      "5 | me when anybody sneezes or coughs around me #covid_19 https://t.co/0jdjvgaprn\n",
      "------------\n",
      "6 | this has truly been the worst time to be asian and have a cough ðÿ™ƒnn#coronavirus #covid19\n",
      "------------\n",
      "7 | getting on the @cta and scanning for the seat next to the person least likely to cough. #covd19\n",
      "------------\n",
      "8 | @usdaforeignag managers telling staff if you have a cough you either take leave or come to work no #telework helloâ€¦ https://t.co/5dzfsvw0pw\n",
      "------------\n",
      "9 | how i be every time my coworkers sneeze or cough #coronavirus https://t.co/ti4msc9dwc\n",
      "------------\n",
      "10 | cdc: cough into your elbownnalso cdc: dont shake hands, just elbow-bump ðÿ™„ðÿ™„nn#coronaviruspandemic #covid_19 #coronahysteria\n",
      "------------\n",
      "11 | mfâ€™s gonna start threatening to cough or sneeze on you if you donâ€™t run your money or jewelry. 2020 is wild #covid_19\n",
      "------------\n",
      "12 | covid-19npossible signs/symptomsnfever over 100.4 degrees -- cough--fatiguenshortness of breath ---body aches https://t.co/dgokcf7sa5\n",
      "------------\n",
      "13 | if you think you have been exposed to covid-19 and develop a fever and symptoms, such as cough or difficulty breathâ€¦ https://t.co/3ajbtidepc\n",
      "------------\n",
      "14 | the @cdcgov reminds that when it comes to #covid19, symptoms to look for include fever, cough and shortness of breaâ€¦ https://t.co/2blh0v2bce\n",
      "------------\n",
      "15 | it appears that americanâ€™s cannot grasp the idea that #coronavirus causes a fever & cough not issues with your gastâ€¦ https://t.co/klmd5w1rxs\n",
      "------------\n",
      "16 | me after goggling my cough and finding out i have the #covid_19 #coronavirusupdate https://t.co/qd8fkf0svh\n",
      "------------\n",
      "17 | really need to step back and calm the panic when a @walmart employee threatens to spray down anyone who coughs herâ€¦ https://t.co/wednc73hhi\n",
      "------------\n",
      "18 | if i feel the need to cough in public, i will feel like a zombie who is still like 60% human and is trying to hideâ€¦ https://t.co/02lcbqtorh\n",
      "------------\n",
      "19 | when the person your sitting next to coughs. #coronavirus #quarantine https://t.co/gcj4afbsvv\n",
      "------------\n",
      "20 | i'm standing by this tweet for the next 12 hours. after that i will reevaluate. unless someone on your coughs, thenâ€¦ https://t.co/5ytuchpe16\n",
      "------------\n",
      "21 | media: â€œinstead of shaking hands, do an elbow bump.â€ media: â€œbe sure to cough into your elbows.â€œ so next time you dâ€¦ https://t.co/1im5nbngu3\n",
      "------------\n",
      "22 | if clinics donâ€™t have a plan in place that minimizes risk, they should not see patients with fevers and coughs #coronavirus\n",
      "------------\n",
      "23 | next person cough around me catchin these elbows tf!? #coronavirus https://t.co/9cgrgghqxu\n",
      "------------\n",
      "24 | if youâ€™re one of those fucking dumb asses that cough in the air all out in the open like you donâ€™t give a fuck, youâ€¦ https://t.co/quoefmk3gi\n",
      "------------\n",
      "25 | due to #covid19 concerns, all visitors are being screened for symptoms such as cough, runny nose, fever and difficuâ€¦ https://t.co/qdgy7cmsj6\n",
      "------------\n",
      "26 | the people who yell out â€œcoronaâ€ every time somebody coughs or sneezes have taken the lead on â€œmost annoying peopleâ€¦ https://t.co/o1hsrgbts8\n",
      "------------\n",
      "27 | can't even cough no moreðÿ˜‚ðÿ˜‚ðÿ˜‚ðÿ˜‚ðÿ˜‚ #wifejustleftme #coronaviruspandemic #thebald https://t.co/yfpdwjmixm\n",
      "------------\n",
      "28 | #covid_19 precautions:nn-wash your hands  n-disinfect frequently touched surfaces  n-cover your cough or sneeze n-sâ€¦ https://t.co/bht8vg6q6u\n",
      "------------\n",
      "29 | diffusing #essentialoils in a room may help to open airways, reduce mucous, improve coughs, reduce #sinus issues, aâ€¦ https://t.co/cvnaej9zhm\n",
      "------------\n"
     ]
    }
   ],
   "source": [
    "for i in range(len(msgList)):\n",
    "    print(f\"{i} | {msgList[i]}\")\n",
    "    print(\"------------\")"
   ]
  },
  {
   "cell_type": "code",
   "execution_count": 14,
   "metadata": {},
   "outputs": [],
   "source": [
    "indexList = [0,2,3,12,13,25]"
   ]
  },
  {
   "cell_type": "code",
   "execution_count": 15,
   "metadata": {},
   "outputs": [],
   "source": [
    "meanEmb = np.array(embList)[indexList,:]\n",
    "meanEmb = np.mean(meanEmb,0)"
   ]
  },
  {
   "cell_type": "code",
   "execution_count": 14,
   "metadata": {},
   "outputs": [
    {
     "data": {
      "text/plain": [
       "(768,)"
      ]
     },
     "execution_count": 14,
     "metadata": {},
     "output_type": "execute_result"
    }
   ],
   "source": []
  },
  {
   "cell_type": "markdown",
   "metadata": {},
   "source": [
    "#### Model Training"
   ]
  },
  {
   "cell_type": "code",
   "execution_count": 35,
   "metadata": {},
   "outputs": [
    {
     "name": "stderr",
     "output_type": "stream",
     "text": [
      "100%|██████████| 10000/10000 [00:00<00:00, 150534.19it/s]\n"
     ]
    }
   ],
   "source": [
    "# from ADRModel import *\n",
    "\n",
    "graph = Graph()\n",
    "\n",
    "# graph.addNode('cough',0,0)\n",
    "# graph['cough'].vector = meanEmb\n",
    "\n",
    "outputFolder = '/data1/roshansk/ADRModel_DataStore/'\n",
    "combinedOutputFolder = '/data1/roshansk/ADRModel_DataStore_10000/'\n",
    "modelFolder = './ModelFolder/Covid_Test/'\n",
    "\n",
    "q = deque()\n",
    "q.append(('cough',0))\n",
    "\n",
    "ADR = ADRModel(df, model, tokenizer, graph, outputFolder, combinedOutputFolder, modelOutputFolder = modelFolder, \n",
    "               queue = q,  useMasterEmb=True, masterContrib=0.3, numThreshold=10000)"
   ]
  },
  {
   "cell_type": "code",
   "execution_count": 36,
   "metadata": {},
   "outputs": [
    {
     "name": "stdout",
     "output_type": "stream",
     "text": [
      "Depth : 0 Exploring cough\n",
      "          word  counts  mean_sim\n",
      "1235   coughed       2  0.653850\n",
      "215      fever      13  0.603154\n",
      "952   coughing       6  0.599517\n",
      "-----------------------\n",
      "Master Embedding updated\n",
      "Depth : 1 Exploring coughed\n",
      "          word  counts  mean_sim\n",
      "339      cough      19  0.646658\n",
      "1538  coughing       6  0.642000\n",
      "3268    shouts       1  0.584400\n",
      "-----------------------\n",
      "Depth : 1 Exploring fever\n",
      "             word  counts  mean_sim\n",
      "114         cough      19  0.649416\n",
      "1050       asthma       2  0.578950\n",
      "83    respiratory       7  0.538300\n",
      "-----------------------\n",
      "Depth : 1 Exploring coughing\n",
      "         word  counts  mean_sim\n",
      "4405  coughed       2  0.715050\n",
      "931     cough      19  0.662916\n",
      "6896   shouts       1  0.598000\n",
      "-----------------------\n",
      "Master Embedding updated\n",
      "Depth : 2 Exploring shouts\n",
      "Reached max depth\n",
      "Depth : 2 Exploring asthma\n",
      "Reached max depth\n",
      "Depth : 2 Exploring respiratory\n",
      "Reached max depth\n",
      "108.47917556762695\n"
     ]
    }
   ],
   "source": [
    "startTime = time.time()\n",
    "\n",
    "ADR.trainModel(maxDepth=2, topk=3)\n",
    "\n",
    "print(time.time() - startTime)"
   ]
  },
  {
   "cell_type": "code",
   "execution_count": 37,
   "metadata": {},
   "outputs": [
    {
     "name": "stderr",
     "output_type": "stream",
     "text": [
      "100%|██████████| 10000/10000 [00:00<00:00, 218717.62it/s]\n"
     ]
    }
   ],
   "source": [
    "from ADRModel import *\n",
    "\n",
    "graph = Graph()\n",
    "\n",
    "# graph.addNode('cough',0,0)\n",
    "# graph['cough'].vector = meanEmb\n",
    "\n",
    "outputFolder = '/data1/roshansk/ADRModel_DataStore/'\n",
    "combinedOutputFolder = '/data1/roshansk/ADRModel_DataStore_10000/'\n",
    "modelFolder = './ModelFolder/Covid_Test/'\n",
    "\n",
    "q = deque()\n",
    "q.append(('cough',0))\n",
    "\n",
    "ADR = ADRModel(df, model, tokenizer, graph, outputFolder, modelOutputFolder = modelFolder, \n",
    "               queue = q,  useMasterEmb=True, masterContrib=0.3, numThreshold=10000)"
   ]
  },
  {
   "cell_type": "code",
   "execution_count": null,
   "metadata": {},
   "outputs": [
    {
     "name": "stdout",
     "output_type": "stream",
     "text": [
      "Depth : 0 Exploring cough\n",
      "          word  counts  mean_sim\n",
      "1236   coughed       2  0.653836\n",
      "215      fever      13  0.603151\n",
      "953   coughing       6  0.599497\n",
      "-----------------------\n",
      "Master Embedding updated\n",
      "Depth : 1 Exploring coughed\n",
      "          word  counts  mean_sim\n",
      "340      cough      19  0.646646\n",
      "1541  coughing       6  0.642004\n",
      "3270    shouts       1  0.584375\n",
      "-----------------------\n",
      "Depth : 1 Exploring fever\n",
      "             word  counts  mean_sim\n",
      "114         cough      19  0.649410\n",
      "1051       asthma       2  0.578951\n",
      "83    respiratory       7  0.538298\n",
      "-----------------------\n",
      "Depth : 1 Exploring coughing\n"
     ]
    }
   ],
   "source": [
    "startTime = time.time()\n",
    "\n",
    "ADR.trainModel(maxDepth=2, topk=3)\n",
    "\n",
    "print(time.time() - startTime)"
   ]
  },
  {
   "cell_type": "code",
   "execution_count": null,
   "metadata": {},
   "outputs": [],
   "source": []
  },
  {
   "cell_type": "code",
   "execution_count": null,
   "metadata": {},
   "outputs": [],
   "source": []
  },
  {
   "cell_type": "code",
   "execution_count": null,
   "metadata": {},
   "outputs": [],
   "source": []
  },
  {
   "cell_type": "code",
   "execution_count": null,
   "metadata": {},
   "outputs": [],
   "source": []
  },
  {
   "cell_type": "code",
   "execution_count": null,
   "metadata": {},
   "outputs": [],
   "source": []
  },
  {
   "cell_type": "code",
   "execution_count": 50,
   "metadata": {},
   "outputs": [
    {
     "name": "stderr",
     "output_type": "stream",
     "text": [
      "100%|██████████| 1000/1000 [00:00<00:00, 100172.05it/s]\n"
     ]
    }
   ],
   "source": [
    "ADR = ADRModel(df.iloc[0:1000], model, tokenizer, graph, outputFolder, modelOutputFolder = modelFolder, \n",
    "               queue = q,  useMasterEmb=True, masterContrib=0.3, numThreshold=1000)"
   ]
  },
  {
   "cell_type": "code",
   "execution_count": 51,
   "metadata": {},
   "outputs": [
    {
     "ename": "AttributeError",
     "evalue": "'dict' object has no attribute 'key'",
     "output_type": "error",
     "traceback": [
      "\u001b[0;31m---------------------------------------------------------------------------\u001b[0m",
      "\u001b[0;31mAttributeError\u001b[0m                            Traceback (most recent call last)",
      "\u001b[0;32m<ipython-input-51-62c724d1d5f0>\u001b[0m in \u001b[0;36m<module>\u001b[0;34m\u001b[0m\n\u001b[0;32m----> 1\u001b[0;31m \u001b[0mADR\u001b[0m\u001b[0;34m.\u001b[0m\u001b[0mloadModel\u001b[0m\u001b[0;34m(\u001b[0m\u001b[0;34m'./ModelFolder/final.pkl'\u001b[0m\u001b[0;34m)\u001b[0m\u001b[0;34m\u001b[0m\u001b[0m\n\u001b[0m",
      "\u001b[0;32m~/Covid_Bert/ADRModel.py\u001b[0m in \u001b[0;36mloadModel\u001b[0;34m(self, filename)\u001b[0m\n\u001b[1;32m    426\u001b[0m \u001b[0;34m\u001b[0m\u001b[0m\n\u001b[1;32m    427\u001b[0m         \u001b[0;32mfor\u001b[0m \u001b[0mkey\u001b[0m \u001b[0;32min\u001b[0m \u001b[0mlist\u001b[0m\u001b[0;34m(\u001b[0m\u001b[0mclassDict\u001b[0m\u001b[0;34m.\u001b[0m\u001b[0mkeys\u001b[0m\u001b[0;34m(\u001b[0m\u001b[0;34m)\u001b[0m\u001b[0;34m)\u001b[0m\u001b[0;34m:\u001b[0m\u001b[0;34m\u001b[0m\u001b[0m\n\u001b[0;32m--> 428\u001b[0;31m             \u001b[0mself\u001b[0m\u001b[0;34m.\u001b[0m\u001b[0m__dict__\u001b[0m\u001b[0;34m[\u001b[0m\u001b[0mkey\u001b[0m\u001b[0;34m]\u001b[0m \u001b[0;34m=\u001b[0m \u001b[0mclassDict\u001b[0m\u001b[0;34m.\u001b[0m\u001b[0mkey\u001b[0m\u001b[0;34m\u001b[0m\u001b[0m\n\u001b[0m\u001b[1;32m    429\u001b[0m \u001b[0;34m\u001b[0m\u001b[0m\n\u001b[1;32m    430\u001b[0m \u001b[0;34m\u001b[0m\u001b[0m\n",
      "\u001b[0;31mAttributeError\u001b[0m: 'dict' object has no attribute 'key'"
     ]
    }
   ],
   "source": [
    "ADR.loadModel('./ModelFolder/final.pkl')"
   ]
  },
  {
   "cell_type": "code",
   "execution_count": null,
   "metadata": {},
   "outputs": [],
   "source": [
    "pickle."
   ]
  },
  {
   "cell_type": "code",
   "execution_count": null,
   "metadata": {},
   "outputs": [],
   "source": [
    "ADR"
   ]
  },
  {
   "cell_type": "code",
   "execution_count": 77,
   "metadata": {},
   "outputs": [
    {
     "data": {
      "application/vnd.plotly.v1+json": {
       "config": {
        "plotlyServerURL": "https://plot.ly"
       },
       "data": [
        {
         "hoverinfo": "none",
         "line": {
          "color": "#888",
          "width": 0.5
         },
         "mode": "lines",
         "type": "scatter",
         "x": [
          150.57,
          220.12,
          null,
          150.57,
          150.57,
          null,
          150.57,
          212.92,
          null,
          150.57,
          48.746,
          null,
          150.57,
          150.57,
          null,
          150.57,
          187.84,
          null,
          150.57,
          150.57,
          null,
          150.57,
          252.39,
          null,
          220.12,
          187.84,
          null,
          220.12,
          150.57,
          null,
          220.12,
          150.57,
          null,
          220.12,
          99.657,
          null,
          220.12,
          212.92,
          null,
          220.12,
          48.746,
          null,
          220.12,
          81.022,
          null,
          220.12,
          81.022,
          null,
          220.12,
          275.28,
          null,
          220.12,
          150.57,
          null,
          220.12,
          252.39,
          null,
          220.12,
          113.3,
          null,
          150.57,
          150.57,
          null,
          150.57,
          81.022,
          null,
          150.57,
          81.022,
          null,
          150.57,
          212.92,
          null,
          150.57,
          99.657,
          null,
          212.92,
          275.28,
          null,
          212.92,
          150.57,
          null,
          48.746,
          150.57,
          null,
          48.746,
          252.39,
          null,
          48.746,
          187.84,
          null,
          150.57,
          187.84,
          null,
          150.57,
          113.3,
          null,
          187.84,
          81.022,
          null,
          187.84,
          206.47,
          null,
          187.84,
          81.022,
          null,
          187.84,
          275.28,
          null,
          187.84,
          252.39,
          null,
          187.84,
          113.3,
          null,
          99.657,
          48.746,
          null,
          99.657,
          81.022,
          null,
          99.657,
          81.022,
          null,
          81.022,
          81.022,
          null,
          81.022,
          48.746,
          null,
          81.022,
          275.28,
          null,
          81.022,
          113.3,
          null,
          275.28,
          359.21,
          null,
          275.28,
          303.3,
          null,
          150.57,
          94.664,
          null,
          150.57,
          206.47,
          null,
          252.39,
          303.3,
          null,
          113.3,
          94.664,
          null
         ],
         "y": [
          154.64,
          208.01,
          null,
          154.64,
          226.64,
          null,
          154.64,
          262.64,
          null,
          154.64,
          124.82,
          null,
          154.64,
          298.64,
          null,
          154.64,
          365.73,
          null,
          154.64,
          82.64,
          null,
          154.64,
          124.82,
          null,
          208.01,
          365.73,
          null,
          208.01,
          226.64,
          null,
          208.01,
          298.64,
          null,
          208.01,
          277.55,
          null,
          208.01,
          262.64,
          null,
          208.01,
          124.82,
          null,
          208.01,
          245.27,
          null,
          208.01,
          208.01,
          null,
          208.01,
          298.64,
          null,
          208.01,
          82.64,
          null,
          208.01,
          124.82,
          null,
          208.01,
          365.73,
          null,
          226.64,
          298.64,
          null,
          226.64,
          245.27,
          null,
          226.64,
          208.01,
          null,
          226.64,
          262.64,
          null,
          226.64,
          277.55,
          null,
          262.64,
          298.64,
          null,
          262.64,
          298.64,
          null,
          124.82,
          82.64,
          null,
          124.82,
          124.82,
          null,
          124.82,
          365.73,
          null,
          298.64,
          365.73,
          null,
          298.64,
          365.73,
          null,
          365.73,
          245.27,
          null,
          365.73,
          435.28,
          null,
          365.73,
          208.01,
          null,
          365.73,
          298.64,
          null,
          365.73,
          124.82,
          null,
          365.73,
          365.73,
          null,
          277.55,
          328.46,
          null,
          277.55,
          245.27,
          null,
          277.55,
          208.01,
          null,
          245.27,
          208.01,
          null,
          245.27,
          328.46,
          null,
          245.27,
          298.64,
          null,
          245.27,
          365.73,
          null,
          298.64,
          282.54,
          null,
          298.64,
          379.38,
          null,
          82.64,
          18,
          null,
          82.64,
          18,
          null,
          124.82,
          73.905,
          null,
          365.73,
          435.28,
          null
         ]
        },
        {
         "marker": {
          "color": [],
          "colorscale": [
           [
            0,
            "rgb(255,255,217)"
           ],
           [
            0.125,
            "rgb(237,248,177)"
           ],
           [
            0.25,
            "rgb(199,233,180)"
           ],
           [
            0.375,
            "rgb(127,205,187)"
           ],
           [
            0.5,
            "rgb(65,182,196)"
           ],
           [
            0.625,
            "rgb(29,145,192)"
           ],
           [
            0.75,
            "rgb(34,94,168)"
           ],
           [
            0.875,
            "rgb(37,52,148)"
           ],
           [
            1,
            "rgb(8,29,88)"
           ]
          ],
          "line": {
           "width": 0
          },
          "reversescale": true,
          "showscale": false,
          "size": [
           15,
           5.072639225181598,
           9.776029055690074,
           5,
           5.732445520581114,
           5.127118644067797,
           5.375302663438257,
           5.121065375302663,
           5.030266343825666,
           5.211864406779661,
           5.0423728813559325,
           5.151331719128329,
           5.308716707021792,
           5.24818401937046,
           5,
           5.018159806295399,
           5.030266343825666,
           5.006053268765133,
           5.242130750605327,
           5,
           5.0242130750605325,
           5.006053268765133
          ]
         },
         "mode": "markers+text",
         "text": [
          "cough",
          "vomiting",
          "fever",
          "##emia",
          "throat",
          "##itis",
          "congestion",
          "fatigue",
          "##raine",
          "headache",
          "##tension",
          "lungs",
          "nose",
          "##gies",
          "discomfort",
          "exhaustion",
          "##tis",
          "arthritis",
          "lung",
          "##cous",
          "noses",
          "nausea"
         ],
         "textposition": "bottom center",
         "type": "scatter",
         "x": [
          150.57,
          220.12,
          150.57,
          212.92,
          48.746,
          150.57,
          187.84,
          99.657,
          81.022,
          81.022,
          275.28,
          150.57,
          252.39,
          113.3,
          206.47,
          48.746,
          359.21,
          303.3,
          94.664,
          206.47,
          303.3,
          94.664
         ],
         "y": [
          154.64,
          208.01,
          226.64,
          262.64,
          124.82,
          298.64,
          365.73,
          277.55,
          245.27,
          208.01,
          298.64,
          82.64,
          124.82,
          365.73,
          435.28,
          328.46,
          282.54,
          379.38,
          18,
          18,
          73.905,
          435.28
         ]
        },
        {
         "hoverinfo": "text",
         "marker": {
          "color": [
           0.596,
           0.67,
           0.584,
           0.599,
           0.626,
           0.566,
           0.594,
           0.6,
           0.628,
           0.616,
           0.514,
           0.587,
           0.569,
           0.543,
           0.625,
           0.661,
           0.633,
           0.61,
           0.601,
           0.575,
           0.616,
           0.597
          ],
          "colorbar": {
           "thickness": 15,
           "title": {
            "side": "right",
            "text": "Node Connections"
           },
           "xanchor": "left"
          },
          "colorscale": [
           [
            0,
            "rgb(255,245,240)"
           ],
           [
            0.125,
            "rgb(254,224,210)"
           ],
           [
            0.25,
            "rgb(252,187,161)"
           ],
           [
            0.375,
            "rgb(252,146,114)"
           ],
           [
            0.5,
            "rgb(251,106,74)"
           ],
           [
            0.625,
            "rgb(239,59,44)"
           ],
           [
            0.75,
            "rgb(203,24,29)"
           ],
           [
            0.875,
            "rgb(165,15,21)"
           ],
           [
            1,
            "rgb(103,0,13)"
           ]
          ],
          "line": {
           "width": 1
          },
          "reversescale": false,
          "showscale": true,
          "size": [
           15,
           5.072639225181598,
           9.776029055690074,
           5,
           5.732445520581114,
           5.127118644067797,
           5.375302663438257,
           5.121065375302663,
           5.030266343825666,
           5.211864406779661,
           5.0423728813559325,
           5.151331719128329,
           5.308716707021792,
           5.24818401937046,
           5,
           5.018159806295399,
           5.030266343825666,
           5.006053268765133,
           5.242130750605327,
           5,
           5.0242130750605325,
           5.006053268765133
          ]
         },
         "mode": "markers",
         "text": [
          "cough <br>Count : 1653 <br>Score : 0.596",
          "vomiting <br>Count : 13 <br>Score : 0.67",
          "fever <br>Count : 790 <br>Score : 0.584",
          "##emia <br>Count : 1 <br>Score : 0.599",
          "throat <br>Count : 122 <br>Score : 0.626",
          "##itis <br>Count : 22 <br>Score : 0.566",
          "congestion <br>Count : 63 <br>Score : 0.594",
          "fatigue <br>Count : 21 <br>Score : 0.6",
          "##raine <br>Count : 6 <br>Score : 0.628",
          "headache <br>Count : 36 <br>Score : 0.616",
          "##tension <br>Count : 8 <br>Score : 0.514",
          "lungs <br>Count : 26 <br>Score : 0.587",
          "nose <br>Count : 52 <br>Score : 0.569",
          "##gies <br>Count : 42 <br>Score : 0.543",
          "discomfort <br>Count : 1 <br>Score : 0.625",
          "exhaustion <br>Count : 4 <br>Score : 0.661",
          "##tis <br>Count : 6 <br>Score : 0.633",
          "arthritis <br>Count : 2 <br>Score : 0.61",
          "lung <br>Count : 41 <br>Score : 0.601",
          "##cous <br>Count : 1 <br>Score : 0.575",
          "noses <br>Count : 5 <br>Score : 0.616",
          "nausea <br>Count : 2 <br>Score : 0.597"
         ],
         "type": "scatter",
         "x": [
          150.57,
          220.12,
          150.57,
          212.92,
          48.746,
          150.57,
          187.84,
          99.657,
          81.022,
          81.022,
          275.28,
          150.57,
          252.39,
          113.3,
          206.47,
          48.746,
          359.21,
          303.3,
          94.664,
          206.47,
          303.3,
          94.664
         ],
         "y": [
          154.64,
          208.01,
          226.64,
          262.64,
          124.82,
          298.64,
          365.73,
          277.55,
          245.27,
          208.01,
          298.64,
          82.64,
          124.82,
          365.73,
          435.28,
          328.46,
          282.54,
          379.38,
          18,
          18,
          73.905,
          435.28
         ]
        }
       ],
       "layout": {
        "hovermode": "closest",
        "margin": {
         "b": 20,
         "l": 5,
         "r": 5,
         "t": 50
        },
        "showlegend": false,
        "template": {
         "data": {
          "bar": [
           {
            "error_x": {
             "color": "#2a3f5f"
            },
            "error_y": {
             "color": "#2a3f5f"
            },
            "marker": {
             "line": {
              "color": "#E5ECF6",
              "width": 0.5
             }
            },
            "type": "bar"
           }
          ],
          "barpolar": [
           {
            "marker": {
             "line": {
              "color": "#E5ECF6",
              "width": 0.5
             }
            },
            "type": "barpolar"
           }
          ],
          "carpet": [
           {
            "aaxis": {
             "endlinecolor": "#2a3f5f",
             "gridcolor": "white",
             "linecolor": "white",
             "minorgridcolor": "white",
             "startlinecolor": "#2a3f5f"
            },
            "baxis": {
             "endlinecolor": "#2a3f5f",
             "gridcolor": "white",
             "linecolor": "white",
             "minorgridcolor": "white",
             "startlinecolor": "#2a3f5f"
            },
            "type": "carpet"
           }
          ],
          "choropleth": [
           {
            "colorbar": {
             "outlinewidth": 0,
             "ticks": ""
            },
            "type": "choropleth"
           }
          ],
          "contour": [
           {
            "colorbar": {
             "outlinewidth": 0,
             "ticks": ""
            },
            "colorscale": [
             [
              0,
              "#0d0887"
             ],
             [
              0.1111111111111111,
              "#46039f"
             ],
             [
              0.2222222222222222,
              "#7201a8"
             ],
             [
              0.3333333333333333,
              "#9c179e"
             ],
             [
              0.4444444444444444,
              "#bd3786"
             ],
             [
              0.5555555555555556,
              "#d8576b"
             ],
             [
              0.6666666666666666,
              "#ed7953"
             ],
             [
              0.7777777777777778,
              "#fb9f3a"
             ],
             [
              0.8888888888888888,
              "#fdca26"
             ],
             [
              1,
              "#f0f921"
             ]
            ],
            "type": "contour"
           }
          ],
          "contourcarpet": [
           {
            "colorbar": {
             "outlinewidth": 0,
             "ticks": ""
            },
            "type": "contourcarpet"
           }
          ],
          "heatmap": [
           {
            "colorbar": {
             "outlinewidth": 0,
             "ticks": ""
            },
            "colorscale": [
             [
              0,
              "#0d0887"
             ],
             [
              0.1111111111111111,
              "#46039f"
             ],
             [
              0.2222222222222222,
              "#7201a8"
             ],
             [
              0.3333333333333333,
              "#9c179e"
             ],
             [
              0.4444444444444444,
              "#bd3786"
             ],
             [
              0.5555555555555556,
              "#d8576b"
             ],
             [
              0.6666666666666666,
              "#ed7953"
             ],
             [
              0.7777777777777778,
              "#fb9f3a"
             ],
             [
              0.8888888888888888,
              "#fdca26"
             ],
             [
              1,
              "#f0f921"
             ]
            ],
            "type": "heatmap"
           }
          ],
          "heatmapgl": [
           {
            "colorbar": {
             "outlinewidth": 0,
             "ticks": ""
            },
            "colorscale": [
             [
              0,
              "#0d0887"
             ],
             [
              0.1111111111111111,
              "#46039f"
             ],
             [
              0.2222222222222222,
              "#7201a8"
             ],
             [
              0.3333333333333333,
              "#9c179e"
             ],
             [
              0.4444444444444444,
              "#bd3786"
             ],
             [
              0.5555555555555556,
              "#d8576b"
             ],
             [
              0.6666666666666666,
              "#ed7953"
             ],
             [
              0.7777777777777778,
              "#fb9f3a"
             ],
             [
              0.8888888888888888,
              "#fdca26"
             ],
             [
              1,
              "#f0f921"
             ]
            ],
            "type": "heatmapgl"
           }
          ],
          "histogram": [
           {
            "marker": {
             "colorbar": {
              "outlinewidth": 0,
              "ticks": ""
             }
            },
            "type": "histogram"
           }
          ],
          "histogram2d": [
           {
            "colorbar": {
             "outlinewidth": 0,
             "ticks": ""
            },
            "colorscale": [
             [
              0,
              "#0d0887"
             ],
             [
              0.1111111111111111,
              "#46039f"
             ],
             [
              0.2222222222222222,
              "#7201a8"
             ],
             [
              0.3333333333333333,
              "#9c179e"
             ],
             [
              0.4444444444444444,
              "#bd3786"
             ],
             [
              0.5555555555555556,
              "#d8576b"
             ],
             [
              0.6666666666666666,
              "#ed7953"
             ],
             [
              0.7777777777777778,
              "#fb9f3a"
             ],
             [
              0.8888888888888888,
              "#fdca26"
             ],
             [
              1,
              "#f0f921"
             ]
            ],
            "type": "histogram2d"
           }
          ],
          "histogram2dcontour": [
           {
            "colorbar": {
             "outlinewidth": 0,
             "ticks": ""
            },
            "colorscale": [
             [
              0,
              "#0d0887"
             ],
             [
              0.1111111111111111,
              "#46039f"
             ],
             [
              0.2222222222222222,
              "#7201a8"
             ],
             [
              0.3333333333333333,
              "#9c179e"
             ],
             [
              0.4444444444444444,
              "#bd3786"
             ],
             [
              0.5555555555555556,
              "#d8576b"
             ],
             [
              0.6666666666666666,
              "#ed7953"
             ],
             [
              0.7777777777777778,
              "#fb9f3a"
             ],
             [
              0.8888888888888888,
              "#fdca26"
             ],
             [
              1,
              "#f0f921"
             ]
            ],
            "type": "histogram2dcontour"
           }
          ],
          "mesh3d": [
           {
            "colorbar": {
             "outlinewidth": 0,
             "ticks": ""
            },
            "type": "mesh3d"
           }
          ],
          "parcoords": [
           {
            "line": {
             "colorbar": {
              "outlinewidth": 0,
              "ticks": ""
             }
            },
            "type": "parcoords"
           }
          ],
          "pie": [
           {
            "automargin": true,
            "type": "pie"
           }
          ],
          "scatter": [
           {
            "marker": {
             "colorbar": {
              "outlinewidth": 0,
              "ticks": ""
             }
            },
            "type": "scatter"
           }
          ],
          "scatter3d": [
           {
            "line": {
             "colorbar": {
              "outlinewidth": 0,
              "ticks": ""
             }
            },
            "marker": {
             "colorbar": {
              "outlinewidth": 0,
              "ticks": ""
             }
            },
            "type": "scatter3d"
           }
          ],
          "scattercarpet": [
           {
            "marker": {
             "colorbar": {
              "outlinewidth": 0,
              "ticks": ""
             }
            },
            "type": "scattercarpet"
           }
          ],
          "scattergeo": [
           {
            "marker": {
             "colorbar": {
              "outlinewidth": 0,
              "ticks": ""
             }
            },
            "type": "scattergeo"
           }
          ],
          "scattergl": [
           {
            "marker": {
             "colorbar": {
              "outlinewidth": 0,
              "ticks": ""
             }
            },
            "type": "scattergl"
           }
          ],
          "scattermapbox": [
           {
            "marker": {
             "colorbar": {
              "outlinewidth": 0,
              "ticks": ""
             }
            },
            "type": "scattermapbox"
           }
          ],
          "scatterpolar": [
           {
            "marker": {
             "colorbar": {
              "outlinewidth": 0,
              "ticks": ""
             }
            },
            "type": "scatterpolar"
           }
          ],
          "scatterpolargl": [
           {
            "marker": {
             "colorbar": {
              "outlinewidth": 0,
              "ticks": ""
             }
            },
            "type": "scatterpolargl"
           }
          ],
          "scatterternary": [
           {
            "marker": {
             "colorbar": {
              "outlinewidth": 0,
              "ticks": ""
             }
            },
            "type": "scatterternary"
           }
          ],
          "surface": [
           {
            "colorbar": {
             "outlinewidth": 0,
             "ticks": ""
            },
            "colorscale": [
             [
              0,
              "#0d0887"
             ],
             [
              0.1111111111111111,
              "#46039f"
             ],
             [
              0.2222222222222222,
              "#7201a8"
             ],
             [
              0.3333333333333333,
              "#9c179e"
             ],
             [
              0.4444444444444444,
              "#bd3786"
             ],
             [
              0.5555555555555556,
              "#d8576b"
             ],
             [
              0.6666666666666666,
              "#ed7953"
             ],
             [
              0.7777777777777778,
              "#fb9f3a"
             ],
             [
              0.8888888888888888,
              "#fdca26"
             ],
             [
              1,
              "#f0f921"
             ]
            ],
            "type": "surface"
           }
          ],
          "table": [
           {
            "cells": {
             "fill": {
              "color": "#EBF0F8"
             },
             "line": {
              "color": "white"
             }
            },
            "header": {
             "fill": {
              "color": "#C8D4E3"
             },
             "line": {
              "color": "white"
             }
            },
            "type": "table"
           }
          ]
         },
         "layout": {
          "annotationdefaults": {
           "arrowcolor": "#2a3f5f",
           "arrowhead": 0,
           "arrowwidth": 1
          },
          "coloraxis": {
           "colorbar": {
            "outlinewidth": 0,
            "ticks": ""
           }
          },
          "colorscale": {
           "diverging": [
            [
             0,
             "#8e0152"
            ],
            [
             0.1,
             "#c51b7d"
            ],
            [
             0.2,
             "#de77ae"
            ],
            [
             0.3,
             "#f1b6da"
            ],
            [
             0.4,
             "#fde0ef"
            ],
            [
             0.5,
             "#f7f7f7"
            ],
            [
             0.6,
             "#e6f5d0"
            ],
            [
             0.7,
             "#b8e186"
            ],
            [
             0.8,
             "#7fbc41"
            ],
            [
             0.9,
             "#4d9221"
            ],
            [
             1,
             "#276419"
            ]
           ],
           "sequential": [
            [
             0,
             "#0d0887"
            ],
            [
             0.1111111111111111,
             "#46039f"
            ],
            [
             0.2222222222222222,
             "#7201a8"
            ],
            [
             0.3333333333333333,
             "#9c179e"
            ],
            [
             0.4444444444444444,
             "#bd3786"
            ],
            [
             0.5555555555555556,
             "#d8576b"
            ],
            [
             0.6666666666666666,
             "#ed7953"
            ],
            [
             0.7777777777777778,
             "#fb9f3a"
            ],
            [
             0.8888888888888888,
             "#fdca26"
            ],
            [
             1,
             "#f0f921"
            ]
           ],
           "sequentialminus": [
            [
             0,
             "#0d0887"
            ],
            [
             0.1111111111111111,
             "#46039f"
            ],
            [
             0.2222222222222222,
             "#7201a8"
            ],
            [
             0.3333333333333333,
             "#9c179e"
            ],
            [
             0.4444444444444444,
             "#bd3786"
            ],
            [
             0.5555555555555556,
             "#d8576b"
            ],
            [
             0.6666666666666666,
             "#ed7953"
            ],
            [
             0.7777777777777778,
             "#fb9f3a"
            ],
            [
             0.8888888888888888,
             "#fdca26"
            ],
            [
             1,
             "#f0f921"
            ]
           ]
          },
          "colorway": [
           "#636efa",
           "#EF553B",
           "#00cc96",
           "#ab63fa",
           "#FFA15A",
           "#19d3f3",
           "#FF6692",
           "#B6E880",
           "#FF97FF",
           "#FECB52"
          ],
          "font": {
           "color": "#2a3f5f"
          },
          "geo": {
           "bgcolor": "white",
           "lakecolor": "white",
           "landcolor": "#E5ECF6",
           "showlakes": true,
           "showland": true,
           "subunitcolor": "white"
          },
          "hoverlabel": {
           "align": "left"
          },
          "hovermode": "closest",
          "mapbox": {
           "style": "light"
          },
          "paper_bgcolor": "white",
          "plot_bgcolor": "#E5ECF6",
          "polar": {
           "angularaxis": {
            "gridcolor": "white",
            "linecolor": "white",
            "ticks": ""
           },
           "bgcolor": "#E5ECF6",
           "radialaxis": {
            "gridcolor": "white",
            "linecolor": "white",
            "ticks": ""
           }
          },
          "scene": {
           "xaxis": {
            "backgroundcolor": "#E5ECF6",
            "gridcolor": "white",
            "gridwidth": 2,
            "linecolor": "white",
            "showbackground": true,
            "ticks": "",
            "zerolinecolor": "white"
           },
           "yaxis": {
            "backgroundcolor": "#E5ECF6",
            "gridcolor": "white",
            "gridwidth": 2,
            "linecolor": "white",
            "showbackground": true,
            "ticks": "",
            "zerolinecolor": "white"
           },
           "zaxis": {
            "backgroundcolor": "#E5ECF6",
            "gridcolor": "white",
            "gridwidth": 2,
            "linecolor": "white",
            "showbackground": true,
            "ticks": "",
            "zerolinecolor": "white"
           }
          },
          "shapedefaults": {
           "line": {
            "color": "#2a3f5f"
           }
          },
          "ternary": {
           "aaxis": {
            "gridcolor": "white",
            "linecolor": "white",
            "ticks": ""
           },
           "baxis": {
            "gridcolor": "white",
            "linecolor": "white",
            "ticks": ""
           },
           "bgcolor": "#E5ECF6",
           "caxis": {
            "gridcolor": "white",
            "linecolor": "white",
            "ticks": ""
           }
          },
          "title": {
           "x": 0.05
          },
          "xaxis": {
           "automargin": true,
           "gridcolor": "white",
           "linecolor": "white",
           "ticks": "",
           "title": {
            "standoff": 15
           },
           "zerolinecolor": "white",
           "zerolinewidth": 2
          },
          "yaxis": {
           "automargin": true,
           "gridcolor": "white",
           "linecolor": "white",
           "ticks": "",
           "title": {
            "standoff": 15
           },
           "zerolinecolor": "white",
           "zerolinewidth": 2
          }
         }
        },
        "title": {
         "font": {
          "size": 16
         },
         "text": "<br>Network graph made with Python"
        },
        "xaxis": {
         "showgrid": false,
         "showticklabels": false,
         "zeroline": false
        },
        "yaxis": {
         "showgrid": false,
         "showticklabels": false,
         "zeroline": false
        }
       }
      },
      "text/html": [
       "<div>\n",
       "        \n",
       "        \n",
       "            <div id=\"5758af88-fb61-4539-886d-0faf4b6343aa\" class=\"plotly-graph-div\" style=\"height:525px; width:100%;\"></div>\n",
       "            <script type=\"text/javascript\">\n",
       "                require([\"plotly\"], function(Plotly) {\n",
       "                    window.PLOTLYENV=window.PLOTLYENV || {};\n",
       "                    \n",
       "                if (document.getElementById(\"5758af88-fb61-4539-886d-0faf4b6343aa\")) {\n",
       "                    Plotly.newPlot(\n",
       "                        '5758af88-fb61-4539-886d-0faf4b6343aa',\n",
       "                        [{\"hoverinfo\": \"none\", \"line\": {\"color\": \"#888\", \"width\": 0.5}, \"mode\": \"lines\", \"type\": \"scatter\", \"x\": [150.57, 220.12, null, 150.57, 150.57, null, 150.57, 212.92, null, 150.57, 48.746, null, 150.57, 150.57, null, 150.57, 187.84, null, 150.57, 150.57, null, 150.57, 252.39, null, 220.12, 187.84, null, 220.12, 150.57, null, 220.12, 150.57, null, 220.12, 99.657, null, 220.12, 212.92, null, 220.12, 48.746, null, 220.12, 81.022, null, 220.12, 81.022, null, 220.12, 275.28, null, 220.12, 150.57, null, 220.12, 252.39, null, 220.12, 113.3, null, 150.57, 150.57, null, 150.57, 81.022, null, 150.57, 81.022, null, 150.57, 212.92, null, 150.57, 99.657, null, 212.92, 275.28, null, 212.92, 150.57, null, 48.746, 150.57, null, 48.746, 252.39, null, 48.746, 187.84, null, 150.57, 187.84, null, 150.57, 113.3, null, 187.84, 81.022, null, 187.84, 206.47, null, 187.84, 81.022, null, 187.84, 275.28, null, 187.84, 252.39, null, 187.84, 113.3, null, 99.657, 48.746, null, 99.657, 81.022, null, 99.657, 81.022, null, 81.022, 81.022, null, 81.022, 48.746, null, 81.022, 275.28, null, 81.022, 113.3, null, 275.28, 359.21, null, 275.28, 303.3, null, 150.57, 94.664, null, 150.57, 206.47, null, 252.39, 303.3, null, 113.3, 94.664, null], \"y\": [154.64, 208.01, null, 154.64, 226.64, null, 154.64, 262.64, null, 154.64, 124.82, null, 154.64, 298.64, null, 154.64, 365.73, null, 154.64, 82.64, null, 154.64, 124.82, null, 208.01, 365.73, null, 208.01, 226.64, null, 208.01, 298.64, null, 208.01, 277.55, null, 208.01, 262.64, null, 208.01, 124.82, null, 208.01, 245.27, null, 208.01, 208.01, null, 208.01, 298.64, null, 208.01, 82.64, null, 208.01, 124.82, null, 208.01, 365.73, null, 226.64, 298.64, null, 226.64, 245.27, null, 226.64, 208.01, null, 226.64, 262.64, null, 226.64, 277.55, null, 262.64, 298.64, null, 262.64, 298.64, null, 124.82, 82.64, null, 124.82, 124.82, null, 124.82, 365.73, null, 298.64, 365.73, null, 298.64, 365.73, null, 365.73, 245.27, null, 365.73, 435.28, null, 365.73, 208.01, null, 365.73, 298.64, null, 365.73, 124.82, null, 365.73, 365.73, null, 277.55, 328.46, null, 277.55, 245.27, null, 277.55, 208.01, null, 245.27, 208.01, null, 245.27, 328.46, null, 245.27, 298.64, null, 245.27, 365.73, null, 298.64, 282.54, null, 298.64, 379.38, null, 82.64, 18.0, null, 82.64, 18.0, null, 124.82, 73.905, null, 365.73, 435.28, null]}, {\"marker\": {\"color\": [], \"colorscale\": [[0.0, \"rgb(255,255,217)\"], [0.125, \"rgb(237,248,177)\"], [0.25, \"rgb(199,233,180)\"], [0.375, \"rgb(127,205,187)\"], [0.5, \"rgb(65,182,196)\"], [0.625, \"rgb(29,145,192)\"], [0.75, \"rgb(34,94,168)\"], [0.875, \"rgb(37,52,148)\"], [1.0, \"rgb(8,29,88)\"]], \"line\": {\"width\": 0}, \"reversescale\": true, \"showscale\": false, \"size\": [15.0, 5.072639225181598, 9.776029055690074, 5.0, 5.732445520581114, 5.127118644067797, 5.375302663438257, 5.121065375302663, 5.030266343825666, 5.211864406779661, 5.0423728813559325, 5.151331719128329, 5.308716707021792, 5.24818401937046, 5.0, 5.018159806295399, 5.030266343825666, 5.006053268765133, 5.242130750605327, 5.0, 5.0242130750605325, 5.006053268765133]}, \"mode\": \"markers+text\", \"text\": [\"cough\", \"vomiting\", \"fever\", \"##emia\", \"throat\", \"##itis\", \"congestion\", \"fatigue\", \"##raine\", \"headache\", \"##tension\", \"lungs\", \"nose\", \"##gies\", \"discomfort\", \"exhaustion\", \"##tis\", \"arthritis\", \"lung\", \"##cous\", \"noses\", \"nausea\"], \"textposition\": \"bottom center\", \"type\": \"scatter\", \"x\": [150.57, 220.12, 150.57, 212.92, 48.746, 150.57, 187.84, 99.657, 81.022, 81.022, 275.28, 150.57, 252.39, 113.3, 206.47, 48.746, 359.21, 303.3, 94.664, 206.47, 303.3, 94.664], \"y\": [154.64, 208.01, 226.64, 262.64, 124.82, 298.64, 365.73, 277.55, 245.27, 208.01, 298.64, 82.64, 124.82, 365.73, 435.28, 328.46, 282.54, 379.38, 18.0, 18.0, 73.905, 435.28]}, {\"hoverinfo\": \"text\", \"marker\": {\"color\": [0.596, 0.67, 0.584, 0.599, 0.626, 0.566, 0.594, 0.6, 0.628, 0.616, 0.514, 0.587, 0.569, 0.543, 0.625, 0.661, 0.633, 0.61, 0.601, 0.575, 0.616, 0.597], \"colorbar\": {\"thickness\": 15, \"title\": {\"side\": \"right\", \"text\": \"Node Connections\"}, \"xanchor\": \"left\"}, \"colorscale\": [[0.0, \"rgb(255,245,240)\"], [0.125, \"rgb(254,224,210)\"], [0.25, \"rgb(252,187,161)\"], [0.375, \"rgb(252,146,114)\"], [0.5, \"rgb(251,106,74)\"], [0.625, \"rgb(239,59,44)\"], [0.75, \"rgb(203,24,29)\"], [0.875, \"rgb(165,15,21)\"], [1.0, \"rgb(103,0,13)\"]], \"line\": {\"width\": 1}, \"reversescale\": false, \"showscale\": true, \"size\": [15.0, 5.072639225181598, 9.776029055690074, 5.0, 5.732445520581114, 5.127118644067797, 5.375302663438257, 5.121065375302663, 5.030266343825666, 5.211864406779661, 5.0423728813559325, 5.151331719128329, 5.308716707021792, 5.24818401937046, 5.0, 5.018159806295399, 5.030266343825666, 5.006053268765133, 5.242130750605327, 5.0, 5.0242130750605325, 5.006053268765133]}, \"mode\": \"markers\", \"text\": [\"cough <br>Count : 1653 <br>Score : 0.596\", \"vomiting <br>Count : 13 <br>Score : 0.67\", \"fever <br>Count : 790 <br>Score : 0.584\", \"##emia <br>Count : 1 <br>Score : 0.599\", \"throat <br>Count : 122 <br>Score : 0.626\", \"##itis <br>Count : 22 <br>Score : 0.566\", \"congestion <br>Count : 63 <br>Score : 0.594\", \"fatigue <br>Count : 21 <br>Score : 0.6\", \"##raine <br>Count : 6 <br>Score : 0.628\", \"headache <br>Count : 36 <br>Score : 0.616\", \"##tension <br>Count : 8 <br>Score : 0.514\", \"lungs <br>Count : 26 <br>Score : 0.587\", \"nose <br>Count : 52 <br>Score : 0.569\", \"##gies <br>Count : 42 <br>Score : 0.543\", \"discomfort <br>Count : 1 <br>Score : 0.625\", \"exhaustion <br>Count : 4 <br>Score : 0.661\", \"##tis <br>Count : 6 <br>Score : 0.633\", \"arthritis <br>Count : 2 <br>Score : 0.61\", \"lung <br>Count : 41 <br>Score : 0.601\", \"##cous <br>Count : 1 <br>Score : 0.575\", \"noses <br>Count : 5 <br>Score : 0.616\", \"nausea <br>Count : 2 <br>Score : 0.597\"], \"type\": \"scatter\", \"x\": [150.57, 220.12, 150.57, 212.92, 48.746, 150.57, 187.84, 99.657, 81.022, 81.022, 275.28, 150.57, 252.39, 113.3, 206.47, 48.746, 359.21, 303.3, 94.664, 206.47, 303.3, 94.664], \"y\": [154.64, 208.01, 226.64, 262.64, 124.82, 298.64, 365.73, 277.55, 245.27, 208.01, 298.64, 82.64, 124.82, 365.73, 435.28, 328.46, 282.54, 379.38, 18.0, 18.0, 73.905, 435.28]}],\n",
       "                        {\"hovermode\": \"closest\", \"margin\": {\"b\": 20, \"l\": 5, \"r\": 5, \"t\": 50}, \"showlegend\": false, \"template\": {\"data\": {\"bar\": [{\"error_x\": {\"color\": \"#2a3f5f\"}, \"error_y\": {\"color\": \"#2a3f5f\"}, \"marker\": {\"line\": {\"color\": \"#E5ECF6\", \"width\": 0.5}}, \"type\": \"bar\"}], \"barpolar\": [{\"marker\": {\"line\": {\"color\": \"#E5ECF6\", \"width\": 0.5}}, \"type\": \"barpolar\"}], \"carpet\": [{\"aaxis\": {\"endlinecolor\": \"#2a3f5f\", \"gridcolor\": \"white\", \"linecolor\": \"white\", \"minorgridcolor\": \"white\", \"startlinecolor\": \"#2a3f5f\"}, \"baxis\": {\"endlinecolor\": \"#2a3f5f\", \"gridcolor\": \"white\", \"linecolor\": \"white\", \"minorgridcolor\": \"white\", \"startlinecolor\": \"#2a3f5f\"}, \"type\": \"carpet\"}], \"choropleth\": [{\"colorbar\": {\"outlinewidth\": 0, \"ticks\": \"\"}, \"type\": \"choropleth\"}], \"contour\": [{\"colorbar\": {\"outlinewidth\": 0, \"ticks\": \"\"}, \"colorscale\": [[0.0, \"#0d0887\"], [0.1111111111111111, \"#46039f\"], [0.2222222222222222, \"#7201a8\"], [0.3333333333333333, \"#9c179e\"], [0.4444444444444444, \"#bd3786\"], [0.5555555555555556, \"#d8576b\"], [0.6666666666666666, \"#ed7953\"], [0.7777777777777778, \"#fb9f3a\"], [0.8888888888888888, \"#fdca26\"], [1.0, \"#f0f921\"]], \"type\": \"contour\"}], \"contourcarpet\": [{\"colorbar\": {\"outlinewidth\": 0, \"ticks\": \"\"}, \"type\": \"contourcarpet\"}], \"heatmap\": [{\"colorbar\": {\"outlinewidth\": 0, \"ticks\": \"\"}, \"colorscale\": [[0.0, \"#0d0887\"], [0.1111111111111111, \"#46039f\"], [0.2222222222222222, \"#7201a8\"], [0.3333333333333333, \"#9c179e\"], [0.4444444444444444, \"#bd3786\"], [0.5555555555555556, \"#d8576b\"], [0.6666666666666666, \"#ed7953\"], [0.7777777777777778, \"#fb9f3a\"], [0.8888888888888888, \"#fdca26\"], [1.0, \"#f0f921\"]], \"type\": \"heatmap\"}], \"heatmapgl\": [{\"colorbar\": {\"outlinewidth\": 0, \"ticks\": \"\"}, \"colorscale\": [[0.0, \"#0d0887\"], [0.1111111111111111, \"#46039f\"], [0.2222222222222222, \"#7201a8\"], [0.3333333333333333, \"#9c179e\"], [0.4444444444444444, \"#bd3786\"], [0.5555555555555556, \"#d8576b\"], [0.6666666666666666, \"#ed7953\"], [0.7777777777777778, \"#fb9f3a\"], [0.8888888888888888, \"#fdca26\"], [1.0, \"#f0f921\"]], \"type\": \"heatmapgl\"}], \"histogram\": [{\"marker\": {\"colorbar\": {\"outlinewidth\": 0, \"ticks\": \"\"}}, \"type\": \"histogram\"}], \"histogram2d\": [{\"colorbar\": {\"outlinewidth\": 0, \"ticks\": \"\"}, \"colorscale\": [[0.0, \"#0d0887\"], [0.1111111111111111, \"#46039f\"], [0.2222222222222222, \"#7201a8\"], [0.3333333333333333, \"#9c179e\"], [0.4444444444444444, \"#bd3786\"], [0.5555555555555556, \"#d8576b\"], [0.6666666666666666, \"#ed7953\"], [0.7777777777777778, \"#fb9f3a\"], [0.8888888888888888, \"#fdca26\"], [1.0, \"#f0f921\"]], \"type\": \"histogram2d\"}], \"histogram2dcontour\": [{\"colorbar\": {\"outlinewidth\": 0, \"ticks\": \"\"}, \"colorscale\": [[0.0, \"#0d0887\"], [0.1111111111111111, \"#46039f\"], [0.2222222222222222, \"#7201a8\"], [0.3333333333333333, \"#9c179e\"], [0.4444444444444444, \"#bd3786\"], [0.5555555555555556, \"#d8576b\"], [0.6666666666666666, \"#ed7953\"], [0.7777777777777778, \"#fb9f3a\"], [0.8888888888888888, \"#fdca26\"], [1.0, \"#f0f921\"]], \"type\": \"histogram2dcontour\"}], \"mesh3d\": [{\"colorbar\": {\"outlinewidth\": 0, \"ticks\": \"\"}, \"type\": \"mesh3d\"}], \"parcoords\": [{\"line\": {\"colorbar\": {\"outlinewidth\": 0, \"ticks\": \"\"}}, \"type\": \"parcoords\"}], \"pie\": [{\"automargin\": true, \"type\": \"pie\"}], \"scatter\": [{\"marker\": {\"colorbar\": {\"outlinewidth\": 0, \"ticks\": \"\"}}, \"type\": \"scatter\"}], \"scatter3d\": [{\"line\": {\"colorbar\": {\"outlinewidth\": 0, \"ticks\": \"\"}}, \"marker\": {\"colorbar\": {\"outlinewidth\": 0, \"ticks\": \"\"}}, \"type\": \"scatter3d\"}], \"scattercarpet\": [{\"marker\": {\"colorbar\": {\"outlinewidth\": 0, \"ticks\": \"\"}}, \"type\": \"scattercarpet\"}], \"scattergeo\": [{\"marker\": {\"colorbar\": {\"outlinewidth\": 0, \"ticks\": \"\"}}, \"type\": \"scattergeo\"}], \"scattergl\": [{\"marker\": {\"colorbar\": {\"outlinewidth\": 0, \"ticks\": \"\"}}, \"type\": \"scattergl\"}], \"scattermapbox\": [{\"marker\": {\"colorbar\": {\"outlinewidth\": 0, \"ticks\": \"\"}}, \"type\": \"scattermapbox\"}], \"scatterpolar\": [{\"marker\": {\"colorbar\": {\"outlinewidth\": 0, \"ticks\": \"\"}}, \"type\": \"scatterpolar\"}], \"scatterpolargl\": [{\"marker\": {\"colorbar\": {\"outlinewidth\": 0, \"ticks\": \"\"}}, \"type\": \"scatterpolargl\"}], \"scatterternary\": [{\"marker\": {\"colorbar\": {\"outlinewidth\": 0, \"ticks\": \"\"}}, \"type\": \"scatterternary\"}], \"surface\": [{\"colorbar\": {\"outlinewidth\": 0, \"ticks\": \"\"}, \"colorscale\": [[0.0, \"#0d0887\"], [0.1111111111111111, \"#46039f\"], [0.2222222222222222, \"#7201a8\"], [0.3333333333333333, \"#9c179e\"], [0.4444444444444444, \"#bd3786\"], [0.5555555555555556, \"#d8576b\"], [0.6666666666666666, \"#ed7953\"], [0.7777777777777778, \"#fb9f3a\"], [0.8888888888888888, \"#fdca26\"], [1.0, \"#f0f921\"]], \"type\": \"surface\"}], \"table\": [{\"cells\": {\"fill\": {\"color\": \"#EBF0F8\"}, \"line\": {\"color\": \"white\"}}, \"header\": {\"fill\": {\"color\": \"#C8D4E3\"}, \"line\": {\"color\": \"white\"}}, \"type\": \"table\"}]}, \"layout\": {\"annotationdefaults\": {\"arrowcolor\": \"#2a3f5f\", \"arrowhead\": 0, \"arrowwidth\": 1}, \"coloraxis\": {\"colorbar\": {\"outlinewidth\": 0, \"ticks\": \"\"}}, \"colorscale\": {\"diverging\": [[0, \"#8e0152\"], [0.1, \"#c51b7d\"], [0.2, \"#de77ae\"], [0.3, \"#f1b6da\"], [0.4, \"#fde0ef\"], [0.5, \"#f7f7f7\"], [0.6, \"#e6f5d0\"], [0.7, \"#b8e186\"], [0.8, \"#7fbc41\"], [0.9, \"#4d9221\"], [1, \"#276419\"]], \"sequential\": [[0.0, \"#0d0887\"], [0.1111111111111111, \"#46039f\"], [0.2222222222222222, \"#7201a8\"], [0.3333333333333333, \"#9c179e\"], [0.4444444444444444, \"#bd3786\"], [0.5555555555555556, \"#d8576b\"], [0.6666666666666666, \"#ed7953\"], [0.7777777777777778, \"#fb9f3a\"], [0.8888888888888888, \"#fdca26\"], [1.0, \"#f0f921\"]], \"sequentialminus\": [[0.0, \"#0d0887\"], [0.1111111111111111, \"#46039f\"], [0.2222222222222222, \"#7201a8\"], [0.3333333333333333, \"#9c179e\"], [0.4444444444444444, \"#bd3786\"], [0.5555555555555556, \"#d8576b\"], [0.6666666666666666, \"#ed7953\"], [0.7777777777777778, \"#fb9f3a\"], [0.8888888888888888, \"#fdca26\"], [1.0, \"#f0f921\"]]}, \"colorway\": [\"#636efa\", \"#EF553B\", \"#00cc96\", \"#ab63fa\", \"#FFA15A\", \"#19d3f3\", \"#FF6692\", \"#B6E880\", \"#FF97FF\", \"#FECB52\"], \"font\": {\"color\": \"#2a3f5f\"}, \"geo\": {\"bgcolor\": \"white\", \"lakecolor\": \"white\", \"landcolor\": \"#E5ECF6\", \"showlakes\": true, \"showland\": true, \"subunitcolor\": \"white\"}, \"hoverlabel\": {\"align\": \"left\"}, \"hovermode\": \"closest\", \"mapbox\": {\"style\": \"light\"}, \"paper_bgcolor\": \"white\", \"plot_bgcolor\": \"#E5ECF6\", \"polar\": {\"angularaxis\": {\"gridcolor\": \"white\", \"linecolor\": \"white\", \"ticks\": \"\"}, \"bgcolor\": \"#E5ECF6\", \"radialaxis\": {\"gridcolor\": \"white\", \"linecolor\": \"white\", \"ticks\": \"\"}}, \"scene\": {\"xaxis\": {\"backgroundcolor\": \"#E5ECF6\", \"gridcolor\": \"white\", \"gridwidth\": 2, \"linecolor\": \"white\", \"showbackground\": true, \"ticks\": \"\", \"zerolinecolor\": \"white\"}, \"yaxis\": {\"backgroundcolor\": \"#E5ECF6\", \"gridcolor\": \"white\", \"gridwidth\": 2, \"linecolor\": \"white\", \"showbackground\": true, \"ticks\": \"\", \"zerolinecolor\": \"white\"}, \"zaxis\": {\"backgroundcolor\": \"#E5ECF6\", \"gridcolor\": \"white\", \"gridwidth\": 2, \"linecolor\": \"white\", \"showbackground\": true, \"ticks\": \"\", \"zerolinecolor\": \"white\"}}, \"shapedefaults\": {\"line\": {\"color\": \"#2a3f5f\"}}, \"ternary\": {\"aaxis\": {\"gridcolor\": \"white\", \"linecolor\": \"white\", \"ticks\": \"\"}, \"baxis\": {\"gridcolor\": \"white\", \"linecolor\": \"white\", \"ticks\": \"\"}, \"bgcolor\": \"#E5ECF6\", \"caxis\": {\"gridcolor\": \"white\", \"linecolor\": \"white\", \"ticks\": \"\"}}, \"title\": {\"x\": 0.05}, \"xaxis\": {\"automargin\": true, \"gridcolor\": \"white\", \"linecolor\": \"white\", \"ticks\": \"\", \"title\": {\"standoff\": 15}, \"zerolinecolor\": \"white\", \"zerolinewidth\": 2}, \"yaxis\": {\"automargin\": true, \"gridcolor\": \"white\", \"linecolor\": \"white\", \"ticks\": \"\", \"title\": {\"standoff\": 15}, \"zerolinecolor\": \"white\", \"zerolinewidth\": 2}}}, \"title\": {\"font\": {\"size\": 16}, \"text\": \"<br>Network graph made with Python\"}, \"xaxis\": {\"showgrid\": false, \"showticklabels\": false, \"zeroline\": false}, \"yaxis\": {\"showgrid\": false, \"showticklabels\": false, \"zeroline\": false}},\n",
       "                        {\"responsive\": true}\n",
       "                    ).then(function(){\n",
       "                            \n",
       "var gd = document.getElementById('5758af88-fb61-4539-886d-0faf4b6343aa');\n",
       "var x = new MutationObserver(function (mutations, observer) {{\n",
       "        var display = window.getComputedStyle(gd).display;\n",
       "        if (!display || display === 'none') {{\n",
       "            console.log([gd, 'removed!']);\n",
       "            Plotly.purge(gd);\n",
       "            observer.disconnect();\n",
       "        }}\n",
       "}});\n",
       "\n",
       "// Listen for the removal of the full notebook cells\n",
       "var notebookContainer = gd.closest('#notebook-container');\n",
       "if (notebookContainer) {{\n",
       "    x.observe(notebookContainer, {childList: true});\n",
       "}}\n",
       "\n",
       "// Listen for the clearing of the current output cell\n",
       "var outputEl = gd.closest('.output');\n",
       "if (outputEl) {{\n",
       "    x.observe(outputEl, {childList: true});\n",
       "}}\n",
       "\n",
       "                        })\n",
       "                };\n",
       "                });\n",
       "            </script>\n",
       "        </div>"
      ]
     },
     "metadata": {},
     "output_type": "display_data"
    }
   ],
   "source": [
    "ADR = pickle.load(open('Covid_cough_3_5_0.4.pkl','rb'))\n",
    "ADR.plotGraph()"
   ]
  },
  {
   "cell_type": "code",
   "execution_count": 14,
   "metadata": {
    "scrolled": true
   },
   "outputs": [
    {
     "name": "stdout",
     "output_type": "stream",
     "text": [
      "Exploring throat\n",
      "cough      -> throat     | 40 |  0.567 | [956, 7803, 7834, 7834, 8989, 9133, 13970, 14118, 18048, 21737, 24539, 25024, 35195, 37148, 40918, 41810, 43741, 43864, 48483, 51743, 54755, 63810, 64545, 65125, 67334, 74310, 75897, 77210, 77210, 77738, 77738, 78419, 79772, 80147, 80779, 88298, 88837, 92863, 93739, 97623]\n",
      "lungs      -> throat     | 41 |  0.653 | [956, 7803, 7834, 7834, 8989, 9133, 13970, 14118, 18048, 21737, 24539, 25024, 35195, 37148, 40918, 41810, 43741, 43864, 48483, 51743, 54755, 63810, 64545, 65125, 67334, 74310, 75897, 77210, 77210, 77738, 77738, 78419, 79772, 80147, 80779, 88038, 88298, 88837, 92863, 93739, 97623]\n",
      "nose       -> throat     | 41 |  0.659 | [956, 7803, 7834, 7834, 8989, 9133, 13970, 14118, 18048, 21737, 24539, 25024, 35195, 37148, 40918, 41810, 43741, 43864, 48483, 51743, 54755, 63810, 64545, 65125, 67334, 74310, 75897, 77210, 77210, 77738, 77738, 78419, 79772, 80147, 80779, 88038, 88298, 88837, 92863, 93739, 97623]\n",
      "--------------------\n",
      "throat     -> cough      | 206 |  0.619 | [251, 568, 1298, 2436, 2915, 3480, 3815, 4270, 4376, 4617, 4741, 4969, 5711, 6272, 6330, 7019, 8004, 8211, 9363, 10265, 10432, 10470, 10689, 11635, 11947, 11983, 12298, 14005, 14743, 14959, 15513, 17039, 17139, 17228, 17831, 18723, 18728, 18824, 18892, 19266, 20153, 20294, 21343, 21737, 21961, 22014, 24405, 25138, 25173, 25377, 25550, 25922, 26386, 26412, 26412, 26545, 27152, 27273, 28247, 28524, 28901, 28901, 29425, 29815, 30215, 31718, 31803, 32649, 32915, 33171, 33778, 33778, 34849, 34962, 37691, 38307, 38365, 38618, 39067, 39673, 39785, 40231, 40346, 40346, 40354, 40414, 40944, 41080, 42501, 42520, 42687, 42801, 44832, 48027, 48027, 48449, 49799, 50178, 50392, 51217, 51939, 53459, 53607, 54284, 54810, 54945, 55673, 57209, 57294, 57845, 58782, 59439, 59447, 59447, 59974, 59991, 60439, 60439, 60439, 60501, 62072, 62454, 62475, 62586, 64837, 65468, 65468, 65686, 66218, 69236, 69261, 69345, 69358, 69808, 70761, 70905, 71498, 72033, 72117, 72343, 72906, 74028, 75510, 76369, 76430, 76477, 76515, 76596, 76704, 77375, 77385, 77611, 78111, 78419, 79151, 79151, 79151, 79151, 79204, 79204, 79204, 79204, 79648, 79738, 81191, 81393, 81728, 81824, 81994, 84406, 85257, 87864, 88630, 88644, 89030, 89236, 89566, 89959, 90452, 90501, 90981, 91020, 91020, 93983, 94312, 94615, 94719, 94830, 94895, 94895, 94963, 95036, 95155, 95484, 95683, 96198, 96332, 96426, 97623, 98016, 98016, 98532, 98729, 98729, 99331, 99394]\n",
      "throat     -> vomiting   | 1 |  0.601 | [25972]\n",
      "throat     -> lungs      | 26 |  0.587 | [590, 13821, 22265, 23255, 27556, 30030, 31558, 32520, 39388, 39787, 41420, 41460, 49354, 50345, 52219, 53106, 54420, 55121, 56692, 56763, 59972, 61204, 65334, 72766, 81988, 98343]\n",
      "throat     -> nose       | 52 |  0.569 | [2787, 3295, 3601, 5206, 5547, 6006, 11983, 12867, 14456, 27173, 30437, 35836, 35848, 36930, 37276, 38340, 39785, 41810, 44163, 45070, 46468, 46688, 47010, 50968, 51919, 54755, 54999, 57219, 57888, 59241, 59712, 61079, 61672, 64251, 66148, 67285, 73611, 73771, 78310, 80222, 81486, 82057, 84932, 86141, 87811, 88026, 89458, 90971, 93714, 94045, 96332, 99786]\n",
      "throat     -> congestion | 9 |  0.564 | [18149, 26140, 39571, 39704, 60937, 62642, 65125, 75523, 86469]\n"
     ]
    }
   ],
   "source": [
    "ADR.graph.describeNode('throat')\n",
    "# masterEmb = ADR_.masterEmb\n",
    "\n",
    "# ADR.graph = ADR_.graph"
   ]
  },
  {
   "cell_type": "code",
   "execution_count": 22,
   "metadata": {},
   "outputs": [
    {
     "data": {
      "text/plain": [
       "\"went to the doctor to find out that I have the flu, strep throat, anemia, crohn's disease, low potassium, internalâ€¦ https://t.co/afgaPPmqek\""
      ]
     },
     "execution_count": 22,
     "metadata": {},
     "output_type": "execute_result"
    }
   ],
   "source": [
    "df.iloc[18048]['message']"
   ]
  },
  {
   "cell_type": "code",
   "execution_count": 117,
   "metadata": {},
   "outputs": [
    {
     "data": {
      "application/vnd.plotly.v1+json": {
       "config": {
        "plotlyServerURL": "https://plot.ly"
       },
       "data": [
        {
         "hoverinfo": "none",
         "line": {
          "color": "#888",
          "width": 0.5
         },
         "mode": "lines",
         "type": "scatter",
         "x": [
          235.95,
          274.92,
          null,
          235.95,
          330.03,
          null,
          235.95,
          368.99,
          null,
          235.95,
          200.65,
          null,
          235.95,
          302.47,
          null,
          235.95,
          169.44,
          null,
          235.95,
          368.99,
          null,
          235.95,
          435.51,
          null,
          235.95,
          330.03,
          null,
          274.92,
          200.65,
          null,
          274.92,
          368.99,
          null,
          274.92,
          169.44,
          null,
          274.92,
          330.03,
          null,
          274.92,
          302.47,
          null,
          274.92,
          368.99,
          null,
          274.92,
          435.51,
          null,
          274.92,
          247.37,
          null,
          274.92,
          330.03,
          null,
          330.03,
          368.99,
          null,
          330.03,
          368.99,
          null,
          330.03,
          435.51,
          null,
          330.03,
          302.47,
          null,
          330.03,
          169.44,
          null,
          330.03,
          330.03,
          null,
          368.99,
          169.44,
          null,
          368.99,
          435.51,
          null,
          368.99,
          302.47,
          null,
          368.99,
          368.99,
          null,
          368.99,
          330.03,
          null,
          200.65,
          247.37,
          null,
          200.65,
          219.81,
          null,
          200.65,
          102.92,
          null,
          302.47,
          330.03,
          null,
          302.47,
          368.99,
          null,
          169.44,
          219.81,
          null,
          368.99,
          435.51,
          null,
          247.37,
          102.92,
          null,
          247.37,
          219.81,
          null,
          247.37,
          219.81,
          null,
          219.81,
          102.92,
          null,
          219.81,
          219.81,
          null,
          219.81,
          192.26,
          null,
          102.92,
          219.81,
          null,
          102.92,
          36.397,
          null
         ],
         "y": [
          245.11,
          151.04,
          null,
          245.11,
          151.04,
          null,
          245.11,
          190,
          null,
          245.11,
          319.38,
          null,
          245.11,
          217.56,
          null,
          245.11,
          162.45,
          null,
          245.11,
          245.11,
          null,
          245.11,
          272.66,
          null,
          245.11,
          284.08,
          null,
          151.04,
          319.38,
          null,
          151.04,
          190,
          null,
          151.04,
          162.45,
          null,
          151.04,
          151.04,
          null,
          151.04,
          217.56,
          null,
          151.04,
          245.11,
          null,
          151.04,
          272.66,
          null,
          151.04,
          84.519,
          null,
          151.04,
          284.08,
          null,
          151.04,
          245.11,
          null,
          151.04,
          190,
          null,
          151.04,
          272.66,
          null,
          151.04,
          217.56,
          null,
          151.04,
          162.45,
          null,
          151.04,
          284.08,
          null,
          190,
          162.45,
          null,
          190,
          272.66,
          null,
          190,
          217.56,
          null,
          190,
          245.11,
          null,
          190,
          284.08,
          null,
          319.38,
          84.519,
          null,
          319.38,
          417.12,
          null,
          319.38,
          300.22,
          null,
          217.56,
          284.08,
          null,
          217.56,
          245.11,
          null,
          162.45,
          417.12,
          null,
          245.11,
          272.66,
          null,
          84.519,
          300.22,
          null,
          84.519,
          18,
          null,
          84.519,
          417.12,
          null,
          417.12,
          300.22,
          null,
          417.12,
          18,
          null,
          417.12,
          483.64,
          null,
          300.22,
          18,
          null,
          300.22,
          327.77,
          null
         ]
        },
        {
         "marker": {
          "color": [],
          "colorscale": [
           [
            0,
            "rgb(255,255,217)"
           ],
           [
            0.125,
            "rgb(237,248,177)"
           ],
           [
            0.25,
            "rgb(199,233,180)"
           ],
           [
            0.375,
            "rgb(127,205,187)"
           ],
           [
            0.5,
            "rgb(65,182,196)"
           ],
           [
            0.625,
            "rgb(29,145,192)"
           ],
           [
            0.75,
            "rgb(34,94,168)"
           ],
           [
            0.875,
            "rgb(37,52,148)"
           ],
           [
            1,
            "rgb(8,29,88)"
           ]
          ],
          "line": {
           "width": 0
          },
          "reversescale": true,
          "showscale": false,
          "size": [
           7.638297872340425,
           5.808510638297872,
           5.297872340425532,
           5.297872340425532,
           7.51063829787234,
           5.085106382978723,
           5.127659574468085,
           5.723404255319149,
           5.723404255319149,
           9.808510638297872,
           5.127659574468085,
           11.97872340425532,
           5.042553191489362,
           6.48936170212766,
           5,
           15.000000000000002
          ]
         },
         "mode": "markers+text",
         "text": [
          "fatigue",
          "exhaustion",
          "vomiting",
          "##raine",
          "exhausted",
          "discomfort",
          "nausea",
          "congestion",
          "headache",
          "stressed",
          "distraught",
          "anxious",
          "##amps",
          "depressed",
          "##inging",
          "anxiety"
         ],
         "textposition": "bottom center",
         "type": "scatter",
         "x": [
          235.95,
          274.92,
          330.03,
          368.99,
          200.65,
          302.47,
          169.44,
          368.99,
          435.51,
          247.37,
          219.81,
          102.92,
          330.03,
          219.81,
          192.26,
          36.397
         ],
         "y": [
          245.11,
          151.04,
          151.04,
          190,
          319.38,
          217.56,
          162.45,
          245.11,
          272.66,
          84.519,
          417.12,
          300.22,
          284.08,
          18,
          483.64,
          327.77
         ]
        },
        {
         "hoverinfo": "text",
         "marker": {
          "color": [
           0.664,
           0.663,
           0.649,
           0.616,
           0.658,
           0.612,
           0.624,
           0.616,
           0.594,
           0.67,
           0.635,
           0.657,
           0.565,
           0.685,
           0.627,
           0.688
          ],
          "colorbar": {
           "thickness": 15,
           "title": {
            "side": "right",
            "text": "Node Connections"
           },
           "xanchor": "left"
          },
          "colorscale": [
           [
            0,
            "rgb(255,245,240)"
           ],
           [
            0.125,
            "rgb(254,224,210)"
           ],
           [
            0.25,
            "rgb(252,187,161)"
           ],
           [
            0.375,
            "rgb(252,146,114)"
           ],
           [
            0.5,
            "rgb(251,106,74)"
           ],
           [
            0.625,
            "rgb(239,59,44)"
           ],
           [
            0.75,
            "rgb(203,24,29)"
           ],
           [
            0.875,
            "rgb(165,15,21)"
           ],
           [
            1,
            "rgb(103,0,13)"
           ]
          ],
          "line": {
           "width": 1
          },
          "reversescale": false,
          "showscale": true,
          "size": [
           7.638297872340425,
           5.808510638297872,
           5.297872340425532,
           5.297872340425532,
           7.51063829787234,
           5.085106382978723,
           5.127659574468085,
           5.723404255319149,
           5.723404255319149,
           9.808510638297872,
           5.127659574468085,
           11.97872340425532,
           5.042553191489362,
           6.48936170212766,
           5,
           15.000000000000002
          ]
         },
         "mode": "markers",
         "text": [
          "fatigue <br>Count : 63 <br>Score : 0.664",
          "exhaustion <br>Count : 20 <br>Score : 0.663",
          "vomiting <br>Count : 8 <br>Score : 0.649",
          "##raine <br>Count : 8 <br>Score : 0.616",
          "exhausted <br>Count : 60 <br>Score : 0.658",
          "discomfort <br>Count : 3 <br>Score : 0.612",
          "nausea <br>Count : 4 <br>Score : 0.624",
          "congestion <br>Count : 18 <br>Score : 0.616",
          "headache <br>Count : 18 <br>Score : 0.594",
          "stressed <br>Count : 114 <br>Score : 0.67",
          "distraught <br>Count : 4 <br>Score : 0.635",
          "anxious <br>Count : 165 <br>Score : 0.657",
          "##amps <br>Count : 2 <br>Score : 0.565",
          "depressed <br>Count : 36 <br>Score : 0.685",
          "##inging <br>Count : 1 <br>Score : 0.627",
          "anxiety <br>Count : 236 <br>Score : 0.688"
         ],
         "type": "scatter",
         "x": [
          235.95,
          274.92,
          330.03,
          368.99,
          200.65,
          302.47,
          169.44,
          368.99,
          435.51,
          247.37,
          219.81,
          102.92,
          330.03,
          219.81,
          192.26,
          36.397
         ],
         "y": [
          245.11,
          151.04,
          151.04,
          190,
          319.38,
          217.56,
          162.45,
          245.11,
          272.66,
          84.519,
          417.12,
          300.22,
          284.08,
          18,
          483.64,
          327.77
         ]
        }
       ],
       "layout": {
        "hovermode": "closest",
        "margin": {
         "b": 20,
         "l": 5,
         "r": 5,
         "t": 50
        },
        "showlegend": false,
        "template": {
         "data": {
          "bar": [
           {
            "error_x": {
             "color": "#2a3f5f"
            },
            "error_y": {
             "color": "#2a3f5f"
            },
            "marker": {
             "line": {
              "color": "#E5ECF6",
              "width": 0.5
             }
            },
            "type": "bar"
           }
          ],
          "barpolar": [
           {
            "marker": {
             "line": {
              "color": "#E5ECF6",
              "width": 0.5
             }
            },
            "type": "barpolar"
           }
          ],
          "carpet": [
           {
            "aaxis": {
             "endlinecolor": "#2a3f5f",
             "gridcolor": "white",
             "linecolor": "white",
             "minorgridcolor": "white",
             "startlinecolor": "#2a3f5f"
            },
            "baxis": {
             "endlinecolor": "#2a3f5f",
             "gridcolor": "white",
             "linecolor": "white",
             "minorgridcolor": "white",
             "startlinecolor": "#2a3f5f"
            },
            "type": "carpet"
           }
          ],
          "choropleth": [
           {
            "colorbar": {
             "outlinewidth": 0,
             "ticks": ""
            },
            "type": "choropleth"
           }
          ],
          "contour": [
           {
            "colorbar": {
             "outlinewidth": 0,
             "ticks": ""
            },
            "colorscale": [
             [
              0,
              "#0d0887"
             ],
             [
              0.1111111111111111,
              "#46039f"
             ],
             [
              0.2222222222222222,
              "#7201a8"
             ],
             [
              0.3333333333333333,
              "#9c179e"
             ],
             [
              0.4444444444444444,
              "#bd3786"
             ],
             [
              0.5555555555555556,
              "#d8576b"
             ],
             [
              0.6666666666666666,
              "#ed7953"
             ],
             [
              0.7777777777777778,
              "#fb9f3a"
             ],
             [
              0.8888888888888888,
              "#fdca26"
             ],
             [
              1,
              "#f0f921"
             ]
            ],
            "type": "contour"
           }
          ],
          "contourcarpet": [
           {
            "colorbar": {
             "outlinewidth": 0,
             "ticks": ""
            },
            "type": "contourcarpet"
           }
          ],
          "heatmap": [
           {
            "colorbar": {
             "outlinewidth": 0,
             "ticks": ""
            },
            "colorscale": [
             [
              0,
              "#0d0887"
             ],
             [
              0.1111111111111111,
              "#46039f"
             ],
             [
              0.2222222222222222,
              "#7201a8"
             ],
             [
              0.3333333333333333,
              "#9c179e"
             ],
             [
              0.4444444444444444,
              "#bd3786"
             ],
             [
              0.5555555555555556,
              "#d8576b"
             ],
             [
              0.6666666666666666,
              "#ed7953"
             ],
             [
              0.7777777777777778,
              "#fb9f3a"
             ],
             [
              0.8888888888888888,
              "#fdca26"
             ],
             [
              1,
              "#f0f921"
             ]
            ],
            "type": "heatmap"
           }
          ],
          "heatmapgl": [
           {
            "colorbar": {
             "outlinewidth": 0,
             "ticks": ""
            },
            "colorscale": [
             [
              0,
              "#0d0887"
             ],
             [
              0.1111111111111111,
              "#46039f"
             ],
             [
              0.2222222222222222,
              "#7201a8"
             ],
             [
              0.3333333333333333,
              "#9c179e"
             ],
             [
              0.4444444444444444,
              "#bd3786"
             ],
             [
              0.5555555555555556,
              "#d8576b"
             ],
             [
              0.6666666666666666,
              "#ed7953"
             ],
             [
              0.7777777777777778,
              "#fb9f3a"
             ],
             [
              0.8888888888888888,
              "#fdca26"
             ],
             [
              1,
              "#f0f921"
             ]
            ],
            "type": "heatmapgl"
           }
          ],
          "histogram": [
           {
            "marker": {
             "colorbar": {
              "outlinewidth": 0,
              "ticks": ""
             }
            },
            "type": "histogram"
           }
          ],
          "histogram2d": [
           {
            "colorbar": {
             "outlinewidth": 0,
             "ticks": ""
            },
            "colorscale": [
             [
              0,
              "#0d0887"
             ],
             [
              0.1111111111111111,
              "#46039f"
             ],
             [
              0.2222222222222222,
              "#7201a8"
             ],
             [
              0.3333333333333333,
              "#9c179e"
             ],
             [
              0.4444444444444444,
              "#bd3786"
             ],
             [
              0.5555555555555556,
              "#d8576b"
             ],
             [
              0.6666666666666666,
              "#ed7953"
             ],
             [
              0.7777777777777778,
              "#fb9f3a"
             ],
             [
              0.8888888888888888,
              "#fdca26"
             ],
             [
              1,
              "#f0f921"
             ]
            ],
            "type": "histogram2d"
           }
          ],
          "histogram2dcontour": [
           {
            "colorbar": {
             "outlinewidth": 0,
             "ticks": ""
            },
            "colorscale": [
             [
              0,
              "#0d0887"
             ],
             [
              0.1111111111111111,
              "#46039f"
             ],
             [
              0.2222222222222222,
              "#7201a8"
             ],
             [
              0.3333333333333333,
              "#9c179e"
             ],
             [
              0.4444444444444444,
              "#bd3786"
             ],
             [
              0.5555555555555556,
              "#d8576b"
             ],
             [
              0.6666666666666666,
              "#ed7953"
             ],
             [
              0.7777777777777778,
              "#fb9f3a"
             ],
             [
              0.8888888888888888,
              "#fdca26"
             ],
             [
              1,
              "#f0f921"
             ]
            ],
            "type": "histogram2dcontour"
           }
          ],
          "mesh3d": [
           {
            "colorbar": {
             "outlinewidth": 0,
             "ticks": ""
            },
            "type": "mesh3d"
           }
          ],
          "parcoords": [
           {
            "line": {
             "colorbar": {
              "outlinewidth": 0,
              "ticks": ""
             }
            },
            "type": "parcoords"
           }
          ],
          "pie": [
           {
            "automargin": true,
            "type": "pie"
           }
          ],
          "scatter": [
           {
            "marker": {
             "colorbar": {
              "outlinewidth": 0,
              "ticks": ""
             }
            },
            "type": "scatter"
           }
          ],
          "scatter3d": [
           {
            "line": {
             "colorbar": {
              "outlinewidth": 0,
              "ticks": ""
             }
            },
            "marker": {
             "colorbar": {
              "outlinewidth": 0,
              "ticks": ""
             }
            },
            "type": "scatter3d"
           }
          ],
          "scattercarpet": [
           {
            "marker": {
             "colorbar": {
              "outlinewidth": 0,
              "ticks": ""
             }
            },
            "type": "scattercarpet"
           }
          ],
          "scattergeo": [
           {
            "marker": {
             "colorbar": {
              "outlinewidth": 0,
              "ticks": ""
             }
            },
            "type": "scattergeo"
           }
          ],
          "scattergl": [
           {
            "marker": {
             "colorbar": {
              "outlinewidth": 0,
              "ticks": ""
             }
            },
            "type": "scattergl"
           }
          ],
          "scattermapbox": [
           {
            "marker": {
             "colorbar": {
              "outlinewidth": 0,
              "ticks": ""
             }
            },
            "type": "scattermapbox"
           }
          ],
          "scatterpolar": [
           {
            "marker": {
             "colorbar": {
              "outlinewidth": 0,
              "ticks": ""
             }
            },
            "type": "scatterpolar"
           }
          ],
          "scatterpolargl": [
           {
            "marker": {
             "colorbar": {
              "outlinewidth": 0,
              "ticks": ""
             }
            },
            "type": "scatterpolargl"
           }
          ],
          "scatterternary": [
           {
            "marker": {
             "colorbar": {
              "outlinewidth": 0,
              "ticks": ""
             }
            },
            "type": "scatterternary"
           }
          ],
          "surface": [
           {
            "colorbar": {
             "outlinewidth": 0,
             "ticks": ""
            },
            "colorscale": [
             [
              0,
              "#0d0887"
             ],
             [
              0.1111111111111111,
              "#46039f"
             ],
             [
              0.2222222222222222,
              "#7201a8"
             ],
             [
              0.3333333333333333,
              "#9c179e"
             ],
             [
              0.4444444444444444,
              "#bd3786"
             ],
             [
              0.5555555555555556,
              "#d8576b"
             ],
             [
              0.6666666666666666,
              "#ed7953"
             ],
             [
              0.7777777777777778,
              "#fb9f3a"
             ],
             [
              0.8888888888888888,
              "#fdca26"
             ],
             [
              1,
              "#f0f921"
             ]
            ],
            "type": "surface"
           }
          ],
          "table": [
           {
            "cells": {
             "fill": {
              "color": "#EBF0F8"
             },
             "line": {
              "color": "white"
             }
            },
            "header": {
             "fill": {
              "color": "#C8D4E3"
             },
             "line": {
              "color": "white"
             }
            },
            "type": "table"
           }
          ]
         },
         "layout": {
          "annotationdefaults": {
           "arrowcolor": "#2a3f5f",
           "arrowhead": 0,
           "arrowwidth": 1
          },
          "coloraxis": {
           "colorbar": {
            "outlinewidth": 0,
            "ticks": ""
           }
          },
          "colorscale": {
           "diverging": [
            [
             0,
             "#8e0152"
            ],
            [
             0.1,
             "#c51b7d"
            ],
            [
             0.2,
             "#de77ae"
            ],
            [
             0.3,
             "#f1b6da"
            ],
            [
             0.4,
             "#fde0ef"
            ],
            [
             0.5,
             "#f7f7f7"
            ],
            [
             0.6,
             "#e6f5d0"
            ],
            [
             0.7,
             "#b8e186"
            ],
            [
             0.8,
             "#7fbc41"
            ],
            [
             0.9,
             "#4d9221"
            ],
            [
             1,
             "#276419"
            ]
           ],
           "sequential": [
            [
             0,
             "#0d0887"
            ],
            [
             0.1111111111111111,
             "#46039f"
            ],
            [
             0.2222222222222222,
             "#7201a8"
            ],
            [
             0.3333333333333333,
             "#9c179e"
            ],
            [
             0.4444444444444444,
             "#bd3786"
            ],
            [
             0.5555555555555556,
             "#d8576b"
            ],
            [
             0.6666666666666666,
             "#ed7953"
            ],
            [
             0.7777777777777778,
             "#fb9f3a"
            ],
            [
             0.8888888888888888,
             "#fdca26"
            ],
            [
             1,
             "#f0f921"
            ]
           ],
           "sequentialminus": [
            [
             0,
             "#0d0887"
            ],
            [
             0.1111111111111111,
             "#46039f"
            ],
            [
             0.2222222222222222,
             "#7201a8"
            ],
            [
             0.3333333333333333,
             "#9c179e"
            ],
            [
             0.4444444444444444,
             "#bd3786"
            ],
            [
             0.5555555555555556,
             "#d8576b"
            ],
            [
             0.6666666666666666,
             "#ed7953"
            ],
            [
             0.7777777777777778,
             "#fb9f3a"
            ],
            [
             0.8888888888888888,
             "#fdca26"
            ],
            [
             1,
             "#f0f921"
            ]
           ]
          },
          "colorway": [
           "#636efa",
           "#EF553B",
           "#00cc96",
           "#ab63fa",
           "#FFA15A",
           "#19d3f3",
           "#FF6692",
           "#B6E880",
           "#FF97FF",
           "#FECB52"
          ],
          "font": {
           "color": "#2a3f5f"
          },
          "geo": {
           "bgcolor": "white",
           "lakecolor": "white",
           "landcolor": "#E5ECF6",
           "showlakes": true,
           "showland": true,
           "subunitcolor": "white"
          },
          "hoverlabel": {
           "align": "left"
          },
          "hovermode": "closest",
          "mapbox": {
           "style": "light"
          },
          "paper_bgcolor": "white",
          "plot_bgcolor": "#E5ECF6",
          "polar": {
           "angularaxis": {
            "gridcolor": "white",
            "linecolor": "white",
            "ticks": ""
           },
           "bgcolor": "#E5ECF6",
           "radialaxis": {
            "gridcolor": "white",
            "linecolor": "white",
            "ticks": ""
           }
          },
          "scene": {
           "xaxis": {
            "backgroundcolor": "#E5ECF6",
            "gridcolor": "white",
            "gridwidth": 2,
            "linecolor": "white",
            "showbackground": true,
            "ticks": "",
            "zerolinecolor": "white"
           },
           "yaxis": {
            "backgroundcolor": "#E5ECF6",
            "gridcolor": "white",
            "gridwidth": 2,
            "linecolor": "white",
            "showbackground": true,
            "ticks": "",
            "zerolinecolor": "white"
           },
           "zaxis": {
            "backgroundcolor": "#E5ECF6",
            "gridcolor": "white",
            "gridwidth": 2,
            "linecolor": "white",
            "showbackground": true,
            "ticks": "",
            "zerolinecolor": "white"
           }
          },
          "shapedefaults": {
           "line": {
            "color": "#2a3f5f"
           }
          },
          "ternary": {
           "aaxis": {
            "gridcolor": "white",
            "linecolor": "white",
            "ticks": ""
           },
           "baxis": {
            "gridcolor": "white",
            "linecolor": "white",
            "ticks": ""
           },
           "bgcolor": "#E5ECF6",
           "caxis": {
            "gridcolor": "white",
            "linecolor": "white",
            "ticks": ""
           }
          },
          "title": {
           "x": 0.05
          },
          "xaxis": {
           "automargin": true,
           "gridcolor": "white",
           "linecolor": "white",
           "ticks": "",
           "title": {
            "standoff": 15
           },
           "zerolinecolor": "white",
           "zerolinewidth": 2
          },
          "yaxis": {
           "automargin": true,
           "gridcolor": "white",
           "linecolor": "white",
           "ticks": "",
           "title": {
            "standoff": 15
           },
           "zerolinecolor": "white",
           "zerolinewidth": 2
          }
         }
        },
        "title": {
         "font": {
          "size": 16
         },
         "text": "<br>Network graph made with Python"
        },
        "xaxis": {
         "showgrid": false,
         "showticklabels": false,
         "zeroline": false
        },
        "yaxis": {
         "showgrid": false,
         "showticklabels": false,
         "zeroline": false
        }
       }
      },
      "text/html": [
       "<div>\n",
       "        \n",
       "        \n",
       "            <div id=\"ca1f6f15-0ecc-45db-b877-09a5022779ed\" class=\"plotly-graph-div\" style=\"height:525px; width:100%;\"></div>\n",
       "            <script type=\"text/javascript\">\n",
       "                require([\"plotly\"], function(Plotly) {\n",
       "                    window.PLOTLYENV=window.PLOTLYENV || {};\n",
       "                    \n",
       "                if (document.getElementById(\"ca1f6f15-0ecc-45db-b877-09a5022779ed\")) {\n",
       "                    Plotly.newPlot(\n",
       "                        'ca1f6f15-0ecc-45db-b877-09a5022779ed',\n",
       "                        [{\"hoverinfo\": \"none\", \"line\": {\"color\": \"#888\", \"width\": 0.5}, \"mode\": \"lines\", \"type\": \"scatter\", \"x\": [235.95, 274.92, null, 235.95, 330.03, null, 235.95, 368.99, null, 235.95, 200.65, null, 235.95, 302.47, null, 235.95, 169.44, null, 235.95, 368.99, null, 235.95, 435.51, null, 235.95, 330.03, null, 274.92, 200.65, null, 274.92, 368.99, null, 274.92, 169.44, null, 274.92, 330.03, null, 274.92, 302.47, null, 274.92, 368.99, null, 274.92, 435.51, null, 274.92, 247.37, null, 274.92, 330.03, null, 330.03, 368.99, null, 330.03, 368.99, null, 330.03, 435.51, null, 330.03, 302.47, null, 330.03, 169.44, null, 330.03, 330.03, null, 368.99, 169.44, null, 368.99, 435.51, null, 368.99, 302.47, null, 368.99, 368.99, null, 368.99, 330.03, null, 200.65, 247.37, null, 200.65, 219.81, null, 200.65, 102.92, null, 302.47, 330.03, null, 302.47, 368.99, null, 169.44, 219.81, null, 368.99, 435.51, null, 247.37, 102.92, null, 247.37, 219.81, null, 247.37, 219.81, null, 219.81, 102.92, null, 219.81, 219.81, null, 219.81, 192.26, null, 102.92, 219.81, null, 102.92, 36.397, null], \"y\": [245.11, 151.04, null, 245.11, 151.04, null, 245.11, 190.0, null, 245.11, 319.38, null, 245.11, 217.56, null, 245.11, 162.45, null, 245.11, 245.11, null, 245.11, 272.66, null, 245.11, 284.08, null, 151.04, 319.38, null, 151.04, 190.0, null, 151.04, 162.45, null, 151.04, 151.04, null, 151.04, 217.56, null, 151.04, 245.11, null, 151.04, 272.66, null, 151.04, 84.519, null, 151.04, 284.08, null, 151.04, 245.11, null, 151.04, 190.0, null, 151.04, 272.66, null, 151.04, 217.56, null, 151.04, 162.45, null, 151.04, 284.08, null, 190.0, 162.45, null, 190.0, 272.66, null, 190.0, 217.56, null, 190.0, 245.11, null, 190.0, 284.08, null, 319.38, 84.519, null, 319.38, 417.12, null, 319.38, 300.22, null, 217.56, 284.08, null, 217.56, 245.11, null, 162.45, 417.12, null, 245.11, 272.66, null, 84.519, 300.22, null, 84.519, 18.0, null, 84.519, 417.12, null, 417.12, 300.22, null, 417.12, 18.0, null, 417.12, 483.64, null, 300.22, 18.0, null, 300.22, 327.77, null]}, {\"marker\": {\"color\": [], \"colorscale\": [[0.0, \"rgb(255,255,217)\"], [0.125, \"rgb(237,248,177)\"], [0.25, \"rgb(199,233,180)\"], [0.375, \"rgb(127,205,187)\"], [0.5, \"rgb(65,182,196)\"], [0.625, \"rgb(29,145,192)\"], [0.75, \"rgb(34,94,168)\"], [0.875, \"rgb(37,52,148)\"], [1.0, \"rgb(8,29,88)\"]], \"line\": {\"width\": 0}, \"reversescale\": true, \"showscale\": false, \"size\": [7.638297872340425, 5.808510638297872, 5.297872340425532, 5.297872340425532, 7.51063829787234, 5.085106382978723, 5.127659574468085, 5.723404255319149, 5.723404255319149, 9.808510638297872, 5.127659574468085, 11.97872340425532, 5.042553191489362, 6.48936170212766, 5.0, 15.000000000000002]}, \"mode\": \"markers+text\", \"text\": [\"fatigue\", \"exhaustion\", \"vomiting\", \"##raine\", \"exhausted\", \"discomfort\", \"nausea\", \"congestion\", \"headache\", \"stressed\", \"distraught\", \"anxious\", \"##amps\", \"depressed\", \"##inging\", \"anxiety\"], \"textposition\": \"bottom center\", \"type\": \"scatter\", \"x\": [235.95, 274.92, 330.03, 368.99, 200.65, 302.47, 169.44, 368.99, 435.51, 247.37, 219.81, 102.92, 330.03, 219.81, 192.26, 36.397], \"y\": [245.11, 151.04, 151.04, 190.0, 319.38, 217.56, 162.45, 245.11, 272.66, 84.519, 417.12, 300.22, 284.08, 18.0, 483.64, 327.77]}, {\"hoverinfo\": \"text\", \"marker\": {\"color\": [0.664, 0.663, 0.649, 0.616, 0.658, 0.612, 0.624, 0.616, 0.594, 0.67, 0.635, 0.657, 0.565, 0.685, 0.627, 0.688], \"colorbar\": {\"thickness\": 15, \"title\": {\"side\": \"right\", \"text\": \"Node Connections\"}, \"xanchor\": \"left\"}, \"colorscale\": [[0.0, \"rgb(255,245,240)\"], [0.125, \"rgb(254,224,210)\"], [0.25, \"rgb(252,187,161)\"], [0.375, \"rgb(252,146,114)\"], [0.5, \"rgb(251,106,74)\"], [0.625, \"rgb(239,59,44)\"], [0.75, \"rgb(203,24,29)\"], [0.875, \"rgb(165,15,21)\"], [1.0, \"rgb(103,0,13)\"]], \"line\": {\"width\": 1}, \"reversescale\": false, \"showscale\": true, \"size\": [7.638297872340425, 5.808510638297872, 5.297872340425532, 5.297872340425532, 7.51063829787234, 5.085106382978723, 5.127659574468085, 5.723404255319149, 5.723404255319149, 9.808510638297872, 5.127659574468085, 11.97872340425532, 5.042553191489362, 6.48936170212766, 5.0, 15.000000000000002]}, \"mode\": \"markers\", \"text\": [\"fatigue <br>Count : 63 <br>Score : 0.664\", \"exhaustion <br>Count : 20 <br>Score : 0.663\", \"vomiting <br>Count : 8 <br>Score : 0.649\", \"##raine <br>Count : 8 <br>Score : 0.616\", \"exhausted <br>Count : 60 <br>Score : 0.658\", \"discomfort <br>Count : 3 <br>Score : 0.612\", \"nausea <br>Count : 4 <br>Score : 0.624\", \"congestion <br>Count : 18 <br>Score : 0.616\", \"headache <br>Count : 18 <br>Score : 0.594\", \"stressed <br>Count : 114 <br>Score : 0.67\", \"distraught <br>Count : 4 <br>Score : 0.635\", \"anxious <br>Count : 165 <br>Score : 0.657\", \"##amps <br>Count : 2 <br>Score : 0.565\", \"depressed <br>Count : 36 <br>Score : 0.685\", \"##inging <br>Count : 1 <br>Score : 0.627\", \"anxiety <br>Count : 236 <br>Score : 0.688\"], \"type\": \"scatter\", \"x\": [235.95, 274.92, 330.03, 368.99, 200.65, 302.47, 169.44, 368.99, 435.51, 247.37, 219.81, 102.92, 330.03, 219.81, 192.26, 36.397], \"y\": [245.11, 151.04, 151.04, 190.0, 319.38, 217.56, 162.45, 245.11, 272.66, 84.519, 417.12, 300.22, 284.08, 18.0, 483.64, 327.77]}],\n",
       "                        {\"hovermode\": \"closest\", \"margin\": {\"b\": 20, \"l\": 5, \"r\": 5, \"t\": 50}, \"showlegend\": false, \"template\": {\"data\": {\"bar\": [{\"error_x\": {\"color\": \"#2a3f5f\"}, \"error_y\": {\"color\": \"#2a3f5f\"}, \"marker\": {\"line\": {\"color\": \"#E5ECF6\", \"width\": 0.5}}, \"type\": \"bar\"}], \"barpolar\": [{\"marker\": {\"line\": {\"color\": \"#E5ECF6\", \"width\": 0.5}}, \"type\": \"barpolar\"}], \"carpet\": [{\"aaxis\": {\"endlinecolor\": \"#2a3f5f\", \"gridcolor\": \"white\", \"linecolor\": \"white\", \"minorgridcolor\": \"white\", \"startlinecolor\": \"#2a3f5f\"}, \"baxis\": {\"endlinecolor\": \"#2a3f5f\", \"gridcolor\": \"white\", \"linecolor\": \"white\", \"minorgridcolor\": \"white\", \"startlinecolor\": \"#2a3f5f\"}, \"type\": \"carpet\"}], \"choropleth\": [{\"colorbar\": {\"outlinewidth\": 0, \"ticks\": \"\"}, \"type\": \"choropleth\"}], \"contour\": [{\"colorbar\": {\"outlinewidth\": 0, \"ticks\": \"\"}, \"colorscale\": [[0.0, \"#0d0887\"], [0.1111111111111111, \"#46039f\"], [0.2222222222222222, \"#7201a8\"], [0.3333333333333333, \"#9c179e\"], [0.4444444444444444, \"#bd3786\"], [0.5555555555555556, \"#d8576b\"], [0.6666666666666666, \"#ed7953\"], [0.7777777777777778, \"#fb9f3a\"], [0.8888888888888888, \"#fdca26\"], [1.0, \"#f0f921\"]], \"type\": \"contour\"}], \"contourcarpet\": [{\"colorbar\": {\"outlinewidth\": 0, \"ticks\": \"\"}, \"type\": \"contourcarpet\"}], \"heatmap\": [{\"colorbar\": {\"outlinewidth\": 0, \"ticks\": \"\"}, \"colorscale\": [[0.0, \"#0d0887\"], [0.1111111111111111, \"#46039f\"], [0.2222222222222222, \"#7201a8\"], [0.3333333333333333, \"#9c179e\"], [0.4444444444444444, \"#bd3786\"], [0.5555555555555556, \"#d8576b\"], [0.6666666666666666, \"#ed7953\"], [0.7777777777777778, \"#fb9f3a\"], [0.8888888888888888, \"#fdca26\"], [1.0, \"#f0f921\"]], \"type\": \"heatmap\"}], \"heatmapgl\": [{\"colorbar\": {\"outlinewidth\": 0, \"ticks\": \"\"}, \"colorscale\": [[0.0, \"#0d0887\"], [0.1111111111111111, \"#46039f\"], [0.2222222222222222, \"#7201a8\"], [0.3333333333333333, \"#9c179e\"], [0.4444444444444444, \"#bd3786\"], [0.5555555555555556, \"#d8576b\"], [0.6666666666666666, \"#ed7953\"], [0.7777777777777778, \"#fb9f3a\"], [0.8888888888888888, \"#fdca26\"], [1.0, \"#f0f921\"]], \"type\": \"heatmapgl\"}], \"histogram\": [{\"marker\": {\"colorbar\": {\"outlinewidth\": 0, \"ticks\": \"\"}}, \"type\": \"histogram\"}], \"histogram2d\": [{\"colorbar\": {\"outlinewidth\": 0, \"ticks\": \"\"}, \"colorscale\": [[0.0, \"#0d0887\"], [0.1111111111111111, \"#46039f\"], [0.2222222222222222, \"#7201a8\"], [0.3333333333333333, \"#9c179e\"], [0.4444444444444444, \"#bd3786\"], [0.5555555555555556, \"#d8576b\"], [0.6666666666666666, \"#ed7953\"], [0.7777777777777778, \"#fb9f3a\"], [0.8888888888888888, \"#fdca26\"], [1.0, \"#f0f921\"]], \"type\": \"histogram2d\"}], \"histogram2dcontour\": [{\"colorbar\": {\"outlinewidth\": 0, \"ticks\": \"\"}, \"colorscale\": [[0.0, \"#0d0887\"], [0.1111111111111111, \"#46039f\"], [0.2222222222222222, \"#7201a8\"], [0.3333333333333333, \"#9c179e\"], [0.4444444444444444, \"#bd3786\"], [0.5555555555555556, \"#d8576b\"], [0.6666666666666666, \"#ed7953\"], [0.7777777777777778, \"#fb9f3a\"], [0.8888888888888888, \"#fdca26\"], [1.0, \"#f0f921\"]], \"type\": \"histogram2dcontour\"}], \"mesh3d\": [{\"colorbar\": {\"outlinewidth\": 0, \"ticks\": \"\"}, \"type\": \"mesh3d\"}], \"parcoords\": [{\"line\": {\"colorbar\": {\"outlinewidth\": 0, \"ticks\": \"\"}}, \"type\": \"parcoords\"}], \"pie\": [{\"automargin\": true, \"type\": \"pie\"}], \"scatter\": [{\"marker\": {\"colorbar\": {\"outlinewidth\": 0, \"ticks\": \"\"}}, \"type\": \"scatter\"}], \"scatter3d\": [{\"line\": {\"colorbar\": {\"outlinewidth\": 0, \"ticks\": \"\"}}, \"marker\": {\"colorbar\": {\"outlinewidth\": 0, \"ticks\": \"\"}}, \"type\": \"scatter3d\"}], \"scattercarpet\": [{\"marker\": {\"colorbar\": {\"outlinewidth\": 0, \"ticks\": \"\"}}, \"type\": \"scattercarpet\"}], \"scattergeo\": [{\"marker\": {\"colorbar\": {\"outlinewidth\": 0, \"ticks\": \"\"}}, \"type\": \"scattergeo\"}], \"scattergl\": [{\"marker\": {\"colorbar\": {\"outlinewidth\": 0, \"ticks\": \"\"}}, \"type\": \"scattergl\"}], \"scattermapbox\": [{\"marker\": {\"colorbar\": {\"outlinewidth\": 0, \"ticks\": \"\"}}, \"type\": \"scattermapbox\"}], \"scatterpolar\": [{\"marker\": {\"colorbar\": {\"outlinewidth\": 0, \"ticks\": \"\"}}, \"type\": \"scatterpolar\"}], \"scatterpolargl\": [{\"marker\": {\"colorbar\": {\"outlinewidth\": 0, \"ticks\": \"\"}}, \"type\": \"scatterpolargl\"}], \"scatterternary\": [{\"marker\": {\"colorbar\": {\"outlinewidth\": 0, \"ticks\": \"\"}}, \"type\": \"scatterternary\"}], \"surface\": [{\"colorbar\": {\"outlinewidth\": 0, \"ticks\": \"\"}, \"colorscale\": [[0.0, \"#0d0887\"], [0.1111111111111111, \"#46039f\"], [0.2222222222222222, \"#7201a8\"], [0.3333333333333333, \"#9c179e\"], [0.4444444444444444, \"#bd3786\"], [0.5555555555555556, \"#d8576b\"], [0.6666666666666666, \"#ed7953\"], [0.7777777777777778, \"#fb9f3a\"], [0.8888888888888888, \"#fdca26\"], [1.0, \"#f0f921\"]], \"type\": \"surface\"}], \"table\": [{\"cells\": {\"fill\": {\"color\": \"#EBF0F8\"}, \"line\": {\"color\": \"white\"}}, \"header\": {\"fill\": {\"color\": \"#C8D4E3\"}, \"line\": {\"color\": \"white\"}}, \"type\": \"table\"}]}, \"layout\": {\"annotationdefaults\": {\"arrowcolor\": \"#2a3f5f\", \"arrowhead\": 0, \"arrowwidth\": 1}, \"coloraxis\": {\"colorbar\": {\"outlinewidth\": 0, \"ticks\": \"\"}}, \"colorscale\": {\"diverging\": [[0, \"#8e0152\"], [0.1, \"#c51b7d\"], [0.2, \"#de77ae\"], [0.3, \"#f1b6da\"], [0.4, \"#fde0ef\"], [0.5, \"#f7f7f7\"], [0.6, \"#e6f5d0\"], [0.7, \"#b8e186\"], [0.8, \"#7fbc41\"], [0.9, \"#4d9221\"], [1, \"#276419\"]], \"sequential\": [[0.0, \"#0d0887\"], [0.1111111111111111, \"#46039f\"], [0.2222222222222222, \"#7201a8\"], [0.3333333333333333, \"#9c179e\"], [0.4444444444444444, \"#bd3786\"], [0.5555555555555556, \"#d8576b\"], [0.6666666666666666, \"#ed7953\"], [0.7777777777777778, \"#fb9f3a\"], [0.8888888888888888, \"#fdca26\"], [1.0, \"#f0f921\"]], \"sequentialminus\": [[0.0, \"#0d0887\"], [0.1111111111111111, \"#46039f\"], [0.2222222222222222, \"#7201a8\"], [0.3333333333333333, \"#9c179e\"], [0.4444444444444444, \"#bd3786\"], [0.5555555555555556, \"#d8576b\"], [0.6666666666666666, \"#ed7953\"], [0.7777777777777778, \"#fb9f3a\"], [0.8888888888888888, \"#fdca26\"], [1.0, \"#f0f921\"]]}, \"colorway\": [\"#636efa\", \"#EF553B\", \"#00cc96\", \"#ab63fa\", \"#FFA15A\", \"#19d3f3\", \"#FF6692\", \"#B6E880\", \"#FF97FF\", \"#FECB52\"], \"font\": {\"color\": \"#2a3f5f\"}, \"geo\": {\"bgcolor\": \"white\", \"lakecolor\": \"white\", \"landcolor\": \"#E5ECF6\", \"showlakes\": true, \"showland\": true, \"subunitcolor\": \"white\"}, \"hoverlabel\": {\"align\": \"left\"}, \"hovermode\": \"closest\", \"mapbox\": {\"style\": \"light\"}, \"paper_bgcolor\": \"white\", \"plot_bgcolor\": \"#E5ECF6\", \"polar\": {\"angularaxis\": {\"gridcolor\": \"white\", \"linecolor\": \"white\", \"ticks\": \"\"}, \"bgcolor\": \"#E5ECF6\", \"radialaxis\": {\"gridcolor\": \"white\", \"linecolor\": \"white\", \"ticks\": \"\"}}, \"scene\": {\"xaxis\": {\"backgroundcolor\": \"#E5ECF6\", \"gridcolor\": \"white\", \"gridwidth\": 2, \"linecolor\": \"white\", \"showbackground\": true, \"ticks\": \"\", \"zerolinecolor\": \"white\"}, \"yaxis\": {\"backgroundcolor\": \"#E5ECF6\", \"gridcolor\": \"white\", \"gridwidth\": 2, \"linecolor\": \"white\", \"showbackground\": true, \"ticks\": \"\", \"zerolinecolor\": \"white\"}, \"zaxis\": {\"backgroundcolor\": \"#E5ECF6\", \"gridcolor\": \"white\", \"gridwidth\": 2, \"linecolor\": \"white\", \"showbackground\": true, \"ticks\": \"\", \"zerolinecolor\": \"white\"}}, \"shapedefaults\": {\"line\": {\"color\": \"#2a3f5f\"}}, \"ternary\": {\"aaxis\": {\"gridcolor\": \"white\", \"linecolor\": \"white\", \"ticks\": \"\"}, \"baxis\": {\"gridcolor\": \"white\", \"linecolor\": \"white\", \"ticks\": \"\"}, \"bgcolor\": \"#E5ECF6\", \"caxis\": {\"gridcolor\": \"white\", \"linecolor\": \"white\", \"ticks\": \"\"}}, \"title\": {\"x\": 0.05}, \"xaxis\": {\"automargin\": true, \"gridcolor\": \"white\", \"linecolor\": \"white\", \"ticks\": \"\", \"title\": {\"standoff\": 15}, \"zerolinecolor\": \"white\", \"zerolinewidth\": 2}, \"yaxis\": {\"automargin\": true, \"gridcolor\": \"white\", \"linecolor\": \"white\", \"ticks\": \"\", \"title\": {\"standoff\": 15}, \"zerolinecolor\": \"white\", \"zerolinewidth\": 2}}}, \"title\": {\"font\": {\"size\": 16}, \"text\": \"<br>Network graph made with Python\"}, \"xaxis\": {\"showgrid\": false, \"showticklabels\": false, \"zeroline\": false}, \"yaxis\": {\"showgrid\": false, \"showticklabels\": false, \"zeroline\": false}},\n",
       "                        {\"responsive\": true}\n",
       "                    ).then(function(){\n",
       "                            \n",
       "var gd = document.getElementById('ca1f6f15-0ecc-45db-b877-09a5022779ed');\n",
       "var x = new MutationObserver(function (mutations, observer) {{\n",
       "        var display = window.getComputedStyle(gd).display;\n",
       "        if (!display || display === 'none') {{\n",
       "            console.log([gd, 'removed!']);\n",
       "            Plotly.purge(gd);\n",
       "            observer.disconnect();\n",
       "        }}\n",
       "}});\n",
       "\n",
       "// Listen for the removal of the full notebook cells\n",
       "var notebookContainer = gd.closest('#notebook-container');\n",
       "if (notebookContainer) {{\n",
       "    x.observe(notebookContainer, {childList: true});\n",
       "}}\n",
       "\n",
       "// Listen for the clearing of the current output cell\n",
       "var outputEl = gd.closest('.output');\n",
       "if (outputEl) {{\n",
       "    x.observe(outputEl, {childList: true});\n",
       "}}\n",
       "\n",
       "                        })\n",
       "                };\n",
       "                });\n",
       "            </script>\n",
       "        </div>"
      ]
     },
     "metadata": {},
     "output_type": "display_data"
    }
   ],
   "source": [
    "ADR = pickle.load(open('Covid_fatigue_3_5_0.4.pkl','rb'))\n",
    "ADR.plotGraph()"
   ]
  },
  {
   "cell_type": "code",
   "execution_count": 79,
   "metadata": {
    "scrolled": true
   },
   "outputs": [
    {
     "name": "stdout",
     "output_type": "stream",
     "text": [
      "Exploring fatigue\n",
      "exhaustion -> fatigue    | 7 |  0.754 | [5711, 6659, 17228, 26545, 44261, 74310, 85090]\n",
      "vomiting   -> fatigue    | 7 |   0.66 | [5711, 6659, 17228, 26545, 44261, 74310, 85090]\n",
      "##raine    -> fatigue    | 7 |   0.66 | [5711, 6659, 17228, 26545, 44261, 74310, 85090]\n",
      "exhausted  -> fatigue    | 7 |  0.714 | [5711, 6659, 17228, 26545, 44261, 74310, 85090]\n",
      "discomfort -> fatigue    | 7 |   0.63 | [5711, 6659, 17228, 26545, 44261, 74310, 85090]\n",
      "nausea     -> fatigue    | 7 |  0.607 | [5711, 6659, 17228, 26545, 44261, 74310, 85090]\n",
      "congestion -> fatigue    | 7 |  0.676 | [5711, 6659, 17228, 26545, 44261, 74310, 85090]\n",
      "headache   -> fatigue    | 7 |  0.689 | [5711, 6659, 17228, 26545, 44261, 74310, 85090]\n",
      "##amps     -> fatigue    | 7 |   0.59 | [5711, 6659, 17228, 26545, 44261, 74310, 85090]\n",
      "--------------------\n",
      "fatigue    -> exhaustion | 2 |  0.709 | [48766, 56289]\n",
      "fatigue    -> vomiting   | 1 |  0.627 | [25972]\n",
      "fatigue    -> ##raine    | 1 |   0.61 | [62687]\n",
      "fatigue    -> exhausted  | 12 |  0.598 | [14161, 21913, 23086, 25658, 26677, 27803, 29257, 32709, 34126, 35324, 67141, 89846]\n",
      "fatigue    -> discomfort | 1 |  0.579 | [55121]\n"
     ]
    }
   ],
   "source": [
    "ADR.graph.describeNode('fatigue')"
   ]
  },
  {
   "cell_type": "code",
   "execution_count": 116,
   "metadata": {},
   "outputs": [
    {
     "data": {
      "application/vnd.plotly.v1+json": {
       "config": {
        "plotlyServerURL": "https://plot.ly"
       },
       "data": [
        {
         "hoverinfo": "none",
         "line": {
          "color": "#888",
          "width": 0.5
         },
         "mode": "lines",
         "type": "scatter",
         "x": [
          250.23,
          205.34,
          null,
          250.23,
          250.23,
          null,
          250.23,
          281.47,
          null,
          250.23,
          306.52,
          null,
          250.23,
          320.43,
          null,
          205.34,
          390.62,
          null,
          205.34,
          362.81,
          null,
          205.34,
          320.43,
          null,
          205.34,
          312.71,
          null,
          205.34,
          250.23,
          null,
          205.34,
          281.47,
          null,
          205.34,
          306.52,
          null,
          205.34,
          218.19,
          null,
          205.34,
          137.65,
          null,
          205.34,
          109.84,
          null,
          205.34,
          109.84,
          null,
          205.34,
          137.65,
          null,
          205.34,
          187.75,
          null,
          250.23,
          218.19,
          null,
          250.23,
          137.65,
          null,
          250.23,
          306.52,
          null,
          281.47,
          109.84,
          null,
          281.47,
          306.52,
          null,
          281.47,
          109.84,
          null,
          281.47,
          390.62,
          null,
          306.52,
          137.65,
          null,
          306.52,
          390.62,
          null,
          306.52,
          312.71,
          null,
          320.43,
          312.71,
          null,
          320.43,
          362.81,
          null,
          320.43,
          187.75,
          null,
          320.43,
          390.62,
          null,
          320.43,
          137.65,
          null,
          390.62,
          312.71,
          null,
          390.62,
          137.65,
          null,
          390.62,
          362.81,
          null,
          390.62,
          218.19,
          null,
          390.62,
          109.84,
          null,
          390.62,
          109.84,
          null,
          390.62,
          137.65,
          null,
          390.62,
          187.75,
          null,
          362.81,
          187.75,
          null,
          362.81,
          312.71,
          null,
          312.71,
          187.75,
          null,
          312.71,
          218.19,
          null,
          312.71,
          137.65,
          null,
          312.71,
          137.65,
          null,
          218.19,
          250.23,
          null,
          218.19,
          156.51,
          null,
          137.65,
          81.355,
          null,
          109.84,
          109.84,
          null,
          109.84,
          39.646,
          null,
          109.84,
          39.646,
          null,
          137.65,
          81.355,
          null
         ],
         "y": [
          152.67,
          208.97,
          null,
          152.67,
          80.674,
          null,
          152.67,
          87.804,
          null,
          152.67,
          107.78,
          null,
          152.67,
          136.65,
          null,
          208.97,
          184.72,
          null,
          208.97,
          242.46,
          null,
          208.97,
          136.65,
          null,
          208.97,
          282.41,
          null,
          208.97,
          80.674,
          null,
          208.97,
          87.804,
          null,
          208.97,
          107.78,
          null,
          208.97,
          293.06,
          null,
          208.97,
          242.46,
          null,
          208.97,
          184.72,
          null,
          208.97,
          120.63,
          null,
          208.97,
          62.891,
          null,
          208.97,
          22.934,
          null,
          80.674,
          293.06,
          null,
          80.674,
          242.46,
          null,
          80.674,
          107.78,
          null,
          87.804,
          184.72,
          null,
          87.804,
          107.78,
          null,
          87.804,
          120.63,
          null,
          87.804,
          184.72,
          null,
          107.78,
          62.891,
          null,
          107.78,
          184.72,
          null,
          107.78,
          282.41,
          null,
          136.65,
          282.41,
          null,
          136.65,
          242.46,
          null,
          136.65,
          22.934,
          null,
          136.65,
          184.72,
          null,
          136.65,
          242.46,
          null,
          184.72,
          282.41,
          null,
          184.72,
          242.46,
          null,
          184.72,
          242.46,
          null,
          184.72,
          293.06,
          null,
          184.72,
          184.72,
          null,
          184.72,
          120.63,
          null,
          184.72,
          62.891,
          null,
          184.72,
          22.934,
          null,
          242.46,
          22.934,
          null,
          242.46,
          282.41,
          null,
          282.41,
          22.934,
          null,
          282.41,
          293.06,
          null,
          282.41,
          242.46,
          null,
          282.41,
          62.891,
          null,
          293.06,
          368.67,
          null,
          293.06,
          347.28,
          null,
          242.46,
          287.35,
          null,
          184.72,
          120.63,
          null,
          184.72,
          200.74,
          null,
          120.63,
          104.61,
          null,
          62.891,
          18,
          null
         ]
        },
        {
         "marker": {
          "color": [],
          "colorscale": [
           [
            0,
            "rgb(255,255,217)"
           ],
           [
            0.125,
            "rgb(237,248,177)"
           ],
           [
            0.25,
            "rgb(199,233,180)"
           ],
           [
            0.375,
            "rgb(127,205,187)"
           ],
           [
            0.5,
            "rgb(65,182,196)"
           ],
           [
            0.625,
            "rgb(29,145,192)"
           ],
           [
            0.75,
            "rgb(34,94,168)"
           ],
           [
            0.875,
            "rgb(37,52,148)"
           ],
           [
            1,
            "rgb(8,29,88)"
           ]
          ],
          "line": {
           "width": 0
          },
          "reversescale": true,
          "showscale": false,
          "size": [
           11.89486552567237,
           5.158924205378973,
           5,
           14.999999999999998,
           5.207823960880195,
           5.7579462102689485,
           6.0880195599022,
           5.330073349633252,
           5.097799511002445,
           5.08557457212714,
           5.012224938875305,
           6.271393643031785,
           5.354523227383863,
           5.50122249388753,
           5.061124694376528,
           5.061124694376528,
           5.012224938875305,
           5.012224938875305,
           5.012224938875305,
           5,
           5.012224938875305
          ]
         },
         "mode": "markers+text",
         "text": [
          "fever",
          "vomiting",
          "##emia",
          "cough",
          "##itis",
          "headache",
          "congestion",
          "fatigue",
          "##raine",
          "##tension",
          "discomfort",
          "coughing",
          "coughed",
          "##gies",
          "exhaustion",
          "##tis",
          "arthritis",
          "##amps",
          "##oping",
          "shouts",
          "nausea"
         ],
         "textposition": "bottom center",
         "type": "scatter",
         "x": [
          250.23,
          205.34,
          250.23,
          281.47,
          306.52,
          320.43,
          390.62,
          362.81,
          312.71,
          218.19,
          137.65,
          109.84,
          109.84,
          137.65,
          187.75,
          250.23,
          156.51,
          81.355,
          39.646,
          39.646,
          81.355
         ],
         "y": [
          152.67,
          208.97,
          80.674,
          87.804,
          107.78,
          136.65,
          184.72,
          242.46,
          282.41,
          293.06,
          242.46,
          184.72,
          120.63,
          62.891,
          22.934,
          368.67,
          347.28,
          287.35,
          200.74,
          104.61,
          18
         ]
        },
        {
         "hoverinfo": "text",
         "marker": {
          "color": [
           0.636,
           0.687,
           0.586,
           0.631,
           0.554,
           0.619,
           0.603,
           0.627,
           0.624,
           0.509,
           0.564,
           0.637,
           0.626,
           0.534,
           0.645,
           0.626,
           0.614,
           0.589,
           0.629,
           0.611,
           0.61
          ],
          "colorbar": {
           "thickness": 15,
           "title": {
            "side": "right",
            "text": "Node Connections"
           },
           "xanchor": "left"
          },
          "colorscale": [
           [
            0,
            "rgb(255,245,240)"
           ],
           [
            0.125,
            "rgb(254,224,210)"
           ],
           [
            0.25,
            "rgb(252,187,161)"
           ],
           [
            0.375,
            "rgb(252,146,114)"
           ],
           [
            0.5,
            "rgb(251,106,74)"
           ],
           [
            0.625,
            "rgb(239,59,44)"
           ],
           [
            0.75,
            "rgb(203,24,29)"
           ],
           [
            0.875,
            "rgb(165,15,21)"
           ],
           [
            1,
            "rgb(103,0,13)"
           ]
          ],
          "line": {
           "width": 1
          },
          "reversescale": false,
          "showscale": true,
          "size": [
           11.89486552567237,
           5.158924205378973,
           5,
           14.999999999999998,
           5.207823960880195,
           5.7579462102689485,
           6.0880195599022,
           5.330073349633252,
           5.097799511002445,
           5.08557457212714,
           5.012224938875305,
           6.271393643031785,
           5.354523227383863,
           5.50122249388753,
           5.061124694376528,
           5.061124694376528,
           5.012224938875305,
           5.012224938875305,
           5.012224938875305,
           5,
           5.012224938875305
          ]
         },
         "mode": "markers",
         "text": [
          "fever <br>Count : 565 <br>Score : 0.636",
          "vomiting <br>Count : 14 <br>Score : 0.687",
          "##emia <br>Count : 1 <br>Score : 0.586",
          "cough <br>Count : 819 <br>Score : 0.631",
          "##itis <br>Count : 18 <br>Score : 0.554",
          "headache <br>Count : 63 <br>Score : 0.619",
          "congestion <br>Count : 90 <br>Score : 0.603",
          "fatigue <br>Count : 28 <br>Score : 0.627",
          "##raine <br>Count : 9 <br>Score : 0.624",
          "##tension <br>Count : 8 <br>Score : 0.509",
          "discomfort <br>Count : 2 <br>Score : 0.564",
          "coughing <br>Count : 105 <br>Score : 0.637",
          "coughed <br>Count : 30 <br>Score : 0.626",
          "##gies <br>Count : 42 <br>Score : 0.534",
          "exhaustion <br>Count : 6 <br>Score : 0.645",
          "##tis <br>Count : 6 <br>Score : 0.626",
          "arthritis <br>Count : 2 <br>Score : 0.614",
          "##amps <br>Count : 2 <br>Score : 0.589",
          "##oping <br>Count : 2 <br>Score : 0.629",
          "shouts <br>Count : 1 <br>Score : 0.611",
          "nausea <br>Count : 2 <br>Score : 0.61"
         ],
         "type": "scatter",
         "x": [
          250.23,
          205.34,
          250.23,
          281.47,
          306.52,
          320.43,
          390.62,
          362.81,
          312.71,
          218.19,
          137.65,
          109.84,
          109.84,
          137.65,
          187.75,
          250.23,
          156.51,
          81.355,
          39.646,
          39.646,
          81.355
         ],
         "y": [
          152.67,
          208.97,
          80.674,
          87.804,
          107.78,
          136.65,
          184.72,
          242.46,
          282.41,
          293.06,
          242.46,
          184.72,
          120.63,
          62.891,
          22.934,
          368.67,
          347.28,
          287.35,
          200.74,
          104.61,
          18
         ]
        }
       ],
       "layout": {
        "hovermode": "closest",
        "margin": {
         "b": 20,
         "l": 5,
         "r": 5,
         "t": 50
        },
        "showlegend": false,
        "template": {
         "data": {
          "bar": [
           {
            "error_x": {
             "color": "#2a3f5f"
            },
            "error_y": {
             "color": "#2a3f5f"
            },
            "marker": {
             "line": {
              "color": "#E5ECF6",
              "width": 0.5
             }
            },
            "type": "bar"
           }
          ],
          "barpolar": [
           {
            "marker": {
             "line": {
              "color": "#E5ECF6",
              "width": 0.5
             }
            },
            "type": "barpolar"
           }
          ],
          "carpet": [
           {
            "aaxis": {
             "endlinecolor": "#2a3f5f",
             "gridcolor": "white",
             "linecolor": "white",
             "minorgridcolor": "white",
             "startlinecolor": "#2a3f5f"
            },
            "baxis": {
             "endlinecolor": "#2a3f5f",
             "gridcolor": "white",
             "linecolor": "white",
             "minorgridcolor": "white",
             "startlinecolor": "#2a3f5f"
            },
            "type": "carpet"
           }
          ],
          "choropleth": [
           {
            "colorbar": {
             "outlinewidth": 0,
             "ticks": ""
            },
            "type": "choropleth"
           }
          ],
          "contour": [
           {
            "colorbar": {
             "outlinewidth": 0,
             "ticks": ""
            },
            "colorscale": [
             [
              0,
              "#0d0887"
             ],
             [
              0.1111111111111111,
              "#46039f"
             ],
             [
              0.2222222222222222,
              "#7201a8"
             ],
             [
              0.3333333333333333,
              "#9c179e"
             ],
             [
              0.4444444444444444,
              "#bd3786"
             ],
             [
              0.5555555555555556,
              "#d8576b"
             ],
             [
              0.6666666666666666,
              "#ed7953"
             ],
             [
              0.7777777777777778,
              "#fb9f3a"
             ],
             [
              0.8888888888888888,
              "#fdca26"
             ],
             [
              1,
              "#f0f921"
             ]
            ],
            "type": "contour"
           }
          ],
          "contourcarpet": [
           {
            "colorbar": {
             "outlinewidth": 0,
             "ticks": ""
            },
            "type": "contourcarpet"
           }
          ],
          "heatmap": [
           {
            "colorbar": {
             "outlinewidth": 0,
             "ticks": ""
            },
            "colorscale": [
             [
              0,
              "#0d0887"
             ],
             [
              0.1111111111111111,
              "#46039f"
             ],
             [
              0.2222222222222222,
              "#7201a8"
             ],
             [
              0.3333333333333333,
              "#9c179e"
             ],
             [
              0.4444444444444444,
              "#bd3786"
             ],
             [
              0.5555555555555556,
              "#d8576b"
             ],
             [
              0.6666666666666666,
              "#ed7953"
             ],
             [
              0.7777777777777778,
              "#fb9f3a"
             ],
             [
              0.8888888888888888,
              "#fdca26"
             ],
             [
              1,
              "#f0f921"
             ]
            ],
            "type": "heatmap"
           }
          ],
          "heatmapgl": [
           {
            "colorbar": {
             "outlinewidth": 0,
             "ticks": ""
            },
            "colorscale": [
             [
              0,
              "#0d0887"
             ],
             [
              0.1111111111111111,
              "#46039f"
             ],
             [
              0.2222222222222222,
              "#7201a8"
             ],
             [
              0.3333333333333333,
              "#9c179e"
             ],
             [
              0.4444444444444444,
              "#bd3786"
             ],
             [
              0.5555555555555556,
              "#d8576b"
             ],
             [
              0.6666666666666666,
              "#ed7953"
             ],
             [
              0.7777777777777778,
              "#fb9f3a"
             ],
             [
              0.8888888888888888,
              "#fdca26"
             ],
             [
              1,
              "#f0f921"
             ]
            ],
            "type": "heatmapgl"
           }
          ],
          "histogram": [
           {
            "marker": {
             "colorbar": {
              "outlinewidth": 0,
              "ticks": ""
             }
            },
            "type": "histogram"
           }
          ],
          "histogram2d": [
           {
            "colorbar": {
             "outlinewidth": 0,
             "ticks": ""
            },
            "colorscale": [
             [
              0,
              "#0d0887"
             ],
             [
              0.1111111111111111,
              "#46039f"
             ],
             [
              0.2222222222222222,
              "#7201a8"
             ],
             [
              0.3333333333333333,
              "#9c179e"
             ],
             [
              0.4444444444444444,
              "#bd3786"
             ],
             [
              0.5555555555555556,
              "#d8576b"
             ],
             [
              0.6666666666666666,
              "#ed7953"
             ],
             [
              0.7777777777777778,
              "#fb9f3a"
             ],
             [
              0.8888888888888888,
              "#fdca26"
             ],
             [
              1,
              "#f0f921"
             ]
            ],
            "type": "histogram2d"
           }
          ],
          "histogram2dcontour": [
           {
            "colorbar": {
             "outlinewidth": 0,
             "ticks": ""
            },
            "colorscale": [
             [
              0,
              "#0d0887"
             ],
             [
              0.1111111111111111,
              "#46039f"
             ],
             [
              0.2222222222222222,
              "#7201a8"
             ],
             [
              0.3333333333333333,
              "#9c179e"
             ],
             [
              0.4444444444444444,
              "#bd3786"
             ],
             [
              0.5555555555555556,
              "#d8576b"
             ],
             [
              0.6666666666666666,
              "#ed7953"
             ],
             [
              0.7777777777777778,
              "#fb9f3a"
             ],
             [
              0.8888888888888888,
              "#fdca26"
             ],
             [
              1,
              "#f0f921"
             ]
            ],
            "type": "histogram2dcontour"
           }
          ],
          "mesh3d": [
           {
            "colorbar": {
             "outlinewidth": 0,
             "ticks": ""
            },
            "type": "mesh3d"
           }
          ],
          "parcoords": [
           {
            "line": {
             "colorbar": {
              "outlinewidth": 0,
              "ticks": ""
             }
            },
            "type": "parcoords"
           }
          ],
          "pie": [
           {
            "automargin": true,
            "type": "pie"
           }
          ],
          "scatter": [
           {
            "marker": {
             "colorbar": {
              "outlinewidth": 0,
              "ticks": ""
             }
            },
            "type": "scatter"
           }
          ],
          "scatter3d": [
           {
            "line": {
             "colorbar": {
              "outlinewidth": 0,
              "ticks": ""
             }
            },
            "marker": {
             "colorbar": {
              "outlinewidth": 0,
              "ticks": ""
             }
            },
            "type": "scatter3d"
           }
          ],
          "scattercarpet": [
           {
            "marker": {
             "colorbar": {
              "outlinewidth": 0,
              "ticks": ""
             }
            },
            "type": "scattercarpet"
           }
          ],
          "scattergeo": [
           {
            "marker": {
             "colorbar": {
              "outlinewidth": 0,
              "ticks": ""
             }
            },
            "type": "scattergeo"
           }
          ],
          "scattergl": [
           {
            "marker": {
             "colorbar": {
              "outlinewidth": 0,
              "ticks": ""
             }
            },
            "type": "scattergl"
           }
          ],
          "scattermapbox": [
           {
            "marker": {
             "colorbar": {
              "outlinewidth": 0,
              "ticks": ""
             }
            },
            "type": "scattermapbox"
           }
          ],
          "scatterpolar": [
           {
            "marker": {
             "colorbar": {
              "outlinewidth": 0,
              "ticks": ""
             }
            },
            "type": "scatterpolar"
           }
          ],
          "scatterpolargl": [
           {
            "marker": {
             "colorbar": {
              "outlinewidth": 0,
              "ticks": ""
             }
            },
            "type": "scatterpolargl"
           }
          ],
          "scatterternary": [
           {
            "marker": {
             "colorbar": {
              "outlinewidth": 0,
              "ticks": ""
             }
            },
            "type": "scatterternary"
           }
          ],
          "surface": [
           {
            "colorbar": {
             "outlinewidth": 0,
             "ticks": ""
            },
            "colorscale": [
             [
              0,
              "#0d0887"
             ],
             [
              0.1111111111111111,
              "#46039f"
             ],
             [
              0.2222222222222222,
              "#7201a8"
             ],
             [
              0.3333333333333333,
              "#9c179e"
             ],
             [
              0.4444444444444444,
              "#bd3786"
             ],
             [
              0.5555555555555556,
              "#d8576b"
             ],
             [
              0.6666666666666666,
              "#ed7953"
             ],
             [
              0.7777777777777778,
              "#fb9f3a"
             ],
             [
              0.8888888888888888,
              "#fdca26"
             ],
             [
              1,
              "#f0f921"
             ]
            ],
            "type": "surface"
           }
          ],
          "table": [
           {
            "cells": {
             "fill": {
              "color": "#EBF0F8"
             },
             "line": {
              "color": "white"
             }
            },
            "header": {
             "fill": {
              "color": "#C8D4E3"
             },
             "line": {
              "color": "white"
             }
            },
            "type": "table"
           }
          ]
         },
         "layout": {
          "annotationdefaults": {
           "arrowcolor": "#2a3f5f",
           "arrowhead": 0,
           "arrowwidth": 1
          },
          "coloraxis": {
           "colorbar": {
            "outlinewidth": 0,
            "ticks": ""
           }
          },
          "colorscale": {
           "diverging": [
            [
             0,
             "#8e0152"
            ],
            [
             0.1,
             "#c51b7d"
            ],
            [
             0.2,
             "#de77ae"
            ],
            [
             0.3,
             "#f1b6da"
            ],
            [
             0.4,
             "#fde0ef"
            ],
            [
             0.5,
             "#f7f7f7"
            ],
            [
             0.6,
             "#e6f5d0"
            ],
            [
             0.7,
             "#b8e186"
            ],
            [
             0.8,
             "#7fbc41"
            ],
            [
             0.9,
             "#4d9221"
            ],
            [
             1,
             "#276419"
            ]
           ],
           "sequential": [
            [
             0,
             "#0d0887"
            ],
            [
             0.1111111111111111,
             "#46039f"
            ],
            [
             0.2222222222222222,
             "#7201a8"
            ],
            [
             0.3333333333333333,
             "#9c179e"
            ],
            [
             0.4444444444444444,
             "#bd3786"
            ],
            [
             0.5555555555555556,
             "#d8576b"
            ],
            [
             0.6666666666666666,
             "#ed7953"
            ],
            [
             0.7777777777777778,
             "#fb9f3a"
            ],
            [
             0.8888888888888888,
             "#fdca26"
            ],
            [
             1,
             "#f0f921"
            ]
           ],
           "sequentialminus": [
            [
             0,
             "#0d0887"
            ],
            [
             0.1111111111111111,
             "#46039f"
            ],
            [
             0.2222222222222222,
             "#7201a8"
            ],
            [
             0.3333333333333333,
             "#9c179e"
            ],
            [
             0.4444444444444444,
             "#bd3786"
            ],
            [
             0.5555555555555556,
             "#d8576b"
            ],
            [
             0.6666666666666666,
             "#ed7953"
            ],
            [
             0.7777777777777778,
             "#fb9f3a"
            ],
            [
             0.8888888888888888,
             "#fdca26"
            ],
            [
             1,
             "#f0f921"
            ]
           ]
          },
          "colorway": [
           "#636efa",
           "#EF553B",
           "#00cc96",
           "#ab63fa",
           "#FFA15A",
           "#19d3f3",
           "#FF6692",
           "#B6E880",
           "#FF97FF",
           "#FECB52"
          ],
          "font": {
           "color": "#2a3f5f"
          },
          "geo": {
           "bgcolor": "white",
           "lakecolor": "white",
           "landcolor": "#E5ECF6",
           "showlakes": true,
           "showland": true,
           "subunitcolor": "white"
          },
          "hoverlabel": {
           "align": "left"
          },
          "hovermode": "closest",
          "mapbox": {
           "style": "light"
          },
          "paper_bgcolor": "white",
          "plot_bgcolor": "#E5ECF6",
          "polar": {
           "angularaxis": {
            "gridcolor": "white",
            "linecolor": "white",
            "ticks": ""
           },
           "bgcolor": "#E5ECF6",
           "radialaxis": {
            "gridcolor": "white",
            "linecolor": "white",
            "ticks": ""
           }
          },
          "scene": {
           "xaxis": {
            "backgroundcolor": "#E5ECF6",
            "gridcolor": "white",
            "gridwidth": 2,
            "linecolor": "white",
            "showbackground": true,
            "ticks": "",
            "zerolinecolor": "white"
           },
           "yaxis": {
            "backgroundcolor": "#E5ECF6",
            "gridcolor": "white",
            "gridwidth": 2,
            "linecolor": "white",
            "showbackground": true,
            "ticks": "",
            "zerolinecolor": "white"
           },
           "zaxis": {
            "backgroundcolor": "#E5ECF6",
            "gridcolor": "white",
            "gridwidth": 2,
            "linecolor": "white",
            "showbackground": true,
            "ticks": "",
            "zerolinecolor": "white"
           }
          },
          "shapedefaults": {
           "line": {
            "color": "#2a3f5f"
           }
          },
          "ternary": {
           "aaxis": {
            "gridcolor": "white",
            "linecolor": "white",
            "ticks": ""
           },
           "baxis": {
            "gridcolor": "white",
            "linecolor": "white",
            "ticks": ""
           },
           "bgcolor": "#E5ECF6",
           "caxis": {
            "gridcolor": "white",
            "linecolor": "white",
            "ticks": ""
           }
          },
          "title": {
           "x": 0.05
          },
          "xaxis": {
           "automargin": true,
           "gridcolor": "white",
           "linecolor": "white",
           "ticks": "",
           "title": {
            "standoff": 15
           },
           "zerolinecolor": "white",
           "zerolinewidth": 2
          },
          "yaxis": {
           "automargin": true,
           "gridcolor": "white",
           "linecolor": "white",
           "ticks": "",
           "title": {
            "standoff": 15
           },
           "zerolinecolor": "white",
           "zerolinewidth": 2
          }
         }
        },
        "title": {
         "font": {
          "size": 16
         },
         "text": "<br>Network graph made with Python"
        },
        "xaxis": {
         "showgrid": false,
         "showticklabels": false,
         "zeroline": false
        },
        "yaxis": {
         "showgrid": false,
         "showticklabels": false,
         "zeroline": false
        }
       }
      },
      "text/html": [
       "<div>\n",
       "        \n",
       "        \n",
       "            <div id=\"f00adbc3-f275-4810-ba85-e87d5c71d107\" class=\"plotly-graph-div\" style=\"height:525px; width:100%;\"></div>\n",
       "            <script type=\"text/javascript\">\n",
       "                require([\"plotly\"], function(Plotly) {\n",
       "                    window.PLOTLYENV=window.PLOTLYENV || {};\n",
       "                    \n",
       "                if (document.getElementById(\"f00adbc3-f275-4810-ba85-e87d5c71d107\")) {\n",
       "                    Plotly.newPlot(\n",
       "                        'f00adbc3-f275-4810-ba85-e87d5c71d107',\n",
       "                        [{\"hoverinfo\": \"none\", \"line\": {\"color\": \"#888\", \"width\": 0.5}, \"mode\": \"lines\", \"type\": \"scatter\", \"x\": [250.23, 205.34, null, 250.23, 250.23, null, 250.23, 281.47, null, 250.23, 306.52, null, 250.23, 320.43, null, 205.34, 390.62, null, 205.34, 362.81, null, 205.34, 320.43, null, 205.34, 312.71, null, 205.34, 250.23, null, 205.34, 281.47, null, 205.34, 306.52, null, 205.34, 218.19, null, 205.34, 137.65, null, 205.34, 109.84, null, 205.34, 109.84, null, 205.34, 137.65, null, 205.34, 187.75, null, 250.23, 218.19, null, 250.23, 137.65, null, 250.23, 306.52, null, 281.47, 109.84, null, 281.47, 306.52, null, 281.47, 109.84, null, 281.47, 390.62, null, 306.52, 137.65, null, 306.52, 390.62, null, 306.52, 312.71, null, 320.43, 312.71, null, 320.43, 362.81, null, 320.43, 187.75, null, 320.43, 390.62, null, 320.43, 137.65, null, 390.62, 312.71, null, 390.62, 137.65, null, 390.62, 362.81, null, 390.62, 218.19, null, 390.62, 109.84, null, 390.62, 109.84, null, 390.62, 137.65, null, 390.62, 187.75, null, 362.81, 187.75, null, 362.81, 312.71, null, 312.71, 187.75, null, 312.71, 218.19, null, 312.71, 137.65, null, 312.71, 137.65, null, 218.19, 250.23, null, 218.19, 156.51, null, 137.65, 81.355, null, 109.84, 109.84, null, 109.84, 39.646, null, 109.84, 39.646, null, 137.65, 81.355, null], \"y\": [152.67, 208.97, null, 152.67, 80.674, null, 152.67, 87.804, null, 152.67, 107.78, null, 152.67, 136.65, null, 208.97, 184.72, null, 208.97, 242.46, null, 208.97, 136.65, null, 208.97, 282.41, null, 208.97, 80.674, null, 208.97, 87.804, null, 208.97, 107.78, null, 208.97, 293.06, null, 208.97, 242.46, null, 208.97, 184.72, null, 208.97, 120.63, null, 208.97, 62.891, null, 208.97, 22.934, null, 80.674, 293.06, null, 80.674, 242.46, null, 80.674, 107.78, null, 87.804, 184.72, null, 87.804, 107.78, null, 87.804, 120.63, null, 87.804, 184.72, null, 107.78, 62.891, null, 107.78, 184.72, null, 107.78, 282.41, null, 136.65, 282.41, null, 136.65, 242.46, null, 136.65, 22.934, null, 136.65, 184.72, null, 136.65, 242.46, null, 184.72, 282.41, null, 184.72, 242.46, null, 184.72, 242.46, null, 184.72, 293.06, null, 184.72, 184.72, null, 184.72, 120.63, null, 184.72, 62.891, null, 184.72, 22.934, null, 242.46, 22.934, null, 242.46, 282.41, null, 282.41, 22.934, null, 282.41, 293.06, null, 282.41, 242.46, null, 282.41, 62.891, null, 293.06, 368.67, null, 293.06, 347.28, null, 242.46, 287.35, null, 184.72, 120.63, null, 184.72, 200.74, null, 120.63, 104.61, null, 62.891, 18.0, null]}, {\"marker\": {\"color\": [], \"colorscale\": [[0.0, \"rgb(255,255,217)\"], [0.125, \"rgb(237,248,177)\"], [0.25, \"rgb(199,233,180)\"], [0.375, \"rgb(127,205,187)\"], [0.5, \"rgb(65,182,196)\"], [0.625, \"rgb(29,145,192)\"], [0.75, \"rgb(34,94,168)\"], [0.875, \"rgb(37,52,148)\"], [1.0, \"rgb(8,29,88)\"]], \"line\": {\"width\": 0}, \"reversescale\": true, \"showscale\": false, \"size\": [11.89486552567237, 5.158924205378973, 5.0, 14.999999999999998, 5.207823960880195, 5.7579462102689485, 6.0880195599022, 5.330073349633252, 5.097799511002445, 5.08557457212714, 5.012224938875305, 6.271393643031785, 5.354523227383863, 5.50122249388753, 5.061124694376528, 5.061124694376528, 5.012224938875305, 5.012224938875305, 5.012224938875305, 5.0, 5.012224938875305]}, \"mode\": \"markers+text\", \"text\": [\"fever\", \"vomiting\", \"##emia\", \"cough\", \"##itis\", \"headache\", \"congestion\", \"fatigue\", \"##raine\", \"##tension\", \"discomfort\", \"coughing\", \"coughed\", \"##gies\", \"exhaustion\", \"##tis\", \"arthritis\", \"##amps\", \"##oping\", \"shouts\", \"nausea\"], \"textposition\": \"bottom center\", \"type\": \"scatter\", \"x\": [250.23, 205.34, 250.23, 281.47, 306.52, 320.43, 390.62, 362.81, 312.71, 218.19, 137.65, 109.84, 109.84, 137.65, 187.75, 250.23, 156.51, 81.355, 39.646, 39.646, 81.355], \"y\": [152.67, 208.97, 80.674, 87.804, 107.78, 136.65, 184.72, 242.46, 282.41, 293.06, 242.46, 184.72, 120.63, 62.891, 22.934, 368.67, 347.28, 287.35, 200.74, 104.61, 18.0]}, {\"hoverinfo\": \"text\", \"marker\": {\"color\": [0.636, 0.687, 0.586, 0.631, 0.554, 0.619, 0.603, 0.627, 0.624, 0.509, 0.564, 0.637, 0.626, 0.534, 0.645, 0.626, 0.614, 0.589, 0.629, 0.611, 0.61], \"colorbar\": {\"thickness\": 15, \"title\": {\"side\": \"right\", \"text\": \"Node Connections\"}, \"xanchor\": \"left\"}, \"colorscale\": [[0.0, \"rgb(255,245,240)\"], [0.125, \"rgb(254,224,210)\"], [0.25, \"rgb(252,187,161)\"], [0.375, \"rgb(252,146,114)\"], [0.5, \"rgb(251,106,74)\"], [0.625, \"rgb(239,59,44)\"], [0.75, \"rgb(203,24,29)\"], [0.875, \"rgb(165,15,21)\"], [1.0, \"rgb(103,0,13)\"]], \"line\": {\"width\": 1}, \"reversescale\": false, \"showscale\": true, \"size\": [11.89486552567237, 5.158924205378973, 5.0, 14.999999999999998, 5.207823960880195, 5.7579462102689485, 6.0880195599022, 5.330073349633252, 5.097799511002445, 5.08557457212714, 5.012224938875305, 6.271393643031785, 5.354523227383863, 5.50122249388753, 5.061124694376528, 5.061124694376528, 5.012224938875305, 5.012224938875305, 5.012224938875305, 5.0, 5.012224938875305]}, \"mode\": \"markers\", \"text\": [\"fever <br>Count : 565 <br>Score : 0.636\", \"vomiting <br>Count : 14 <br>Score : 0.687\", \"##emia <br>Count : 1 <br>Score : 0.586\", \"cough <br>Count : 819 <br>Score : 0.631\", \"##itis <br>Count : 18 <br>Score : 0.554\", \"headache <br>Count : 63 <br>Score : 0.619\", \"congestion <br>Count : 90 <br>Score : 0.603\", \"fatigue <br>Count : 28 <br>Score : 0.627\", \"##raine <br>Count : 9 <br>Score : 0.624\", \"##tension <br>Count : 8 <br>Score : 0.509\", \"discomfort <br>Count : 2 <br>Score : 0.564\", \"coughing <br>Count : 105 <br>Score : 0.637\", \"coughed <br>Count : 30 <br>Score : 0.626\", \"##gies <br>Count : 42 <br>Score : 0.534\", \"exhaustion <br>Count : 6 <br>Score : 0.645\", \"##tis <br>Count : 6 <br>Score : 0.626\", \"arthritis <br>Count : 2 <br>Score : 0.614\", \"##amps <br>Count : 2 <br>Score : 0.589\", \"##oping <br>Count : 2 <br>Score : 0.629\", \"shouts <br>Count : 1 <br>Score : 0.611\", \"nausea <br>Count : 2 <br>Score : 0.61\"], \"type\": \"scatter\", \"x\": [250.23, 205.34, 250.23, 281.47, 306.52, 320.43, 390.62, 362.81, 312.71, 218.19, 137.65, 109.84, 109.84, 137.65, 187.75, 250.23, 156.51, 81.355, 39.646, 39.646, 81.355], \"y\": [152.67, 208.97, 80.674, 87.804, 107.78, 136.65, 184.72, 242.46, 282.41, 293.06, 242.46, 184.72, 120.63, 62.891, 22.934, 368.67, 347.28, 287.35, 200.74, 104.61, 18.0]}],\n",
       "                        {\"hovermode\": \"closest\", \"margin\": {\"b\": 20, \"l\": 5, \"r\": 5, \"t\": 50}, \"showlegend\": false, \"template\": {\"data\": {\"bar\": [{\"error_x\": {\"color\": \"#2a3f5f\"}, \"error_y\": {\"color\": \"#2a3f5f\"}, \"marker\": {\"line\": {\"color\": \"#E5ECF6\", \"width\": 0.5}}, \"type\": \"bar\"}], \"barpolar\": [{\"marker\": {\"line\": {\"color\": \"#E5ECF6\", \"width\": 0.5}}, \"type\": \"barpolar\"}], \"carpet\": [{\"aaxis\": {\"endlinecolor\": \"#2a3f5f\", \"gridcolor\": \"white\", \"linecolor\": \"white\", \"minorgridcolor\": \"white\", \"startlinecolor\": \"#2a3f5f\"}, \"baxis\": {\"endlinecolor\": \"#2a3f5f\", \"gridcolor\": \"white\", \"linecolor\": \"white\", \"minorgridcolor\": \"white\", \"startlinecolor\": \"#2a3f5f\"}, \"type\": \"carpet\"}], \"choropleth\": [{\"colorbar\": {\"outlinewidth\": 0, \"ticks\": \"\"}, \"type\": \"choropleth\"}], \"contour\": [{\"colorbar\": {\"outlinewidth\": 0, \"ticks\": \"\"}, \"colorscale\": [[0.0, \"#0d0887\"], [0.1111111111111111, \"#46039f\"], [0.2222222222222222, \"#7201a8\"], [0.3333333333333333, \"#9c179e\"], [0.4444444444444444, \"#bd3786\"], [0.5555555555555556, \"#d8576b\"], [0.6666666666666666, \"#ed7953\"], [0.7777777777777778, \"#fb9f3a\"], [0.8888888888888888, \"#fdca26\"], [1.0, \"#f0f921\"]], \"type\": \"contour\"}], \"contourcarpet\": [{\"colorbar\": {\"outlinewidth\": 0, \"ticks\": \"\"}, \"type\": \"contourcarpet\"}], \"heatmap\": [{\"colorbar\": {\"outlinewidth\": 0, \"ticks\": \"\"}, \"colorscale\": [[0.0, \"#0d0887\"], [0.1111111111111111, \"#46039f\"], [0.2222222222222222, \"#7201a8\"], [0.3333333333333333, \"#9c179e\"], [0.4444444444444444, \"#bd3786\"], [0.5555555555555556, \"#d8576b\"], [0.6666666666666666, \"#ed7953\"], [0.7777777777777778, \"#fb9f3a\"], [0.8888888888888888, \"#fdca26\"], [1.0, \"#f0f921\"]], \"type\": \"heatmap\"}], \"heatmapgl\": [{\"colorbar\": {\"outlinewidth\": 0, \"ticks\": \"\"}, \"colorscale\": [[0.0, \"#0d0887\"], [0.1111111111111111, \"#46039f\"], [0.2222222222222222, \"#7201a8\"], [0.3333333333333333, \"#9c179e\"], [0.4444444444444444, \"#bd3786\"], [0.5555555555555556, \"#d8576b\"], [0.6666666666666666, \"#ed7953\"], [0.7777777777777778, \"#fb9f3a\"], [0.8888888888888888, \"#fdca26\"], [1.0, \"#f0f921\"]], \"type\": \"heatmapgl\"}], \"histogram\": [{\"marker\": {\"colorbar\": {\"outlinewidth\": 0, \"ticks\": \"\"}}, \"type\": \"histogram\"}], \"histogram2d\": [{\"colorbar\": {\"outlinewidth\": 0, \"ticks\": \"\"}, \"colorscale\": [[0.0, \"#0d0887\"], [0.1111111111111111, \"#46039f\"], [0.2222222222222222, \"#7201a8\"], [0.3333333333333333, \"#9c179e\"], [0.4444444444444444, \"#bd3786\"], [0.5555555555555556, \"#d8576b\"], [0.6666666666666666, \"#ed7953\"], [0.7777777777777778, \"#fb9f3a\"], [0.8888888888888888, \"#fdca26\"], [1.0, \"#f0f921\"]], \"type\": \"histogram2d\"}], \"histogram2dcontour\": [{\"colorbar\": {\"outlinewidth\": 0, \"ticks\": \"\"}, \"colorscale\": [[0.0, \"#0d0887\"], [0.1111111111111111, \"#46039f\"], [0.2222222222222222, \"#7201a8\"], [0.3333333333333333, \"#9c179e\"], [0.4444444444444444, \"#bd3786\"], [0.5555555555555556, \"#d8576b\"], [0.6666666666666666, \"#ed7953\"], [0.7777777777777778, \"#fb9f3a\"], [0.8888888888888888, \"#fdca26\"], [1.0, \"#f0f921\"]], \"type\": \"histogram2dcontour\"}], \"mesh3d\": [{\"colorbar\": {\"outlinewidth\": 0, \"ticks\": \"\"}, \"type\": \"mesh3d\"}], \"parcoords\": [{\"line\": {\"colorbar\": {\"outlinewidth\": 0, \"ticks\": \"\"}}, \"type\": \"parcoords\"}], \"pie\": [{\"automargin\": true, \"type\": \"pie\"}], \"scatter\": [{\"marker\": {\"colorbar\": {\"outlinewidth\": 0, \"ticks\": \"\"}}, \"type\": \"scatter\"}], \"scatter3d\": [{\"line\": {\"colorbar\": {\"outlinewidth\": 0, \"ticks\": \"\"}}, \"marker\": {\"colorbar\": {\"outlinewidth\": 0, \"ticks\": \"\"}}, \"type\": \"scatter3d\"}], \"scattercarpet\": [{\"marker\": {\"colorbar\": {\"outlinewidth\": 0, \"ticks\": \"\"}}, \"type\": \"scattercarpet\"}], \"scattergeo\": [{\"marker\": {\"colorbar\": {\"outlinewidth\": 0, \"ticks\": \"\"}}, \"type\": \"scattergeo\"}], \"scattergl\": [{\"marker\": {\"colorbar\": {\"outlinewidth\": 0, \"ticks\": \"\"}}, \"type\": \"scattergl\"}], \"scattermapbox\": [{\"marker\": {\"colorbar\": {\"outlinewidth\": 0, \"ticks\": \"\"}}, \"type\": \"scattermapbox\"}], \"scatterpolar\": [{\"marker\": {\"colorbar\": {\"outlinewidth\": 0, \"ticks\": \"\"}}, \"type\": \"scatterpolar\"}], \"scatterpolargl\": [{\"marker\": {\"colorbar\": {\"outlinewidth\": 0, \"ticks\": \"\"}}, \"type\": \"scatterpolargl\"}], \"scatterternary\": [{\"marker\": {\"colorbar\": {\"outlinewidth\": 0, \"ticks\": \"\"}}, \"type\": \"scatterternary\"}], \"surface\": [{\"colorbar\": {\"outlinewidth\": 0, \"ticks\": \"\"}, \"colorscale\": [[0.0, \"#0d0887\"], [0.1111111111111111, \"#46039f\"], [0.2222222222222222, \"#7201a8\"], [0.3333333333333333, \"#9c179e\"], [0.4444444444444444, \"#bd3786\"], [0.5555555555555556, \"#d8576b\"], [0.6666666666666666, \"#ed7953\"], [0.7777777777777778, \"#fb9f3a\"], [0.8888888888888888, \"#fdca26\"], [1.0, \"#f0f921\"]], \"type\": \"surface\"}], \"table\": [{\"cells\": {\"fill\": {\"color\": \"#EBF0F8\"}, \"line\": {\"color\": \"white\"}}, \"header\": {\"fill\": {\"color\": \"#C8D4E3\"}, \"line\": {\"color\": \"white\"}}, \"type\": \"table\"}]}, \"layout\": {\"annotationdefaults\": {\"arrowcolor\": \"#2a3f5f\", \"arrowhead\": 0, \"arrowwidth\": 1}, \"coloraxis\": {\"colorbar\": {\"outlinewidth\": 0, \"ticks\": \"\"}}, \"colorscale\": {\"diverging\": [[0, \"#8e0152\"], [0.1, \"#c51b7d\"], [0.2, \"#de77ae\"], [0.3, \"#f1b6da\"], [0.4, \"#fde0ef\"], [0.5, \"#f7f7f7\"], [0.6, \"#e6f5d0\"], [0.7, \"#b8e186\"], [0.8, \"#7fbc41\"], [0.9, \"#4d9221\"], [1, \"#276419\"]], \"sequential\": [[0.0, \"#0d0887\"], [0.1111111111111111, \"#46039f\"], [0.2222222222222222, \"#7201a8\"], [0.3333333333333333, \"#9c179e\"], [0.4444444444444444, \"#bd3786\"], [0.5555555555555556, \"#d8576b\"], [0.6666666666666666, \"#ed7953\"], [0.7777777777777778, \"#fb9f3a\"], [0.8888888888888888, \"#fdca26\"], [1.0, \"#f0f921\"]], \"sequentialminus\": [[0.0, \"#0d0887\"], [0.1111111111111111, \"#46039f\"], [0.2222222222222222, \"#7201a8\"], [0.3333333333333333, \"#9c179e\"], [0.4444444444444444, \"#bd3786\"], [0.5555555555555556, \"#d8576b\"], [0.6666666666666666, \"#ed7953\"], [0.7777777777777778, \"#fb9f3a\"], [0.8888888888888888, \"#fdca26\"], [1.0, \"#f0f921\"]]}, \"colorway\": [\"#636efa\", \"#EF553B\", \"#00cc96\", \"#ab63fa\", \"#FFA15A\", \"#19d3f3\", \"#FF6692\", \"#B6E880\", \"#FF97FF\", \"#FECB52\"], \"font\": {\"color\": \"#2a3f5f\"}, \"geo\": {\"bgcolor\": \"white\", \"lakecolor\": \"white\", \"landcolor\": \"#E5ECF6\", \"showlakes\": true, \"showland\": true, \"subunitcolor\": \"white\"}, \"hoverlabel\": {\"align\": \"left\"}, \"hovermode\": \"closest\", \"mapbox\": {\"style\": \"light\"}, \"paper_bgcolor\": \"white\", \"plot_bgcolor\": \"#E5ECF6\", \"polar\": {\"angularaxis\": {\"gridcolor\": \"white\", \"linecolor\": \"white\", \"ticks\": \"\"}, \"bgcolor\": \"#E5ECF6\", \"radialaxis\": {\"gridcolor\": \"white\", \"linecolor\": \"white\", \"ticks\": \"\"}}, \"scene\": {\"xaxis\": {\"backgroundcolor\": \"#E5ECF6\", \"gridcolor\": \"white\", \"gridwidth\": 2, \"linecolor\": \"white\", \"showbackground\": true, \"ticks\": \"\", \"zerolinecolor\": \"white\"}, \"yaxis\": {\"backgroundcolor\": \"#E5ECF6\", \"gridcolor\": \"white\", \"gridwidth\": 2, \"linecolor\": \"white\", \"showbackground\": true, \"ticks\": \"\", \"zerolinecolor\": \"white\"}, \"zaxis\": {\"backgroundcolor\": \"#E5ECF6\", \"gridcolor\": \"white\", \"gridwidth\": 2, \"linecolor\": \"white\", \"showbackground\": true, \"ticks\": \"\", \"zerolinecolor\": \"white\"}}, \"shapedefaults\": {\"line\": {\"color\": \"#2a3f5f\"}}, \"ternary\": {\"aaxis\": {\"gridcolor\": \"white\", \"linecolor\": \"white\", \"ticks\": \"\"}, \"baxis\": {\"gridcolor\": \"white\", \"linecolor\": \"white\", \"ticks\": \"\"}, \"bgcolor\": \"#E5ECF6\", \"caxis\": {\"gridcolor\": \"white\", \"linecolor\": \"white\", \"ticks\": \"\"}}, \"title\": {\"x\": 0.05}, \"xaxis\": {\"automargin\": true, \"gridcolor\": \"white\", \"linecolor\": \"white\", \"ticks\": \"\", \"title\": {\"standoff\": 15}, \"zerolinecolor\": \"white\", \"zerolinewidth\": 2}, \"yaxis\": {\"automargin\": true, \"gridcolor\": \"white\", \"linecolor\": \"white\", \"ticks\": \"\", \"title\": {\"standoff\": 15}, \"zerolinecolor\": \"white\", \"zerolinewidth\": 2}}}, \"title\": {\"font\": {\"size\": 16}, \"text\": \"<br>Network graph made with Python\"}, \"xaxis\": {\"showgrid\": false, \"showticklabels\": false, \"zeroline\": false}, \"yaxis\": {\"showgrid\": false, \"showticklabels\": false, \"zeroline\": false}},\n",
       "                        {\"responsive\": true}\n",
       "                    ).then(function(){\n",
       "                            \n",
       "var gd = document.getElementById('f00adbc3-f275-4810-ba85-e87d5c71d107');\n",
       "var x = new MutationObserver(function (mutations, observer) {{\n",
       "        var display = window.getComputedStyle(gd).display;\n",
       "        if (!display || display === 'none') {{\n",
       "            console.log([gd, 'removed!']);\n",
       "            Plotly.purge(gd);\n",
       "            observer.disconnect();\n",
       "        }}\n",
       "}});\n",
       "\n",
       "// Listen for the removal of the full notebook cells\n",
       "var notebookContainer = gd.closest('#notebook-container');\n",
       "if (notebookContainer) {{\n",
       "    x.observe(notebookContainer, {childList: true});\n",
       "}}\n",
       "\n",
       "// Listen for the clearing of the current output cell\n",
       "var outputEl = gd.closest('.output');\n",
       "if (outputEl) {{\n",
       "    x.observe(outputEl, {childList: true});\n",
       "}}\n",
       "\n",
       "                        })\n",
       "                };\n",
       "                });\n",
       "            </script>\n",
       "        </div>"
      ]
     },
     "metadata": {},
     "output_type": "display_data"
    }
   ],
   "source": [
    "ADR = pickle.load(open('Covid_fever_3_5_0.4.pkl','rb'))\n",
    "ADR.plotGraph()"
   ]
  },
  {
   "cell_type": "code",
   "execution_count": 31,
   "metadata": {},
   "outputs": [
    {
     "name": "stdout",
     "output_type": "stream",
     "text": [
      "Exploring ##raine\n",
      "vomiting   -> ##raine    | 1 |  0.569 | [62687]\n",
      "##itis     -> ##raine    | 1 |  0.519 | [62687]\n",
      "headache   -> ##raine    | 1 |  0.679 | [62687]\n",
      "congestion -> ##raine    | 1 |  0.652 | [62687]\n",
      "fatigue    -> ##raine    | 1 |  0.671 | [62687]\n",
      "##tension  -> ##raine    | 1 |  0.633 | [62687]\n",
      "discomfort -> ##raine    | 1 |  0.614 | [62687]\n",
      "##gies     -> ##raine    | 1 |  0.612 | [62687]\n",
      "exhaustion -> ##raine    | 1 |  0.664 | [62687]\n",
      "--------------------\n",
      "##raine    -> vomiting   | 1 |  0.692 | [25972]\n",
      "##raine    -> headache   | 9 |  0.669 | [2204, 4439, 7803, 26545, 32268, 48766, 54646, 69808, 90452]\n",
      "##raine    -> exhaustion | 2 |  0.612 | [48766, 56289]\n",
      "##raine    -> fatigue    | 7 |  0.609 | [5711, 6659, 17228, 26545, 44261, 74310, 85090]\n",
      "##raine    -> congestion | 9 |  0.601 | [18149, 26140, 39571, 39704, 60937, 62642, 65125, 75523, 86469]\n"
     ]
    }
   ],
   "source": [
    "ADR.graph.describeNode('##raine')"
   ]
  },
  {
   "cell_type": "code",
   "execution_count": 72,
   "metadata": {},
   "outputs": [
    {
     "data": {
      "text/plain": [
       "'One thing is for certain. There can be a #Coronapocalypse, #CoronaVirusPandemic or a nuclear blast, and Migraine aâ€¦ https://t.co/myLqhhHV1K'"
      ]
     },
     "execution_count": 72,
     "metadata": {},
     "output_type": "execute_result"
    }
   ],
   "source": [
    "text = df.iloc[62687]['message']\n",
    "\n",
    "text = 'One thing is for certain. There can be a #Coronapocalypse, #CoronaVirusPandemic or a nuclear blast, and Migraine aâ€¦ https://t.co/myLqhhHV1K'\n",
    "\n",
    "text"
   ]
  },
  {
   "cell_type": "code",
   "execution_count": 75,
   "metadata": {},
   "outputs": [],
   "source": [
    "# getSymptomEmbedding(model, tokenizer, df.iloc[[62687]], '')\n",
    "\n",
    "compareEmb = ADR.graph['fever'].vector"
   ]
  },
  {
   "cell_type": "code",
   "execution_count": 76,
   "metadata": {},
   "outputs": [
    {
     "name": "stdout",
     "output_type": "stream",
     "text": [
      "[CLS] : 0.02115548402070999\n",
      "one : 0.1364583969116211\n",
      "thing : 0.1561942845582962\n",
      "is : 0.1150158941745758\n",
      "for : 0.12429557740688324\n",
      "certain : 0.1533169150352478\n",
      ". : 0.044653426855802536\n",
      "there : 0.1886976659297943\n",
      "can : 0.13695667684078217\n",
      "be : 0.20469829440116882\n",
      "a : 0.29399770498275757\n",
      "# : 0.19161882996559143\n",
      "corona : 0.3118554651737213\n",
      "##po : 0.19163432717323303\n",
      "##cal : 0.17790372669696808\n",
      "##yp : 0.1575453281402588\n",
      "##se : 0.3059520423412323\n",
      ", : 0.20360398292541504\n",
      "# : 0.19205066561698914\n",
      "corona : 0.29078662395477295\n",
      "##virus : 0.2974848449230194\n",
      "##pan : 0.18351666629314423\n",
      "##de : 0.2055584043264389\n",
      "##mic : 0.4026055932044983\n",
      "or : 0.22744691371917725\n",
      "a : 0.2931203246116638\n",
      "nuclear : 0.26386338472366333\n",
      "blast : 0.2857399582862854\n",
      ", : 0.21611575782299042\n",
      "and : 0.20488134026527405\n",
      "mig : 0.29849934577941895\n",
      "##raine : 0.48159319162368774\n",
      "aa : 0.1292073130607605\n",
      "##€ : 0.19739961624145508\n",
      "##¦ : 0.15474285185337067\n",
      "https : 0.12634184956550598\n",
      ": : 0.06294331699609756\n",
      "/ : 0.0880662202835083\n",
      "/ : 0.07892190665006638\n",
      "t : 0.07740825414657593\n",
      ". : -0.012072911486029625\n",
      "co : 0.0874316468834877\n",
      "/ : 0.09029506146907806\n",
      "my : 0.11366710066795349\n",
      "##l : 0.13017889857292175\n",
      "##q : 0.13948801159858704\n",
      "##hh : 0.24326863884925842\n",
      "##h : 0.12268564105033875\n",
      "##v : 0.1311705857515335\n",
      "##1 : 0.1787433922290802\n",
      "##k : 0.1564328819513321\n",
      "[SEP] : 0.01881253719329834\n"
     ]
    }
   ],
   "source": [
    "tokens = tokenizer.encode(text)\n",
    "temp = tokenizer.convert_ids_to_tokens(tokens)\n",
    "\n",
    "decoded = tokenizer.decode(tokens).split(\" \")\n",
    "logits, hidden_states = model(torch.Tensor(tokens).unsqueeze(0).long())\n",
    "hidden_states = torch.stack(hidden_states).squeeze(1).permute(1,0,2)\n",
    "\n",
    "emb = torch.sum(hidden_states[:,9:13,:],1).detach().cpu().numpy()\n",
    "\n",
    "sim = cosine_similarity(emb, compareEmb.reshape(1,-1)).reshape(-1)\n",
    "\n",
    "sim = cosine_similarity(emb, compareEmb.reshape(1,-1)).reshape(-1)\n",
    "\n",
    "for i in range(len(temp)):\n",
    "    print(f\"{temp[i]} : {sim[i]}\")"
   ]
  },
  {
   "cell_type": "code",
   "execution_count": 33,
   "metadata": {},
   "outputs": [
    {
     "data": {
      "text/plain": [
       "array([ 3.20389956e-01,  2.83104873e+00,  1.23363268e+00, -4.31681037e-01,\n",
       "        1.88879631e-02, -2.40650743e-01, -4.36630368e-01,  1.85267317e+00,\n",
       "       -2.03582525e+00,  1.09538519e+00,  5.77850044e-01,  5.58761001e-01,\n",
       "       -1.68358469e+00, -2.02294052e-01,  1.31219518e+00,  1.27862728e+00,\n",
       "        1.93880427e+00, -2.49762863e-01, -3.89953160e+00, -1.63501132e+00,\n",
       "        1.31633568e+00, -2.83797413e-01,  1.62307477e+00,  1.80768192e+00,\n",
       "        1.07547712e+00,  1.37738037e+00, -7.28457034e-01,  5.50050259e-01,\n",
       "       -1.85014284e+00, -1.15231538e+00,  2.63158298e+00,  1.24839127e+00,\n",
       "       -1.62747636e-01,  1.08729410e+00,  1.80768895e+00,  5.46486020e-01,\n",
       "       -9.26971555e-01,  1.33602679e+00,  5.40652692e-01, -5.79007626e-01,\n",
       "       -1.26080847e+00, -5.83173513e-01, -1.54572320e+00,  1.26469091e-01,\n",
       "        2.10337687e+00,  1.10124624e+00, -7.45984772e-03, -8.86068463e-01,\n",
       "        5.08874059e-01, -2.70336652e+00, -2.20199084e+00,  3.21336925e-01,\n",
       "        2.72009325e+00, -8.56173694e-01,  5.05967796e-01,  3.28099847e-01,\n",
       "       -1.98532283e+00,  1.81833148e-01,  2.97232032e+00, -1.07424223e+00,\n",
       "        2.20521736e+00, -5.59120655e-01,  6.89450502e-02, -2.25367689e+00,\n",
       "       -5.17962098e-01,  1.81233382e+00, -1.64898527e+00,  1.14277816e+00,\n",
       "       -8.54508519e-01,  9.68814373e-01, -7.22722590e-01, -7.62818694e-01,\n",
       "       -2.48005652e+00,  1.15411913e+00, -2.96664268e-01,  1.08912730e+00,\n",
       "        8.24529469e-01, -3.61442804e-01, -6.61131799e-01,  1.02261603e+00,\n",
       "       -2.12617898e+00, -3.17205501e+00,  1.70151031e+00, -1.18139124e+00,\n",
       "       -6.25901461e-01,  8.30362290e-02,  1.12529433e+00, -6.15141451e-01,\n",
       "        3.64757627e-01,  2.51235294e+00, -2.05071163e+00, -4.91235107e-01,\n",
       "        8.90126169e-01, -6.70482814e-01, -4.21320528e-01,  4.51106727e-02,\n",
       "        6.40911341e-01, -1.68247491e-01, -7.42928684e-01, -9.13112998e-01,\n",
       "       -3.18981782e-02, -1.12040377e+00, -1.37619543e+00,  1.10204482e+00,\n",
       "        7.20624745e-01,  2.91294120e-02,  1.35351193e+00, -1.75561810e+00,\n",
       "        3.54075193e-01,  4.34938908e-01,  6.09086454e-01, -4.47196811e-02,\n",
       "       -2.59267390e-02, -1.65726471e+00, -7.32342780e-01,  2.28884792e+00,\n",
       "       -4.35602456e-01, -1.36836457e+00, -1.10989976e+00, -1.06261528e+00,\n",
       "       -1.65278900e+00, -1.49392223e+00, -6.87823832e-01,  2.19073951e-01,\n",
       "       -1.05922794e+00, -1.50700974e+00, -3.01324219e-01, -7.14317203e-01,\n",
       "       -1.26042581e+00,  7.44777992e-02, -5.28363764e-01,  1.33169806e+00,\n",
       "        1.27993155e+00, -1.02601938e-01, -2.12270117e+00, -1.64581203e+00,\n",
       "        1.26758528e+00,  1.25933909e+00,  4.76671696e-01, -3.08639020e-01,\n",
       "       -1.41613781e-01,  3.99606013e+00, -1.80251408e+00,  2.80072379e+00,\n",
       "        2.87179559e-01, -3.52024466e-01,  3.12542856e-01, -8.10380131e-02,\n",
       "        4.46449190e-01, -6.11889996e-02,  1.18157387e+00, -3.63937557e-01,\n",
       "       -7.73128390e-01, -4.12442461e-02, -4.36254591e-01, -4.23843294e-01,\n",
       "       -3.12949955e-01, -9.79570925e-01, -6.75484315e-02,  2.95425922e-01,\n",
       "        4.57819283e-01, -8.42818201e-01,  1.64664179e-01, -2.71219993e+00,\n",
       "        1.94948328e+00,  3.28330338e-01,  3.85508507e-01,  1.12103820e+00,\n",
       "       -4.00818318e-01,  8.37276042e-01, -8.24812293e-01, -7.20621943e-01,\n",
       "        1.53280079e+00,  7.40415037e-01,  1.21516860e+00, -7.76952505e-01,\n",
       "        1.37375748e+00, -4.81176406e-01,  1.45509768e+00, -1.70631722e-01,\n",
       "       -1.66032016e+00, -2.53989983e+00,  2.63586730e-01,  1.58612978e+00,\n",
       "        9.93889868e-01,  7.01273620e-01, -2.36059338e-01, -2.70703697e+00,\n",
       "       -1.55283451e+00, -2.01191330e+00, -6.74956143e-01, -1.66052663e+00,\n",
       "        8.06275606e-01, -4.31143969e-01,  2.37948442e+00, -1.61721873e+00,\n",
       "       -9.17632461e-01, -3.45555484e-01, -4.38934535e-01, -3.20584238e-01,\n",
       "       -8.47133577e-01, -7.26631999e-01,  1.30340397e+00,  1.57671750e+00,\n",
       "       -7.81961605e-02, -6.40487552e-01,  1.12398732e+00, -9.80835795e-01,\n",
       "       -1.31723166e+00,  1.31410348e+00, -1.27584350e+00,  5.47398031e-01,\n",
       "        4.16527614e-02,  1.87312031e+00,  2.35529399e+00, -5.51059127e-01,\n",
       "       -5.53880893e-02, -4.82036889e-01, -3.82428944e-01,  1.33458465e-01,\n",
       "        1.11038601e+00,  1.66883439e-01, -2.45791745e+00,  1.54980874e+00,\n",
       "       -1.33649004e+00,  2.82927465e+00,  1.81163812e+00,  9.82366502e-01,\n",
       "       -7.33846962e-01, -1.27655375e+00, -9.74397421e-01,  9.15494382e-01,\n",
       "        1.10024917e+00, -5.64157009e-01, -6.82982087e-01, -5.95513940e-01,\n",
       "        1.21686625e+00, -2.32564759e+00,  1.74861163e-01, -2.33055854e+00,\n",
       "       -5.42297721e-01, -1.17682219e+00, -8.31164956e-01,  6.70493186e-01,\n",
       "        8.34774494e-01, -1.12822199e+00,  3.85631889e-01, -5.39604604e-01,\n",
       "       -4.28143591e-01, -4.21406180e-01, -9.32523727e-01,  4.96059275e+00,\n",
       "       -1.08673167e+00, -1.89519078e-01,  2.15130377e+00, -8.55847478e-01,\n",
       "       -1.45468998e+00, -8.91478136e-02,  4.78257746e-01,  2.11508179e+00,\n",
       "        2.35475019e-01, -2.03268621e-02,  8.34740996e-01,  3.68610591e-01,\n",
       "       -3.95969778e-01, -4.66821373e-01,  5.59966624e-01, -1.50388658e+00,\n",
       "       -1.01697838e+00, -2.06855655e+00,  1.10233998e+00, -1.75728798e+00,\n",
       "       -1.29877174e+00, -2.13278025e-01, -2.03444076e+00, -1.70811737e+00,\n",
       "        1.31681657e+00, -8.65766928e-02, -1.74369788e+00, -3.30456805e+00,\n",
       "        7.13111818e-01,  2.91052341e+00, -1.27377558e+00,  3.61306071e-01,\n",
       "       -2.24570346e+00, -4.19028580e-01,  1.82816982e-01,  5.04890776e+00,\n",
       "       -3.46551925e-01, -1.60877958e-01, -7.83119261e-01,  1.54064763e+00,\n",
       "       -1.41411096e-01, -1.47296715e+00,  9.05551851e-01,  3.68413776e-01,\n",
       "        1.66588128e+00,  2.66484880e+00,  3.14129353e+00, -1.37310588e+00,\n",
       "        1.37990487e+00,  1.40803504e+00, -2.52937734e-01,  3.05751085e-01,\n",
       "        2.70011425e+00,  1.68804705e+00, -3.12609911e-01,  2.28002101e-01,\n",
       "       -1.53386650e+01,  3.70817691e-01,  5.83103120e-01, -7.86257982e-01,\n",
       "        6.02087855e-01,  2.42068157e-01, -3.16164255e+00, -5.63326292e-02,\n",
       "       -1.35638380e+00, -2.04804730e+00, -2.68813205e+00, -5.18968523e-01,\n",
       "        2.88583547e-01,  7.47608364e-01,  3.22243810e-01, -8.43555927e-01,\n",
       "       -1.06119609e+00, -9.99792814e-01, -9.48585093e-01,  3.86940622e+00,\n",
       "       -3.17916423e-01, -1.55547976e-01, -1.14092864e-01, -9.89989936e-01,\n",
       "       -7.50961125e-01, -9.45404917e-02,  3.75901192e-01,  8.32324386e-01,\n",
       "       -1.58756793e-01, -7.76967108e-01, -3.39216113e+00,  2.72989236e-02,\n",
       "       -1.07104719e+00,  2.20081925e+00,  4.92517471e-01, -8.99051666e-01,\n",
       "       -5.83457172e-01, -5.63129961e-01,  3.65448892e-01,  2.26602077e-01,\n",
       "       -1.62426019e+00, -2.28996515e+00, -4.77686644e-01,  1.15569778e-01,\n",
       "       -3.78941506e-01, -1.80221096e-01, -6.11533448e-02, -1.16154945e+00,\n",
       "       -1.76668987e-01,  1.58529735e+00,  4.65822786e-01, -8.92692685e-01,\n",
       "       -2.63945508e+00, -1.10233760e+00,  1.09888458e+00,  5.38908422e-01,\n",
       "        2.05147195e+00,  1.28725374e+00, -3.03634346e-01, -1.19682801e+00,\n",
       "       -2.42029548e+00, -1.25161731e+00, -3.17173958e+00, -1.33579123e+00,\n",
       "       -6.46425784e-01, -9.18289721e-01, -3.83613086e+00,  1.85452521e-01,\n",
       "       -3.88754457e-01,  7.27903903e-01, -7.92890072e-01,  3.63761759e+00,\n",
       "        1.06538641e+00, -1.16165380e+01, -4.56759810e-01, -7.61451781e-01,\n",
       "        1.92987835e+00,  2.26666284e+00,  9.16539073e-01, -1.05719137e+00,\n",
       "        2.72127867e+00, -6.31559551e-01, -4.12906229e-01, -4.28165495e-01,\n",
       "       -7.59108245e-01, -2.99163591e-02, -7.69711614e-01, -5.84122300e-01,\n",
       "       -1.95396602e+00, -4.69657242e-01,  1.16793215e+00, -1.29089785e+00,\n",
       "       -1.71602869e+00, -7.37992972e-02, -7.30721653e-01,  8.03160429e-01,\n",
       "       -1.19449854e+00,  8.63902986e-01,  1.00531614e+00, -8.05040240e-01,\n",
       "        1.15622151e+00,  2.56584316e-01,  2.95291901e+00, -4.42835629e-01,\n",
       "        5.19115925e-01,  5.93790114e-01, -1.65939975e+00,  4.07747209e-01,\n",
       "        1.86932772e-01,  4.29043978e-01,  6.76202476e-01, -9.77508724e-01,\n",
       "        1.59059608e+00,  1.79523781e-01,  3.03189945e+00, -1.26519585e+00,\n",
       "        3.43641937e-01,  1.43393791e+00, -2.50779390e+00,  5.90004921e-01,\n",
       "       -2.42365211e-01,  2.48010442e-01, -8.59189853e-02, -2.46295094e+00,\n",
       "        1.45395005e+00,  1.08600652e+00,  6.19889438e-01,  3.10478449e-01,\n",
       "        2.14161348e+00, -6.41787648e-01,  2.09073758e+00, -1.83494210e+00,\n",
       "        4.74684834e-01,  2.82366824e+00,  1.23372447e+00, -7.53008962e-01,\n",
       "       -1.19165099e+00, -1.34770751e+00, -6.69634342e-01,  1.94537663e+00,\n",
       "        7.60751367e-01,  8.72458797e-03, -3.42812032e-01, -7.45509624e-01,\n",
       "        2.15915489e+00,  8.52569342e-01,  1.72003937e+00, -3.84255505e+00,\n",
       "       -1.31521559e+00,  3.59562486e-01, -2.57375741e+00,  7.43109405e-01,\n",
       "       -8.03568840e-01, -6.13459386e-02, -8.42256546e-01,  3.88967586e+00,\n",
       "       -7.70553708e-01, -6.73040077e-02, -2.37074241e-01, -2.48074794e+00,\n",
       "       -4.85659391e-01,  4.26396281e-02,  7.04170167e-01,  6.20127082e-01,\n",
       "       -1.33655238e+00,  1.99822354e+00, -1.49305146e-02, -1.02039790e+00,\n",
       "        9.15921926e-01, -2.56278300e+00, -3.26137006e-01, -1.31591582e+00,\n",
       "       -7.68878078e-03,  1.19562793e+00,  3.80423188e-01, -5.82716823e-01,\n",
       "       -1.51647830e+00, -3.76024723e-01,  1.71927202e+00,  6.35492682e-01,\n",
       "       -3.55128855e-01, -6.51781738e-01, -6.40707016e-01, -7.93239176e-01,\n",
       "       -8.16878080e-02,  4.93701659e-02,  1.41170597e+00, -1.02863526e+00,\n",
       "       -8.87783408e-01, -2.76156473e+00,  5.74110091e-01, -9.21197355e-01,\n",
       "        3.46046776e-01,  1.39432281e-01, -5.96510291e-01, -4.94424075e-01,\n",
       "       -2.25651488e-01,  2.47838013e-02, -1.57198048e+00,  1.38449490e+00,\n",
       "        1.08735001e+00,  3.18169206e-01, -6.93171263e-01,  4.28823149e-03,\n",
       "        7.68837214e-01, -4.97477114e-01, -1.61797166e+00,  1.23749161e+00,\n",
       "       -3.11658478e+00, -2.25434126e-03, -9.95179415e-01, -3.70640695e-01,\n",
       "        1.10946798e+00, -9.17450368e-01,  2.29239511e+00,  7.63591111e-01,\n",
       "       -8.22692692e-01,  9.80260193e-01, -1.17504346e+00,  3.02301705e-01,\n",
       "       -3.89004087e+00,  8.78576279e-01, -5.49160779e-01,  1.59245253e+00,\n",
       "       -1.19395483e+00,  2.29485178e+00,  1.11054432e+00, -5.88254452e-01,\n",
       "        2.05055833e+00, -9.37289715e-01, -4.81377274e-01, -1.38200665e+00,\n",
       "       -2.08948040e+00,  1.17523956e+00,  2.61969519e+00, -1.18759286e+00,\n",
       "        2.48578835e+00,  3.18071783e-01,  1.33942330e+00,  4.05250311e-01,\n",
       "        4.30402830e-02,  3.04728389e+00, -1.49495885e-01, -1.33823609e+00,\n",
       "        9.66154754e-01,  2.95448971e+00,  3.25359416e+00, -1.67339265e+00,\n",
       "       -5.26577294e-01,  2.59373355e+00,  5.08513629e-01, -1.03406274e+00,\n",
       "        5.74026406e-01,  7.31617272e-01,  1.86838782e+00, -1.19238877e+00,\n",
       "       -9.04615879e-01,  4.55965936e-01, -7.50605345e-01,  1.98934212e-01,\n",
       "       -6.25831187e-02, -2.46581674e+00, -9.66158986e-01,  1.42215347e+00,\n",
       "       -1.21142514e-01, -1.06788719e+00, -1.31590855e+00,  2.59353900e+00,\n",
       "        9.14622068e-01, -8.02549601e-01,  1.51273084e+00, -2.64548659e-02,\n",
       "        6.55691504e-01,  1.01672161e+00,  1.76338351e+00, -6.55761212e-02,\n",
       "        7.76947260e-01, -2.33959079e+00,  4.16894627e+00,  7.61586785e-01,\n",
       "       -7.50256360e-01, -6.50160015e-01,  5.46788275e-01, -2.02073956e+00,\n",
       "        8.79403353e-01, -8.04752231e-01, -2.00393724e+00, -1.04335201e+00,\n",
       "       -2.10974503e+00,  1.15267086e+00, -1.50794458e+00,  9.91404653e-01,\n",
       "       -8.19876790e-01, -2.28522730e+00, -3.29009104e+00, -6.12121224e-02,\n",
       "        5.77435553e-01,  1.16995370e+00, -3.01745713e-01, -1.18356311e+00,\n",
       "        4.26901907e-01,  3.72766614e+00,  1.26289999e+00,  6.88974857e-02,\n",
       "        2.68927991e-01, -1.02779603e+00, -1.13674688e+00, -6.12757862e-01,\n",
       "        1.68372178e+00, -2.52357531e+00, -6.97000921e-01, -5.14666438e-01,\n",
       "        1.45435584e+00,  5.20215869e-01, -8.44301999e-01, -1.26203060e+00,\n",
       "        6.34611726e-01,  1.16560876e+00, -6.17534935e-01,  2.49505734e+00,\n",
       "        1.18046367e+00,  2.51366258e-01,  9.72626686e-01,  2.19178736e-01,\n",
       "        1.94993854e+00,  1.37236536e+00,  1.02482581e+00,  2.24225211e+00,\n",
       "        2.16926312e+00,  3.19059968e-01, -4.97226566e-01, -2.73864889e+00,\n",
       "        3.15386504e-01,  1.92960691e+00,  2.42214608e+00, -9.94852304e-01,\n",
       "        2.68414545e+00,  3.50097179e-01, -8.51579666e-01, -2.22832417e+00,\n",
       "        2.96583444e-01,  1.86441159e+00, -3.80847991e-01,  7.17973769e-01,\n",
       "        6.51972592e-02, -2.09032550e-01,  6.60829484e-01, -9.67327297e-01,\n",
       "        1.97480485e-01, -5.10041475e-01,  1.64965415e+00,  7.40263462e-01,\n",
       "        5.04433930e-01,  5.26554734e-02,  3.83208752e+00,  3.47417569e+00,\n",
       "        9.51110303e-01, -8.15342784e-01,  3.47043604e-01,  3.34715271e+00,\n",
       "        8.25511158e-01, -1.09500825e+00,  3.74278009e-01,  5.29513299e-01,\n",
       "        4.78932261e-01, -1.66620529e+00, -3.13416696e+00, -2.81853104e+00,\n",
       "        1.05305958e+00, -8.66961598e-01, -2.25662088e+00, -7.89858818e-01,\n",
       "       -2.34860063e+00, -4.70758736e-01, -1.10674036e+00, -1.54388881e+00,\n",
       "       -1.22940373e+00,  1.12744892e+00, -7.00080842e-02,  4.75492865e-01,\n",
       "       -4.71047789e-01,  1.68704784e+00, -6.98481023e-01,  1.37124228e+00,\n",
       "       -1.24763334e+00, -2.33103728e+00,  9.61668730e-01, -2.21902895e+00,\n",
       "        1.50283992e+00, -3.61906171e-01, -1.03787804e+00,  1.24074447e+00,\n",
       "        2.40113306e+00,  1.61394879e-01, -5.35838194e-02, -5.89033723e-01,\n",
       "        1.54786074e+00, -1.20171785e+00,  2.04185843e+00, -1.05769992e+00,\n",
       "       -1.58776820e+00,  1.59504092e+00,  2.72147357e-01,  5.89315355e-01,\n",
       "       -6.86975777e-01, -1.02503526e+00,  8.66267383e-01,  2.73536730e+00,\n",
       "       -6.00894153e-01, -1.49247217e+00, -2.95859861e+00,  1.82518959e+00,\n",
       "        3.87026191e-01,  3.98890495e-01,  1.44172144e+00, -3.76169562e+00,\n",
       "       -2.49616671e+00, -4.56908524e-01,  3.87515754e-01, -3.24362254e+00,\n",
       "        2.50300646e-01,  1.88338232e+00, -1.14621520e+00, -4.12413836e-01,\n",
       "       -3.86106610e-01, -1.56310523e+00,  3.70360762e-01, -4.53882486e-01,\n",
       "       -1.82049322e+00, -1.17363787e+00,  1.26983440e+00,  4.76759523e-01,\n",
       "       -2.84776807e+00, -9.70615447e-01,  2.50368059e-01, -1.07731295e+00,\n",
       "       -1.53554106e+00, -2.65283227e+00, -5.78553200e-01, -1.41548908e+00,\n",
       "        9.71703827e-01, -1.56256065e-01,  2.56186903e-01, -4.30773306e+00,\n",
       "        1.14791644e+00,  2.03939486e+00, -5.16157031e-01, -6.11979425e-01,\n",
       "       -8.14647973e-01, -2.64852136e-01, -7.70779252e-01, -2.54437357e-01,\n",
       "        1.26845813e+00, -1.90495360e+00,  5.95177531e-01,  1.13648820e+00,\n",
       "       -1.37368667e+00, -1.84867501e-01, -1.58353388e+00, -1.61066175e+00],\n",
       "      dtype=float32)"
      ]
     },
     "execution_count": 33,
     "metadata": {},
     "output_type": "execute_result"
    }
   ],
   "source": [
    "ADR.masterEmb"
   ]
  },
  {
   "cell_type": "code",
   "execution_count": null,
   "metadata": {},
   "outputs": [],
   "source": []
  },
  {
   "cell_type": "code",
   "execution_count": null,
   "metadata": {},
   "outputs": [],
   "source": []
  },
  {
   "cell_type": "code",
   "execution_count": null,
   "metadata": {},
   "outputs": [],
   "source": []
  },
  {
   "cell_type": "code",
   "execution_count": 28,
   "metadata": {},
   "outputs": [
    {
     "data": {
      "text/plain": [
       "'Not COVID-19 terrible just cramps !!!'"
      ]
     },
     "execution_count": 28,
     "metadata": {},
     "output_type": "execute_result"
    }
   ],
   "source": [
    "df.iloc[83671]['message']"
   ]
  },
  {
   "cell_type": "code",
   "execution_count": 35,
   "metadata": {},
   "outputs": [
    {
     "data": {
      "text/plain": [
       "array([[0.39930595]])"
      ]
     },
     "execution_count": 35,
     "metadata": {},
     "output_type": "execute_result"
    }
   ],
   "source": [
    "getCosineDist(graph['cough'].vector, graph['##nee'].vector)"
   ]
  },
  {
   "cell_type": "code",
   "execution_count": 20,
   "metadata": {},
   "outputs": [
    {
     "data": {
      "text/plain": [
       "array([[0.56283456]])"
      ]
     },
     "execution_count": 20,
     "metadata": {},
     "output_type": "execute_result"
    }
   ],
   "source": [
    "getCosineDist(masterEmb, ADR.graph['##nee'].vector)"
   ]
  },
  {
   "cell_type": "code",
   "execution_count": null,
   "metadata": {},
   "outputs": [],
   "source": [
    "getCosineDist(masterEmb, ADR.graph['##nee'].vector)"
   ]
  },
  {
   "cell_type": "code",
   "execution_count": null,
   "metadata": {},
   "outputs": [],
   "source": []
  },
  {
   "cell_type": "code",
   "execution_count": null,
   "metadata": {},
   "outputs": [],
   "source": []
  },
  {
   "cell_type": "code",
   "execution_count": 45,
   "metadata": {},
   "outputs": [
    {
     "ename": "AttributeError",
     "evalue": "'NoneType' object has no attribute 'shape'",
     "output_type": "error",
     "traceback": [
      "\u001b[0;31m---------------------------------------------------------------------------\u001b[0m",
      "\u001b[0;31mAttributeError\u001b[0m                            Traceback (most recent call last)",
      "\u001b[0;32m<ipython-input-45-cdc8ff4f582d>\u001b[0m in \u001b[0;36m<module>\u001b[0;34m\u001b[0m\n\u001b[0;32m----> 1\u001b[0;31m \u001b[0mgetCosineDist\u001b[0m\u001b[0;34m(\u001b[0m\u001b[0mADR\u001b[0m\u001b[0;34m.\u001b[0m\u001b[0mmasterEmb\u001b[0m\u001b[0;34m,\u001b[0m \u001b[0mgraph\u001b[0m\u001b[0;34m[\u001b[0m\u001b[0;34m'cough'\u001b[0m\u001b[0;34m]\u001b[0m\u001b[0;34m.\u001b[0m\u001b[0mvector\u001b[0m\u001b[0;34m)\u001b[0m\u001b[0;34m\u001b[0m\u001b[0m\n\u001b[0m",
      "\u001b[0;32m~/Covid_Bert/utils.py\u001b[0m in \u001b[0;36mgetCosineDist\u001b[0;34m(x, y)\u001b[0m\n\u001b[1;32m     35\u001b[0m \u001b[0;32mdef\u001b[0m \u001b[0mgetCosineDist\u001b[0m\u001b[0;34m(\u001b[0m\u001b[0mx\u001b[0m\u001b[0;34m,\u001b[0m\u001b[0my\u001b[0m\u001b[0;34m)\u001b[0m\u001b[0;34m:\u001b[0m\u001b[0;34m\u001b[0m\u001b[0m\n\u001b[1;32m     36\u001b[0m \u001b[0;34m\u001b[0m\u001b[0m\n\u001b[0;32m---> 37\u001b[0;31m     \u001b[0;32mif\u001b[0m \u001b[0mx\u001b[0m\u001b[0;34m.\u001b[0m\u001b[0mshape\u001b[0m \u001b[0;34m==\u001b[0m \u001b[0;34m(\u001b[0m\u001b[0;36m768\u001b[0m\u001b[0;34m,\u001b[0m\u001b[0;34m)\u001b[0m\u001b[0;34m:\u001b[0m\u001b[0;34m\u001b[0m\u001b[0m\n\u001b[0m\u001b[1;32m     38\u001b[0m         \u001b[0mx\u001b[0m \u001b[0;34m=\u001b[0m \u001b[0mx\u001b[0m\u001b[0;34m.\u001b[0m\u001b[0mreshape\u001b[0m\u001b[0;34m(\u001b[0m\u001b[0;36m1\u001b[0m\u001b[0;34m,\u001b[0m\u001b[0;34m-\u001b[0m\u001b[0;36m1\u001b[0m\u001b[0;34m)\u001b[0m\u001b[0;34m\u001b[0m\u001b[0m\n\u001b[1;32m     39\u001b[0m     \u001b[0;32mif\u001b[0m \u001b[0my\u001b[0m\u001b[0;34m.\u001b[0m\u001b[0mshape\u001b[0m \u001b[0;34m==\u001b[0m \u001b[0;34m(\u001b[0m\u001b[0;36m768\u001b[0m\u001b[0;34m,\u001b[0m\u001b[0;34m)\u001b[0m\u001b[0;34m:\u001b[0m\u001b[0;34m\u001b[0m\u001b[0m\n",
      "\u001b[0;31mAttributeError\u001b[0m: 'NoneType' object has no attribute 'shape'"
     ]
    }
   ],
   "source": [
    "getCosineDist(ADR.masterEmb, graph['cough'].vector)"
   ]
  },
  {
   "cell_type": "code",
   "execution_count": 38,
   "metadata": {},
   "outputs": [
    {
     "data": {
      "text/plain": [
       "([], [])"
      ]
     },
     "execution_count": 38,
     "metadata": {},
     "output_type": "execute_result"
    }
   ],
   "source": [
    "getSymptomEmbedding(model, tokenizer, df.iloc[18048],'##emia',0)"
   ]
  },
  {
   "cell_type": "code",
   "execution_count": 41,
   "metadata": {},
   "outputs": [
    {
     "data": {
      "text/plain": [
       "(51, 768)"
      ]
     },
     "execution_count": 41,
     "metadata": {},
     "output_type": "execute_result"
    }
   ],
   "source": [
    "emb = np.array(marshal.load(open(os.path.join(outputFolder, \"18048.msh\"),'rb' )))\n",
    "emb.shape"
   ]
  },
  {
   "cell_type": "code",
   "execution_count": 44,
   "metadata": {},
   "outputs": [
    {
     "name": "stdout",
     "output_type": "stream",
     "text": [
      "0 : [0.03042418]\n",
      "1 : [0.1770622]\n",
      "2 : [0.13845288]\n",
      "3 : [0.17849347]\n",
      "4 : [0.27234345]\n",
      "5 : [0.12854637]\n",
      "6 : [0.15104336]\n",
      "7 : [0.20340316]\n",
      "8 : [0.2094499]\n",
      "9 : [0.19527335]\n",
      "10 : [0.31884801]\n",
      "11 : [0.33363498]\n",
      "12 : [0.54458958]\n",
      "13 : [0.28736115]\n",
      "14 : [0.31871115]\n",
      "15 : [0.12118393]\n",
      "16 : [0.24120735]\n",
      "17 : [0.53462946]\n",
      "18 : [0.31784443]\n",
      "19 : [0.33646114]\n",
      "20 : [0.59879005]\n",
      "21 : [0.30947273]\n",
      "22 : [0.25444475]\n",
      "23 : [0.19305776]\n",
      "24 : [0.21070635]\n",
      "25 : [0.24184871]\n",
      "26 : [0.29427113]\n",
      "27 : [0.43298715]\n",
      "28 : [0.27050106]\n",
      "29 : [0.29167251]\n",
      "30 : [0.1885832]\n",
      "31 : [0.25717494]\n",
      "32 : [0.32796901]\n",
      "33 : [0.19509146]\n",
      "34 : [0.21642928]\n",
      "35 : [0.15943209]\n",
      "36 : [0.15000318]\n",
      "37 : [0.0742572]\n",
      "38 : [0.1163209]\n",
      "39 : [0.10839417]\n",
      "40 : [0.08229424]\n",
      "41 : [0.02597628]\n",
      "42 : [0.12806308]\n",
      "43 : [0.11202446]\n",
      "44 : [0.13651596]\n",
      "45 : [0.14918406]\n",
      "46 : [0.2043931]\n",
      "47 : [0.17101227]\n",
      "48 : [0.13538388]\n",
      "49 : [0.23922406]\n",
      "50 : [0.03290722]\n"
     ]
    }
   ],
   "source": [
    "for i in range(emb.shape[0]):\n",
    "    dist = getCosineDist(graph['cough'].vector, emb[i,:])[0]\n",
    "    print(f\"{i} : {dist}\")"
   ]
  },
  {
   "cell_type": "markdown",
   "metadata": {
    "heading_collapsed": true
   },
   "source": [
    "### GetSimilar Testing  "
   ]
  },
  {
   "cell_type": "code",
   "execution_count": 9,
   "metadata": {
    "hidden": true
   },
   "outputs": [],
   "source": [
    "outputFolder = '/data1/roshansk/ADRModel_DataStore/'\n",
    "\n",
    "\n",
    "def getSimilarWords(model, tokenizer, df, symptom, embList, similarityThreshold = 0.3):\n",
    "    \n",
    "     \n",
    "    output = []\n",
    "\n",
    "\n",
    "    symptomToken = tokenizer.encode(symptom)[1]\n",
    "#         symptomToken = self.tokenizer.convert_tokens_to_ids(symptom)\n",
    "\n",
    "    for i in tqdm(range(len(df))):\n",
    "\n",
    "        tokens = tokenizer.encode(df.iloc[i]['message'].lower())\n",
    "\n",
    "        if symptomToken in tokens:\n",
    "\n",
    "\n",
    "            hidden_states = np.array(marshal.load( open(os.path.join(outputFolder, f\"{i}.msh\"), 'rb') ))\n",
    "\n",
    "            similarity = cosine_similarity(hidden_states, embList.reshape(1,-1)).reshape(-1)\n",
    "\n",
    "\n",
    "            index = np.where([similarity> similarityThreshold])[1]\n",
    "\n",
    "            try:\n",
    "                selectTokens = np.array(tokens)[index]\n",
    "            except:\n",
    "                print(i)\n",
    "                print(index)\n",
    "                print(hidden_states.shape)\n",
    "                print(len(tokens))\n",
    "                print(len(self.tokenizer.encode(self.df.iloc[i]['message'].lower())))\n",
    "                print(self.df.iloc[i]['message'])\n",
    "                break\n",
    "\n",
    "            similarityValues = similarity[index]\n",
    "            \n",
    "            wordValues = np.array(tokenizer.convert_ids_to_tokens(tokens))[index]\n",
    "            \n",
    "            rownumValues = [i]*len(index)\n",
    "            \n",
    "            output = [(x,y,z) for x,y,z in zip(wordValues,similarityValues,rownumValues)]\n",
    "\n",
    "\n",
    "#             for j in range(len(index)):\n",
    "#                 token = tokenizer.ids_to_tokens[selectTokens[j]]\n",
    "#                 sim = selectSim[j]\n",
    "#                 output.append((token, sim,i))\n",
    "\n",
    "\n",
    "        if i==100000:\n",
    "            break\n",
    "\n",
    "    return output"
   ]
  },
  {
   "cell_type": "code",
   "execution_count": 89,
   "metadata": {
    "hidden": true
   },
   "outputs": [
    {
     "name": "stderr",
     "output_type": "stream",
     "text": [
      "100%|██████████| 1000/1000 [00:17<00:00, 55.77it/s]"
     ]
    },
    {
     "name": "stdout",
     "output_type": "stream",
     "text": [
      "17.935619354248047\n"
     ]
    },
    {
     "name": "stderr",
     "output_type": "stream",
     "text": [
      "\n"
     ]
    }
   ],
   "source": [
    "import time\n",
    "\n",
    "startTime = time.time()\n",
    "\n",
    "out = getSimilarWords(model, tokenizer,df.iloc[0:1000],'',ADR.masterEmb)\n",
    "\n",
    "\n",
    "print(time.time() - startTime)"
   ]
  },
  {
   "cell_type": "code",
   "execution_count": 103,
   "metadata": {
    "hidden": true
   },
   "outputs": [
    {
     "name": "stderr",
     "output_type": "stream",
     "text": [
      "100%|██████████| 1000/1000 [00:18<00:00, 55.17it/s]"
     ]
    },
    {
     "name": "stdout",
     "output_type": "stream",
     "text": [
      "18.130207777023315\n"
     ]
    },
    {
     "name": "stderr",
     "output_type": "stream",
     "text": [
      "\n"
     ]
    }
   ],
   "source": [
    "import time\n",
    "\n",
    "startTime = time.time()\n",
    "\n",
    "out = getSimilarWords(model, tokenizer,df.iloc[0:1000],'',ADR.masterEmb)\n",
    "\n",
    "\n",
    "print(time.time() - startTime)"
   ]
  },
  {
   "cell_type": "code",
   "execution_count": 94,
   "metadata": {
    "hidden": true
   },
   "outputs": [
    {
     "name": "stderr",
     "output_type": "stream",
     "text": [
      "100%|██████████| 10/10 [00:00<00:00, 43.38it/s]"
     ]
    },
    {
     "name": "stdout",
     "output_type": "stream",
     "text": [
      "0.23391938209533691\n"
     ]
    },
    {
     "name": "stderr",
     "output_type": "stream",
     "text": [
      "\n"
     ]
    }
   ],
   "source": [
    "import time\n",
    "\n",
    "startTime = time.time()\n",
    "\n",
    "out = getSimilarWords(model, tokenizer,df.iloc[0:10],'',ADR.masterEmb)\n",
    "\n",
    "\n",
    "print(time.time() - startTime)"
   ]
  },
  {
   "cell_type": "code",
   "execution_count": 100,
   "metadata": {
    "hidden": true
   },
   "outputs": [],
   "source": [
    "a = np.array([1,2,34])\n",
    "b = np.array([4,5,6])\n",
    "c = np.array([5,5,5])"
   ]
  },
  {
   "cell_type": "code",
   "execution_count": 105,
   "metadata": {
    "hidden": true
   },
   "outputs": [],
   "source": [
    "%load_ext line_profiler"
   ]
  },
  {
   "cell_type": "code",
   "execution_count": 106,
   "metadata": {
    "hidden": true
   },
   "outputs": [],
   "source": [
    "def test(x):\n",
    "\n",
    "    out = 0\n",
    "    \n",
    "    for i in range(x):\n",
    "        a = np.random.random()\n",
    "        out+=a\n",
    "        \n",
    "    return out"
   ]
  },
  {
   "cell_type": "code",
   "execution_count": 108,
   "metadata": {
    "hidden": true
   },
   "outputs": [
    {
     "name": "stderr",
     "output_type": "stream",
     "text": [
      "100%|██████████| 10/10 [00:00<00:00, 38.23it/s]\n"
     ]
    }
   ],
   "source": [
    "%lprun -f getSimilarWords getSimilarWords(model, tokenizer,df.iloc[0:10],'',ADR.masterEmb)"
   ]
  },
  {
   "cell_type": "code",
   "execution_count": 10,
   "metadata": {
    "hidden": true
   },
   "outputs": [],
   "source": [
    "outList = []\n",
    "for i in range(10):\n",
    "    hidden_states = np.array(marshal.load( open(os.path.join(outputFolder, f\"{i}.msh\"), 'rb') ))\n",
    "    outList.append(hidden_states)\n",
    "    "
   ]
  },
  {
   "cell_type": "code",
   "execution_count": 12,
   "metadata": {
    "hidden": true
   },
   "outputs": [
    {
     "data": {
      "text/plain": [
       "(29, 768)"
      ]
     },
     "execution_count": 12,
     "metadata": {},
     "output_type": "execute_result"
    }
   ],
   "source": [
    "outList[0].shape"
   ]
  },
  {
   "cell_type": "code",
   "execution_count": 13,
   "metadata": {
    "hidden": true
   },
   "outputs": [
    {
     "data": {
      "text/plain": [
       "(47, 768)"
      ]
     },
     "execution_count": 13,
     "metadata": {},
     "output_type": "execute_result"
    }
   ],
   "source": [
    "outList[1].shape"
   ]
  },
  {
   "cell_type": "markdown",
   "metadata": {},
   "source": [
    "### BMIN Dataset"
   ]
  },
  {
   "cell_type": "code",
   "execution_count": 26,
   "metadata": {},
   "outputs": [],
   "source": [
    "os.listdir('/data1/roshansk')\n",
    "df = pd.read_csv('/data1/roshansk/Statin_Data.csv')"
   ]
  },
  {
   "cell_type": "code",
   "execution_count": 27,
   "metadata": {},
   "outputs": [
    {
     "data": {
      "text/html": [
       "<div>\n",
       "<style scoped>\n",
       "    .dataframe tbody tr th:only-of-type {\n",
       "        vertical-align: middle;\n",
       "    }\n",
       "\n",
       "    .dataframe tbody tr th {\n",
       "        vertical-align: top;\n",
       "    }\n",
       "\n",
       "    .dataframe thead th {\n",
       "        text-align: right;\n",
       "    }\n",
       "</style>\n",
       "<table border=\"1\" class=\"dataframe\">\n",
       "  <thead>\n",
       "    <tr style=\"text-align: right;\">\n",
       "      <th></th>\n",
       "      <th>tweet_id</th>\n",
       "      <th>message</th>\n",
       "      <th>Category</th>\n",
       "      <th>Subcategory</th>\n",
       "    </tr>\n",
       "  </thead>\n",
       "  <tbody>\n",
       "    <tr>\n",
       "      <th>0</th>\n",
       "      <td>9.808937e+17</td>\n",
       "      <td>Q4: I recently had a \"mild stroke\" and was pre...</td>\n",
       "      <td>u</td>\n",
       "      <td>q</td>\n",
       "    </tr>\n",
       "    <tr>\n",
       "      <th>1</th>\n",
       "      <td>8.940068e+17</td>\n",
       "      <td>@WSJ Interesting my muscle  specimens got wors...</td>\n",
       "      <td>u</td>\n",
       "      <td>d</td>\n",
       "    </tr>\n",
       "    <tr>\n",
       "      <th>2</th>\n",
       "      <td>1.027010e+18</td>\n",
       "      <td>I have normal LDL, my neurologist tried to pot...</td>\n",
       "      <td>u</td>\n",
       "      <td>f</td>\n",
       "    </tr>\n",
       "    <tr>\n",
       "      <th>3</th>\n",
       "      <td>1.034315e+18</td>\n",
       "      <td>@eitch_kay @SBakerMD No, when I was diagnosed ...</td>\n",
       "      <td>u</td>\n",
       "      <td>n</td>\n",
       "    </tr>\n",
       "    <tr>\n",
       "      <th>4</th>\n",
       "      <td>9.719656e+17</td>\n",
       "      <td>@SassyPharmD @DrBabyFace7 I just had a pt go f...</td>\n",
       "      <td>h</td>\n",
       "      <td>d</td>\n",
       "    </tr>\n",
       "  </tbody>\n",
       "</table>\n",
       "</div>"
      ],
      "text/plain": [
       "       tweet_id                                            message Category  \\\n",
       "0  9.808937e+17  Q4: I recently had a \"mild stroke\" and was pre...        u   \n",
       "1  8.940068e+17  @WSJ Interesting my muscle  specimens got wors...        u   \n",
       "2  1.027010e+18  I have normal LDL, my neurologist tried to pot...        u   \n",
       "3  1.034315e+18  @eitch_kay @SBakerMD No, when I was diagnosed ...        u   \n",
       "4  9.719656e+17  @SassyPharmD @DrBabyFace7 I just had a pt go f...        h   \n",
       "\n",
       "  Subcategory  \n",
       "0           q  \n",
       "1           d  \n",
       "2           f  \n",
       "3           n  \n",
       "4           d  "
      ]
     },
     "execution_count": 27,
     "metadata": {},
     "output_type": "execute_result"
    }
   ],
   "source": [
    "df = df[['tweet_id','text','Category','Subcategory']]\n",
    "df.rename({'text':'message'},axis = 1, inplace = True)\n",
    "df.head()"
   ]
  },
  {
   "cell_type": "code",
   "execution_count": 28,
   "metadata": {
    "scrolled": true
   },
   "outputs": [
    {
     "name": "stdout",
     "output_type": "stream",
     "text": [
      "@kendra_bond got free samples of crestor last year from pvt doc i paid for, va sent 4 different meds since, cause muscle pain..crestor=$212\n",
      "-------------\n",
      "@Questar1959Ron Crestor was the only statin I could take that didn't cause me to have muscle atrophy. My insurance denied me at first, then my doctor insisted, and the co-pay is 125 a month for 30 pills. It'd be 750 without insurance.\n",
      "-------------\n",
      "@medscape the memory loss seen is proportional to the dosage as seen in my patients, less with atorvastatin with ezetemibe @improveit\n",
      "-------------\n",
      "@AlexBThomson @eoinmccarthy Stopped one this week, 96yo on 10m atorvastatin, repeat falls from aching legs 🙄🙄\n",
      "-------------\n",
      "@evanackermann crestor 40 as good chol lowering of any psk9, cheaper and better cv data.  had patient get rhabdo last week.  good for him\n",
      "-------------\n",
      "@drkristieleong @qunol_coq10 my husband lost memory for 14 months as a result of atorvastatin 40mg for 4 weeks\n",
      "-------------\n",
      "zOmg, very first time witnessed uncle cramping his calf , which might be related to Crestor 40mg...\n",
      "-------------\n",
      "@lawyerscom i'm looking for a lawyer that will take my case. in 12/2015, i was put on atorvastatin 80mg (mfg. apotex). i got very sick 1/16.\n",
      "-------------\n",
      "@draseemmalhotra terrible leg pains for years until i realised it was my statins. atorvastatin 80mg better but cause fatigue @nedwards_1\n",
      "-------------\n",
      "Also, I'm pretty sure this is stating side effects, but ever since bumping up my Lipitor dose in June…1/n #LandrysLife\n",
      "-------------\n",
      "@geophf I was on Lipitor 80 mg4manyyears 3 points from Sarot sis of D liver stoped med 12 days perfect watch that drugCAN KILL\n",
      "-------------\n",
      "Muscle wasting, loss of concentration and memory loss are very common but reversible. I had 20mg atorvastatin; side effects creep up on you. I couldn't remember my student and work colleagues names, nephews &amp; nieces. Stopped being able to read past first paragraph. https://t.co/O9AniJXlgo\n",
      "-------------\n",
      "@kennethwayneboy @Cholesterol_OK @statinvictim And I had atrial fibrillation within days of 80mg Atorvastatin! #statins\n",
      "-------------\n",
      "@DebraClaridge @ketoendurance @dramerling @RobertLustigMD @LDLSkeptic @VernersViews @drjasonfung @bigfatsurprise @GeorgiaEdeMD I couldn't even remember how to drive or use a knife and fork after a few weeks on 80mg Atorvastatin :(\n",
      "-------------\n",
      "@GeorgiaEdeMD @Amyv_ntp @TuckerGoodrich @LDLSkeptic @VernersViews @LanaCares @dramerling @DrAseemMalhotra @ProfTimNoakes @FructoseNo @JediPD @DietDoctor1 @tednaiman @drjamesdinic @AAPSonline @RobertLustigMD @AnnChildersMD @LoukasMarios @ClunesM Suspect simvastatin caused heart attack that led to CABG - because my 2yrs+ of stable angina turned into coronary artery spasms within weeks of #statins  Atorvastatin 80mg finished me off after CABG, dementia, peripheral neuropathy, type 2 diabetes, chronic thigh muscle pain...\n",
      "-------------\n",
      "@ottiliedyckhoff @Diabetescouk Took high dose of simvastatin for a few years but suffered with bad cramp in my feet. Now on lower dose of atorvastatin with no side effects. Know a lady who is the opposite. She can’t take atorvastatin, so keep a close eye on side effects and ask to change them if you need to.\n",
      "-------------\n",
      "@CJABradbury @eohiggins My wife takes a large dose Atorvastatin and has managed them fine since she had major heart surgery last year. No side effects to speak of. I take a smaller dose of it  and am fine after struggling with Synvastatin which made me feel really sick. Hope that helps!\n",
      "-------------\n",
      "@erictopol does crestor fall into this cat.? my dose was upped 5mg 1x to 20mg 1x 6 months later i have blurred vis. and hand tremors .\n",
      "-------------\n",
      "@ltd_to_two like reducing crestor was found to decrease my suffering and restore agility. #bigpharma #poison\n",
      "-------------\n",
      "The next week, I meet w/doc to talk side effects. He gives me Crestor 10 mg. Pain subsides for ~2 days, then comes back. 6/n #LandrysLife\n",
      "-------------\n",
      "@theheartorg @DrMarthaGulati The only molecule i tolerate is crestor and only 5 mg , otherwise  i become like 20 older by muscle' s pain\n",
      "-------------\n",
      "The ironic thing about my uncle getting Dementia from Lipitor (a possible side effect) is I lowered his cholesterol…https://t.co/AcJCLQan1L\n",
      "-------------\n",
      "@RealMyDaddyCool Atorvastatin 40mg for high cholesterol, no side effects and works for me  Metformin 500mg 2x a day for prediabetes, no side effects and works for me  Metoprolol 150mg for my heart, 70% works for me and side effects are the 30% it doesn't work (chest discomfort, tachycardia, etc)\n",
      "-------------\n",
      "@TroKalayjian Thanx I am gonna n 10mg Lipitor generic tried 5mg Crestor but cramped a lot.  Also taking 2000mg niacin daily labs are rocking good hdl near 75\n",
      "-------------\n",
      "crestor reduced my cholesterol to under 180 and zetia to 192 but i have elevated liver enzymes.\n",
      "-------------\n",
      "@annenbcnews when i take my crestor my hands get tingly pain and  back pain also i'm bummed because the statins work it's very confusing\n",
      "-------------\n",
      "@UrsulaV Oh yeah! They wanted to chuck me back to simvastatin, but I had to tell them every dang problem with it (plenty), so they put me on rosuvastatin instead. At least that seems to work out OK, maybe I scored lucky in medication bingo!\n",
      "-------------\n",
      "withdrawal symptoms lipitor - I forgot to refill my script over a week ago. This morning when I got out of bed, I literally fell back, luckily onto the bed. I felt so dizzy. I waited a couple of seconds and everything seemed normal and I got up again ... https://t.co/GIvZNx152M\n",
      "-------------\n",
      "@NorahNell Yup, lipitor gives me leg cramps. I break it in half. I don't take a whole one. Don't like it.\n",
      "-------------\n",
      "MASSIVE KILLER/DEATH OF THE MIND https://t.co/9EhU8EBQww via @YouTube  I had to shortly get of Lipitor years back. Heed this.\n",
      "-------------\n"
     ]
    }
   ],
   "source": [
    "sub = df[df.Subcategory=='a']\n",
    "\n",
    "for i in range(30):\n",
    "    print(sub.iloc[i]['message'])\n",
    "    print(\"-------------\")"
   ]
  },
  {
   "cell_type": "code",
   "execution_count": 29,
   "metadata": {},
   "outputs": [
    {
     "data": {
      "text/plain": [
       "331"
      ]
     },
     "execution_count": 29,
     "metadata": {},
     "output_type": "execute_result"
    }
   ],
   "source": [
    "len(sub)"
   ]
  },
  {
   "cell_type": "code",
   "execution_count": 42,
   "metadata": {},
   "outputs": [],
   "source": [
    "df1 = sub.copy()\n",
    "\n",
    "\n",
    "import random\n",
    "\n",
    "df2 = df[df.Subcategory!='a']\n",
    "random.seed(123)\n",
    "df2 = df2.sample(1500, replace = False,random_state = 123)"
   ]
  },
  {
   "cell_type": "code",
   "execution_count": 43,
   "metadata": {},
   "outputs": [],
   "source": [
    "finalDf = pd.concat([df1,df2],axis = 0)"
   ]
  },
  {
   "cell_type": "markdown",
   "metadata": {},
   "source": [
    "#### Extracting Seed"
   ]
  },
  {
   "cell_type": "code",
   "execution_count": 44,
   "metadata": {},
   "outputs": [],
   "source": [
    "embList, msgList = getSymptomEmbedding(model,tokenizer, finalDf, 'pain',0)"
   ]
  },
  {
   "cell_type": "code",
   "execution_count": 45,
   "metadata": {},
   "outputs": [
    {
     "name": "stdout",
     "output_type": "stream",
     "text": [
      "0 | @kendra_bond got free samples of crestor last year from pvt doc i paid for, va sent 4 different meds since, cause muscle pain..crestor=$212\n",
      "------------\n",
      "1 | @georgiaedemd @amyv_ntp @tuckergoodrich @ldlskeptic @vernersviews @lanacares @dramerling @draseemmalhotra @proftimnoakes @fructoseno @jedipd @dietdoctor1 @tednaiman @drjamesdinic @aapsonline @robertlustigmd @annchildersmd @loukasmarios @clunesm suspect simvastatin caused heart attack that led to cabg - because my 2yrs+ of stable angina turned into coronary artery spasms within weeks of #statins  atorvastatin 80mg finished me off after cabg, dementia, peripheral neuropathy, type 2 diabetes, chronic thigh muscle pain...\n",
      "------------\n",
      "2 | the next week, i meet w/doc to talk side effects. he gives me crestor 10 mg. pain subsides for ~2 days, then comes back. 6/n #landryslife\n",
      "------------\n",
      "3 | @theheartorg @drmarthagulati the only molecule i tolerate is crestor and only 5 mg , otherwise  i become like 20 older by muscle' s pain\n",
      "------------\n",
      "4 | @annenbcnews when i take my crestor my hands get tingly pain and  back pain also i'm bummed because the statins work it's very confusing\n",
      "------------\n",
      "5 | @lorenzofuentes6 @darkdntm @lindaannecrawf1 @62walterp @applewaithe @keepladywarm @lanihevly @michelescott12 @mariaginer5 @phucmyho @poisonivyresist @pacoluismonta9a @fmc21369 @lauren_ten @ecmjsm @truthequalsfact @wisepaxcat @goodoldcatchy @soccerben @sbuttsie @slythseeker2017 @rorycenturion1 @3ric_s74nl3y @wesley_jordan @nebula_gotg_17 @chillibeanboy @2017gamora @chillyresist @tomthunkitsmind @the_unsilent_ @silverattack @susannow3 @sanesophisticat @girlsreallyrule @gormanm @irishgilly @invisibleman_17 @izjustmyopinion @janetlgo @kyungkarenmend1 @laura_rachelle_ @llaws2 @antigopactivist @deborahjeffri11 @duckynorow @kim_f86 @gignewton16 @aynrandpaulryan @irocku2 @wait_usa_wtf damn, i have terrible time with statins and my cholesterol is high. i get major leg cramps. lipitor was the worst. thought i'd found something better in pravastatin, but it just took longer to cause side effects. have bad back, so took while 2 realize the leg pain was the statin.\n",
      "------------\n",
      "6 | @avestige1 @darkdntm @lindaannecrawf1 @62walterp @applewaithe @keepladywarm @lanihevly @michelescott12 @mariaginer5 @phucmyho @poisonivyresist @pacoluismonta9a @fmc21369 @lauren_ten @ecmjsm @truthequalsfact @wisepaxcat @goodoldcatchy @soccerben @sbuttsie @slythseeker2017 @rorycenturion1 @3ric_s74nl3y @wesley_jordan @nebula_gotg_17 @chillibeanboy @2017gamora @chillyresist @tomthunkitsmind @the_unsilent_ @silverattack @susannow3 @sanesophisticat @girlsreallyrule @gormanm @irishgilly @invisibleman_17 @izjustmyopinion @janetlgo @kyungkarenmend1 @laura_rachelle_ @llaws2 @antigopactivist @deborahjeffri11 @duckynorow @kim_f86 @gignewton16 @aynrandpaulryan @irocku2 @wait_usa_wtf when you go to the v.a., your options are limited to metformin, metformin extended release or straight up insulin.  they also dose me with repaglanide and glipizide. that's prettty much their offerings.  i'm given atorvastatin now.  wow, leg pain.  do they give u antinflamitories\n",
      "------------\n",
      "7 | @mercola my partner has severe joint pain in his arms, and a general arm weakness, would this be due to the atorvastatin he takes ?   can you just ago taking them ?\n",
      "------------\n",
      "8 | @famgram3 @jenwillis @mrsrainbowzebra @cmclymer do you take crestor or lipitor? also causes muscle wasting. i know. supplements sometimes help with the residual pain.\n",
      "------------\n",
      "9 | i have a 56 y/o woman on simvastatin who didn't notice muscle pain due to chronic oxycodone for her back. now she's in the icu.\n",
      "------------\n",
      "10 | i have a 56 y/o patient on simvastatin who didn't notice severe muscle pain due to chronic oxycodone for her back. now she's in the icu.\n",
      "------------\n",
      "11 | @moorseyl she's home.  got her off the atorvastatin and she's not in pain any longer.  bloody hospitals.... grrrr.\n",
      "------------\n",
      "12 | @kellyswails i was on lipitor, switched to generic when the pain came in. doing okay now, but still blowing the whistle no matter how much oatmeal i eat. bah. humbug. :p\n",
      "------------\n",
      "13 | we have settled a claim for a medication error after being pravastatin but was administered paroxetine which caused serious side effects including flushes, nausea, loss of appetite, pain in the joints, anxiety, headaches and more. we recovered over £2,000.\n",
      "------------\n",
      "14 | we have settled a claim for a medication error after our client was prescribed pravastatin but was administered paroxetine which caused serious side effects including flushes, nausea, loss of appetite, pain in the joints, anxiety, headaches and more. we recovered over £2,000.\n",
      "------------\n",
      "15 | @getslimsa crestor not statins!even with lchf,do that for nearly 8yrs, he still needs crestor, the statins give the most awfull muscle pain!\n",
      "------------\n",
      "16 | a twitter user is taking crestor and experiencing fever, ab pain, and weight gain via @medhawkapp @azhelps #hcsm http://t.co/o7s7bmdr4w\n",
      "------------\n",
      "17 | i had no idea taking crestor caused my mommy pain until today. i. am. livid...\n",
      "------------\n",
      "18 | @saracarterdc @twitter hey, sara, could you please get this info to @realdonaldtrump @potus it's important! his muscle pain is caused by his crestor!! it also causes you not to be able to think and eats your brain. trust me, first hand info (hubby) quit taking &amp; normal again!  https://t.co/tntjs6mvbt\n",
      "------------\n",
      "19 | @peterrmare @realdonaldtrump would he actually have to stop taking them if he supplements with coq10? my family member who became almost crippled stopped taking simvastatin abruptly and started coq10 and the pain was gone within a few days. now he takes rosuvastatin and coq10 and no problems.\n",
      "------------\n",
      "20 | sometimes atorvastatin gives me muscle cramps, sometimes not. difficult to account for that. also, regular pain relief (codeine) no effect.\n",
      "------------\n",
      "21 | @nickcharlespi ugh. i get bouts of chest pain from my lipitor which really makes things fun for my internist.\n",
      "------------\n",
      "22 | @kilttripusa guess what?  the pain i have been having while on lipitor has subsided now that i'm no longer taking it! yippee!\n",
      "------------\n",
      "23 | @juveeza @draseemmalhotra my current ones atorvastatin no leg pain but bad fatigue, low energy. thanks. all this info helps.\n",
      "------------\n",
      "24 | simvastatin gave me incredible stomach and muscle pain, but after my heart attack i was given atorvastatin and i'm fine with those #victoria\n",
      "------------\n",
      "25 | atorvastatin lot of pain morning\n",
      "------------\n",
      "26 | @drjasonfung changed from simvastatin to atorvastatin a few years ago, because of horrendous shoulder muscle pain,… https://t.co/ipdpzbdtg9\n",
      "------------\n",
      "27 | @cardiosmart i take my meds but insurers hassle me 2take lipitor on which i had muscle pain/weakness &amp;balk @paying… https://t.co/ksmm36jdtz\n",
      "------------\n",
      "28 | necrotic myopathy neurogenic atrophy. finally diagnosis. on lipitor 4 yrs. off in february and got worse. ivig soon. excruciating pain\n",
      "------------\n",
      "29 | friend, and now the mega dose of lipitor causes leg pain and i am brokenhearted, sad and lonely. ich bin tot. i also turned to atheism as i\n",
      "------------\n"
     ]
    }
   ],
   "source": [
    "for i in range(len(msgList)):\n",
    "    print(f\"{i} | {msgList[i]}\")\n",
    "    print(\"------------\")"
   ]
  },
  {
   "cell_type": "code",
   "execution_count": 38,
   "metadata": {},
   "outputs": [],
   "source": [
    "indexList = [0,1,4,9,11,12,13,15]\n",
    "meanEmb = np.array(embList)[indexList,:]\n",
    "meanEmb = np.mean(meanEmb,0)"
   ]
  },
  {
   "cell_type": "code",
   "execution_count": null,
   "metadata": {},
   "outputs": [],
   "source": []
  },
  {
   "cell_type": "code",
   "execution_count": 46,
   "metadata": {},
   "outputs": [
    {
     "data": {
      "text/plain": [
       "1831"
      ]
     },
     "execution_count": 46,
     "metadata": {},
     "output_type": "execute_result"
    }
   ],
   "source": [
    "len(finalDf)"
   ]
  },
  {
   "cell_type": "markdown",
   "metadata": {},
   "source": [
    "#### Model Training"
   ]
  },
  {
   "cell_type": "code",
   "execution_count": 39,
   "metadata": {},
   "outputs": [],
   "source": [
    "!mkdir /data1/roshansk/BMIN_DataStore"
   ]
  },
  {
   "cell_type": "code",
   "execution_count": null,
   "metadata": {},
   "outputs": [],
   "source": []
  },
  {
   "cell_type": "code",
   "execution_count": 67,
   "metadata": {},
   "outputs": [
    {
     "name": "stderr",
     "output_type": "stream",
     "text": [
      "100%|██████████| 1831/1831 [00:00<00:00, 121269.75it/s]\n"
     ]
    }
   ],
   "source": [
    "from ADRModel import *\n",
    "\n",
    "graph = Graph()\n",
    "\n",
    "graph.addNode('pain',0,0)\n",
    "graph['pain'].vector = meanEmb\n",
    "\n",
    "outputFolder = '/data1/roshansk/BMIN_DataStore/'\n",
    "modelFolder = './ModelFolder/BMIN_Model/'\n",
    "\n",
    "q = deque()\n",
    "q.append(('pain',0))\n",
    "\n",
    "ADR = ADRModel(finalDf, model, tokenizer, graph, outputFolder, modelOutputFolder = modelFolder, \n",
    "               queue = q,  useMasterEmb=True, masterContrib=0.3, numThreshold=2000,saveEveryDepth=True)"
   ]
  },
  {
   "cell_type": "code",
   "execution_count": 68,
   "metadata": {},
   "outputs": [
    {
     "name": "stdout",
     "output_type": "stream",
     "text": [
      "Depth : 0 Exploring pain\n",
      "           word  counts  mean_sim\n",
      "133  discomfort       1  0.698737\n",
      "371     hurting       2  0.643920\n",
      "158      ##amps      15  0.630992\n",
      "375        hurt       4  0.621371\n",
      "239     lesions       1  0.612525\n",
      "-----------------------\n",
      "Master Embedding updated\n",
      "Depth : 1 Exploring discomfort\n",
      "        word  counts  mean_sim\n",
      "4       pain      62  0.687144\n",
      "214  lesions       1  0.651498\n",
      "513     sore       1  0.634436\n",
      "142   ##amps      15  0.612099\n",
      "668   injury       3  0.576561\n",
      "-----------------------\n",
      "Depth : 1 Exploring hurting\n",
      "           word  counts  mean_sim\n",
      "5          pain      63  0.689491\n",
      "537        hurt       4  0.676999\n",
      "171  discomfort       1  0.610711\n",
      "579       hurts       1  0.601236\n",
      "326     lesions       1  0.570270\n",
      "-----------------------\n",
      "Depth : 1 Exploring ##amps\n",
      "            word  counts  mean_sim\n",
      "6           pain      62  0.698183\n",
      "137   discomfort       1  0.690847\n",
      "258      lesions       1  0.649865\n",
      "477      muscles       5  0.612069\n",
      "1506       ##cts       1  0.589035\n",
      "-----------------------\n",
      "Depth : 1 Exploring hurt\n",
      "           word  counts  mean_sim\n",
      "529       hurts       1  0.734930\n",
      "492     hurting       2  0.708606\n",
      "6          pain      63  0.686274\n",
      "196      ##amps      15  0.585361\n",
      "153  discomfort       1  0.574236\n",
      "-----------------------\n",
      "Depth : 1 Exploring lesions\n",
      "            word  counts  mean_sim\n",
      "208   discomfort       1  0.688137\n",
      "2247    bleeding       1  0.645620\n",
      "1413      injury       3  0.639029\n",
      "9           pain      64  0.624135\n",
      "2799       ##cts       1  0.620594\n",
      "-----------------------\n",
      "Master Embedding updated\n",
      "Depth : 2 Exploring sore\n",
      "           word  counts  mean_sim\n",
      "314       stiff       1  0.702441\n",
      "74   discomfort       1  0.666597\n",
      "131        ache      12  0.590861\n",
      "3          pain      62  0.582880\n",
      "91       ##amps      15  0.572597\n",
      "-----------------------\n",
      "Depth : 2 Exploring injury\n",
      "            word  counts  mean_sim\n",
      "326      lesions       1  0.693249\n",
      "168   discomfort       1  0.650403\n",
      "429       damage       8  0.630140\n",
      "1967  impairment       1  0.623162\n",
      "5           pain      62  0.618064\n",
      "-----------------------\n",
      "Depth : 2 Exploring hurts\n",
      "        word  counts  mean_sim\n",
      "238     hurt       4  0.717804\n",
      "237  hurting       2  0.621338\n",
      "4       pain      62  0.552611\n",
      "308    feels       2  0.551731\n",
      "82    ##amps      15  0.534176\n",
      "-----------------------\n",
      "Depth : 2 Exploring muscles\n",
      "       word  counts  mean_sim\n",
      "4    muscle      47  0.655417\n",
      "196  ##amps      15  0.648571\n",
      "26     legs       5  0.611548\n",
      "5      pain      62  0.585782\n",
      "925  calves       1  0.582772\n",
      "-----------------------\n",
      "Depth : 2 Exploring ##cts\n",
      "          word  counts  mean_sim\n",
      "328    lesions       1  0.592602\n",
      "1024  ##ctions       3  0.582334\n",
      "1107   ##ction       6  0.565482\n",
      "189     ##amps      15  0.562696\n",
      "747     ##dder       1  0.549563\n",
      "-----------------------\n",
      "Depth : 2 Exploring bleeding\n",
      "              word  counts  mean_sim\n",
      "247        lesions       1  0.695424\n",
      "676  deterioration       1  0.634842\n",
      "126     discomfort       1  0.600914\n",
      "915         injury       3  0.597935\n",
      "586   inflammation       4  0.581442\n",
      "-----------------------\n",
      "Master Embedding updated\n",
      "Depth : 3 Exploring stiff\n",
      "           word  counts  mean_sim\n",
      "340        sore       1  0.728338\n",
      "70   discomfort       1  0.628259\n",
      "58       tremor       1  0.593215\n",
      "257     muscles       5  0.565802\n",
      "132        ache      12  0.562755\n",
      "-----------------------\n",
      "Depth : 3 Exploring ache\n",
      "           word  counts  mean_sim\n",
      "121  discomfort       1  0.668997\n",
      "428       hurts       1  0.655873\n",
      "676        sore       1  0.654140\n",
      "152      ##amps      15  0.644081\n",
      "397        hurt       4  0.635401\n",
      "-----------------------\n",
      "Depth : 3 Exploring damage\n",
      "               word  counts  mean_sim\n",
      "1166         injury       3  0.726882\n",
      "328         lesions       1  0.677652\n",
      "873   deterioration       1  0.614746\n",
      "1762       bleeding       1  0.611644\n",
      "1935     impairment       1  0.597002\n",
      "-----------------------\n",
      "Depth : 3 Exploring impairment\n",
      "            word  counts  mean_sim\n",
      "540       injury       3  0.655662\n",
      "1014  deficiency       1  0.604286\n",
      "155      lesions       1  0.594517\n",
      "80    discomfort       1  0.583699\n",
      "243      failure       5  0.552041\n",
      "-----------------------\n",
      "Depth : 3 Exploring feels\n",
      "        word  counts  mean_sim\n",
      "453    hurts       1  0.662986\n",
      "416     hurt       4  0.614264\n",
      "90      feel      18  0.577714\n",
      "150     felt       4  0.562019\n",
      "410  hurting       2  0.561469\n",
      "-----------------------\n",
      "Depth : 3 Exploring muscle\n",
      "            word  counts  mean_sim\n",
      "623      muscles       5  0.776212\n",
      "618     shoulder       2  0.630577\n",
      "253        joint       5  0.603567\n",
      "167   discomfort       1  0.593880\n",
      "1669        foot       1  0.585078\n",
      "-----------------------\n",
      "Depth : 3 Exploring legs\n",
      "        word  counts  mean_sim\n",
      "583  muscles       5  0.745501\n",
      "119     feet       5  0.630304\n",
      "49       leg      16  0.622297\n",
      "878   calves       1  0.616599\n",
      "247      arm       5  0.577281\n",
      "-----------------------\n",
      "Depth : 3 Exploring calves\n",
      "             word  counts  mean_sim\n",
      "4462  circulation       1  0.645322\n",
      "1055      muscles       5  0.629655\n",
      "1501       ratios       2  0.628175\n",
      "88           calf       1  0.614102\n",
      "3506      clothes       1  0.580210\n",
      "-----------------------\n",
      "Depth : 3 Exploring ##ctions\n",
      "         word  counts  mean_sim\n",
      "3404  ##tment       1  0.602998\n",
      "432     ##nts       1  0.591247\n",
      "3445    ##cts       2  0.575253\n",
      "531   ##ctors       2  0.571843\n",
      "1910  ##cting       2  0.560370\n",
      "-----------------------\n",
      "Depth : 3 Exploring ##ction\n",
      "           word  counts  mean_sim\n",
      "987      injury       3  0.677012\n",
      "302     lesions       1  0.653742\n",
      "1739      ##psy       1  0.630812\n",
      "539       ##mia      11  0.627377\n",
      "92    ##llation       1  0.617585\n",
      "-----------------------\n",
      "Depth : 3 Exploring ##dder\n",
      "           word  counts  mean_sim\n",
      "289     lesions       1  0.620705\n",
      "72    ##llation       1  0.603682\n",
      "1254      ##pus       1  0.602197\n",
      "311      ##osis       1  0.592643\n",
      "1046    ##rosis       3  0.580613\n",
      "-----------------------\n",
      "Depth : 3 Exploring deterioration\n",
      "            word  counts  mean_sim\n",
      "2028    bleeding       1  0.645115\n",
      "312      lesions       1  0.632296\n",
      "257     weakness       6  0.587155\n",
      "460     deposits       1  0.581604\n",
      "164   discomfort       1  0.581231\n",
      "-----------------------\n",
      "Depth : 3 Exploring inflammation\n",
      "            word  counts  mean_sim\n",
      "510      lesions       1  0.701414\n",
      "3388    bleeding       1  0.638407\n",
      "258   discomfort       1  0.619578\n",
      "1446    swelling       2  0.609809\n",
      "2071      injury       3  0.608319\n",
      "-----------------------\n",
      "Master Embedding updated\n",
      "Depth : 4 Exploring tremor\n",
      "Reached max depth\n",
      "Depth : 4 Exploring deficiency\n",
      "Reached max depth\n",
      "Depth : 4 Exploring failure\n",
      "Reached max depth\n",
      "Depth : 4 Exploring feel\n",
      "Reached max depth\n",
      "Depth : 4 Exploring felt\n",
      "Reached max depth\n",
      "Depth : 4 Exploring shoulder\n",
      "Reached max depth\n",
      "Depth : 4 Exploring joint\n",
      "Reached max depth\n",
      "Depth : 4 Exploring foot\n",
      "Reached max depth\n",
      "Depth : 4 Exploring feet\n",
      "Reached max depth\n",
      "Depth : 4 Exploring leg\n",
      "Reached max depth\n",
      "Depth : 4 Exploring arm\n",
      "Reached max depth\n",
      "Depth : 4 Exploring circulation\n",
      "Reached max depth\n",
      "Depth : 4 Exploring ratios\n",
      "Reached max depth\n",
      "Depth : 4 Exploring calf\n",
      "Reached max depth\n",
      "Depth : 4 Exploring clothes\n",
      "Reached max depth\n",
      "Depth : 4 Exploring ##tment\n",
      "Reached max depth\n",
      "Depth : 4 Exploring ##nts\n",
      "Reached max depth\n",
      "Depth : 4 Exploring ##ctors\n",
      "Reached max depth\n",
      "Depth : 4 Exploring ##cting\n",
      "Reached max depth\n",
      "Depth : 4 Exploring ##psy\n",
      "Reached max depth\n",
      "Depth : 4 Exploring ##mia\n",
      "Reached max depth\n",
      "Depth : 4 Exploring ##llation\n",
      "Reached max depth\n",
      "Depth : 4 Exploring ##pus\n",
      "Reached max depth\n",
      "Depth : 4 Exploring ##osis\n",
      "Reached max depth\n",
      "Depth : 4 Exploring ##rosis\n",
      "Reached max depth\n",
      "Depth : 4 Exploring weakness\n",
      "Reached max depth\n",
      "Depth : 4 Exploring deposits\n",
      "Reached max depth\n",
      "Depth : 4 Exploring swelling\n",
      "Reached max depth\n"
     ]
    }
   ],
   "source": [
    "ADR.trainModel(maxDepth=4, topk=5)"
   ]
  },
  {
   "cell_type": "code",
   "execution_count": 69,
   "metadata": {},
   "outputs": [
    {
     "data": {
      "application/vnd.plotly.v1+json": {
       "config": {
        "plotlyServerURL": "https://plot.ly"
       },
       "data": [
        {
         "hoverinfo": "none",
         "line": {
          "color": "#888",
          "width": 0.5
         },
         "mode": "lines",
         "type": "scatter",
         "x": [
          320.42,
          360.08,
          null,
          320.42,
          280.75,
          null,
          320.42,
          255.55,
          null,
          320.42,
          248.42,
          null,
          320.42,
          266.2,
          null,
          320.42,
          310.75,
          null,
          320.42,
          323.65,
          null,
          320.42,
          336.44,
          null,
          320.42,
          378.67,
          null,
          360.08,
          266.2,
          null,
          360.08,
          310.75,
          null,
          360.08,
          255.55,
          null,
          360.08,
          323.65,
          null,
          360.08,
          280.75,
          null,
          360.08,
          248.42,
          null,
          360.08,
          463.84,
          null,
          360.08,
          459.23,
          null,
          360.08,
          450.16,
          null,
          360.08,
          428.86,
          null,
          360.08,
          377.01,
          null,
          360.08,
          313.96,
          null,
          360.08,
          275.92,
          null,
          280.75,
          248.42,
          null,
          280.75,
          336.44,
          null,
          280.75,
          266.2,
          null,
          280.75,
          241.09,
          null,
          255.55,
          266.2,
          null,
          255.55,
          378.67,
          null,
          255.55,
          190.68,
          null,
          255.55,
          248.42,
          null,
          255.55,
          310.75,
          null,
          255.55,
          336.44,
          null,
          255.55,
          450.16,
          null,
          248.42,
          336.44,
          null,
          248.42,
          450.16,
          null,
          248.42,
          241.09,
          null,
          266.2,
          463.84,
          null,
          266.2,
          323.65,
          null,
          266.2,
          190.68,
          null,
          266.2,
          178.73,
          null,
          266.2,
          428.86,
          null,
          266.2,
          196.8,
          null,
          266.2,
          252.18,
          null,
          266.2,
          313.96,
          null,
          266.2,
          275.92,
          null,
          310.75,
          459.23,
          null,
          310.75,
          450.16,
          null,
          323.65,
          178.73,
          null,
          323.65,
          428.86,
          null,
          323.65,
          463.84,
          null,
          323.65,
          196.8,
          null,
          323.65,
          275.92,
          null,
          336.44,
          241.09,
          null,
          336.44,
          450.16,
          null,
          378.67,
          377.01,
          null,
          378.67,
          399.75,
          null,
          378.67,
          455.24,
          null,
          378.67,
          459.23,
          null,
          190.68,
          125.81,
          null,
          190.68,
          196.8,
          null,
          190.68,
          252.18,
          null,
          463.84,
          313.96,
          null,
          463.84,
          275.92,
          null,
          463.84,
          178.73,
          null,
          459.23,
          528.63,
          null,
          459.23,
          450.16,
          null,
          178.73,
          313.96,
          null,
          178.73,
          428.86,
          null,
          428.86,
          495.17,
          null,
          428.86,
          469.69,
          null,
          241.09,
          218.06,
          null,
          241.09,
          185.74,
          null,
          377.01,
          439.41,
          null,
          377.01,
          405.31,
          null,
          377.01,
          368.48,
          null,
          399.75,
          405.31,
          null,
          399.75,
          439.41,
          null,
          399.75,
          455.24,
          null,
          399.75,
          469.69,
          null,
          455.24,
          495.17,
          null,
          455.24,
          515.03,
          null,
          455.24,
          528.63,
          null,
          455.24,
          535.55,
          null,
          125.81,
          103.53,
          null,
          125.81,
          73.185,
          null,
          125.81,
          50.783,
          null,
          125.81,
          37.047,
          null,
          196.8,
          118.19,
          null,
          196.8,
          134.99,
          null,
          196.8,
          157.75,
          null,
          252.18,
          157.75,
          null,
          252.18,
          185.74,
          null,
          252.18,
          218.06,
          null,
          252.18,
          253.67,
          null,
          313.96,
          330.11,
          null,
          313.96,
          291.42,
          null,
          275.92,
          253.67,
          null
         ],
         "y": [
          223.43,
          283.52,
          null,
          223.43,
          283.52,
          null,
          223.43,
          254.67,
          null,
          223.43,
          223.43,
          null,
          223.43,
          176.06,
          null,
          223.43,
          152.08,
          null,
          223.43,
          151.5,
          null,
          223.43,
          153.23,
          null,
          223.43,
          181.11,
          null,
          283.52,
          176.06,
          null,
          283.52,
          152.08,
          null,
          283.52,
          254.67,
          null,
          283.52,
          151.5,
          null,
          283.52,
          283.52,
          null,
          283.52,
          223.43,
          null,
          283.52,
          236.34,
          null,
          283.52,
          261.74,
          null,
          283.52,
          285.91,
          null,
          283.52,
          318.17,
          null,
          283.52,
          355.84,
          null,
          283.52,
          367.28,
          null,
          283.52,
          360.38,
          null,
          283.52,
          223.43,
          null,
          283.52,
          153.23,
          null,
          283.52,
          176.06,
          null,
          283.52,
          343.61,
          null,
          254.67,
          176.06,
          null,
          254.67,
          181.11,
          null,
          254.67,
          285.91,
          null,
          254.67,
          223.43,
          null,
          254.67,
          152.08,
          null,
          254.67,
          153.23,
          null,
          254.67,
          285.91,
          null,
          223.43,
          153.23,
          null,
          223.43,
          285.91,
          null,
          223.43,
          343.61,
          null,
          176.06,
          236.34,
          null,
          176.06,
          151.5,
          null,
          176.06,
          285.91,
          null,
          176.06,
          197.72,
          null,
          176.06,
          318.17,
          null,
          176.06,
          149.57,
          null,
          176.06,
          96.622,
          null,
          176.06,
          367.28,
          null,
          176.06,
          360.38,
          null,
          152.08,
          261.74,
          null,
          152.08,
          285.91,
          null,
          151.5,
          197.72,
          null,
          151.5,
          318.17,
          null,
          151.5,
          236.34,
          null,
          151.5,
          149.57,
          null,
          151.5,
          360.38,
          null,
          153.23,
          343.61,
          null,
          153.23,
          285.91,
          null,
          181.11,
          355.84,
          null,
          181.11,
          103.25,
          null,
          181.11,
          172.83,
          null,
          181.11,
          261.74,
          null,
          285.91,
          317.15,
          null,
          285.91,
          149.57,
          null,
          285.91,
          96.622,
          null,
          236.34,
          367.28,
          null,
          236.34,
          360.38,
          null,
          236.34,
          197.72,
          null,
          261.74,
          280.89,
          null,
          261.74,
          285.91,
          null,
          197.72,
          367.28,
          null,
          197.72,
          318.17,
          null,
          318.17,
          350.39,
          null,
          318.17,
          379.55,
          null,
          343.61,
          413.64,
          null,
          343.61,
          392.3,
          null,
          355.84,
          403.7,
          null,
          355.84,
          422.05,
          null,
          355.84,
          434.01,
          null,
          103.25,
          24.81,
          null,
          103.25,
          43.16,
          null,
          103.25,
          172.83,
          null,
          103.25,
          67.305,
          null,
          172.83,
          96.467,
          null,
          172.83,
          129.71,
          null,
          172.83,
          165.96,
          null,
          172.83,
          204.07,
          null,
          317.15,
          412.91,
          null,
          317.15,
          371.14,
          null,
          317.15,
          324.62,
          null,
          317.15,
          274.85,
          null,
          149.57,
          147.53,
          null,
          149.57,
          112.64,
          null,
          149.57,
          81.313,
          null,
          96.622,
          81.313,
          null,
          96.622,
          54.553,
          null,
          96.622,
          33.22,
          null,
          96.622,
          18,
          null,
          367.28,
          439.21,
          null,
          367.28,
          437.47,
          null,
          360.38,
          428.86,
          null
         ]
        },
        {
         "marker": {
          "color": [],
          "colorscale": [
           [
            0,
            "rgb(255,255,217)"
           ],
           [
            0.125,
            "rgb(237,248,177)"
           ],
           [
            0.25,
            "rgb(199,233,180)"
           ],
           [
            0.375,
            "rgb(127,205,187)"
           ],
           [
            0.5,
            "rgb(65,182,196)"
           ],
           [
            0.625,
            "rgb(29,145,192)"
           ],
           [
            0.75,
            "rgb(34,94,168)"
           ],
           [
            0.875,
            "rgb(37,52,148)"
           ],
           [
            1,
            "rgb(8,29,88)"
           ]
          ],
          "line": {
           "width": 0
          },
          "reversescale": true,
          "showscale": false,
          "size": [
           14.999999999999998,
           5.231729055258467,
           5.124777183600713,
           7.121212121212121,
           5.338680926916221,
           5.213903743315508,
           5.0356506238859176,
           5.35650623885918,
           5.053475935828877,
           5.427807486631016,
           5.053475935828877,
           5.053475935828877,
           5,
           5.409982174688057,
           5.124777183600713,
           5.017825311942959,
           5.017825311942959,
           5.819964349376114,
           5.071301247771836,
           5.017825311942959,
           5.0356506238859176,
           5.089126559714795,
           5,
           5.017825311942959,
           5.053475935828877,
           5,
           5,
           5.071301247771836,
           5.303030303030303,
           5.053475935828877,
           5.017825311942959,
           5.071301247771836,
           5,
           5.071301247771836,
           5.267379679144385,
           5.071301247771836,
           5,
           5.017825311942959,
           5,
           5,
           5,
           5,
           5.017825311942959,
           5.017825311942959,
           5,
           5.17825311942959,
           5.017825311942959,
           5,
           5,
           5.0356506238859176,
           5.089126559714795,
           5,
           5.017825311942959
          ]
         },
         "mode": "markers+text",
         "text": [
          "pain",
          "discomfort",
          "hurting",
          "##amps",
          "hurt",
          "lesions",
          "sore",
          "injury",
          "hurts",
          "muscles",
          "##cts",
          "bleeding",
          "stiff",
          "ache",
          "damage",
          "impairment",
          "feels",
          "muscle",
          "legs",
          "calves",
          "##ctions",
          "##ction",
          "##dder",
          "deterioration",
          "inflammation",
          "tremor",
          "deficiency",
          "failure",
          "feel",
          "felt",
          "shoulder",
          "joint",
          "foot",
          "feet",
          "leg",
          "arm",
          "circulation",
          "ratios",
          "calf",
          "clothes",
          "##tment",
          "##nts",
          "##ctors",
          "##cting",
          "##psy",
          "##mia",
          "##llation",
          "##pus",
          "##osis",
          "##rosis",
          "weakness",
          "deposits",
          "swelling"
         ],
         "textposition": "bottom center",
         "type": "scatter",
         "x": [
          320.42,
          360.08,
          280.75,
          255.55,
          248.42,
          266.2,
          310.75,
          323.65,
          336.44,
          378.67,
          190.68,
          463.84,
          459.23,
          450.16,
          178.73,
          428.86,
          241.09,
          377.01,
          399.75,
          455.24,
          125.81,
          196.8,
          252.18,
          313.96,
          275.92,
          528.63,
          495.17,
          469.69,
          218.06,
          185.74,
          439.41,
          405.31,
          368.48,
          405.31,
          439.41,
          469.69,
          495.17,
          515.03,
          528.63,
          535.55,
          103.53,
          73.185,
          50.783,
          37.047,
          118.19,
          134.99,
          157.75,
          185.74,
          218.06,
          253.67,
          330.11,
          291.42,
          253.67
         ],
         "y": [
          223.43,
          283.52,
          283.52,
          254.67,
          223.43,
          176.06,
          152.08,
          151.5,
          153.23,
          181.11,
          285.91,
          236.34,
          261.74,
          285.91,
          197.72,
          318.17,
          343.61,
          355.84,
          103.25,
          172.83,
          317.15,
          149.57,
          96.622,
          367.28,
          360.38,
          280.89,
          350.39,
          379.55,
          413.64,
          392.3,
          403.7,
          422.05,
          434.01,
          24.81,
          43.16,
          67.305,
          96.467,
          129.71,
          165.96,
          204.07,
          412.91,
          371.14,
          324.62,
          274.85,
          147.53,
          112.64,
          81.313,
          54.553,
          33.22,
          18,
          439.21,
          437.47,
          428.86
         ]
        },
        {
         "hoverinfo": "text",
         "marker": {
          "color": [
           0.636,
           0.633,
           0.634,
           0.599,
           0.653,
           0.642,
           0.672,
           0.64,
           0.664,
           0.666,
           0.595,
           0.635,
           0.702,
           0.577,
           0.63,
           0.61,
           0.552,
           0.655,
           0.612,
           0.6,
           0.582,
           0.565,
           0.55,
           0.625,
           0.581,
           0.593,
           0.604,
           0.552,
           0.578,
           0.562,
           0.631,
           0.604,
           0.585,
           0.63,
           0.622,
           0.577,
           0.645,
           0.628,
           0.614,
           0.58,
           0.603,
           0.591,
           0.572,
           0.56,
           0.631,
           0.627,
           0.611,
           0.602,
           0.593,
           0.581,
           0.587,
           0.582,
           0.61
          ],
          "colorbar": {
           "thickness": 15,
           "title": {
            "side": "right",
            "text": "Node Connections"
           },
           "xanchor": "left"
          },
          "colorscale": [
           [
            0,
            "rgb(255,245,240)"
           ],
           [
            0.125,
            "rgb(254,224,210)"
           ],
           [
            0.25,
            "rgb(252,187,161)"
           ],
           [
            0.375,
            "rgb(252,146,114)"
           ],
           [
            0.5,
            "rgb(251,106,74)"
           ],
           [
            0.625,
            "rgb(239,59,44)"
           ],
           [
            0.75,
            "rgb(203,24,29)"
           ],
           [
            0.875,
            "rgb(165,15,21)"
           ],
           [
            1,
            "rgb(103,0,13)"
           ]
          ],
          "line": {
           "width": 1
          },
          "reversescale": false,
          "showscale": true,
          "size": [
           14.999999999999998,
           5.231729055258467,
           5.124777183600713,
           7.121212121212121,
           5.338680926916221,
           5.213903743315508,
           5.0356506238859176,
           5.35650623885918,
           5.053475935828877,
           5.427807486631016,
           5.053475935828877,
           5.053475935828877,
           5,
           5.409982174688057,
           5.124777183600713,
           5.017825311942959,
           5.017825311942959,
           5.819964349376114,
           5.071301247771836,
           5.017825311942959,
           5.0356506238859176,
           5.089126559714795,
           5,
           5.017825311942959,
           5.053475935828877,
           5,
           5,
           5.071301247771836,
           5.303030303030303,
           5.053475935828877,
           5.017825311942959,
           5.071301247771836,
           5,
           5.071301247771836,
           5.267379679144385,
           5.071301247771836,
           5,
           5.017825311942959,
           5,
           5,
           5,
           5,
           5.017825311942959,
           5.017825311942959,
           5,
           5.17825311942959,
           5.017825311942959,
           5,
           5,
           5.0356506238859176,
           5.089126559714795,
           5,
           5.017825311942959
          ]
         },
         "mode": "markers",
         "text": [
          "pain <br>Count : 562 <br>Score : 0.636",
          "discomfort <br>Count : 14 <br>Score : 0.633",
          "hurting <br>Count : 8 <br>Score : 0.634",
          "##amps <br>Count : 120 <br>Score : 0.599",
          "hurt <br>Count : 20 <br>Score : 0.653",
          "lesions <br>Count : 13 <br>Score : 0.642",
          "sore <br>Count : 3 <br>Score : 0.672",
          "injury <br>Count : 21 <br>Score : 0.64",
          "hurts <br>Count : 4 <br>Score : 0.664",
          "muscles <br>Count : 25 <br>Score : 0.666",
          "##cts <br>Count : 4 <br>Score : 0.595",
          "bleeding <br>Count : 4 <br>Score : 0.635",
          "stiff <br>Count : 1 <br>Score : 0.702",
          "ache <br>Count : 24 <br>Score : 0.577",
          "damage <br>Count : 8 <br>Score : 0.63",
          "impairment <br>Count : 2 <br>Score : 0.61",
          "feels <br>Count : 2 <br>Score : 0.552",
          "muscle <br>Count : 47 <br>Score : 0.655",
          "legs <br>Count : 5 <br>Score : 0.612",
          "calves <br>Count : 2 <br>Score : 0.6",
          "##ctions <br>Count : 3 <br>Score : 0.582",
          "##ction <br>Count : 6 <br>Score : 0.565",
          "##dder <br>Count : 1 <br>Score : 0.55",
          "deterioration <br>Count : 2 <br>Score : 0.625",
          "inflammation <br>Count : 4 <br>Score : 0.581",
          "tremor <br>Count : 1 <br>Score : 0.593",
          "deficiency <br>Count : 1 <br>Score : 0.604",
          "failure <br>Count : 5 <br>Score : 0.552",
          "feel <br>Count : 18 <br>Score : 0.578",
          "felt <br>Count : 4 <br>Score : 0.562",
          "shoulder <br>Count : 2 <br>Score : 0.631",
          "joint <br>Count : 5 <br>Score : 0.604",
          "foot <br>Count : 1 <br>Score : 0.585",
          "feet <br>Count : 5 <br>Score : 0.63",
          "leg <br>Count : 16 <br>Score : 0.622",
          "arm <br>Count : 5 <br>Score : 0.577",
          "circulation <br>Count : 1 <br>Score : 0.645",
          "ratios <br>Count : 2 <br>Score : 0.628",
          "calf <br>Count : 1 <br>Score : 0.614",
          "clothes <br>Count : 1 <br>Score : 0.58",
          "##tment <br>Count : 1 <br>Score : 0.603",
          "##nts <br>Count : 1 <br>Score : 0.591",
          "##ctors <br>Count : 2 <br>Score : 0.572",
          "##cting <br>Count : 2 <br>Score : 0.56",
          "##psy <br>Count : 1 <br>Score : 0.631",
          "##mia <br>Count : 11 <br>Score : 0.627",
          "##llation <br>Count : 2 <br>Score : 0.611",
          "##pus <br>Count : 1 <br>Score : 0.602",
          "##osis <br>Count : 1 <br>Score : 0.593",
          "##rosis <br>Count : 3 <br>Score : 0.581",
          "weakness <br>Count : 6 <br>Score : 0.587",
          "deposits <br>Count : 1 <br>Score : 0.582",
          "swelling <br>Count : 2 <br>Score : 0.61"
         ],
         "type": "scatter",
         "x": [
          320.42,
          360.08,
          280.75,
          255.55,
          248.42,
          266.2,
          310.75,
          323.65,
          336.44,
          378.67,
          190.68,
          463.84,
          459.23,
          450.16,
          178.73,
          428.86,
          241.09,
          377.01,
          399.75,
          455.24,
          125.81,
          196.8,
          252.18,
          313.96,
          275.92,
          528.63,
          495.17,
          469.69,
          218.06,
          185.74,
          439.41,
          405.31,
          368.48,
          405.31,
          439.41,
          469.69,
          495.17,
          515.03,
          528.63,
          535.55,
          103.53,
          73.185,
          50.783,
          37.047,
          118.19,
          134.99,
          157.75,
          185.74,
          218.06,
          253.67,
          330.11,
          291.42,
          253.67
         ],
         "y": [
          223.43,
          283.52,
          283.52,
          254.67,
          223.43,
          176.06,
          152.08,
          151.5,
          153.23,
          181.11,
          285.91,
          236.34,
          261.74,
          285.91,
          197.72,
          318.17,
          343.61,
          355.84,
          103.25,
          172.83,
          317.15,
          149.57,
          96.622,
          367.28,
          360.38,
          280.89,
          350.39,
          379.55,
          413.64,
          392.3,
          403.7,
          422.05,
          434.01,
          24.81,
          43.16,
          67.305,
          96.467,
          129.71,
          165.96,
          204.07,
          412.91,
          371.14,
          324.62,
          274.85,
          147.53,
          112.64,
          81.313,
          54.553,
          33.22,
          18,
          439.21,
          437.47,
          428.86
         ]
        }
       ],
       "layout": {
        "hovermode": "closest",
        "margin": {
         "b": 20,
         "l": 5,
         "r": 5,
         "t": 50
        },
        "showlegend": false,
        "template": {
         "data": {
          "bar": [
           {
            "error_x": {
             "color": "#2a3f5f"
            },
            "error_y": {
             "color": "#2a3f5f"
            },
            "marker": {
             "line": {
              "color": "#E5ECF6",
              "width": 0.5
             }
            },
            "type": "bar"
           }
          ],
          "barpolar": [
           {
            "marker": {
             "line": {
              "color": "#E5ECF6",
              "width": 0.5
             }
            },
            "type": "barpolar"
           }
          ],
          "carpet": [
           {
            "aaxis": {
             "endlinecolor": "#2a3f5f",
             "gridcolor": "white",
             "linecolor": "white",
             "minorgridcolor": "white",
             "startlinecolor": "#2a3f5f"
            },
            "baxis": {
             "endlinecolor": "#2a3f5f",
             "gridcolor": "white",
             "linecolor": "white",
             "minorgridcolor": "white",
             "startlinecolor": "#2a3f5f"
            },
            "type": "carpet"
           }
          ],
          "choropleth": [
           {
            "colorbar": {
             "outlinewidth": 0,
             "ticks": ""
            },
            "type": "choropleth"
           }
          ],
          "contour": [
           {
            "colorbar": {
             "outlinewidth": 0,
             "ticks": ""
            },
            "colorscale": [
             [
              0,
              "#0d0887"
             ],
             [
              0.1111111111111111,
              "#46039f"
             ],
             [
              0.2222222222222222,
              "#7201a8"
             ],
             [
              0.3333333333333333,
              "#9c179e"
             ],
             [
              0.4444444444444444,
              "#bd3786"
             ],
             [
              0.5555555555555556,
              "#d8576b"
             ],
             [
              0.6666666666666666,
              "#ed7953"
             ],
             [
              0.7777777777777778,
              "#fb9f3a"
             ],
             [
              0.8888888888888888,
              "#fdca26"
             ],
             [
              1,
              "#f0f921"
             ]
            ],
            "type": "contour"
           }
          ],
          "contourcarpet": [
           {
            "colorbar": {
             "outlinewidth": 0,
             "ticks": ""
            },
            "type": "contourcarpet"
           }
          ],
          "heatmap": [
           {
            "colorbar": {
             "outlinewidth": 0,
             "ticks": ""
            },
            "colorscale": [
             [
              0,
              "#0d0887"
             ],
             [
              0.1111111111111111,
              "#46039f"
             ],
             [
              0.2222222222222222,
              "#7201a8"
             ],
             [
              0.3333333333333333,
              "#9c179e"
             ],
             [
              0.4444444444444444,
              "#bd3786"
             ],
             [
              0.5555555555555556,
              "#d8576b"
             ],
             [
              0.6666666666666666,
              "#ed7953"
             ],
             [
              0.7777777777777778,
              "#fb9f3a"
             ],
             [
              0.8888888888888888,
              "#fdca26"
             ],
             [
              1,
              "#f0f921"
             ]
            ],
            "type": "heatmap"
           }
          ],
          "heatmapgl": [
           {
            "colorbar": {
             "outlinewidth": 0,
             "ticks": ""
            },
            "colorscale": [
             [
              0,
              "#0d0887"
             ],
             [
              0.1111111111111111,
              "#46039f"
             ],
             [
              0.2222222222222222,
              "#7201a8"
             ],
             [
              0.3333333333333333,
              "#9c179e"
             ],
             [
              0.4444444444444444,
              "#bd3786"
             ],
             [
              0.5555555555555556,
              "#d8576b"
             ],
             [
              0.6666666666666666,
              "#ed7953"
             ],
             [
              0.7777777777777778,
              "#fb9f3a"
             ],
             [
              0.8888888888888888,
              "#fdca26"
             ],
             [
              1,
              "#f0f921"
             ]
            ],
            "type": "heatmapgl"
           }
          ],
          "histogram": [
           {
            "marker": {
             "colorbar": {
              "outlinewidth": 0,
              "ticks": ""
             }
            },
            "type": "histogram"
           }
          ],
          "histogram2d": [
           {
            "colorbar": {
             "outlinewidth": 0,
             "ticks": ""
            },
            "colorscale": [
             [
              0,
              "#0d0887"
             ],
             [
              0.1111111111111111,
              "#46039f"
             ],
             [
              0.2222222222222222,
              "#7201a8"
             ],
             [
              0.3333333333333333,
              "#9c179e"
             ],
             [
              0.4444444444444444,
              "#bd3786"
             ],
             [
              0.5555555555555556,
              "#d8576b"
             ],
             [
              0.6666666666666666,
              "#ed7953"
             ],
             [
              0.7777777777777778,
              "#fb9f3a"
             ],
             [
              0.8888888888888888,
              "#fdca26"
             ],
             [
              1,
              "#f0f921"
             ]
            ],
            "type": "histogram2d"
           }
          ],
          "histogram2dcontour": [
           {
            "colorbar": {
             "outlinewidth": 0,
             "ticks": ""
            },
            "colorscale": [
             [
              0,
              "#0d0887"
             ],
             [
              0.1111111111111111,
              "#46039f"
             ],
             [
              0.2222222222222222,
              "#7201a8"
             ],
             [
              0.3333333333333333,
              "#9c179e"
             ],
             [
              0.4444444444444444,
              "#bd3786"
             ],
             [
              0.5555555555555556,
              "#d8576b"
             ],
             [
              0.6666666666666666,
              "#ed7953"
             ],
             [
              0.7777777777777778,
              "#fb9f3a"
             ],
             [
              0.8888888888888888,
              "#fdca26"
             ],
             [
              1,
              "#f0f921"
             ]
            ],
            "type": "histogram2dcontour"
           }
          ],
          "mesh3d": [
           {
            "colorbar": {
             "outlinewidth": 0,
             "ticks": ""
            },
            "type": "mesh3d"
           }
          ],
          "parcoords": [
           {
            "line": {
             "colorbar": {
              "outlinewidth": 0,
              "ticks": ""
             }
            },
            "type": "parcoords"
           }
          ],
          "pie": [
           {
            "automargin": true,
            "type": "pie"
           }
          ],
          "scatter": [
           {
            "marker": {
             "colorbar": {
              "outlinewidth": 0,
              "ticks": ""
             }
            },
            "type": "scatter"
           }
          ],
          "scatter3d": [
           {
            "line": {
             "colorbar": {
              "outlinewidth": 0,
              "ticks": ""
             }
            },
            "marker": {
             "colorbar": {
              "outlinewidth": 0,
              "ticks": ""
             }
            },
            "type": "scatter3d"
           }
          ],
          "scattercarpet": [
           {
            "marker": {
             "colorbar": {
              "outlinewidth": 0,
              "ticks": ""
             }
            },
            "type": "scattercarpet"
           }
          ],
          "scattergeo": [
           {
            "marker": {
             "colorbar": {
              "outlinewidth": 0,
              "ticks": ""
             }
            },
            "type": "scattergeo"
           }
          ],
          "scattergl": [
           {
            "marker": {
             "colorbar": {
              "outlinewidth": 0,
              "ticks": ""
             }
            },
            "type": "scattergl"
           }
          ],
          "scattermapbox": [
           {
            "marker": {
             "colorbar": {
              "outlinewidth": 0,
              "ticks": ""
             }
            },
            "type": "scattermapbox"
           }
          ],
          "scatterpolar": [
           {
            "marker": {
             "colorbar": {
              "outlinewidth": 0,
              "ticks": ""
             }
            },
            "type": "scatterpolar"
           }
          ],
          "scatterpolargl": [
           {
            "marker": {
             "colorbar": {
              "outlinewidth": 0,
              "ticks": ""
             }
            },
            "type": "scatterpolargl"
           }
          ],
          "scatterternary": [
           {
            "marker": {
             "colorbar": {
              "outlinewidth": 0,
              "ticks": ""
             }
            },
            "type": "scatterternary"
           }
          ],
          "surface": [
           {
            "colorbar": {
             "outlinewidth": 0,
             "ticks": ""
            },
            "colorscale": [
             [
              0,
              "#0d0887"
             ],
             [
              0.1111111111111111,
              "#46039f"
             ],
             [
              0.2222222222222222,
              "#7201a8"
             ],
             [
              0.3333333333333333,
              "#9c179e"
             ],
             [
              0.4444444444444444,
              "#bd3786"
             ],
             [
              0.5555555555555556,
              "#d8576b"
             ],
             [
              0.6666666666666666,
              "#ed7953"
             ],
             [
              0.7777777777777778,
              "#fb9f3a"
             ],
             [
              0.8888888888888888,
              "#fdca26"
             ],
             [
              1,
              "#f0f921"
             ]
            ],
            "type": "surface"
           }
          ],
          "table": [
           {
            "cells": {
             "fill": {
              "color": "#EBF0F8"
             },
             "line": {
              "color": "white"
             }
            },
            "header": {
             "fill": {
              "color": "#C8D4E3"
             },
             "line": {
              "color": "white"
             }
            },
            "type": "table"
           }
          ]
         },
         "layout": {
          "annotationdefaults": {
           "arrowcolor": "#2a3f5f",
           "arrowhead": 0,
           "arrowwidth": 1
          },
          "coloraxis": {
           "colorbar": {
            "outlinewidth": 0,
            "ticks": ""
           }
          },
          "colorscale": {
           "diverging": [
            [
             0,
             "#8e0152"
            ],
            [
             0.1,
             "#c51b7d"
            ],
            [
             0.2,
             "#de77ae"
            ],
            [
             0.3,
             "#f1b6da"
            ],
            [
             0.4,
             "#fde0ef"
            ],
            [
             0.5,
             "#f7f7f7"
            ],
            [
             0.6,
             "#e6f5d0"
            ],
            [
             0.7,
             "#b8e186"
            ],
            [
             0.8,
             "#7fbc41"
            ],
            [
             0.9,
             "#4d9221"
            ],
            [
             1,
             "#276419"
            ]
           ],
           "sequential": [
            [
             0,
             "#0d0887"
            ],
            [
             0.1111111111111111,
             "#46039f"
            ],
            [
             0.2222222222222222,
             "#7201a8"
            ],
            [
             0.3333333333333333,
             "#9c179e"
            ],
            [
             0.4444444444444444,
             "#bd3786"
            ],
            [
             0.5555555555555556,
             "#d8576b"
            ],
            [
             0.6666666666666666,
             "#ed7953"
            ],
            [
             0.7777777777777778,
             "#fb9f3a"
            ],
            [
             0.8888888888888888,
             "#fdca26"
            ],
            [
             1,
             "#f0f921"
            ]
           ],
           "sequentialminus": [
            [
             0,
             "#0d0887"
            ],
            [
             0.1111111111111111,
             "#46039f"
            ],
            [
             0.2222222222222222,
             "#7201a8"
            ],
            [
             0.3333333333333333,
             "#9c179e"
            ],
            [
             0.4444444444444444,
             "#bd3786"
            ],
            [
             0.5555555555555556,
             "#d8576b"
            ],
            [
             0.6666666666666666,
             "#ed7953"
            ],
            [
             0.7777777777777778,
             "#fb9f3a"
            ],
            [
             0.8888888888888888,
             "#fdca26"
            ],
            [
             1,
             "#f0f921"
            ]
           ]
          },
          "colorway": [
           "#636efa",
           "#EF553B",
           "#00cc96",
           "#ab63fa",
           "#FFA15A",
           "#19d3f3",
           "#FF6692",
           "#B6E880",
           "#FF97FF",
           "#FECB52"
          ],
          "font": {
           "color": "#2a3f5f"
          },
          "geo": {
           "bgcolor": "white",
           "lakecolor": "white",
           "landcolor": "#E5ECF6",
           "showlakes": true,
           "showland": true,
           "subunitcolor": "white"
          },
          "hoverlabel": {
           "align": "left"
          },
          "hovermode": "closest",
          "mapbox": {
           "style": "light"
          },
          "paper_bgcolor": "white",
          "plot_bgcolor": "#E5ECF6",
          "polar": {
           "angularaxis": {
            "gridcolor": "white",
            "linecolor": "white",
            "ticks": ""
           },
           "bgcolor": "#E5ECF6",
           "radialaxis": {
            "gridcolor": "white",
            "linecolor": "white",
            "ticks": ""
           }
          },
          "scene": {
           "xaxis": {
            "backgroundcolor": "#E5ECF6",
            "gridcolor": "white",
            "gridwidth": 2,
            "linecolor": "white",
            "showbackground": true,
            "ticks": "",
            "zerolinecolor": "white"
           },
           "yaxis": {
            "backgroundcolor": "#E5ECF6",
            "gridcolor": "white",
            "gridwidth": 2,
            "linecolor": "white",
            "showbackground": true,
            "ticks": "",
            "zerolinecolor": "white"
           },
           "zaxis": {
            "backgroundcolor": "#E5ECF6",
            "gridcolor": "white",
            "gridwidth": 2,
            "linecolor": "white",
            "showbackground": true,
            "ticks": "",
            "zerolinecolor": "white"
           }
          },
          "shapedefaults": {
           "line": {
            "color": "#2a3f5f"
           }
          },
          "ternary": {
           "aaxis": {
            "gridcolor": "white",
            "linecolor": "white",
            "ticks": ""
           },
           "baxis": {
            "gridcolor": "white",
            "linecolor": "white",
            "ticks": ""
           },
           "bgcolor": "#E5ECF6",
           "caxis": {
            "gridcolor": "white",
            "linecolor": "white",
            "ticks": ""
           }
          },
          "title": {
           "x": 0.05
          },
          "xaxis": {
           "automargin": true,
           "gridcolor": "white",
           "linecolor": "white",
           "ticks": "",
           "title": {
            "standoff": 15
           },
           "zerolinecolor": "white",
           "zerolinewidth": 2
          },
          "yaxis": {
           "automargin": true,
           "gridcolor": "white",
           "linecolor": "white",
           "ticks": "",
           "title": {
            "standoff": 15
           },
           "zerolinecolor": "white",
           "zerolinewidth": 2
          }
         }
        },
        "title": {
         "font": {
          "size": 16
         },
         "text": "<br>Network graph made with Python"
        },
        "xaxis": {
         "showgrid": false,
         "showticklabels": false,
         "zeroline": false
        },
        "yaxis": {
         "showgrid": false,
         "showticklabels": false,
         "zeroline": false
        }
       }
      },
      "text/html": [
       "<div>\n",
       "        \n",
       "        \n",
       "            <div id=\"55ede196-04e2-4511-be44-1059e68d4910\" class=\"plotly-graph-div\" style=\"height:525px; width:100%;\"></div>\n",
       "            <script type=\"text/javascript\">\n",
       "                require([\"plotly\"], function(Plotly) {\n",
       "                    window.PLOTLYENV=window.PLOTLYENV || {};\n",
       "                    \n",
       "                if (document.getElementById(\"55ede196-04e2-4511-be44-1059e68d4910\")) {\n",
       "                    Plotly.newPlot(\n",
       "                        '55ede196-04e2-4511-be44-1059e68d4910',\n",
       "                        [{\"hoverinfo\": \"none\", \"line\": {\"color\": \"#888\", \"width\": 0.5}, \"mode\": \"lines\", \"type\": \"scatter\", \"x\": [320.42, 360.08, null, 320.42, 280.75, null, 320.42, 255.55, null, 320.42, 248.42, null, 320.42, 266.2, null, 320.42, 310.75, null, 320.42, 323.65, null, 320.42, 336.44, null, 320.42, 378.67, null, 360.08, 266.2, null, 360.08, 310.75, null, 360.08, 255.55, null, 360.08, 323.65, null, 360.08, 280.75, null, 360.08, 248.42, null, 360.08, 463.84, null, 360.08, 459.23, null, 360.08, 450.16, null, 360.08, 428.86, null, 360.08, 377.01, null, 360.08, 313.96, null, 360.08, 275.92, null, 280.75, 248.42, null, 280.75, 336.44, null, 280.75, 266.2, null, 280.75, 241.09, null, 255.55, 266.2, null, 255.55, 378.67, null, 255.55, 190.68, null, 255.55, 248.42, null, 255.55, 310.75, null, 255.55, 336.44, null, 255.55, 450.16, null, 248.42, 336.44, null, 248.42, 450.16, null, 248.42, 241.09, null, 266.2, 463.84, null, 266.2, 323.65, null, 266.2, 190.68, null, 266.2, 178.73, null, 266.2, 428.86, null, 266.2, 196.8, null, 266.2, 252.18, null, 266.2, 313.96, null, 266.2, 275.92, null, 310.75, 459.23, null, 310.75, 450.16, null, 323.65, 178.73, null, 323.65, 428.86, null, 323.65, 463.84, null, 323.65, 196.8, null, 323.65, 275.92, null, 336.44, 241.09, null, 336.44, 450.16, null, 378.67, 377.01, null, 378.67, 399.75, null, 378.67, 455.24, null, 378.67, 459.23, null, 190.68, 125.81, null, 190.68, 196.8, null, 190.68, 252.18, null, 463.84, 313.96, null, 463.84, 275.92, null, 463.84, 178.73, null, 459.23, 528.63, null, 459.23, 450.16, null, 178.73, 313.96, null, 178.73, 428.86, null, 428.86, 495.17, null, 428.86, 469.69, null, 241.09, 218.06, null, 241.09, 185.74, null, 377.01, 439.41, null, 377.01, 405.31, null, 377.01, 368.48, null, 399.75, 405.31, null, 399.75, 439.41, null, 399.75, 455.24, null, 399.75, 469.69, null, 455.24, 495.17, null, 455.24, 515.03, null, 455.24, 528.63, null, 455.24, 535.55, null, 125.81, 103.53, null, 125.81, 73.185, null, 125.81, 50.783, null, 125.81, 37.047, null, 196.8, 118.19, null, 196.8, 134.99, null, 196.8, 157.75, null, 252.18, 157.75, null, 252.18, 185.74, null, 252.18, 218.06, null, 252.18, 253.67, null, 313.96, 330.11, null, 313.96, 291.42, null, 275.92, 253.67, null], \"y\": [223.43, 283.52, null, 223.43, 283.52, null, 223.43, 254.67, null, 223.43, 223.43, null, 223.43, 176.06, null, 223.43, 152.08, null, 223.43, 151.5, null, 223.43, 153.23, null, 223.43, 181.11, null, 283.52, 176.06, null, 283.52, 152.08, null, 283.52, 254.67, null, 283.52, 151.5, null, 283.52, 283.52, null, 283.52, 223.43, null, 283.52, 236.34, null, 283.52, 261.74, null, 283.52, 285.91, null, 283.52, 318.17, null, 283.52, 355.84, null, 283.52, 367.28, null, 283.52, 360.38, null, 283.52, 223.43, null, 283.52, 153.23, null, 283.52, 176.06, null, 283.52, 343.61, null, 254.67, 176.06, null, 254.67, 181.11, null, 254.67, 285.91, null, 254.67, 223.43, null, 254.67, 152.08, null, 254.67, 153.23, null, 254.67, 285.91, null, 223.43, 153.23, null, 223.43, 285.91, null, 223.43, 343.61, null, 176.06, 236.34, null, 176.06, 151.5, null, 176.06, 285.91, null, 176.06, 197.72, null, 176.06, 318.17, null, 176.06, 149.57, null, 176.06, 96.622, null, 176.06, 367.28, null, 176.06, 360.38, null, 152.08, 261.74, null, 152.08, 285.91, null, 151.5, 197.72, null, 151.5, 318.17, null, 151.5, 236.34, null, 151.5, 149.57, null, 151.5, 360.38, null, 153.23, 343.61, null, 153.23, 285.91, null, 181.11, 355.84, null, 181.11, 103.25, null, 181.11, 172.83, null, 181.11, 261.74, null, 285.91, 317.15, null, 285.91, 149.57, null, 285.91, 96.622, null, 236.34, 367.28, null, 236.34, 360.38, null, 236.34, 197.72, null, 261.74, 280.89, null, 261.74, 285.91, null, 197.72, 367.28, null, 197.72, 318.17, null, 318.17, 350.39, null, 318.17, 379.55, null, 343.61, 413.64, null, 343.61, 392.3, null, 355.84, 403.7, null, 355.84, 422.05, null, 355.84, 434.01, null, 103.25, 24.81, null, 103.25, 43.16, null, 103.25, 172.83, null, 103.25, 67.305, null, 172.83, 96.467, null, 172.83, 129.71, null, 172.83, 165.96, null, 172.83, 204.07, null, 317.15, 412.91, null, 317.15, 371.14, null, 317.15, 324.62, null, 317.15, 274.85, null, 149.57, 147.53, null, 149.57, 112.64, null, 149.57, 81.313, null, 96.622, 81.313, null, 96.622, 54.553, null, 96.622, 33.22, null, 96.622, 18.0, null, 367.28, 439.21, null, 367.28, 437.47, null, 360.38, 428.86, null]}, {\"marker\": {\"color\": [], \"colorscale\": [[0.0, \"rgb(255,255,217)\"], [0.125, \"rgb(237,248,177)\"], [0.25, \"rgb(199,233,180)\"], [0.375, \"rgb(127,205,187)\"], [0.5, \"rgb(65,182,196)\"], [0.625, \"rgb(29,145,192)\"], [0.75, \"rgb(34,94,168)\"], [0.875, \"rgb(37,52,148)\"], [1.0, \"rgb(8,29,88)\"]], \"line\": {\"width\": 0}, \"reversescale\": true, \"showscale\": false, \"size\": [14.999999999999998, 5.231729055258467, 5.124777183600713, 7.121212121212121, 5.338680926916221, 5.213903743315508, 5.0356506238859176, 5.35650623885918, 5.053475935828877, 5.427807486631016, 5.053475935828877, 5.053475935828877, 5.0, 5.409982174688057, 5.124777183600713, 5.017825311942959, 5.017825311942959, 5.819964349376114, 5.071301247771836, 5.017825311942959, 5.0356506238859176, 5.089126559714795, 5.0, 5.017825311942959, 5.053475935828877, 5.0, 5.0, 5.071301247771836, 5.303030303030303, 5.053475935828877, 5.017825311942959, 5.071301247771836, 5.0, 5.071301247771836, 5.267379679144385, 5.071301247771836, 5.0, 5.017825311942959, 5.0, 5.0, 5.0, 5.0, 5.017825311942959, 5.017825311942959, 5.0, 5.17825311942959, 5.017825311942959, 5.0, 5.0, 5.0356506238859176, 5.089126559714795, 5.0, 5.017825311942959]}, \"mode\": \"markers+text\", \"text\": [\"pain\", \"discomfort\", \"hurting\", \"##amps\", \"hurt\", \"lesions\", \"sore\", \"injury\", \"hurts\", \"muscles\", \"##cts\", \"bleeding\", \"stiff\", \"ache\", \"damage\", \"impairment\", \"feels\", \"muscle\", \"legs\", \"calves\", \"##ctions\", \"##ction\", \"##dder\", \"deterioration\", \"inflammation\", \"tremor\", \"deficiency\", \"failure\", \"feel\", \"felt\", \"shoulder\", \"joint\", \"foot\", \"feet\", \"leg\", \"arm\", \"circulation\", \"ratios\", \"calf\", \"clothes\", \"##tment\", \"##nts\", \"##ctors\", \"##cting\", \"##psy\", \"##mia\", \"##llation\", \"##pus\", \"##osis\", \"##rosis\", \"weakness\", \"deposits\", \"swelling\"], \"textposition\": \"bottom center\", \"type\": \"scatter\", \"x\": [320.42, 360.08, 280.75, 255.55, 248.42, 266.2, 310.75, 323.65, 336.44, 378.67, 190.68, 463.84, 459.23, 450.16, 178.73, 428.86, 241.09, 377.01, 399.75, 455.24, 125.81, 196.8, 252.18, 313.96, 275.92, 528.63, 495.17, 469.69, 218.06, 185.74, 439.41, 405.31, 368.48, 405.31, 439.41, 469.69, 495.17, 515.03, 528.63, 535.55, 103.53, 73.185, 50.783, 37.047, 118.19, 134.99, 157.75, 185.74, 218.06, 253.67, 330.11, 291.42, 253.67], \"y\": [223.43, 283.52, 283.52, 254.67, 223.43, 176.06, 152.08, 151.5, 153.23, 181.11, 285.91, 236.34, 261.74, 285.91, 197.72, 318.17, 343.61, 355.84, 103.25, 172.83, 317.15, 149.57, 96.622, 367.28, 360.38, 280.89, 350.39, 379.55, 413.64, 392.3, 403.7, 422.05, 434.01, 24.81, 43.16, 67.305, 96.467, 129.71, 165.96, 204.07, 412.91, 371.14, 324.62, 274.85, 147.53, 112.64, 81.313, 54.553, 33.22, 18.0, 439.21, 437.47, 428.86]}, {\"hoverinfo\": \"text\", \"marker\": {\"color\": [0.636, 0.633, 0.634, 0.599, 0.653, 0.642, 0.672, 0.64, 0.664, 0.666, 0.595, 0.635, 0.702, 0.577, 0.63, 0.61, 0.552, 0.655, 0.612, 0.6, 0.582, 0.565, 0.55, 0.625, 0.581, 0.593, 0.604, 0.552, 0.578, 0.562, 0.631, 0.604, 0.585, 0.63, 0.622, 0.577, 0.645, 0.628, 0.614, 0.58, 0.603, 0.591, 0.572, 0.56, 0.631, 0.627, 0.611, 0.602, 0.593, 0.581, 0.587, 0.582, 0.61], \"colorbar\": {\"thickness\": 15, \"title\": {\"side\": \"right\", \"text\": \"Node Connections\"}, \"xanchor\": \"left\"}, \"colorscale\": [[0.0, \"rgb(255,245,240)\"], [0.125, \"rgb(254,224,210)\"], [0.25, \"rgb(252,187,161)\"], [0.375, \"rgb(252,146,114)\"], [0.5, \"rgb(251,106,74)\"], [0.625, \"rgb(239,59,44)\"], [0.75, \"rgb(203,24,29)\"], [0.875, \"rgb(165,15,21)\"], [1.0, \"rgb(103,0,13)\"]], \"line\": {\"width\": 1}, \"reversescale\": false, \"showscale\": true, \"size\": [14.999999999999998, 5.231729055258467, 5.124777183600713, 7.121212121212121, 5.338680926916221, 5.213903743315508, 5.0356506238859176, 5.35650623885918, 5.053475935828877, 5.427807486631016, 5.053475935828877, 5.053475935828877, 5.0, 5.409982174688057, 5.124777183600713, 5.017825311942959, 5.017825311942959, 5.819964349376114, 5.071301247771836, 5.017825311942959, 5.0356506238859176, 5.089126559714795, 5.0, 5.017825311942959, 5.053475935828877, 5.0, 5.0, 5.071301247771836, 5.303030303030303, 5.053475935828877, 5.017825311942959, 5.071301247771836, 5.0, 5.071301247771836, 5.267379679144385, 5.071301247771836, 5.0, 5.017825311942959, 5.0, 5.0, 5.0, 5.0, 5.017825311942959, 5.017825311942959, 5.0, 5.17825311942959, 5.017825311942959, 5.0, 5.0, 5.0356506238859176, 5.089126559714795, 5.0, 5.017825311942959]}, \"mode\": \"markers\", \"text\": [\"pain <br>Count : 562 <br>Score : 0.636\", \"discomfort <br>Count : 14 <br>Score : 0.633\", \"hurting <br>Count : 8 <br>Score : 0.634\", \"##amps <br>Count : 120 <br>Score : 0.599\", \"hurt <br>Count : 20 <br>Score : 0.653\", \"lesions <br>Count : 13 <br>Score : 0.642\", \"sore <br>Count : 3 <br>Score : 0.672\", \"injury <br>Count : 21 <br>Score : 0.64\", \"hurts <br>Count : 4 <br>Score : 0.664\", \"muscles <br>Count : 25 <br>Score : 0.666\", \"##cts <br>Count : 4 <br>Score : 0.595\", \"bleeding <br>Count : 4 <br>Score : 0.635\", \"stiff <br>Count : 1 <br>Score : 0.702\", \"ache <br>Count : 24 <br>Score : 0.577\", \"damage <br>Count : 8 <br>Score : 0.63\", \"impairment <br>Count : 2 <br>Score : 0.61\", \"feels <br>Count : 2 <br>Score : 0.552\", \"muscle <br>Count : 47 <br>Score : 0.655\", \"legs <br>Count : 5 <br>Score : 0.612\", \"calves <br>Count : 2 <br>Score : 0.6\", \"##ctions <br>Count : 3 <br>Score : 0.582\", \"##ction <br>Count : 6 <br>Score : 0.565\", \"##dder <br>Count : 1 <br>Score : 0.55\", \"deterioration <br>Count : 2 <br>Score : 0.625\", \"inflammation <br>Count : 4 <br>Score : 0.581\", \"tremor <br>Count : 1 <br>Score : 0.593\", \"deficiency <br>Count : 1 <br>Score : 0.604\", \"failure <br>Count : 5 <br>Score : 0.552\", \"feel <br>Count : 18 <br>Score : 0.578\", \"felt <br>Count : 4 <br>Score : 0.562\", \"shoulder <br>Count : 2 <br>Score : 0.631\", \"joint <br>Count : 5 <br>Score : 0.604\", \"foot <br>Count : 1 <br>Score : 0.585\", \"feet <br>Count : 5 <br>Score : 0.63\", \"leg <br>Count : 16 <br>Score : 0.622\", \"arm <br>Count : 5 <br>Score : 0.577\", \"circulation <br>Count : 1 <br>Score : 0.645\", \"ratios <br>Count : 2 <br>Score : 0.628\", \"calf <br>Count : 1 <br>Score : 0.614\", \"clothes <br>Count : 1 <br>Score : 0.58\", \"##tment <br>Count : 1 <br>Score : 0.603\", \"##nts <br>Count : 1 <br>Score : 0.591\", \"##ctors <br>Count : 2 <br>Score : 0.572\", \"##cting <br>Count : 2 <br>Score : 0.56\", \"##psy <br>Count : 1 <br>Score : 0.631\", \"##mia <br>Count : 11 <br>Score : 0.627\", \"##llation <br>Count : 2 <br>Score : 0.611\", \"##pus <br>Count : 1 <br>Score : 0.602\", \"##osis <br>Count : 1 <br>Score : 0.593\", \"##rosis <br>Count : 3 <br>Score : 0.581\", \"weakness <br>Count : 6 <br>Score : 0.587\", \"deposits <br>Count : 1 <br>Score : 0.582\", \"swelling <br>Count : 2 <br>Score : 0.61\"], \"type\": \"scatter\", \"x\": [320.42, 360.08, 280.75, 255.55, 248.42, 266.2, 310.75, 323.65, 336.44, 378.67, 190.68, 463.84, 459.23, 450.16, 178.73, 428.86, 241.09, 377.01, 399.75, 455.24, 125.81, 196.8, 252.18, 313.96, 275.92, 528.63, 495.17, 469.69, 218.06, 185.74, 439.41, 405.31, 368.48, 405.31, 439.41, 469.69, 495.17, 515.03, 528.63, 535.55, 103.53, 73.185, 50.783, 37.047, 118.19, 134.99, 157.75, 185.74, 218.06, 253.67, 330.11, 291.42, 253.67], \"y\": [223.43, 283.52, 283.52, 254.67, 223.43, 176.06, 152.08, 151.5, 153.23, 181.11, 285.91, 236.34, 261.74, 285.91, 197.72, 318.17, 343.61, 355.84, 103.25, 172.83, 317.15, 149.57, 96.622, 367.28, 360.38, 280.89, 350.39, 379.55, 413.64, 392.3, 403.7, 422.05, 434.01, 24.81, 43.16, 67.305, 96.467, 129.71, 165.96, 204.07, 412.91, 371.14, 324.62, 274.85, 147.53, 112.64, 81.313, 54.553, 33.22, 18.0, 439.21, 437.47, 428.86]}],\n",
       "                        {\"hovermode\": \"closest\", \"margin\": {\"b\": 20, \"l\": 5, \"r\": 5, \"t\": 50}, \"showlegend\": false, \"template\": {\"data\": {\"bar\": [{\"error_x\": {\"color\": \"#2a3f5f\"}, \"error_y\": {\"color\": \"#2a3f5f\"}, \"marker\": {\"line\": {\"color\": \"#E5ECF6\", \"width\": 0.5}}, \"type\": \"bar\"}], \"barpolar\": [{\"marker\": {\"line\": {\"color\": \"#E5ECF6\", \"width\": 0.5}}, \"type\": \"barpolar\"}], \"carpet\": [{\"aaxis\": {\"endlinecolor\": \"#2a3f5f\", \"gridcolor\": \"white\", \"linecolor\": \"white\", \"minorgridcolor\": \"white\", \"startlinecolor\": \"#2a3f5f\"}, \"baxis\": {\"endlinecolor\": \"#2a3f5f\", \"gridcolor\": \"white\", \"linecolor\": \"white\", \"minorgridcolor\": \"white\", \"startlinecolor\": \"#2a3f5f\"}, \"type\": \"carpet\"}], \"choropleth\": [{\"colorbar\": {\"outlinewidth\": 0, \"ticks\": \"\"}, \"type\": \"choropleth\"}], \"contour\": [{\"colorbar\": {\"outlinewidth\": 0, \"ticks\": \"\"}, \"colorscale\": [[0.0, \"#0d0887\"], [0.1111111111111111, \"#46039f\"], [0.2222222222222222, \"#7201a8\"], [0.3333333333333333, \"#9c179e\"], [0.4444444444444444, \"#bd3786\"], [0.5555555555555556, \"#d8576b\"], [0.6666666666666666, \"#ed7953\"], [0.7777777777777778, \"#fb9f3a\"], [0.8888888888888888, \"#fdca26\"], [1.0, \"#f0f921\"]], \"type\": \"contour\"}], \"contourcarpet\": [{\"colorbar\": {\"outlinewidth\": 0, \"ticks\": \"\"}, \"type\": \"contourcarpet\"}], \"heatmap\": [{\"colorbar\": {\"outlinewidth\": 0, \"ticks\": \"\"}, \"colorscale\": [[0.0, \"#0d0887\"], [0.1111111111111111, \"#46039f\"], [0.2222222222222222, \"#7201a8\"], [0.3333333333333333, \"#9c179e\"], [0.4444444444444444, \"#bd3786\"], [0.5555555555555556, \"#d8576b\"], [0.6666666666666666, \"#ed7953\"], [0.7777777777777778, \"#fb9f3a\"], [0.8888888888888888, \"#fdca26\"], [1.0, \"#f0f921\"]], \"type\": \"heatmap\"}], \"heatmapgl\": [{\"colorbar\": {\"outlinewidth\": 0, \"ticks\": \"\"}, \"colorscale\": [[0.0, \"#0d0887\"], [0.1111111111111111, \"#46039f\"], [0.2222222222222222, \"#7201a8\"], [0.3333333333333333, \"#9c179e\"], [0.4444444444444444, \"#bd3786\"], [0.5555555555555556, \"#d8576b\"], [0.6666666666666666, \"#ed7953\"], [0.7777777777777778, \"#fb9f3a\"], [0.8888888888888888, \"#fdca26\"], [1.0, \"#f0f921\"]], \"type\": \"heatmapgl\"}], \"histogram\": [{\"marker\": {\"colorbar\": {\"outlinewidth\": 0, \"ticks\": \"\"}}, \"type\": \"histogram\"}], \"histogram2d\": [{\"colorbar\": {\"outlinewidth\": 0, \"ticks\": \"\"}, \"colorscale\": [[0.0, \"#0d0887\"], [0.1111111111111111, \"#46039f\"], [0.2222222222222222, \"#7201a8\"], [0.3333333333333333, \"#9c179e\"], [0.4444444444444444, \"#bd3786\"], [0.5555555555555556, \"#d8576b\"], [0.6666666666666666, \"#ed7953\"], [0.7777777777777778, \"#fb9f3a\"], [0.8888888888888888, \"#fdca26\"], [1.0, \"#f0f921\"]], \"type\": \"histogram2d\"}], \"histogram2dcontour\": [{\"colorbar\": {\"outlinewidth\": 0, \"ticks\": \"\"}, \"colorscale\": [[0.0, \"#0d0887\"], [0.1111111111111111, \"#46039f\"], [0.2222222222222222, \"#7201a8\"], [0.3333333333333333, \"#9c179e\"], [0.4444444444444444, \"#bd3786\"], [0.5555555555555556, \"#d8576b\"], [0.6666666666666666, \"#ed7953\"], [0.7777777777777778, \"#fb9f3a\"], [0.8888888888888888, \"#fdca26\"], [1.0, \"#f0f921\"]], \"type\": \"histogram2dcontour\"}], \"mesh3d\": [{\"colorbar\": {\"outlinewidth\": 0, \"ticks\": \"\"}, \"type\": \"mesh3d\"}], \"parcoords\": [{\"line\": {\"colorbar\": {\"outlinewidth\": 0, \"ticks\": \"\"}}, \"type\": \"parcoords\"}], \"pie\": [{\"automargin\": true, \"type\": \"pie\"}], \"scatter\": [{\"marker\": {\"colorbar\": {\"outlinewidth\": 0, \"ticks\": \"\"}}, \"type\": \"scatter\"}], \"scatter3d\": [{\"line\": {\"colorbar\": {\"outlinewidth\": 0, \"ticks\": \"\"}}, \"marker\": {\"colorbar\": {\"outlinewidth\": 0, \"ticks\": \"\"}}, \"type\": \"scatter3d\"}], \"scattercarpet\": [{\"marker\": {\"colorbar\": {\"outlinewidth\": 0, \"ticks\": \"\"}}, \"type\": \"scattercarpet\"}], \"scattergeo\": [{\"marker\": {\"colorbar\": {\"outlinewidth\": 0, \"ticks\": \"\"}}, \"type\": \"scattergeo\"}], \"scattergl\": [{\"marker\": {\"colorbar\": {\"outlinewidth\": 0, \"ticks\": \"\"}}, \"type\": \"scattergl\"}], \"scattermapbox\": [{\"marker\": {\"colorbar\": {\"outlinewidth\": 0, \"ticks\": \"\"}}, \"type\": \"scattermapbox\"}], \"scatterpolar\": [{\"marker\": {\"colorbar\": {\"outlinewidth\": 0, \"ticks\": \"\"}}, \"type\": \"scatterpolar\"}], \"scatterpolargl\": [{\"marker\": {\"colorbar\": {\"outlinewidth\": 0, \"ticks\": \"\"}}, \"type\": \"scatterpolargl\"}], \"scatterternary\": [{\"marker\": {\"colorbar\": {\"outlinewidth\": 0, \"ticks\": \"\"}}, \"type\": \"scatterternary\"}], \"surface\": [{\"colorbar\": {\"outlinewidth\": 0, \"ticks\": \"\"}, \"colorscale\": [[0.0, \"#0d0887\"], [0.1111111111111111, \"#46039f\"], [0.2222222222222222, \"#7201a8\"], [0.3333333333333333, \"#9c179e\"], [0.4444444444444444, \"#bd3786\"], [0.5555555555555556, \"#d8576b\"], [0.6666666666666666, \"#ed7953\"], [0.7777777777777778, \"#fb9f3a\"], [0.8888888888888888, \"#fdca26\"], [1.0, \"#f0f921\"]], \"type\": \"surface\"}], \"table\": [{\"cells\": {\"fill\": {\"color\": \"#EBF0F8\"}, \"line\": {\"color\": \"white\"}}, \"header\": {\"fill\": {\"color\": \"#C8D4E3\"}, \"line\": {\"color\": \"white\"}}, \"type\": \"table\"}]}, \"layout\": {\"annotationdefaults\": {\"arrowcolor\": \"#2a3f5f\", \"arrowhead\": 0, \"arrowwidth\": 1}, \"coloraxis\": {\"colorbar\": {\"outlinewidth\": 0, \"ticks\": \"\"}}, \"colorscale\": {\"diverging\": [[0, \"#8e0152\"], [0.1, \"#c51b7d\"], [0.2, \"#de77ae\"], [0.3, \"#f1b6da\"], [0.4, \"#fde0ef\"], [0.5, \"#f7f7f7\"], [0.6, \"#e6f5d0\"], [0.7, \"#b8e186\"], [0.8, \"#7fbc41\"], [0.9, \"#4d9221\"], [1, \"#276419\"]], \"sequential\": [[0.0, \"#0d0887\"], [0.1111111111111111, \"#46039f\"], [0.2222222222222222, \"#7201a8\"], [0.3333333333333333, \"#9c179e\"], [0.4444444444444444, \"#bd3786\"], [0.5555555555555556, \"#d8576b\"], [0.6666666666666666, \"#ed7953\"], [0.7777777777777778, \"#fb9f3a\"], [0.8888888888888888, \"#fdca26\"], [1.0, \"#f0f921\"]], \"sequentialminus\": [[0.0, \"#0d0887\"], [0.1111111111111111, \"#46039f\"], [0.2222222222222222, \"#7201a8\"], [0.3333333333333333, \"#9c179e\"], [0.4444444444444444, \"#bd3786\"], [0.5555555555555556, \"#d8576b\"], [0.6666666666666666, \"#ed7953\"], [0.7777777777777778, \"#fb9f3a\"], [0.8888888888888888, \"#fdca26\"], [1.0, \"#f0f921\"]]}, \"colorway\": [\"#636efa\", \"#EF553B\", \"#00cc96\", \"#ab63fa\", \"#FFA15A\", \"#19d3f3\", \"#FF6692\", \"#B6E880\", \"#FF97FF\", \"#FECB52\"], \"font\": {\"color\": \"#2a3f5f\"}, \"geo\": {\"bgcolor\": \"white\", \"lakecolor\": \"white\", \"landcolor\": \"#E5ECF6\", \"showlakes\": true, \"showland\": true, \"subunitcolor\": \"white\"}, \"hoverlabel\": {\"align\": \"left\"}, \"hovermode\": \"closest\", \"mapbox\": {\"style\": \"light\"}, \"paper_bgcolor\": \"white\", \"plot_bgcolor\": \"#E5ECF6\", \"polar\": {\"angularaxis\": {\"gridcolor\": \"white\", \"linecolor\": \"white\", \"ticks\": \"\"}, \"bgcolor\": \"#E5ECF6\", \"radialaxis\": {\"gridcolor\": \"white\", \"linecolor\": \"white\", \"ticks\": \"\"}}, \"scene\": {\"xaxis\": {\"backgroundcolor\": \"#E5ECF6\", \"gridcolor\": \"white\", \"gridwidth\": 2, \"linecolor\": \"white\", \"showbackground\": true, \"ticks\": \"\", \"zerolinecolor\": \"white\"}, \"yaxis\": {\"backgroundcolor\": \"#E5ECF6\", \"gridcolor\": \"white\", \"gridwidth\": 2, \"linecolor\": \"white\", \"showbackground\": true, \"ticks\": \"\", \"zerolinecolor\": \"white\"}, \"zaxis\": {\"backgroundcolor\": \"#E5ECF6\", \"gridcolor\": \"white\", \"gridwidth\": 2, \"linecolor\": \"white\", \"showbackground\": true, \"ticks\": \"\", \"zerolinecolor\": \"white\"}}, \"shapedefaults\": {\"line\": {\"color\": \"#2a3f5f\"}}, \"ternary\": {\"aaxis\": {\"gridcolor\": \"white\", \"linecolor\": \"white\", \"ticks\": \"\"}, \"baxis\": {\"gridcolor\": \"white\", \"linecolor\": \"white\", \"ticks\": \"\"}, \"bgcolor\": \"#E5ECF6\", \"caxis\": {\"gridcolor\": \"white\", \"linecolor\": \"white\", \"ticks\": \"\"}}, \"title\": {\"x\": 0.05}, \"xaxis\": {\"automargin\": true, \"gridcolor\": \"white\", \"linecolor\": \"white\", \"ticks\": \"\", \"title\": {\"standoff\": 15}, \"zerolinecolor\": \"white\", \"zerolinewidth\": 2}, \"yaxis\": {\"automargin\": true, \"gridcolor\": \"white\", \"linecolor\": \"white\", \"ticks\": \"\", \"title\": {\"standoff\": 15}, \"zerolinecolor\": \"white\", \"zerolinewidth\": 2}}}, \"title\": {\"font\": {\"size\": 16}, \"text\": \"<br>Network graph made with Python\"}, \"xaxis\": {\"showgrid\": false, \"showticklabels\": false, \"zeroline\": false}, \"yaxis\": {\"showgrid\": false, \"showticklabels\": false, \"zeroline\": false}},\n",
       "                        {\"responsive\": true}\n",
       "                    ).then(function(){\n",
       "                            \n",
       "var gd = document.getElementById('55ede196-04e2-4511-be44-1059e68d4910');\n",
       "var x = new MutationObserver(function (mutations, observer) {{\n",
       "        var display = window.getComputedStyle(gd).display;\n",
       "        if (!display || display === 'none') {{\n",
       "            console.log([gd, 'removed!']);\n",
       "            Plotly.purge(gd);\n",
       "            observer.disconnect();\n",
       "        }}\n",
       "}});\n",
       "\n",
       "// Listen for the removal of the full notebook cells\n",
       "var notebookContainer = gd.closest('#notebook-container');\n",
       "if (notebookContainer) {{\n",
       "    x.observe(notebookContainer, {childList: true});\n",
       "}}\n",
       "\n",
       "// Listen for the clearing of the current output cell\n",
       "var outputEl = gd.closest('.output');\n",
       "if (outputEl) {{\n",
       "    x.observe(outputEl, {childList: true});\n",
       "}}\n",
       "\n",
       "                        })\n",
       "                };\n",
       "                });\n",
       "            </script>\n",
       "        </div>"
      ]
     },
     "metadata": {},
     "output_type": "display_data"
    }
   ],
   "source": [
    "ADR.plotGraph()"
   ]
  },
  {
   "cell_type": "code",
   "execution_count": 65,
   "metadata": {},
   "outputs": [
    {
     "name": "stdout",
     "output_type": "stream",
     "text": [
      "Exploring sore\n",
      "discomfort -> sore       | 1 |  0.623 | [257]\n",
      "--------------------\n"
     ]
    }
   ],
   "source": [
    "ADR.graph.describeNode('sore')"
   ]
  },
  {
   "cell_type": "code",
   "execution_count": 66,
   "metadata": {},
   "outputs": [
    {
     "data": {
      "text/plain": [
       "'Dear Lipitor, thanks for trying to kill me with one dose. Good lord! Possible side effects lists were kidding. Muscle and joint soreness? Took one dose Thurs night and felt like whole body got instant rheumatoid arthritis! Just now easing off. F this stuff! #lipitor'"
      ]
     },
     "execution_count": 66,
     "metadata": {},
     "output_type": "execute_result"
    }
   ],
   "source": [
    "finalDf.iloc[257]['message']"
   ]
  },
  {
   "cell_type": "code",
   "execution_count": 81,
   "metadata": {},
   "outputs": [
    {
     "name": "stdout",
     "output_type": "stream",
     "text": [
      "Exploring clothes\n",
      "calves     -> clothes    | 1 |   0.58 | [1024]\n",
      "--------------------\n"
     ]
    }
   ],
   "source": [
    "ADR.graph.describeNode('clothes')"
   ]
  },
  {
   "cell_type": "code",
   "execution_count": 82,
   "metadata": {},
   "outputs": [
    {
     "data": {
      "text/plain": [
       "'@Pseudologichunt @RichLucido @jaketapper That’s not true it’s good. He is on a high cholesterol medication. His clothes drawl levels without that would be dangerously high and so it is blood pressure! He’s on a Statin drug called Rosuvastatin. If he wasn’t on it his Cholesterol levels would be dangerously high! https://t.co/s9NSiKndBK'"
      ]
     },
     "execution_count": 82,
     "metadata": {},
     "output_type": "execute_result"
    }
   ],
   "source": [
    "finalDf.iloc[1024]['message']"
   ]
  },
  {
   "cell_type": "code",
   "execution_count": 107,
   "metadata": {},
   "outputs": [
    {
     "name": "stdout",
     "output_type": "stream",
     "text": [
      "Exploring swelling\n",
      "inflammation -> swelling   | 2 |   0.61 | [280, 1589]\n",
      "--------------------\n"
     ]
    }
   ],
   "source": [
    "ADR.graph.describeNode('swelling')"
   ]
  },
  {
   "cell_type": "code",
   "execution_count": 108,
   "metadata": {},
   "outputs": [
    {
     "data": {
      "text/plain": [
       "'@johnraysta thank you. used to get severe allergic reaction (swelling, itchy skin) when using simvastatin before, but so far none w/ crestor'"
      ]
     },
     "execution_count": 108,
     "metadata": {},
     "output_type": "execute_result"
    }
   ],
   "source": [
    "finalDf.iloc[280]['message']"
   ]
  },
  {
   "cell_type": "code",
   "execution_count": 114,
   "metadata": {},
   "outputs": [],
   "source": [
    "def evaluateText(text, model, tokenizer, compareEmb):\n",
    "    tokens = tokenizer.encode(text)\n",
    "    temp = tokenizer.convert_ids_to_tokens(tokens)\n",
    "\n",
    "    decoded = tokenizer.decode(tokens).split(\" \")\n",
    "    logits, hidden_states = model(torch.Tensor(tokens).unsqueeze(0).long())\n",
    "    hidden_states = torch.stack(hidden_states).squeeze(1).permute(1,0,2)\n",
    "\n",
    "    emb = torch.sum(hidden_states[:,9:13,:],1).detach().cpu().numpy()\n",
    "\n",
    "    sim = cosine_similarity(emb, compareEmb.reshape(1,-1)).reshape(-1)\n",
    "\n",
    "    sim = cosine_similarity(emb, compareEmb.reshape(1,-1)).reshape(-1)\n",
    "\n",
    "    for i in range(len(temp)):\n",
    "        print(f\"{temp[i]:10s} : {str(np.round(sim[i],3))}\")"
   ]
  },
  {
   "cell_type": "code",
   "execution_count": 115,
   "metadata": {},
   "outputs": [
    {
     "name": "stdout",
     "output_type": "stream",
     "text": [
      "[CLS]      : 0.073\n",
      "@          : 0.212\n",
      "john       : 0.274\n",
      "##ray      : 0.261\n",
      "##sta      : 0.241\n",
      "thank      : 0.242\n",
      "you        : 0.191\n",
      ".          : 0.117\n",
      "used       : 0.304\n",
      "to         : 0.271\n",
      "get        : 0.357\n",
      "severe     : 0.387\n",
      "allergic   : 0.47\n",
      "reaction   : 0.469\n",
      "(          : 0.336\n",
      "swelling   : 0.631\n",
      ",          : 0.358\n",
      "it         : 0.31\n",
      "##chy      : 0.482\n",
      "skin       : 0.506\n",
      ")          : 0.27\n",
      "when       : 0.33\n",
      "using      : 0.272\n",
      "sim        : 0.228\n",
      "##vas      : 0.229\n",
      "##tat      : 0.301\n",
      "##in       : 0.318\n",
      "before     : 0.264\n",
      ",          : 0.265\n",
      "but        : 0.276\n",
      "so         : 0.156\n",
      "far        : 0.116\n",
      "none       : 0.269\n",
      "w          : 0.289\n",
      "/          : 0.268\n",
      "crest      : 0.269\n",
      "##or       : 0.228\n",
      "[SEP]      : 0.073\n"
     ]
    }
   ],
   "source": [
    "evaluateText(finalDf.iloc[280]['message'], model, tokenizer, ADR.masterEmb)"
   ]
  },
  {
   "cell_type": "code",
   "execution_count": null,
   "metadata": {},
   "outputs": [],
   "source": []
  }
 ],
 "metadata": {
  "kernelspec": {
   "display_name": "env",
   "language": "python",
   "name": "env"
  },
  "language_info": {
   "codemirror_mode": {
    "name": "ipython",
    "version": 3
   },
   "file_extension": ".py",
   "mimetype": "text/x-python",
   "name": "python",
   "nbconvert_exporter": "python",
   "pygments_lexer": "ipython3",
   "version": "3.6.4"
  }
 },
 "nbformat": 4,
 "nbformat_minor": 4
}
