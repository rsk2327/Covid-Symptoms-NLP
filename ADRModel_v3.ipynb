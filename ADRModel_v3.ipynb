{
 "cells": [
  {
   "cell_type": "code",
   "execution_count": 1,
   "metadata": {},
   "outputs": [],
   "source": [
    "import pandas as pd\n",
    "import numpy as np\n",
    "\n",
    "import os\n",
    "\n",
    "import nltk\n",
    "from nltk.tokenize import TweetTokenizer\n",
    "from nltk.corpus import stopwords \n",
    "\n",
    "from transformers import BertForSequenceClassification, BertTokenizer, BertForMaskedLM\n",
    "\n",
    "from simpletransformers.language_modeling import LanguageModelingModel\n",
    "\n",
    "from sklearn.metrics.pairwise import cosine_similarity, paired_euclidean_distances\n",
    "from sklearn.metrics.pairwise import euclidean_distances\n",
    "from sklearn.preprocessing import normalize, StandardScaler, MinMaxScaler\n",
    "\n",
    "from tqdm import tqdm\n",
    "import torch\n",
    "\n",
    "import networkx as nx\n",
    "\n",
    "import matplotlib.pyplot as plt\n",
    "%matplotlib inline\n",
    "\n",
    "import plotly.graph_objects as go\n",
    "from functools import partial\n",
    "\n",
    "import pickle\n",
    "\n",
    "from collections import deque\n",
    "\n",
    "stop_words = set(stopwords.words('english')) \n",
    "\n",
    "import time\n",
    "\n",
    "%load_ext autoreload\n",
    "\n",
    "%autoreload 2\n",
    "\n",
    "from utils import *\n",
    "from plotting import *\n",
    "\n",
    "import marshal"
   ]
  },
  {
   "cell_type": "code",
   "execution_count": 2,
   "metadata": {},
   "outputs": [],
   "source": [
    "from utils import *\n",
    "import time"
   ]
  },
  {
   "cell_type": "code",
   "execution_count": 3,
   "metadata": {},
   "outputs": [],
   "source": [
    "model = BertForSequenceClassification.from_pretrained('/data1/roshansk/Exp1/checkpoint-141753-epoch-1', output_hidden_states= True)\n",
    "\n",
    "tokenizer = BertTokenizer.from_pretrained('/data1/roshansk/Exp1/checkpoint-141753-epoch-1')"
   ]
  },
  {
   "cell_type": "code",
   "execution_count": 14,
   "metadata": {},
   "outputs": [],
   "source": [
    "class ADRModel(object):\n",
    "    \n",
    "    def __init__(self, df, model, tokenizer, graph, outputFolder, combinedOutputFolder, modelOutputFolder = './', queue=None, useMasterEmb = False, \n",
    "                 masterContrib = 0.5, embeddingType='last4sum',\n",
    "                 numThreshold= 10000, saveEveryDepth = False,\n",
    "                numComp = 10000):\n",
    "        \n",
    "        self.df = df\n",
    "        self.model = model\n",
    "        self.tokenizer = tokenizer\n",
    "        self.graph = graph\n",
    "        self.outputFolder = outputFolder\n",
    "        self.combinedOutputFolder = combinedOutputFolder\n",
    "        self.embeddingType = embeddingType\n",
    "        self.numThreshold = numThreshold\n",
    "        self.saveEveryDepth = saveEveryDepth\n",
    "        self.modelOutputFolder = modelOutputFolder\n",
    "        self.numComp = numComp\n",
    "        \n",
    "        if queue is None:\n",
    "            self.q = deque()\n",
    "        else:\n",
    "            self.q = queue\n",
    "            \n",
    "            \n",
    "        self.masterEmb = None\n",
    "        \n",
    "        self.useMasterEmb = useMasterEmb\n",
    "        self.masterContrib = masterContrib\n",
    "        \n",
    "        self.generateStates()\n",
    "        \n",
    "        \n",
    "    def generateStates(self):\n",
    "        \n",
    "        \n",
    "        for i in tqdm(range(len(self.df))):\n",
    "            \n",
    "            if os.path.exists(os.path.join(self.outputFolder, f\"{i}.msh\")):\n",
    "                continue\n",
    "\n",
    "\n",
    "            tokens = self.tokenizer.encode(self.df.iloc[i]['message'].lower())\n",
    "            decoded = self.tokenizer.decode(tokens).split(\" \")\n",
    "            logits, hidden_states = self.model(torch.Tensor(tokens).unsqueeze(0).long())\n",
    "\n",
    "            hidden_states = torch.stack(hidden_states).squeeze(1).permute(1,0,2)\n",
    "\n",
    "            \n",
    "            if self.embeddingType == 'last4sum':\n",
    "                embedding = torch.sum(hidden_states[:,9:13,:],1)\n",
    "            elif self.embeddingType =='last4concat':\n",
    "                embedding = hidden_states[tokenIndex,9:13,:].reshape(-1)\n",
    "            elif self.embeddingType == 'secondlast':\n",
    "                embedding = hidden_states[tokenIndex,-2,:]\n",
    "            else:\n",
    "                embedding = hidden_states[tokenIndex,-1,:]\n",
    "                    \n",
    "                    \n",
    "            embedding = embedding.detach().cpu().numpy()\n",
    "            \n",
    "            marshal.dump(embedding.tolist(), open(os.path.join(self.outputFolder, f\"{i}.msh\"), 'wb'))\n",
    "        \n",
    "        \n",
    "        \n",
    "        \n",
    "    def getSymptomEmbedding(self, symptom, subset = None):\n",
    "    \n",
    "        embeddingList = []\n",
    "        messageList = []\n",
    "\n",
    "#         if subset is not None:\n",
    "#             self.df = self.df.iloc[subset]\n",
    "\n",
    "#         if type(df) == pd.Series:\n",
    "#             self.df = pd.DataFrame(self.df).T\n",
    "\n",
    "#         symptomToken = self.tokenizer.encode(symptom)[1]\n",
    "        symptomToken = self.tokenizer.convert_tokens_to_ids(symptom)\n",
    "\n",
    "        for i in range(len(self.df)):\n",
    "\n",
    "            if symptomToken in self.tokenizer.encode(self.df.iloc[i]['message'].lower()):\n",
    "\n",
    "                tokens = self.tokenizer.encode(self.df.iloc[i]['message'].lower())\n",
    "                decoded = self.tokenizer.decode(tokens).split(\" \")\n",
    "\n",
    "                hidden_states = np.array(marshal.load( open(os.path.join(self.outputFolder, f\"{i}.msh\"), 'rb') ))\n",
    "\n",
    "                try:\n",
    "                    tokenIndex = tokens.index(symptomToken)\n",
    "                except:\n",
    "                    a= 1\n",
    "                    continue\n",
    "\n",
    " \n",
    "                embedding = hidden_states[tokenIndex,:]\n",
    "\n",
    "                embeddingList.append(embedding)\n",
    "                messageList.append(self.df.iloc[i]['message'].lower())\n",
    "\n",
    "                if len(embeddingList)==30:\n",
    "                    break\n",
    "\n",
    "\n",
    "\n",
    "        return embeddingList, messageList\n",
    "    \n",
    "    \n",
    "    \n",
    "    def getSimilarWords(self, symptom, meanEmb, similarityThreshold = 0.3):\n",
    "        \n",
    "        output = []\n",
    "        \n",
    "        symptomToken = self.tokenizer.encode(symptom)[1]\n",
    "        \n",
    "        fileList = os.listdir(self.combinedOutputFolder)\n",
    "        \n",
    "        examineCount = 0\n",
    "        \n",
    "        for i in range(len(fileList)):\n",
    "            \n",
    "            if examineCount >= self.numThreshold:\n",
    "                break\n",
    "            \n",
    "            \n",
    "            filename = os.path.join(self.combinedOutputFolder, f\"{i}.pkl\")\n",
    "            subDict = pickle.load(open(filename,'rb'))\n",
    "            \n",
    "            IDList = subDict['id']\n",
    "            tokenList = subDict['token']\n",
    "            embList = subDict['emb']\n",
    "\n",
    "            sim = np.round(cosine_similarity(embList, meanEmb.reshape(1,-1)).reshape(-1),4)\n",
    "\n",
    "            index= np.where([sim> similarityThreshold])[1]\n",
    "\n",
    "            tokenList_ = tokenList[index]\n",
    "            IDList_ = IDList[index]\n",
    "            simList = sim[index]\n",
    "\n",
    "            out = [(x,y,z) for x,y,z in zip(tokenList_, simList, IDList_)]\n",
    "            \n",
    "            output += out\n",
    "            \n",
    "            examineCount += self.numComp\n",
    "            \n",
    "        return output\n",
    "        \n",
    "    \n",
    "    \n",
    "    def getOutput(self, out):\n",
    "    \n",
    "        output = out\n",
    "\n",
    "        outMap = {}\n",
    "\n",
    "        for i in range(len(output)):\n",
    "            if output[i][0] in outMap:\n",
    "                outMap[output[i][0]].append(output[i][1])\n",
    "            else:\n",
    "                outMap[output[i][0]] = [output[i][1]]\n",
    "\n",
    "\n",
    "        outMap_ = {}\n",
    "\n",
    "        for i in range(len(output)):\n",
    "            if output[i][0] in outMap_:\n",
    "                outMap_[output[i][0]].append(output[i][2])\n",
    "            else:\n",
    "                outMap_[output[i][0]] = [output[i][2]]\n",
    "\n",
    "\n",
    "        outputDf = []\n",
    "\n",
    "        for key in outMap.keys():\n",
    "            length = len(outMap[key])\n",
    "            mean = np.mean(outMap[key])\n",
    "\n",
    "            outputDf.append([key, length, mean])\n",
    "\n",
    "        outputDf = pd.DataFrame(outputDf)\n",
    "        outputDf.columns = ['word','counts','mean_sim']\n",
    "        outputDf = outputDf.sort_values('mean_sim', ascending=False)\n",
    "\n",
    "        return outputDf, outMap, outMap_\n",
    "    \n",
    "    \n",
    "    \n",
    "    \n",
    "    def exploreNode(self, word, depth, maxDepth = 3, topk = 5):\n",
    "\n",
    "    \n",
    "        self.graph.addNode(word,0,depth)\n",
    "\n",
    "        print(f\"Depth : {depth} Exploring {word}\")\n",
    "\n",
    "        if depth == maxDepth:\n",
    "            print(\"Reached max depth\")\n",
    "            return\n",
    "\n",
    "        keyWord = word\n",
    "\n",
    "        token = self.tokenizer.encode(keyWord)[1]\n",
    "\n",
    "        if self.graph[word].vector is None:\n",
    "\n",
    "            inEdgeList = self.graph[word].edges_in\n",
    "\n",
    "            if len(inEdgeList)==0:\n",
    "                textIDList = None\n",
    "            else:\n",
    "                textIDList = []\n",
    "\n",
    "                for edge in inEdgeList:\n",
    "                    textIDList.append(self.graph.edgeList[edge].textID)\n",
    "\n",
    "                textIDList = list(set(list(itertools.chain.from_iterable(textIDList))))\n",
    "\n",
    "            \n",
    "            embList,msgList = self.getSymptomEmbedding(keyWord, subset = textIDList)\n",
    "\n",
    "            meanEmb = np.array(embList)\n",
    "            meanEmb = np.mean(meanEmb,0)\n",
    "\n",
    "\n",
    "            self.graph[word].vector = meanEmb\n",
    "            \n",
    "            if self.masterEmb is None:\n",
    "                self.masterEmb = meanEmb\n",
    "            \n",
    "            dist = getCosineDist(meanEmb, self.masterEmb)\n",
    "            \n",
    "            self.graph[word].masterDist = dist\n",
    "\n",
    "        else:\n",
    "            meanEmb = self.graph[word].vector\n",
    "            \n",
    "            if self.masterEmb is None:\n",
    "                self.masterEmb = meanEmb\n",
    "                \n",
    "            dist = getCosineDist(meanEmb, self.masterEmb)\n",
    "            \n",
    "            self.graph[word].masterDist = dist\n",
    "\n",
    "\n",
    "        symptom_ =''\n",
    "        embList_ = meanEmb\n",
    "\n",
    "        if self.useMasterEmb:\n",
    "            \n",
    "            finalEmb = self.masterContrib*self.masterEmb + (1 - self.masterContrib)*meanEmb\n",
    "            \n",
    "            out = self.getSimilarWords( symptom_, finalEmb , similarityThreshold = 0.3)\n",
    "        else:\n",
    "            out = self.getSimilarWords( symptom_, meanEmb, similarityThreshold = 0.3)\n",
    "\n",
    "        outputDf, outMap, outMap_ = self.getOutput(out)\n",
    "\n",
    "        outputDf = outputDf[outputDf.word!=keyWord]\n",
    "    #     outputDf = outputDf[~outputDf.word.isin(list(graph.wordMap.keys()))]\n",
    "        outputDf = outputDf.sort_values('mean_sim', ascending=False)\n",
    "        outputDf = outputDf.head(topk)\n",
    "\n",
    "        outputDf = outputDf[outputDf.mean_sim>0.4]\n",
    "\n",
    "        print(outputDf)\n",
    "        print(\"-----------------------\")\n",
    "\n",
    "        for i in range(len(outputDf)):\n",
    "\n",
    "            word = outputDf.iloc[i]['word']\n",
    "            numCount = outputDf.iloc[i]['counts']\n",
    "            weight = outputDf.iloc[i]['mean_sim']\n",
    "            textIDs = outMap_[word]\n",
    "\n",
    "            wordList = set(self.graph.wordMap.keys())\n",
    "\n",
    "            self.graph.addNode(word,0,depth+1)\n",
    "            self.graph[word].textIDList.append(textIDs)\n",
    "            self.graph.addEdge(keyWord, word, numCount, weight, textIDs)\n",
    "\n",
    "            if word in wordList:\n",
    "                continue\n",
    "\n",
    "#             if \"#\" in word:\n",
    "#                 continue\n",
    "\n",
    "\n",
    "            self.q.append((word, depth+1))\n",
    "            \n",
    "            \n",
    "    def trainModel(self, maxDepth = 3, topk = 5):\n",
    "        \n",
    "        currDepth = 0\n",
    "        \n",
    "        while len(self.q)>0:\n",
    "            token, depth = self.q.popleft()\n",
    "            \n",
    "            if depth> currDepth:\n",
    "                \n",
    "                if self.saveEveryDepth:\n",
    "                    filepath = os.path.join( self.modelOutputFolder, f\"depth_{currDepth}.pkl\")\n",
    "                    self.saveModel(filepath)\n",
    "                \n",
    "                self.getMeanEmbedding(depth-1)\n",
    "                currDepth += 1\n",
    "            \n",
    "            self.exploreNode(word = token, depth = depth, maxDepth=maxDepth, topk=topk)\n",
    "        \n",
    "        #Saving final model\n",
    "        filepath = os.path.join(self.modelOutputFolder, \"final.pkl\")\n",
    "        self.saveModel(filepath)\n",
    "\n",
    "\n",
    "            \n",
    "    def getMeanEmbedding(self, depth, topk = 3):\n",
    "        \n",
    "        candidates = self.graph.depthMap[depth]\n",
    "        \n",
    "        vals = [self.graph[x].masterDist for x in candidates]\n",
    "        \n",
    "        vals = [(x,y) for x,y in zip(candidates,vals)]\n",
    "        \n",
    "        vals = sorted(vals, key = lambda x : -x[1])\n",
    "        \n",
    "        meanEmb = self.masterEmb\n",
    "        \n",
    "        for i in range(min(topk, len(vals)) ):\n",
    "            meanEmb += self.graph[ vals[i][0] ].vector\n",
    "            \n",
    "        meanEmb = meanEmb/(topk+1)\n",
    "        \n",
    "        self.masterEmb = meanEmb\n",
    "        \n",
    "        print(\"Master Embedding updated\")\n",
    "        \n",
    "        \n",
    "    \n",
    "    def plotGraph(self):\n",
    "        \n",
    "        edgeList, nodeList, nodeValues, nodeCount, nodeText, nodeSize = getGraphComponents(self.graph)\n",
    "\n",
    "        G=nx.Graph()\n",
    "\n",
    "        G.add_nodes_from(nodeList)\n",
    "        G.add_edges_from(edgeList)\n",
    "\n",
    "        edge_trace, node_trace1, node_trace = getPlotlyComponents(G, nodeList, nodeSize, nodeValues, nodeText)\n",
    "\n",
    "\n",
    "        fig = go.Figure(data=[edge_trace, node_trace1, node_trace],\n",
    "             layout=go.Layout(\n",
    "                title='<br>Network graph made with Python',\n",
    "                titlefont_size=16,\n",
    "                showlegend=False,\n",
    "                hovermode='closest',\n",
    "                margin=dict(b=20,l=5,r=5,t=50),\n",
    "\n",
    "                xaxis=dict(showgrid=False, zeroline=False, showticklabels=False),\n",
    "                yaxis=dict(showgrid=False, zeroline=False, showticklabels=False))\n",
    "                )\n",
    "        \n",
    "        fig.show()\n",
    "        \n",
    "        \n",
    "    def saveModel(self,filename):\n",
    "        \n",
    "        classDict = self.__dict__.copy()\n",
    "        classDict.pop('model')\n",
    "        classDict.pop('tokenizer')\n",
    "        classDict.pop('df')\n",
    "        \n",
    "        pickle.dump( classDict, open( filename, \"wb\" ) )\n",
    "        \n",
    "        \n",
    "    def loadModel(self, filename):\n",
    "        \n",
    "        classDict = pickle.load(open(filename, 'rb'))\n",
    "        \n",
    "        for key in list(classDict.keys()):\n",
    "            self.__dict__[key] = classDict[key]\n",
    "        \n",
    "        \n"
   ]
  },
  {
   "cell_type": "markdown",
   "metadata": {},
   "source": [
    "### Model Training"
   ]
  },
  {
   "cell_type": "markdown",
   "metadata": {},
   "source": [
    "### Covid Testing"
   ]
  },
  {
   "cell_type": "code",
   "execution_count": 5,
   "metadata": {},
   "outputs": [
    {
     "data": {
      "text/plain": [
       "['messages_cm_mar1_apr23_noRT.csv',\n",
       " 'messages_cm_mar1_apr23.csv',\n",
       " 'msgs_orig_latest.csv',\n",
       " 'CovidTrainDf_1.csv',\n",
       " 'covid19_msgs_2020_02.csv',\n",
       " 'messages_cm_mar1_apr23_noRT_PET.csv']"
      ]
     },
     "execution_count": 5,
     "metadata": {},
     "output_type": "execute_result"
    }
   ],
   "source": [
    "covidData = '/data1/roshansk/covid_data/'\n",
    "os.listdir(covidData)"
   ]
  },
  {
   "cell_type": "code",
   "execution_count": 6,
   "metadata": {},
   "outputs": [],
   "source": [
    "df = pd.read_csv(os.path.join(covidData, 'messages_cm_mar1_apr23_noRT.csv'), nrows = 10000)\n",
    "\n",
    "df = df[['message_id','user_id','message']]"
   ]
  },
  {
   "cell_type": "code",
   "execution_count": 11,
   "metadata": {},
   "outputs": [
    {
     "data": {
      "text/html": [
       "<div>\n",
       "<style scoped>\n",
       "    .dataframe tbody tr th:only-of-type {\n",
       "        vertical-align: middle;\n",
       "    }\n",
       "\n",
       "    .dataframe tbody tr th {\n",
       "        vertical-align: top;\n",
       "    }\n",
       "\n",
       "    .dataframe thead th {\n",
       "        text-align: right;\n",
       "    }\n",
       "</style>\n",
       "<table border=\"1\" class=\"dataframe\">\n",
       "  <thead>\n",
       "    <tr style=\"text-align: right;\">\n",
       "      <th></th>\n",
       "      <th>message_id</th>\n",
       "      <th>user_id</th>\n",
       "      <th>message</th>\n",
       "    </tr>\n",
       "  </thead>\n",
       "  <tbody>\n",
       "    <tr>\n",
       "      <th>0</th>\n",
       "      <td>1238220897720336390</td>\n",
       "      <td>790013818999074820</td>\n",
       "      <td>loving how i predicted the #coronavirus in my ...</td>\n",
       "    </tr>\n",
       "    <tr>\n",
       "      <th>1</th>\n",
       "      <td>1238220898307432448</td>\n",
       "      <td>320608440</td>\n",
       "      <td>The markets is hemorrhaging #trump and his pal...</td>\n",
       "    </tr>\n",
       "    <tr>\n",
       "      <th>2</th>\n",
       "      <td>1238220912530522123</td>\n",
       "      <td>305058336</td>\n",
       "      <td>Amar es prevenirn#coronavirus</td>\n",
       "    </tr>\n",
       "    <tr>\n",
       "      <th>3</th>\n",
       "      <td>1238220933384593413</td>\n",
       "      <td>137437056</td>\n",
       "      <td>Chris's glib, histrionic commentary on COVID-1...</td>\n",
       "    </tr>\n",
       "    <tr>\n",
       "      <th>4</th>\n",
       "      <td>1238220933766230017</td>\n",
       "      <td>1012237740</td>\n",
       "      <td>If only COVID-19 started in Madagascar</td>\n",
       "    </tr>\n",
       "  </tbody>\n",
       "</table>\n",
       "</div>"
      ],
      "text/plain": [
       "            message_id             user_id  \\\n",
       "0  1238220897720336390  790013818999074820   \n",
       "1  1238220898307432448           320608440   \n",
       "2  1238220912530522123           305058336   \n",
       "3  1238220933384593413           137437056   \n",
       "4  1238220933766230017          1012237740   \n",
       "\n",
       "                                             message  \n",
       "0  loving how i predicted the #coronavirus in my ...  \n",
       "1  The markets is hemorrhaging #trump and his pal...  \n",
       "2                      Amar es prevenirn#coronavirus  \n",
       "3  Chris's glib, histrionic commentary on COVID-1...  \n",
       "4             If only COVID-19 started in Madagascar  "
      ]
     },
     "execution_count": 11,
     "metadata": {},
     "output_type": "execute_result"
    }
   ],
   "source": [
    "df.head()"
   ]
  },
  {
   "cell_type": "code",
   "execution_count": 12,
   "metadata": {},
   "outputs": [],
   "source": [
    "embList, msgList = getSymptomEmbedding(model,tokenizer, df, 'cough',0)"
   ]
  },
  {
   "cell_type": "code",
   "execution_count": 13,
   "metadata": {
    "scrolled": true
   },
   "outputs": [
    {
     "name": "stdout",
     "output_type": "stream",
     "text": [
      "0 | per the state health department: nnsymptoms of covid-19 can include fever, cough and breathing trouble. most develoâ€¦ https://t.co/u1cnlahiw1\n",
      "------------\n",
      "1 | this coronavirus shit is so crazy that i'm waiting for an announcement that if you cough or sneeze in public, you wâ€¦ https://t.co/dt4l43mows\n",
      "------------\n",
      "2 | a real story, from the middle of iowa:  person has fever, cough, aches. person calls dr. they facetime. nurse saysâ€¦ https://t.co/sv6pptihks\n",
      "------------\n",
      "3 | yâ€™all really made toilet paper a commodity when the symptoms of covid-19 are shortness of breath, fever, and cough according to the cdc ðÿ¥´\n",
      "------------\n",
      "4 | someone go grab mitch mcconnell cough in his face and kick his ass into his senate seat.\n",
      "------------\n",
      "5 | me when anybody sneezes or coughs around me #covid_19 https://t.co/0jdjvgaprn\n",
      "------------\n",
      "6 | this has truly been the worst time to be asian and have a cough ðÿ™ƒnn#coronavirus #covid19\n",
      "------------\n",
      "7 | getting on the @cta and scanning for the seat next to the person least likely to cough. #covd19\n",
      "------------\n",
      "8 | @usdaforeignag managers telling staff if you have a cough you either take leave or come to work no #telework helloâ€¦ https://t.co/5dzfsvw0pw\n",
      "------------\n",
      "9 | how i be every time my coworkers sneeze or cough #coronavirus https://t.co/ti4msc9dwc\n",
      "------------\n",
      "10 | cdc: cough into your elbownnalso cdc: dont shake hands, just elbow-bump ðÿ™„ðÿ™„nn#coronaviruspandemic #covid_19 #coronahysteria\n",
      "------------\n",
      "11 | mfâ€™s gonna start threatening to cough or sneeze on you if you donâ€™t run your money or jewelry. 2020 is wild #covid_19\n",
      "------------\n",
      "12 | covid-19npossible signs/symptomsnfever over 100.4 degrees -- cough--fatiguenshortness of breath ---body aches https://t.co/dgokcf7sa5\n",
      "------------\n",
      "13 | if you think you have been exposed to covid-19 and develop a fever and symptoms, such as cough or difficulty breathâ€¦ https://t.co/3ajbtidepc\n",
      "------------\n",
      "14 | the @cdcgov reminds that when it comes to #covid19, symptoms to look for include fever, cough and shortness of breaâ€¦ https://t.co/2blh0v2bce\n",
      "------------\n",
      "15 | it appears that americanâ€™s cannot grasp the idea that #coronavirus causes a fever & cough not issues with your gastâ€¦ https://t.co/klmd5w1rxs\n",
      "------------\n",
      "16 | me after goggling my cough and finding out i have the #covid_19 #coronavirusupdate https://t.co/qd8fkf0svh\n",
      "------------\n",
      "17 | really need to step back and calm the panic when a @walmart employee threatens to spray down anyone who coughs herâ€¦ https://t.co/wednc73hhi\n",
      "------------\n",
      "18 | if i feel the need to cough in public, i will feel like a zombie who is still like 60% human and is trying to hideâ€¦ https://t.co/02lcbqtorh\n",
      "------------\n",
      "19 | when the person your sitting next to coughs. #coronavirus #quarantine https://t.co/gcj4afbsvv\n",
      "------------\n",
      "20 | i'm standing by this tweet for the next 12 hours. after that i will reevaluate. unless someone on your coughs, thenâ€¦ https://t.co/5ytuchpe16\n",
      "------------\n",
      "21 | media: â€œinstead of shaking hands, do an elbow bump.â€ media: â€œbe sure to cough into your elbows.â€œ so next time you dâ€¦ https://t.co/1im5nbngu3\n",
      "------------\n",
      "22 | if clinics donâ€™t have a plan in place that minimizes risk, they should not see patients with fevers and coughs #coronavirus\n",
      "------------\n",
      "23 | next person cough around me catchin these elbows tf!? #coronavirus https://t.co/9cgrgghqxu\n",
      "------------\n",
      "24 | if youâ€™re one of those fucking dumb asses that cough in the air all out in the open like you donâ€™t give a fuck, youâ€¦ https://t.co/quoefmk3gi\n",
      "------------\n",
      "25 | due to #covid19 concerns, all visitors are being screened for symptoms such as cough, runny nose, fever and difficuâ€¦ https://t.co/qdgy7cmsj6\n",
      "------------\n",
      "26 | the people who yell out â€œcoronaâ€ every time somebody coughs or sneezes have taken the lead on â€œmost annoying peopleâ€¦ https://t.co/o1hsrgbts8\n",
      "------------\n",
      "27 | can't even cough no moreðÿ˜‚ðÿ˜‚ðÿ˜‚ðÿ˜‚ðÿ˜‚ #wifejustleftme #coronaviruspandemic #thebald https://t.co/yfpdwjmixm\n",
      "------------\n",
      "28 | #covid_19 precautions:nn-wash your hands  n-disinfect frequently touched surfaces  n-cover your cough or sneeze n-sâ€¦ https://t.co/bht8vg6q6u\n",
      "------------\n",
      "29 | diffusing #essentialoils in a room may help to open airways, reduce mucous, improve coughs, reduce #sinus issues, aâ€¦ https://t.co/cvnaej9zhm\n",
      "------------\n"
     ]
    }
   ],
   "source": [
    "for i in range(len(msgList)):\n",
    "    print(f\"{i} | {msgList[i]}\")\n",
    "    print(\"------------\")"
   ]
  },
  {
   "cell_type": "code",
   "execution_count": 14,
   "metadata": {},
   "outputs": [],
   "source": [
    "indexList = [0,2,3,12,13,25]"
   ]
  },
  {
   "cell_type": "code",
   "execution_count": 15,
   "metadata": {},
   "outputs": [],
   "source": [
    "meanEmb = np.array(embList)[indexList,:]\n",
    "meanEmb = np.mean(meanEmb,0)"
   ]
  },
  {
   "cell_type": "code",
   "execution_count": 14,
   "metadata": {},
   "outputs": [
    {
     "data": {
      "text/plain": [
       "(768,)"
      ]
     },
     "execution_count": 14,
     "metadata": {},
     "output_type": "execute_result"
    }
   ],
   "source": []
  },
  {
   "cell_type": "markdown",
   "metadata": {},
   "source": [
    "#### Model Training"
   ]
  },
  {
   "cell_type": "code",
   "execution_count": 15,
   "metadata": {},
   "outputs": [
    {
     "name": "stderr",
     "output_type": "stream",
     "text": [
      "100%|██████████| 10000/10000 [00:00<00:00, 147483.71it/s]\n"
     ]
    }
   ],
   "source": [
    "# from ADRModel import *\n",
    "\n",
    "graph = Graph()\n",
    "\n",
    "# graph.addNode('cough',0,0)\n",
    "# graph['cough'].vector = meanEmb\n",
    "\n",
    "outputFolder = '/data1/roshansk/ADRModel_DataStore/'\n",
    "combinedOutputFolder = '/data1/roshansk/ADRModel_DataStore_10000/'\n",
    "modelFolder = './ModelFolder/Covid_Test/'\n",
    "\n",
    "q = deque()\n",
    "q.append(('cough',0))\n",
    "\n",
    "ADR = ADRModel(df, model, tokenizer, graph, outputFolder, combinedOutputFolder, modelOutputFolder = modelFolder, \n",
    "               queue = q,  useMasterEmb=True, masterContrib=0.3, numThreshold=10000)"
   ]
  },
  {
   "cell_type": "code",
   "execution_count": 16,
   "metadata": {},
   "outputs": [
    {
     "name": "stdout",
     "output_type": "stream",
     "text": [
      "Depth : 0 Exploring cough\n",
      "          word  counts  mean_sim\n",
      "1235   coughed       2  0.653850\n",
      "215      fever      13  0.603154\n",
      "952   coughing       6  0.599517\n",
      "-----------------------\n",
      "Master Embedding updated\n",
      "Depth : 1 Exploring coughed\n",
      "          word  counts  mean_sim\n",
      "339      cough      19  0.646658\n",
      "1538  coughing       6  0.642000\n",
      "3268    shouts       1  0.584400\n",
      "-----------------------\n",
      "Depth : 1 Exploring fever\n",
      "             word  counts  mean_sim\n",
      "114         cough      19  0.649416\n",
      "1050       asthma       2  0.578950\n",
      "83    respiratory       7  0.538300\n",
      "-----------------------\n",
      "Depth : 1 Exploring coughing\n",
      "         word  counts  mean_sim\n",
      "4405  coughed       2  0.715050\n",
      "931     cough      19  0.662916\n",
      "6896   shouts       1  0.598000\n",
      "-----------------------\n",
      "Master Embedding updated\n",
      "Depth : 2 Exploring shouts\n",
      "Reached max depth\n",
      "Depth : 2 Exploring asthma\n",
      "Reached max depth\n",
      "Depth : 2 Exploring respiratory\n",
      "Reached max depth\n",
      "107.44656777381897\n"
     ]
    }
   ],
   "source": [
    "startTime = time.time()\n",
    "\n",
    "ADR.trainModel(maxDepth=2, topk=3)\n",
    "\n",
    "print(time.time() - startTime)"
   ]
  },
  {
   "cell_type": "code",
   "execution_count": 18,
   "metadata": {},
   "outputs": [
    {
     "name": "stderr",
     "output_type": "stream",
     "text": [
      "100%|██████████| 10000/10000 [00:00<00:00, 157237.26it/s]\n"
     ]
    }
   ],
   "source": [
    "from ADRModel import *\n",
    "\n",
    "graph = Graph()\n",
    "\n",
    "# graph.addNode('cough',0,0)\n",
    "# graph['cough'].vector = meanEmb\n",
    "\n",
    "outputFolder = '/data1/roshansk/ADRModel_DataStore/'\n",
    "combinedOutputFolder = '/data1/roshansk/ADRModel_DataStore_10000/'\n",
    "modelFolder = './ModelFolder/Covid_Test/'\n",
    "\n",
    "q = deque()\n",
    "q.append(('cough',0))\n",
    "\n",
    "ADR = ADRModel(df, model, tokenizer, graph, outputFolder, modelOutputFolder = modelFolder, \n",
    "               queue = q,  useMasterEmb=True, masterContrib=0.3, numThreshold=10000)"
   ]
  },
  {
   "cell_type": "code",
   "execution_count": 19,
   "metadata": {},
   "outputs": [
    {
     "name": "stdout",
     "output_type": "stream",
     "text": [
      "Depth : 0 Exploring cough\n",
      "          word  counts  mean_sim\n",
      "1236   coughed       2  0.653836\n",
      "215      fever      13  0.603151\n",
      "953   coughing       6  0.599497\n",
      "-----------------------\n",
      "Master Embedding updated\n",
      "Depth : 1 Exploring coughed\n",
      "          word  counts  mean_sim\n",
      "340      cough      19  0.646646\n",
      "1541  coughing       6  0.642004\n",
      "3270    shouts       1  0.584375\n",
      "-----------------------\n",
      "Depth : 1 Exploring fever\n",
      "             word  counts  mean_sim\n",
      "114         cough      19  0.649410\n",
      "1051       asthma       2  0.578951\n",
      "83    respiratory       7  0.538298\n",
      "-----------------------\n",
      "Depth : 1 Exploring coughing\n",
      "         word  counts  mean_sim\n",
      "4406  coughed       2  0.715081\n",
      "931     cough      19  0.662899\n",
      "6896   shouts       1  0.598000\n",
      "-----------------------\n",
      "Master Embedding updated\n",
      "Depth : 2 Exploring shouts\n",
      "Reached max depth\n",
      "Depth : 2 Exploring asthma\n",
      "Reached max depth\n",
      "Depth : 2 Exploring respiratory\n",
      "Reached max depth\n",
      "717.622035741806\n"
     ]
    }
   ],
   "source": [
    "startTime = time.time()\n",
    "\n",
    "ADR.trainModel(maxDepth=2, topk=3)\n",
    "\n",
    "print(time.time() - startTime)"
   ]
  },
  {
   "cell_type": "code",
   "execution_count": 11,
   "metadata": {},
   "outputs": [
    {
     "data": {
      "text/plain": [
       "3.8260869565217392"
      ]
     },
     "execution_count": 11,
     "metadata": {},
     "output_type": "execute_result"
    }
   ],
   "source": [
    "176/46"
   ]
  },
  {
   "cell_type": "code",
   "execution_count": 20,
   "metadata": {},
   "outputs": [
    {
     "data": {
      "text/plain": [
       "6.700934579439252"
      ]
     },
     "execution_count": 20,
     "metadata": {},
     "output_type": "execute_result"
    }
   ],
   "source": [
    "717/107"
   ]
  },
  {
   "cell_type": "code",
   "execution_count": null,
   "metadata": {},
   "outputs": [],
   "source": []
  },
  {
   "cell_type": "code",
   "execution_count": null,
   "metadata": {},
   "outputs": [],
   "source": []
  },
  {
   "cell_type": "markdown",
   "metadata": {
    "heading_collapsed": true
   },
   "source": [
    "### GetSimilar Testing  "
   ]
  },
  {
   "cell_type": "code",
   "execution_count": 9,
   "metadata": {
    "hidden": true
   },
   "outputs": [],
   "source": [
    "outputFolder = '/data1/roshansk/ADRModel_DataStore/'\n",
    "\n",
    "\n",
    "def getSimilarWords(model, tokenizer, df, symptom, embList, similarityThreshold = 0.3):\n",
    "    \n",
    "     \n",
    "    output = []\n",
    "\n",
    "\n",
    "    symptomToken = tokenizer.encode(symptom)[1]\n",
    "#         symptomToken = self.tokenizer.convert_tokens_to_ids(symptom)\n",
    "\n",
    "    for i in tqdm(range(len(df))):\n",
    "\n",
    "        tokens = tokenizer.encode(df.iloc[i]['message'].lower())\n",
    "\n",
    "        if symptomToken in tokens:\n",
    "\n",
    "\n",
    "            hidden_states = np.array(marshal.load( open(os.path.join(outputFolder, f\"{i}.msh\"), 'rb') ))\n",
    "\n",
    "            similarity = cosine_similarity(hidden_states, embList.reshape(1,-1)).reshape(-1)\n",
    "\n",
    "\n",
    "            index = np.where([similarity> similarityThreshold])[1]\n",
    "\n",
    "            try:\n",
    "                selectTokens = np.array(tokens)[index]\n",
    "            except:\n",
    "                print(i)\n",
    "                print(index)\n",
    "                print(hidden_states.shape)\n",
    "                print(len(tokens))\n",
    "                print(len(self.tokenizer.encode(self.df.iloc[i]['message'].lower())))\n",
    "                print(self.df.iloc[i]['message'])\n",
    "                break\n",
    "\n",
    "            similarityValues = similarity[index]\n",
    "            \n",
    "            wordValues = np.array(tokenizer.convert_ids_to_tokens(tokens))[index]\n",
    "            \n",
    "            rownumValues = [i]*len(index)\n",
    "            \n",
    "            output = [(x,y,z) for x,y,z in zip(wordValues,similarityValues,rownumValues)]\n",
    "\n",
    "\n",
    "#             for j in range(len(index)):\n",
    "#                 token = tokenizer.ids_to_tokens[selectTokens[j]]\n",
    "#                 sim = selectSim[j]\n",
    "#                 output.append((token, sim,i))\n",
    "\n",
    "\n",
    "        if i==100000:\n",
    "            break\n",
    "\n",
    "    return output"
   ]
  },
  {
   "cell_type": "code",
   "execution_count": 89,
   "metadata": {
    "hidden": true
   },
   "outputs": [
    {
     "name": "stderr",
     "output_type": "stream",
     "text": [
      "100%|██████████| 1000/1000 [00:17<00:00, 55.77it/s]"
     ]
    },
    {
     "name": "stdout",
     "output_type": "stream",
     "text": [
      "17.935619354248047\n"
     ]
    },
    {
     "name": "stderr",
     "output_type": "stream",
     "text": [
      "\n"
     ]
    }
   ],
   "source": [
    "import time\n",
    "\n",
    "startTime = time.time()\n",
    "\n",
    "out = getSimilarWords(model, tokenizer,df.iloc[0:1000],'',ADR.masterEmb)\n",
    "\n",
    "\n",
    "print(time.time() - startTime)"
   ]
  },
  {
   "cell_type": "code",
   "execution_count": 103,
   "metadata": {
    "hidden": true
   },
   "outputs": [
    {
     "name": "stderr",
     "output_type": "stream",
     "text": [
      "100%|██████████| 1000/1000 [00:18<00:00, 55.17it/s]"
     ]
    },
    {
     "name": "stdout",
     "output_type": "stream",
     "text": [
      "18.130207777023315\n"
     ]
    },
    {
     "name": "stderr",
     "output_type": "stream",
     "text": [
      "\n"
     ]
    }
   ],
   "source": [
    "import time\n",
    "\n",
    "startTime = time.time()\n",
    "\n",
    "out = getSimilarWords(model, tokenizer,df.iloc[0:1000],'',ADR.masterEmb)\n",
    "\n",
    "\n",
    "print(time.time() - startTime)"
   ]
  },
  {
   "cell_type": "code",
   "execution_count": 94,
   "metadata": {
    "hidden": true
   },
   "outputs": [
    {
     "name": "stderr",
     "output_type": "stream",
     "text": [
      "100%|██████████| 10/10 [00:00<00:00, 43.38it/s]"
     ]
    },
    {
     "name": "stdout",
     "output_type": "stream",
     "text": [
      "0.23391938209533691\n"
     ]
    },
    {
     "name": "stderr",
     "output_type": "stream",
     "text": [
      "\n"
     ]
    }
   ],
   "source": [
    "import time\n",
    "\n",
    "startTime = time.time()\n",
    "\n",
    "out = getSimilarWords(model, tokenizer,df.iloc[0:10],'',ADR.masterEmb)\n",
    "\n",
    "\n",
    "print(time.time() - startTime)"
   ]
  },
  {
   "cell_type": "code",
   "execution_count": 100,
   "metadata": {
    "hidden": true
   },
   "outputs": [],
   "source": [
    "a = np.array([1,2,34])\n",
    "b = np.array([4,5,6])\n",
    "c = np.array([5,5,5])"
   ]
  },
  {
   "cell_type": "code",
   "execution_count": 105,
   "metadata": {
    "hidden": true
   },
   "outputs": [],
   "source": [
    "%load_ext line_profiler"
   ]
  },
  {
   "cell_type": "code",
   "execution_count": 106,
   "metadata": {
    "hidden": true
   },
   "outputs": [],
   "source": [
    "def test(x):\n",
    "\n",
    "    out = 0\n",
    "    \n",
    "    for i in range(x):\n",
    "        a = np.random.random()\n",
    "        out+=a\n",
    "        \n",
    "    return out"
   ]
  },
  {
   "cell_type": "code",
   "execution_count": 108,
   "metadata": {
    "hidden": true
   },
   "outputs": [
    {
     "name": "stderr",
     "output_type": "stream",
     "text": [
      "100%|██████████| 10/10 [00:00<00:00, 38.23it/s]\n"
     ]
    }
   ],
   "source": [
    "%lprun -f getSimilarWords getSimilarWords(model, tokenizer,df.iloc[0:10],'',ADR.masterEmb)"
   ]
  },
  {
   "cell_type": "code",
   "execution_count": 10,
   "metadata": {
    "hidden": true
   },
   "outputs": [],
   "source": [
    "outList = []\n",
    "for i in range(10):\n",
    "    hidden_states = np.array(marshal.load( open(os.path.join(outputFolder, f\"{i}.msh\"), 'rb') ))\n",
    "    outList.append(hidden_states)\n",
    "    "
   ]
  },
  {
   "cell_type": "code",
   "execution_count": 12,
   "metadata": {
    "hidden": true
   },
   "outputs": [
    {
     "data": {
      "text/plain": [
       "(29, 768)"
      ]
     },
     "execution_count": 12,
     "metadata": {},
     "output_type": "execute_result"
    }
   ],
   "source": [
    "outList[0].shape"
   ]
  },
  {
   "cell_type": "code",
   "execution_count": 13,
   "metadata": {
    "hidden": true
   },
   "outputs": [
    {
     "data": {
      "text/plain": [
       "(47, 768)"
      ]
     },
     "execution_count": 13,
     "metadata": {},
     "output_type": "execute_result"
    }
   ],
   "source": [
    "outList[1].shape"
   ]
  },
  {
   "cell_type": "markdown",
   "metadata": {
    "heading_collapsed": true
   },
   "source": [
    "### BMIN Dataset"
   ]
  },
  {
   "cell_type": "code",
   "execution_count": 26,
   "metadata": {
    "hidden": true
   },
   "outputs": [],
   "source": [
    "os.listdir('/data1/roshansk')\n",
    "df = pd.read_csv('/data1/roshansk/Statin_Data.csv')"
   ]
  },
  {
   "cell_type": "code",
   "execution_count": 27,
   "metadata": {
    "hidden": true
   },
   "outputs": [
    {
     "data": {
      "text/html": [
       "<div>\n",
       "<style scoped>\n",
       "    .dataframe tbody tr th:only-of-type {\n",
       "        vertical-align: middle;\n",
       "    }\n",
       "\n",
       "    .dataframe tbody tr th {\n",
       "        vertical-align: top;\n",
       "    }\n",
       "\n",
       "    .dataframe thead th {\n",
       "        text-align: right;\n",
       "    }\n",
       "</style>\n",
       "<table border=\"1\" class=\"dataframe\">\n",
       "  <thead>\n",
       "    <tr style=\"text-align: right;\">\n",
       "      <th></th>\n",
       "      <th>tweet_id</th>\n",
       "      <th>message</th>\n",
       "      <th>Category</th>\n",
       "      <th>Subcategory</th>\n",
       "    </tr>\n",
       "  </thead>\n",
       "  <tbody>\n",
       "    <tr>\n",
       "      <th>0</th>\n",
       "      <td>9.808937e+17</td>\n",
       "      <td>Q4: I recently had a \"mild stroke\" and was pre...</td>\n",
       "      <td>u</td>\n",
       "      <td>q</td>\n",
       "    </tr>\n",
       "    <tr>\n",
       "      <th>1</th>\n",
       "      <td>8.940068e+17</td>\n",
       "      <td>@WSJ Interesting my muscle  specimens got wors...</td>\n",
       "      <td>u</td>\n",
       "      <td>d</td>\n",
       "    </tr>\n",
       "    <tr>\n",
       "      <th>2</th>\n",
       "      <td>1.027010e+18</td>\n",
       "      <td>I have normal LDL, my neurologist tried to pot...</td>\n",
       "      <td>u</td>\n",
       "      <td>f</td>\n",
       "    </tr>\n",
       "    <tr>\n",
       "      <th>3</th>\n",
       "      <td>1.034315e+18</td>\n",
       "      <td>@eitch_kay @SBakerMD No, when I was diagnosed ...</td>\n",
       "      <td>u</td>\n",
       "      <td>n</td>\n",
       "    </tr>\n",
       "    <tr>\n",
       "      <th>4</th>\n",
       "      <td>9.719656e+17</td>\n",
       "      <td>@SassyPharmD @DrBabyFace7 I just had a pt go f...</td>\n",
       "      <td>h</td>\n",
       "      <td>d</td>\n",
       "    </tr>\n",
       "  </tbody>\n",
       "</table>\n",
       "</div>"
      ],
      "text/plain": [
       "       tweet_id                                            message Category  \\\n",
       "0  9.808937e+17  Q4: I recently had a \"mild stroke\" and was pre...        u   \n",
       "1  8.940068e+17  @WSJ Interesting my muscle  specimens got wors...        u   \n",
       "2  1.027010e+18  I have normal LDL, my neurologist tried to pot...        u   \n",
       "3  1.034315e+18  @eitch_kay @SBakerMD No, when I was diagnosed ...        u   \n",
       "4  9.719656e+17  @SassyPharmD @DrBabyFace7 I just had a pt go f...        h   \n",
       "\n",
       "  Subcategory  \n",
       "0           q  \n",
       "1           d  \n",
       "2           f  \n",
       "3           n  \n",
       "4           d  "
      ]
     },
     "execution_count": 27,
     "metadata": {},
     "output_type": "execute_result"
    }
   ],
   "source": [
    "df = df[['tweet_id','text','Category','Subcategory']]\n",
    "df.rename({'text':'message'},axis = 1, inplace = True)\n",
    "df.head()"
   ]
  },
  {
   "cell_type": "code",
   "execution_count": 28,
   "metadata": {
    "hidden": true,
    "scrolled": true
   },
   "outputs": [
    {
     "name": "stdout",
     "output_type": "stream",
     "text": [
      "@kendra_bond got free samples of crestor last year from pvt doc i paid for, va sent 4 different meds since, cause muscle pain..crestor=$212\n",
      "-------------\n",
      "@Questar1959Ron Crestor was the only statin I could take that didn't cause me to have muscle atrophy. My insurance denied me at first, then my doctor insisted, and the co-pay is 125 a month for 30 pills. It'd be 750 without insurance.\n",
      "-------------\n",
      "@medscape the memory loss seen is proportional to the dosage as seen in my patients, less with atorvastatin with ezetemibe @improveit\n",
      "-------------\n",
      "@AlexBThomson @eoinmccarthy Stopped one this week, 96yo on 10m atorvastatin, repeat falls from aching legs 🙄🙄\n",
      "-------------\n",
      "@evanackermann crestor 40 as good chol lowering of any psk9, cheaper and better cv data.  had patient get rhabdo last week.  good for him\n",
      "-------------\n",
      "@drkristieleong @qunol_coq10 my husband lost memory for 14 months as a result of atorvastatin 40mg for 4 weeks\n",
      "-------------\n",
      "zOmg, very first time witnessed uncle cramping his calf , which might be related to Crestor 40mg...\n",
      "-------------\n",
      "@lawyerscom i'm looking for a lawyer that will take my case. in 12/2015, i was put on atorvastatin 80mg (mfg. apotex). i got very sick 1/16.\n",
      "-------------\n",
      "@draseemmalhotra terrible leg pains for years until i realised it was my statins. atorvastatin 80mg better but cause fatigue @nedwards_1\n",
      "-------------\n",
      "Also, I'm pretty sure this is stating side effects, but ever since bumping up my Lipitor dose in June…1/n #LandrysLife\n",
      "-------------\n",
      "@geophf I was on Lipitor 80 mg4manyyears 3 points from Sarot sis of D liver stoped med 12 days perfect watch that drugCAN KILL\n",
      "-------------\n",
      "Muscle wasting, loss of concentration and memory loss are very common but reversible. I had 20mg atorvastatin; side effects creep up on you. I couldn't remember my student and work colleagues names, nephews &amp; nieces. Stopped being able to read past first paragraph. https://t.co/O9AniJXlgo\n",
      "-------------\n",
      "@kennethwayneboy @Cholesterol_OK @statinvictim And I had atrial fibrillation within days of 80mg Atorvastatin! #statins\n",
      "-------------\n",
      "@DebraClaridge @ketoendurance @dramerling @RobertLustigMD @LDLSkeptic @VernersViews @drjasonfung @bigfatsurprise @GeorgiaEdeMD I couldn't even remember how to drive or use a knife and fork after a few weeks on 80mg Atorvastatin :(\n",
      "-------------\n",
      "@GeorgiaEdeMD @Amyv_ntp @TuckerGoodrich @LDLSkeptic @VernersViews @LanaCares @dramerling @DrAseemMalhotra @ProfTimNoakes @FructoseNo @JediPD @DietDoctor1 @tednaiman @drjamesdinic @AAPSonline @RobertLustigMD @AnnChildersMD @LoukasMarios @ClunesM Suspect simvastatin caused heart attack that led to CABG - because my 2yrs+ of stable angina turned into coronary artery spasms within weeks of #statins  Atorvastatin 80mg finished me off after CABG, dementia, peripheral neuropathy, type 2 diabetes, chronic thigh muscle pain...\n",
      "-------------\n",
      "@ottiliedyckhoff @Diabetescouk Took high dose of simvastatin for a few years but suffered with bad cramp in my feet. Now on lower dose of atorvastatin with no side effects. Know a lady who is the opposite. She can’t take atorvastatin, so keep a close eye on side effects and ask to change them if you need to.\n",
      "-------------\n",
      "@CJABradbury @eohiggins My wife takes a large dose Atorvastatin and has managed them fine since she had major heart surgery last year. No side effects to speak of. I take a smaller dose of it  and am fine after struggling with Synvastatin which made me feel really sick. Hope that helps!\n",
      "-------------\n",
      "@erictopol does crestor fall into this cat.? my dose was upped 5mg 1x to 20mg 1x 6 months later i have blurred vis. and hand tremors .\n",
      "-------------\n",
      "@ltd_to_two like reducing crestor was found to decrease my suffering and restore agility. #bigpharma #poison\n",
      "-------------\n",
      "The next week, I meet w/doc to talk side effects. He gives me Crestor 10 mg. Pain subsides for ~2 days, then comes back. 6/n #LandrysLife\n",
      "-------------\n",
      "@theheartorg @DrMarthaGulati The only molecule i tolerate is crestor and only 5 mg , otherwise  i become like 20 older by muscle' s pain\n",
      "-------------\n",
      "The ironic thing about my uncle getting Dementia from Lipitor (a possible side effect) is I lowered his cholesterol…https://t.co/AcJCLQan1L\n",
      "-------------\n",
      "@RealMyDaddyCool Atorvastatin 40mg for high cholesterol, no side effects and works for me  Metformin 500mg 2x a day for prediabetes, no side effects and works for me  Metoprolol 150mg for my heart, 70% works for me and side effects are the 30% it doesn't work (chest discomfort, tachycardia, etc)\n",
      "-------------\n",
      "@TroKalayjian Thanx I am gonna n 10mg Lipitor generic tried 5mg Crestor but cramped a lot.  Also taking 2000mg niacin daily labs are rocking good hdl near 75\n",
      "-------------\n",
      "crestor reduced my cholesterol to under 180 and zetia to 192 but i have elevated liver enzymes.\n",
      "-------------\n",
      "@annenbcnews when i take my crestor my hands get tingly pain and  back pain also i'm bummed because the statins work it's very confusing\n",
      "-------------\n",
      "@UrsulaV Oh yeah! They wanted to chuck me back to simvastatin, but I had to tell them every dang problem with it (plenty), so they put me on rosuvastatin instead. At least that seems to work out OK, maybe I scored lucky in medication bingo!\n",
      "-------------\n",
      "withdrawal symptoms lipitor - I forgot to refill my script over a week ago. This morning when I got out of bed, I literally fell back, luckily onto the bed. I felt so dizzy. I waited a couple of seconds and everything seemed normal and I got up again ... https://t.co/GIvZNx152M\n",
      "-------------\n",
      "@NorahNell Yup, lipitor gives me leg cramps. I break it in half. I don't take a whole one. Don't like it.\n",
      "-------------\n",
      "MASSIVE KILLER/DEATH OF THE MIND https://t.co/9EhU8EBQww via @YouTube  I had to shortly get of Lipitor years back. Heed this.\n",
      "-------------\n"
     ]
    }
   ],
   "source": [
    "sub = df[df.Subcategory=='a']\n",
    "\n",
    "for i in range(30):\n",
    "    print(sub.iloc[i]['message'])\n",
    "    print(\"-------------\")"
   ]
  },
  {
   "cell_type": "code",
   "execution_count": 29,
   "metadata": {
    "hidden": true
   },
   "outputs": [
    {
     "data": {
      "text/plain": [
       "331"
      ]
     },
     "execution_count": 29,
     "metadata": {},
     "output_type": "execute_result"
    }
   ],
   "source": [
    "len(sub)"
   ]
  },
  {
   "cell_type": "code",
   "execution_count": 42,
   "metadata": {
    "hidden": true
   },
   "outputs": [],
   "source": [
    "df1 = sub.copy()\n",
    "\n",
    "\n",
    "import random\n",
    "\n",
    "df2 = df[df.Subcategory!='a']\n",
    "random.seed(123)\n",
    "df2 = df2.sample(1500, replace = False,random_state = 123)"
   ]
  },
  {
   "cell_type": "code",
   "execution_count": 43,
   "metadata": {
    "hidden": true
   },
   "outputs": [],
   "source": [
    "finalDf = pd.concat([df1,df2],axis = 0)"
   ]
  },
  {
   "cell_type": "markdown",
   "metadata": {
    "hidden": true
   },
   "source": [
    "#### Extracting Seed"
   ]
  },
  {
   "cell_type": "code",
   "execution_count": 44,
   "metadata": {
    "hidden": true
   },
   "outputs": [],
   "source": [
    "embList, msgList = getSymptomEmbedding(model,tokenizer, finalDf, 'pain',0)"
   ]
  },
  {
   "cell_type": "code",
   "execution_count": 45,
   "metadata": {
    "hidden": true
   },
   "outputs": [
    {
     "name": "stdout",
     "output_type": "stream",
     "text": [
      "0 | @kendra_bond got free samples of crestor last year from pvt doc i paid for, va sent 4 different meds since, cause muscle pain..crestor=$212\n",
      "------------\n",
      "1 | @georgiaedemd @amyv_ntp @tuckergoodrich @ldlskeptic @vernersviews @lanacares @dramerling @draseemmalhotra @proftimnoakes @fructoseno @jedipd @dietdoctor1 @tednaiman @drjamesdinic @aapsonline @robertlustigmd @annchildersmd @loukasmarios @clunesm suspect simvastatin caused heart attack that led to cabg - because my 2yrs+ of stable angina turned into coronary artery spasms within weeks of #statins  atorvastatin 80mg finished me off after cabg, dementia, peripheral neuropathy, type 2 diabetes, chronic thigh muscle pain...\n",
      "------------\n",
      "2 | the next week, i meet w/doc to talk side effects. he gives me crestor 10 mg. pain subsides for ~2 days, then comes back. 6/n #landryslife\n",
      "------------\n",
      "3 | @theheartorg @drmarthagulati the only molecule i tolerate is crestor and only 5 mg , otherwise  i become like 20 older by muscle' s pain\n",
      "------------\n",
      "4 | @annenbcnews when i take my crestor my hands get tingly pain and  back pain also i'm bummed because the statins work it's very confusing\n",
      "------------\n",
      "5 | @lorenzofuentes6 @darkdntm @lindaannecrawf1 @62walterp @applewaithe @keepladywarm @lanihevly @michelescott12 @mariaginer5 @phucmyho @poisonivyresist @pacoluismonta9a @fmc21369 @lauren_ten @ecmjsm @truthequalsfact @wisepaxcat @goodoldcatchy @soccerben @sbuttsie @slythseeker2017 @rorycenturion1 @3ric_s74nl3y @wesley_jordan @nebula_gotg_17 @chillibeanboy @2017gamora @chillyresist @tomthunkitsmind @the_unsilent_ @silverattack @susannow3 @sanesophisticat @girlsreallyrule @gormanm @irishgilly @invisibleman_17 @izjustmyopinion @janetlgo @kyungkarenmend1 @laura_rachelle_ @llaws2 @antigopactivist @deborahjeffri11 @duckynorow @kim_f86 @gignewton16 @aynrandpaulryan @irocku2 @wait_usa_wtf damn, i have terrible time with statins and my cholesterol is high. i get major leg cramps. lipitor was the worst. thought i'd found something better in pravastatin, but it just took longer to cause side effects. have bad back, so took while 2 realize the leg pain was the statin.\n",
      "------------\n",
      "6 | @avestige1 @darkdntm @lindaannecrawf1 @62walterp @applewaithe @keepladywarm @lanihevly @michelescott12 @mariaginer5 @phucmyho @poisonivyresist @pacoluismonta9a @fmc21369 @lauren_ten @ecmjsm @truthequalsfact @wisepaxcat @goodoldcatchy @soccerben @sbuttsie @slythseeker2017 @rorycenturion1 @3ric_s74nl3y @wesley_jordan @nebula_gotg_17 @chillibeanboy @2017gamora @chillyresist @tomthunkitsmind @the_unsilent_ @silverattack @susannow3 @sanesophisticat @girlsreallyrule @gormanm @irishgilly @invisibleman_17 @izjustmyopinion @janetlgo @kyungkarenmend1 @laura_rachelle_ @llaws2 @antigopactivist @deborahjeffri11 @duckynorow @kim_f86 @gignewton16 @aynrandpaulryan @irocku2 @wait_usa_wtf when you go to the v.a., your options are limited to metformin, metformin extended release or straight up insulin.  they also dose me with repaglanide and glipizide. that's prettty much their offerings.  i'm given atorvastatin now.  wow, leg pain.  do they give u antinflamitories\n",
      "------------\n",
      "7 | @mercola my partner has severe joint pain in his arms, and a general arm weakness, would this be due to the atorvastatin he takes ?   can you just ago taking them ?\n",
      "------------\n",
      "8 | @famgram3 @jenwillis @mrsrainbowzebra @cmclymer do you take crestor or lipitor? also causes muscle wasting. i know. supplements sometimes help with the residual pain.\n",
      "------------\n",
      "9 | i have a 56 y/o woman on simvastatin who didn't notice muscle pain due to chronic oxycodone for her back. now she's in the icu.\n",
      "------------\n",
      "10 | i have a 56 y/o patient on simvastatin who didn't notice severe muscle pain due to chronic oxycodone for her back. now she's in the icu.\n",
      "------------\n",
      "11 | @moorseyl she's home.  got her off the atorvastatin and she's not in pain any longer.  bloody hospitals.... grrrr.\n",
      "------------\n",
      "12 | @kellyswails i was on lipitor, switched to generic when the pain came in. doing okay now, but still blowing the whistle no matter how much oatmeal i eat. bah. humbug. :p\n",
      "------------\n",
      "13 | we have settled a claim for a medication error after being pravastatin but was administered paroxetine which caused serious side effects including flushes, nausea, loss of appetite, pain in the joints, anxiety, headaches and more. we recovered over £2,000.\n",
      "------------\n",
      "14 | we have settled a claim for a medication error after our client was prescribed pravastatin but was administered paroxetine which caused serious side effects including flushes, nausea, loss of appetite, pain in the joints, anxiety, headaches and more. we recovered over £2,000.\n",
      "------------\n",
      "15 | @getslimsa crestor not statins!even with lchf,do that for nearly 8yrs, he still needs crestor, the statins give the most awfull muscle pain!\n",
      "------------\n",
      "16 | a twitter user is taking crestor and experiencing fever, ab pain, and weight gain via @medhawkapp @azhelps #hcsm http://t.co/o7s7bmdr4w\n",
      "------------\n",
      "17 | i had no idea taking crestor caused my mommy pain until today. i. am. livid...\n",
      "------------\n",
      "18 | @saracarterdc @twitter hey, sara, could you please get this info to @realdonaldtrump @potus it's important! his muscle pain is caused by his crestor!! it also causes you not to be able to think and eats your brain. trust me, first hand info (hubby) quit taking &amp; normal again!  https://t.co/tntjs6mvbt\n",
      "------------\n",
      "19 | @peterrmare @realdonaldtrump would he actually have to stop taking them if he supplements with coq10? my family member who became almost crippled stopped taking simvastatin abruptly and started coq10 and the pain was gone within a few days. now he takes rosuvastatin and coq10 and no problems.\n",
      "------------\n",
      "20 | sometimes atorvastatin gives me muscle cramps, sometimes not. difficult to account for that. also, regular pain relief (codeine) no effect.\n",
      "------------\n",
      "21 | @nickcharlespi ugh. i get bouts of chest pain from my lipitor which really makes things fun for my internist.\n",
      "------------\n",
      "22 | @kilttripusa guess what?  the pain i have been having while on lipitor has subsided now that i'm no longer taking it! yippee!\n",
      "------------\n",
      "23 | @juveeza @draseemmalhotra my current ones atorvastatin no leg pain but bad fatigue, low energy. thanks. all this info helps.\n",
      "------------\n",
      "24 | simvastatin gave me incredible stomach and muscle pain, but after my heart attack i was given atorvastatin and i'm fine with those #victoria\n",
      "------------\n",
      "25 | atorvastatin lot of pain morning\n",
      "------------\n",
      "26 | @drjasonfung changed from simvastatin to atorvastatin a few years ago, because of horrendous shoulder muscle pain,… https://t.co/ipdpzbdtg9\n",
      "------------\n",
      "27 | @cardiosmart i take my meds but insurers hassle me 2take lipitor on which i had muscle pain/weakness &amp;balk @paying… https://t.co/ksmm36jdtz\n",
      "------------\n",
      "28 | necrotic myopathy neurogenic atrophy. finally diagnosis. on lipitor 4 yrs. off in february and got worse. ivig soon. excruciating pain\n",
      "------------\n",
      "29 | friend, and now the mega dose of lipitor causes leg pain and i am brokenhearted, sad and lonely. ich bin tot. i also turned to atheism as i\n",
      "------------\n"
     ]
    }
   ],
   "source": [
    "for i in range(len(msgList)):\n",
    "    print(f\"{i} | {msgList[i]}\")\n",
    "    print(\"------------\")"
   ]
  },
  {
   "cell_type": "code",
   "execution_count": 38,
   "metadata": {
    "hidden": true
   },
   "outputs": [],
   "source": [
    "indexList = [0,1,4,9,11,12,13,15]\n",
    "meanEmb = np.array(embList)[indexList,:]\n",
    "meanEmb = np.mean(meanEmb,0)"
   ]
  },
  {
   "cell_type": "code",
   "execution_count": null,
   "metadata": {
    "hidden": true
   },
   "outputs": [],
   "source": []
  },
  {
   "cell_type": "code",
   "execution_count": 46,
   "metadata": {
    "hidden": true
   },
   "outputs": [
    {
     "data": {
      "text/plain": [
       "1831"
      ]
     },
     "execution_count": 46,
     "metadata": {},
     "output_type": "execute_result"
    }
   ],
   "source": [
    "len(finalDf)"
   ]
  },
  {
   "cell_type": "markdown",
   "metadata": {
    "hidden": true
   },
   "source": [
    "#### Model Training"
   ]
  },
  {
   "cell_type": "code",
   "execution_count": 39,
   "metadata": {
    "hidden": true
   },
   "outputs": [],
   "source": [
    "!mkdir /data1/roshansk/BMIN_DataStore"
   ]
  },
  {
   "cell_type": "code",
   "execution_count": null,
   "metadata": {
    "hidden": true
   },
   "outputs": [],
   "source": []
  },
  {
   "cell_type": "code",
   "execution_count": 67,
   "metadata": {
    "hidden": true
   },
   "outputs": [
    {
     "name": "stderr",
     "output_type": "stream",
     "text": [
      "100%|██████████| 1831/1831 [00:00<00:00, 121269.75it/s]\n"
     ]
    }
   ],
   "source": [
    "from ADRModel import *\n",
    "\n",
    "graph = Graph()\n",
    "\n",
    "graph.addNode('pain',0,0)\n",
    "graph['pain'].vector = meanEmb\n",
    "\n",
    "outputFolder = '/data1/roshansk/BMIN_DataStore/'\n",
    "modelFolder = './ModelFolder/BMIN_Model/'\n",
    "\n",
    "q = deque()\n",
    "q.append(('pain',0))\n",
    "\n",
    "ADR = ADRModel(finalDf, model, tokenizer, graph, outputFolder, modelOutputFolder = modelFolder, \n",
    "               queue = q,  useMasterEmb=True, masterContrib=0.3, numThreshold=2000,saveEveryDepth=True)"
   ]
  },
  {
   "cell_type": "code",
   "execution_count": 68,
   "metadata": {
    "hidden": true
   },
   "outputs": [
    {
     "name": "stdout",
     "output_type": "stream",
     "text": [
      "Depth : 0 Exploring pain\n",
      "           word  counts  mean_sim\n",
      "133  discomfort       1  0.698737\n",
      "371     hurting       2  0.643920\n",
      "158      ##amps      15  0.630992\n",
      "375        hurt       4  0.621371\n",
      "239     lesions       1  0.612525\n",
      "-----------------------\n",
      "Master Embedding updated\n",
      "Depth : 1 Exploring discomfort\n",
      "        word  counts  mean_sim\n",
      "4       pain      62  0.687144\n",
      "214  lesions       1  0.651498\n",
      "513     sore       1  0.634436\n",
      "142   ##amps      15  0.612099\n",
      "668   injury       3  0.576561\n",
      "-----------------------\n",
      "Depth : 1 Exploring hurting\n",
      "           word  counts  mean_sim\n",
      "5          pain      63  0.689491\n",
      "537        hurt       4  0.676999\n",
      "171  discomfort       1  0.610711\n",
      "579       hurts       1  0.601236\n",
      "326     lesions       1  0.570270\n",
      "-----------------------\n",
      "Depth : 1 Exploring ##amps\n",
      "            word  counts  mean_sim\n",
      "6           pain      62  0.698183\n",
      "137   discomfort       1  0.690847\n",
      "258      lesions       1  0.649865\n",
      "477      muscles       5  0.612069\n",
      "1506       ##cts       1  0.589035\n",
      "-----------------------\n",
      "Depth : 1 Exploring hurt\n",
      "           word  counts  mean_sim\n",
      "529       hurts       1  0.734930\n",
      "492     hurting       2  0.708606\n",
      "6          pain      63  0.686274\n",
      "196      ##amps      15  0.585361\n",
      "153  discomfort       1  0.574236\n",
      "-----------------------\n",
      "Depth : 1 Exploring lesions\n",
      "            word  counts  mean_sim\n",
      "208   discomfort       1  0.688137\n",
      "2247    bleeding       1  0.645620\n",
      "1413      injury       3  0.639029\n",
      "9           pain      64  0.624135\n",
      "2799       ##cts       1  0.620594\n",
      "-----------------------\n",
      "Master Embedding updated\n",
      "Depth : 2 Exploring sore\n",
      "           word  counts  mean_sim\n",
      "314       stiff       1  0.702441\n",
      "74   discomfort       1  0.666597\n",
      "131        ache      12  0.590861\n",
      "3          pain      62  0.582880\n",
      "91       ##amps      15  0.572597\n",
      "-----------------------\n",
      "Depth : 2 Exploring injury\n",
      "            word  counts  mean_sim\n",
      "326      lesions       1  0.693249\n",
      "168   discomfort       1  0.650403\n",
      "429       damage       8  0.630140\n",
      "1967  impairment       1  0.623162\n",
      "5           pain      62  0.618064\n",
      "-----------------------\n",
      "Depth : 2 Exploring hurts\n",
      "        word  counts  mean_sim\n",
      "238     hurt       4  0.717804\n",
      "237  hurting       2  0.621338\n",
      "4       pain      62  0.552611\n",
      "308    feels       2  0.551731\n",
      "82    ##amps      15  0.534176\n",
      "-----------------------\n",
      "Depth : 2 Exploring muscles\n",
      "       word  counts  mean_sim\n",
      "4    muscle      47  0.655417\n",
      "196  ##amps      15  0.648571\n",
      "26     legs       5  0.611548\n",
      "5      pain      62  0.585782\n",
      "925  calves       1  0.582772\n",
      "-----------------------\n",
      "Depth : 2 Exploring ##cts\n",
      "          word  counts  mean_sim\n",
      "328    lesions       1  0.592602\n",
      "1024  ##ctions       3  0.582334\n",
      "1107   ##ction       6  0.565482\n",
      "189     ##amps      15  0.562696\n",
      "747     ##dder       1  0.549563\n",
      "-----------------------\n",
      "Depth : 2 Exploring bleeding\n",
      "              word  counts  mean_sim\n",
      "247        lesions       1  0.695424\n",
      "676  deterioration       1  0.634842\n",
      "126     discomfort       1  0.600914\n",
      "915         injury       3  0.597935\n",
      "586   inflammation       4  0.581442\n",
      "-----------------------\n",
      "Master Embedding updated\n",
      "Depth : 3 Exploring stiff\n",
      "           word  counts  mean_sim\n",
      "340        sore       1  0.728338\n",
      "70   discomfort       1  0.628259\n",
      "58       tremor       1  0.593215\n",
      "257     muscles       5  0.565802\n",
      "132        ache      12  0.562755\n",
      "-----------------------\n",
      "Depth : 3 Exploring ache\n",
      "           word  counts  mean_sim\n",
      "121  discomfort       1  0.668997\n",
      "428       hurts       1  0.655873\n",
      "676        sore       1  0.654140\n",
      "152      ##amps      15  0.644081\n",
      "397        hurt       4  0.635401\n",
      "-----------------------\n",
      "Depth : 3 Exploring damage\n",
      "               word  counts  mean_sim\n",
      "1166         injury       3  0.726882\n",
      "328         lesions       1  0.677652\n",
      "873   deterioration       1  0.614746\n",
      "1762       bleeding       1  0.611644\n",
      "1935     impairment       1  0.597002\n",
      "-----------------------\n",
      "Depth : 3 Exploring impairment\n",
      "            word  counts  mean_sim\n",
      "540       injury       3  0.655662\n",
      "1014  deficiency       1  0.604286\n",
      "155      lesions       1  0.594517\n",
      "80    discomfort       1  0.583699\n",
      "243      failure       5  0.552041\n",
      "-----------------------\n",
      "Depth : 3 Exploring feels\n",
      "        word  counts  mean_sim\n",
      "453    hurts       1  0.662986\n",
      "416     hurt       4  0.614264\n",
      "90      feel      18  0.577714\n",
      "150     felt       4  0.562019\n",
      "410  hurting       2  0.561469\n",
      "-----------------------\n",
      "Depth : 3 Exploring muscle\n",
      "            word  counts  mean_sim\n",
      "623      muscles       5  0.776212\n",
      "618     shoulder       2  0.630577\n",
      "253        joint       5  0.603567\n",
      "167   discomfort       1  0.593880\n",
      "1669        foot       1  0.585078\n",
      "-----------------------\n",
      "Depth : 3 Exploring legs\n",
      "        word  counts  mean_sim\n",
      "583  muscles       5  0.745501\n",
      "119     feet       5  0.630304\n",
      "49       leg      16  0.622297\n",
      "878   calves       1  0.616599\n",
      "247      arm       5  0.577281\n",
      "-----------------------\n",
      "Depth : 3 Exploring calves\n",
      "             word  counts  mean_sim\n",
      "4462  circulation       1  0.645322\n",
      "1055      muscles       5  0.629655\n",
      "1501       ratios       2  0.628175\n",
      "88           calf       1  0.614102\n",
      "3506      clothes       1  0.580210\n",
      "-----------------------\n",
      "Depth : 3 Exploring ##ctions\n",
      "         word  counts  mean_sim\n",
      "3404  ##tment       1  0.602998\n",
      "432     ##nts       1  0.591247\n",
      "3445    ##cts       2  0.575253\n",
      "531   ##ctors       2  0.571843\n",
      "1910  ##cting       2  0.560370\n",
      "-----------------------\n",
      "Depth : 3 Exploring ##ction\n",
      "           word  counts  mean_sim\n",
      "987      injury       3  0.677012\n",
      "302     lesions       1  0.653742\n",
      "1739      ##psy       1  0.630812\n",
      "539       ##mia      11  0.627377\n",
      "92    ##llation       1  0.617585\n",
      "-----------------------\n",
      "Depth : 3 Exploring ##dder\n",
      "           word  counts  mean_sim\n",
      "289     lesions       1  0.620705\n",
      "72    ##llation       1  0.603682\n",
      "1254      ##pus       1  0.602197\n",
      "311      ##osis       1  0.592643\n",
      "1046    ##rosis       3  0.580613\n",
      "-----------------------\n",
      "Depth : 3 Exploring deterioration\n",
      "            word  counts  mean_sim\n",
      "2028    bleeding       1  0.645115\n",
      "312      lesions       1  0.632296\n",
      "257     weakness       6  0.587155\n",
      "460     deposits       1  0.581604\n",
      "164   discomfort       1  0.581231\n",
      "-----------------------\n",
      "Depth : 3 Exploring inflammation\n",
      "            word  counts  mean_sim\n",
      "510      lesions       1  0.701414\n",
      "3388    bleeding       1  0.638407\n",
      "258   discomfort       1  0.619578\n",
      "1446    swelling       2  0.609809\n",
      "2071      injury       3  0.608319\n",
      "-----------------------\n",
      "Master Embedding updated\n",
      "Depth : 4 Exploring tremor\n",
      "Reached max depth\n",
      "Depth : 4 Exploring deficiency\n",
      "Reached max depth\n",
      "Depth : 4 Exploring failure\n",
      "Reached max depth\n",
      "Depth : 4 Exploring feel\n",
      "Reached max depth\n",
      "Depth : 4 Exploring felt\n",
      "Reached max depth\n",
      "Depth : 4 Exploring shoulder\n",
      "Reached max depth\n",
      "Depth : 4 Exploring joint\n",
      "Reached max depth\n",
      "Depth : 4 Exploring foot\n",
      "Reached max depth\n",
      "Depth : 4 Exploring feet\n",
      "Reached max depth\n",
      "Depth : 4 Exploring leg\n",
      "Reached max depth\n",
      "Depth : 4 Exploring arm\n",
      "Reached max depth\n",
      "Depth : 4 Exploring circulation\n",
      "Reached max depth\n",
      "Depth : 4 Exploring ratios\n",
      "Reached max depth\n",
      "Depth : 4 Exploring calf\n",
      "Reached max depth\n",
      "Depth : 4 Exploring clothes\n",
      "Reached max depth\n",
      "Depth : 4 Exploring ##tment\n",
      "Reached max depth\n",
      "Depth : 4 Exploring ##nts\n",
      "Reached max depth\n",
      "Depth : 4 Exploring ##ctors\n",
      "Reached max depth\n",
      "Depth : 4 Exploring ##cting\n",
      "Reached max depth\n",
      "Depth : 4 Exploring ##psy\n",
      "Reached max depth\n",
      "Depth : 4 Exploring ##mia\n",
      "Reached max depth\n",
      "Depth : 4 Exploring ##llation\n",
      "Reached max depth\n",
      "Depth : 4 Exploring ##pus\n",
      "Reached max depth\n",
      "Depth : 4 Exploring ##osis\n",
      "Reached max depth\n",
      "Depth : 4 Exploring ##rosis\n",
      "Reached max depth\n",
      "Depth : 4 Exploring weakness\n",
      "Reached max depth\n",
      "Depth : 4 Exploring deposits\n",
      "Reached max depth\n",
      "Depth : 4 Exploring swelling\n",
      "Reached max depth\n"
     ]
    }
   ],
   "source": [
    "ADR.trainModel(maxDepth=4, topk=5)"
   ]
  },
  {
   "cell_type": "code",
   "execution_count": 69,
   "metadata": {
    "hidden": true
   },
   "outputs": [
    {
     "data": {
      "application/vnd.plotly.v1+json": {
       "config": {
        "plotlyServerURL": "https://plot.ly"
       },
       "data": [
        {
         "hoverinfo": "none",
         "line": {
          "color": "#888",
          "width": 0.5
         },
         "mode": "lines",
         "type": "scatter",
         "x": [
          320.42,
          360.08,
          null,
          320.42,
          280.75,
          null,
          320.42,
          255.55,
          null,
          320.42,
          248.42,
          null,
          320.42,
          266.2,
          null,
          320.42,
          310.75,
          null,
          320.42,
          323.65,
          null,
          320.42,
          336.44,
          null,
          320.42,
          378.67,
          null,
          360.08,
          266.2,
          null,
          360.08,
          310.75,
          null,
          360.08,
          255.55,
          null,
          360.08,
          323.65,
          null,
          360.08,
          280.75,
          null,
          360.08,
          248.42,
          null,
          360.08,
          463.84,
          null,
          360.08,
          459.23,
          null,
          360.08,
          450.16,
          null,
          360.08,
          428.86,
          null,
          360.08,
          377.01,
          null,
          360.08,
          313.96,
          null,
          360.08,
          275.92,
          null,
          280.75,
          248.42,
          null,
          280.75,
          336.44,
          null,
          280.75,
          266.2,
          null,
          280.75,
          241.09,
          null,
          255.55,
          266.2,
          null,
          255.55,
          378.67,
          null,
          255.55,
          190.68,
          null,
          255.55,
          248.42,
          null,
          255.55,
          310.75,
          null,
          255.55,
          336.44,
          null,
          255.55,
          450.16,
          null,
          248.42,
          336.44,
          null,
          248.42,
          450.16,
          null,
          248.42,
          241.09,
          null,
          266.2,
          463.84,
          null,
          266.2,
          323.65,
          null,
          266.2,
          190.68,
          null,
          266.2,
          178.73,
          null,
          266.2,
          428.86,
          null,
          266.2,
          196.8,
          null,
          266.2,
          252.18,
          null,
          266.2,
          313.96,
          null,
          266.2,
          275.92,
          null,
          310.75,
          459.23,
          null,
          310.75,
          450.16,
          null,
          323.65,
          178.73,
          null,
          323.65,
          428.86,
          null,
          323.65,
          463.84,
          null,
          323.65,
          196.8,
          null,
          323.65,
          275.92,
          null,
          336.44,
          241.09,
          null,
          336.44,
          450.16,
          null,
          378.67,
          377.01,
          null,
          378.67,
          399.75,
          null,
          378.67,
          455.24,
          null,
          378.67,
          459.23,
          null,
          190.68,
          125.81,
          null,
          190.68,
          196.8,
          null,
          190.68,
          252.18,
          null,
          463.84,
          313.96,
          null,
          463.84,
          275.92,
          null,
          463.84,
          178.73,
          null,
          459.23,
          528.63,
          null,
          459.23,
          450.16,
          null,
          178.73,
          313.96,
          null,
          178.73,
          428.86,
          null,
          428.86,
          495.17,
          null,
          428.86,
          469.69,
          null,
          241.09,
          218.06,
          null,
          241.09,
          185.74,
          null,
          377.01,
          439.41,
          null,
          377.01,
          405.31,
          null,
          377.01,
          368.48,
          null,
          399.75,
          405.31,
          null,
          399.75,
          439.41,
          null,
          399.75,
          455.24,
          null,
          399.75,
          469.69,
          null,
          455.24,
          495.17,
          null,
          455.24,
          515.03,
          null,
          455.24,
          528.63,
          null,
          455.24,
          535.55,
          null,
          125.81,
          103.53,
          null,
          125.81,
          73.185,
          null,
          125.81,
          50.783,
          null,
          125.81,
          37.047,
          null,
          196.8,
          118.19,
          null,
          196.8,
          134.99,
          null,
          196.8,
          157.75,
          null,
          252.18,
          157.75,
          null,
          252.18,
          185.74,
          null,
          252.18,
          218.06,
          null,
          252.18,
          253.67,
          null,
          313.96,
          330.11,
          null,
          313.96,
          291.42,
          null,
          275.92,
          253.67,
          null
         ],
         "y": [
          223.43,
          283.52,
          null,
          223.43,
          283.52,
          null,
          223.43,
          254.67,
          null,
          223.43,
          223.43,
          null,
          223.43,
          176.06,
          null,
          223.43,
          152.08,
          null,
          223.43,
          151.5,
          null,
          223.43,
          153.23,
          null,
          223.43,
          181.11,
          null,
          283.52,
          176.06,
          null,
          283.52,
          152.08,
          null,
          283.52,
          254.67,
          null,
          283.52,
          151.5,
          null,
          283.52,
          283.52,
          null,
          283.52,
          223.43,
          null,
          283.52,
          236.34,
          null,
          283.52,
          261.74,
          null,
          283.52,
          285.91,
          null,
          283.52,
          318.17,
          null,
          283.52,
          355.84,
          null,
          283.52,
          367.28,
          null,
          283.52,
          360.38,
          null,
          283.52,
          223.43,
          null,
          283.52,
          153.23,
          null,
          283.52,
          176.06,
          null,
          283.52,
          343.61,
          null,
          254.67,
          176.06,
          null,
          254.67,
          181.11,
          null,
          254.67,
          285.91,
          null,
          254.67,
          223.43,
          null,
          254.67,
          152.08,
          null,
          254.67,
          153.23,
          null,
          254.67,
          285.91,
          null,
          223.43,
          153.23,
          null,
          223.43,
          285.91,
          null,
          223.43,
          343.61,
          null,
          176.06,
          236.34,
          null,
          176.06,
          151.5,
          null,
          176.06,
          285.91,
          null,
          176.06,
          197.72,
          null,
          176.06,
          318.17,
          null,
          176.06,
          149.57,
          null,
          176.06,
          96.622,
          null,
          176.06,
          367.28,
          null,
          176.06,
          360.38,
          null,
          152.08,
          261.74,
          null,
          152.08,
          285.91,
          null,
          151.5,
          197.72,
          null,
          151.5,
          318.17,
          null,
          151.5,
          236.34,
          null,
          151.5,
          149.57,
          null,
          151.5,
          360.38,
          null,
          153.23,
          343.61,
          null,
          153.23,
          285.91,
          null,
          181.11,
          355.84,
          null,
          181.11,
          103.25,
          null,
          181.11,
          172.83,
          null,
          181.11,
          261.74,
          null,
          285.91,
          317.15,
          null,
          285.91,
          149.57,
          null,
          285.91,
          96.622,
          null,
          236.34,
          367.28,
          null,
          236.34,
          360.38,
          null,
          236.34,
          197.72,
          null,
          261.74,
          280.89,
          null,
          261.74,
          285.91,
          null,
          197.72,
          367.28,
          null,
          197.72,
          318.17,
          null,
          318.17,
          350.39,
          null,
          318.17,
          379.55,
          null,
          343.61,
          413.64,
          null,
          343.61,
          392.3,
          null,
          355.84,
          403.7,
          null,
          355.84,
          422.05,
          null,
          355.84,
          434.01,
          null,
          103.25,
          24.81,
          null,
          103.25,
          43.16,
          null,
          103.25,
          172.83,
          null,
          103.25,
          67.305,
          null,
          172.83,
          96.467,
          null,
          172.83,
          129.71,
          null,
          172.83,
          165.96,
          null,
          172.83,
          204.07,
          null,
          317.15,
          412.91,
          null,
          317.15,
          371.14,
          null,
          317.15,
          324.62,
          null,
          317.15,
          274.85,
          null,
          149.57,
          147.53,
          null,
          149.57,
          112.64,
          null,
          149.57,
          81.313,
          null,
          96.622,
          81.313,
          null,
          96.622,
          54.553,
          null,
          96.622,
          33.22,
          null,
          96.622,
          18,
          null,
          367.28,
          439.21,
          null,
          367.28,
          437.47,
          null,
          360.38,
          428.86,
          null
         ]
        },
        {
         "marker": {
          "color": [],
          "colorscale": [
           [
            0,
            "rgb(255,255,217)"
           ],
           [
            0.125,
            "rgb(237,248,177)"
           ],
           [
            0.25,
            "rgb(199,233,180)"
           ],
           [
            0.375,
            "rgb(127,205,187)"
           ],
           [
            0.5,
            "rgb(65,182,196)"
           ],
           [
            0.625,
            "rgb(29,145,192)"
           ],
           [
            0.75,
            "rgb(34,94,168)"
           ],
           [
            0.875,
            "rgb(37,52,148)"
           ],
           [
            1,
            "rgb(8,29,88)"
           ]
          ],
          "line": {
           "width": 0
          },
          "reversescale": true,
          "showscale": false,
          "size": [
           14.999999999999998,
           5.231729055258467,
           5.124777183600713,
           7.121212121212121,
           5.338680926916221,
           5.213903743315508,
           5.0356506238859176,
           5.35650623885918,
           5.053475935828877,
           5.427807486631016,
           5.053475935828877,
           5.053475935828877,
           5,
           5.409982174688057,
           5.124777183600713,
           5.017825311942959,
           5.017825311942959,
           5.819964349376114,
           5.071301247771836,
           5.017825311942959,
           5.0356506238859176,
           5.089126559714795,
           5,
           5.017825311942959,
           5.053475935828877,
           5,
           5,
           5.071301247771836,
           5.303030303030303,
           5.053475935828877,
           5.017825311942959,
           5.071301247771836,
           5,
           5.071301247771836,
           5.267379679144385,
           5.071301247771836,
           5,
           5.017825311942959,
           5,
           5,
           5,
           5,
           5.017825311942959,
           5.017825311942959,
           5,
           5.17825311942959,
           5.017825311942959,
           5,
           5,
           5.0356506238859176,
           5.089126559714795,
           5,
           5.017825311942959
          ]
         },
         "mode": "markers+text",
         "text": [
          "pain",
          "discomfort",
          "hurting",
          "##amps",
          "hurt",
          "lesions",
          "sore",
          "injury",
          "hurts",
          "muscles",
          "##cts",
          "bleeding",
          "stiff",
          "ache",
          "damage",
          "impairment",
          "feels",
          "muscle",
          "legs",
          "calves",
          "##ctions",
          "##ction",
          "##dder",
          "deterioration",
          "inflammation",
          "tremor",
          "deficiency",
          "failure",
          "feel",
          "felt",
          "shoulder",
          "joint",
          "foot",
          "feet",
          "leg",
          "arm",
          "circulation",
          "ratios",
          "calf",
          "clothes",
          "##tment",
          "##nts",
          "##ctors",
          "##cting",
          "##psy",
          "##mia",
          "##llation",
          "##pus",
          "##osis",
          "##rosis",
          "weakness",
          "deposits",
          "swelling"
         ],
         "textposition": "bottom center",
         "type": "scatter",
         "x": [
          320.42,
          360.08,
          280.75,
          255.55,
          248.42,
          266.2,
          310.75,
          323.65,
          336.44,
          378.67,
          190.68,
          463.84,
          459.23,
          450.16,
          178.73,
          428.86,
          241.09,
          377.01,
          399.75,
          455.24,
          125.81,
          196.8,
          252.18,
          313.96,
          275.92,
          528.63,
          495.17,
          469.69,
          218.06,
          185.74,
          439.41,
          405.31,
          368.48,
          405.31,
          439.41,
          469.69,
          495.17,
          515.03,
          528.63,
          535.55,
          103.53,
          73.185,
          50.783,
          37.047,
          118.19,
          134.99,
          157.75,
          185.74,
          218.06,
          253.67,
          330.11,
          291.42,
          253.67
         ],
         "y": [
          223.43,
          283.52,
          283.52,
          254.67,
          223.43,
          176.06,
          152.08,
          151.5,
          153.23,
          181.11,
          285.91,
          236.34,
          261.74,
          285.91,
          197.72,
          318.17,
          343.61,
          355.84,
          103.25,
          172.83,
          317.15,
          149.57,
          96.622,
          367.28,
          360.38,
          280.89,
          350.39,
          379.55,
          413.64,
          392.3,
          403.7,
          422.05,
          434.01,
          24.81,
          43.16,
          67.305,
          96.467,
          129.71,
          165.96,
          204.07,
          412.91,
          371.14,
          324.62,
          274.85,
          147.53,
          112.64,
          81.313,
          54.553,
          33.22,
          18,
          439.21,
          437.47,
          428.86
         ]
        },
        {
         "hoverinfo": "text",
         "marker": {
          "color": [
           0.636,
           0.633,
           0.634,
           0.599,
           0.653,
           0.642,
           0.672,
           0.64,
           0.664,
           0.666,
           0.595,
           0.635,
           0.702,
           0.577,
           0.63,
           0.61,
           0.552,
           0.655,
           0.612,
           0.6,
           0.582,
           0.565,
           0.55,
           0.625,
           0.581,
           0.593,
           0.604,
           0.552,
           0.578,
           0.562,
           0.631,
           0.604,
           0.585,
           0.63,
           0.622,
           0.577,
           0.645,
           0.628,
           0.614,
           0.58,
           0.603,
           0.591,
           0.572,
           0.56,
           0.631,
           0.627,
           0.611,
           0.602,
           0.593,
           0.581,
           0.587,
           0.582,
           0.61
          ],
          "colorbar": {
           "thickness": 15,
           "title": {
            "side": "right",
            "text": "Node Connections"
           },
           "xanchor": "left"
          },
          "colorscale": [
           [
            0,
            "rgb(255,245,240)"
           ],
           [
            0.125,
            "rgb(254,224,210)"
           ],
           [
            0.25,
            "rgb(252,187,161)"
           ],
           [
            0.375,
            "rgb(252,146,114)"
           ],
           [
            0.5,
            "rgb(251,106,74)"
           ],
           [
            0.625,
            "rgb(239,59,44)"
           ],
           [
            0.75,
            "rgb(203,24,29)"
           ],
           [
            0.875,
            "rgb(165,15,21)"
           ],
           [
            1,
            "rgb(103,0,13)"
           ]
          ],
          "line": {
           "width": 1
          },
          "reversescale": false,
          "showscale": true,
          "size": [
           14.999999999999998,
           5.231729055258467,
           5.124777183600713,
           7.121212121212121,
           5.338680926916221,
           5.213903743315508,
           5.0356506238859176,
           5.35650623885918,
           5.053475935828877,
           5.427807486631016,
           5.053475935828877,
           5.053475935828877,
           5,
           5.409982174688057,
           5.124777183600713,
           5.017825311942959,
           5.017825311942959,
           5.819964349376114,
           5.071301247771836,
           5.017825311942959,
           5.0356506238859176,
           5.089126559714795,
           5,
           5.017825311942959,
           5.053475935828877,
           5,
           5,
           5.071301247771836,
           5.303030303030303,
           5.053475935828877,
           5.017825311942959,
           5.071301247771836,
           5,
           5.071301247771836,
           5.267379679144385,
           5.071301247771836,
           5,
           5.017825311942959,
           5,
           5,
           5,
           5,
           5.017825311942959,
           5.017825311942959,
           5,
           5.17825311942959,
           5.017825311942959,
           5,
           5,
           5.0356506238859176,
           5.089126559714795,
           5,
           5.017825311942959
          ]
         },
         "mode": "markers",
         "text": [
          "pain <br>Count : 562 <br>Score : 0.636",
          "discomfort <br>Count : 14 <br>Score : 0.633",
          "hurting <br>Count : 8 <br>Score : 0.634",
          "##amps <br>Count : 120 <br>Score : 0.599",
          "hurt <br>Count : 20 <br>Score : 0.653",
          "lesions <br>Count : 13 <br>Score : 0.642",
          "sore <br>Count : 3 <br>Score : 0.672",
          "injury <br>Count : 21 <br>Score : 0.64",
          "hurts <br>Count : 4 <br>Score : 0.664",
          "muscles <br>Count : 25 <br>Score : 0.666",
          "##cts <br>Count : 4 <br>Score : 0.595",
          "bleeding <br>Count : 4 <br>Score : 0.635",
          "stiff <br>Count : 1 <br>Score : 0.702",
          "ache <br>Count : 24 <br>Score : 0.577",
          "damage <br>Count : 8 <br>Score : 0.63",
          "impairment <br>Count : 2 <br>Score : 0.61",
          "feels <br>Count : 2 <br>Score : 0.552",
          "muscle <br>Count : 47 <br>Score : 0.655",
          "legs <br>Count : 5 <br>Score : 0.612",
          "calves <br>Count : 2 <br>Score : 0.6",
          "##ctions <br>Count : 3 <br>Score : 0.582",
          "##ction <br>Count : 6 <br>Score : 0.565",
          "##dder <br>Count : 1 <br>Score : 0.55",
          "deterioration <br>Count : 2 <br>Score : 0.625",
          "inflammation <br>Count : 4 <br>Score : 0.581",
          "tremor <br>Count : 1 <br>Score : 0.593",
          "deficiency <br>Count : 1 <br>Score : 0.604",
          "failure <br>Count : 5 <br>Score : 0.552",
          "feel <br>Count : 18 <br>Score : 0.578",
          "felt <br>Count : 4 <br>Score : 0.562",
          "shoulder <br>Count : 2 <br>Score : 0.631",
          "joint <br>Count : 5 <br>Score : 0.604",
          "foot <br>Count : 1 <br>Score : 0.585",
          "feet <br>Count : 5 <br>Score : 0.63",
          "leg <br>Count : 16 <br>Score : 0.622",
          "arm <br>Count : 5 <br>Score : 0.577",
          "circulation <br>Count : 1 <br>Score : 0.645",
          "ratios <br>Count : 2 <br>Score : 0.628",
          "calf <br>Count : 1 <br>Score : 0.614",
          "clothes <br>Count : 1 <br>Score : 0.58",
          "##tment <br>Count : 1 <br>Score : 0.603",
          "##nts <br>Count : 1 <br>Score : 0.591",
          "##ctors <br>Count : 2 <br>Score : 0.572",
          "##cting <br>Count : 2 <br>Score : 0.56",
          "##psy <br>Count : 1 <br>Score : 0.631",
          "##mia <br>Count : 11 <br>Score : 0.627",
          "##llation <br>Count : 2 <br>Score : 0.611",
          "##pus <br>Count : 1 <br>Score : 0.602",
          "##osis <br>Count : 1 <br>Score : 0.593",
          "##rosis <br>Count : 3 <br>Score : 0.581",
          "weakness <br>Count : 6 <br>Score : 0.587",
          "deposits <br>Count : 1 <br>Score : 0.582",
          "swelling <br>Count : 2 <br>Score : 0.61"
         ],
         "type": "scatter",
         "x": [
          320.42,
          360.08,
          280.75,
          255.55,
          248.42,
          266.2,
          310.75,
          323.65,
          336.44,
          378.67,
          190.68,
          463.84,
          459.23,
          450.16,
          178.73,
          428.86,
          241.09,
          377.01,
          399.75,
          455.24,
          125.81,
          196.8,
          252.18,
          313.96,
          275.92,
          528.63,
          495.17,
          469.69,
          218.06,
          185.74,
          439.41,
          405.31,
          368.48,
          405.31,
          439.41,
          469.69,
          495.17,
          515.03,
          528.63,
          535.55,
          103.53,
          73.185,
          50.783,
          37.047,
          118.19,
          134.99,
          157.75,
          185.74,
          218.06,
          253.67,
          330.11,
          291.42,
          253.67
         ],
         "y": [
          223.43,
          283.52,
          283.52,
          254.67,
          223.43,
          176.06,
          152.08,
          151.5,
          153.23,
          181.11,
          285.91,
          236.34,
          261.74,
          285.91,
          197.72,
          318.17,
          343.61,
          355.84,
          103.25,
          172.83,
          317.15,
          149.57,
          96.622,
          367.28,
          360.38,
          280.89,
          350.39,
          379.55,
          413.64,
          392.3,
          403.7,
          422.05,
          434.01,
          24.81,
          43.16,
          67.305,
          96.467,
          129.71,
          165.96,
          204.07,
          412.91,
          371.14,
          324.62,
          274.85,
          147.53,
          112.64,
          81.313,
          54.553,
          33.22,
          18,
          439.21,
          437.47,
          428.86
         ]
        }
       ],
       "layout": {
        "hovermode": "closest",
        "margin": {
         "b": 20,
         "l": 5,
         "r": 5,
         "t": 50
        },
        "showlegend": false,
        "template": {
         "data": {
          "bar": [
           {
            "error_x": {
             "color": "#2a3f5f"
            },
            "error_y": {
             "color": "#2a3f5f"
            },
            "marker": {
             "line": {
              "color": "#E5ECF6",
              "width": 0.5
             }
            },
            "type": "bar"
           }
          ],
          "barpolar": [
           {
            "marker": {
             "line": {
              "color": "#E5ECF6",
              "width": 0.5
             }
            },
            "type": "barpolar"
           }
          ],
          "carpet": [
           {
            "aaxis": {
             "endlinecolor": "#2a3f5f",
             "gridcolor": "white",
             "linecolor": "white",
             "minorgridcolor": "white",
             "startlinecolor": "#2a3f5f"
            },
            "baxis": {
             "endlinecolor": "#2a3f5f",
             "gridcolor": "white",
             "linecolor": "white",
             "minorgridcolor": "white",
             "startlinecolor": "#2a3f5f"
            },
            "type": "carpet"
           }
          ],
          "choropleth": [
           {
            "colorbar": {
             "outlinewidth": 0,
             "ticks": ""
            },
            "type": "choropleth"
           }
          ],
          "contour": [
           {
            "colorbar": {
             "outlinewidth": 0,
             "ticks": ""
            },
            "colorscale": [
             [
              0,
              "#0d0887"
             ],
             [
              0.1111111111111111,
              "#46039f"
             ],
             [
              0.2222222222222222,
              "#7201a8"
             ],
             [
              0.3333333333333333,
              "#9c179e"
             ],
             [
              0.4444444444444444,
              "#bd3786"
             ],
             [
              0.5555555555555556,
              "#d8576b"
             ],
             [
              0.6666666666666666,
              "#ed7953"
             ],
             [
              0.7777777777777778,
              "#fb9f3a"
             ],
             [
              0.8888888888888888,
              "#fdca26"
             ],
             [
              1,
              "#f0f921"
             ]
            ],
            "type": "contour"
           }
          ],
          "contourcarpet": [
           {
            "colorbar": {
             "outlinewidth": 0,
             "ticks": ""
            },
            "type": "contourcarpet"
           }
          ],
          "heatmap": [
           {
            "colorbar": {
             "outlinewidth": 0,
             "ticks": ""
            },
            "colorscale": [
             [
              0,
              "#0d0887"
             ],
             [
              0.1111111111111111,
              "#46039f"
             ],
             [
              0.2222222222222222,
              "#7201a8"
             ],
             [
              0.3333333333333333,
              "#9c179e"
             ],
             [
              0.4444444444444444,
              "#bd3786"
             ],
             [
              0.5555555555555556,
              "#d8576b"
             ],
             [
              0.6666666666666666,
              "#ed7953"
             ],
             [
              0.7777777777777778,
              "#fb9f3a"
             ],
             [
              0.8888888888888888,
              "#fdca26"
             ],
             [
              1,
              "#f0f921"
             ]
            ],
            "type": "heatmap"
           }
          ],
          "heatmapgl": [
           {
            "colorbar": {
             "outlinewidth": 0,
             "ticks": ""
            },
            "colorscale": [
             [
              0,
              "#0d0887"
             ],
             [
              0.1111111111111111,
              "#46039f"
             ],
             [
              0.2222222222222222,
              "#7201a8"
             ],
             [
              0.3333333333333333,
              "#9c179e"
             ],
             [
              0.4444444444444444,
              "#bd3786"
             ],
             [
              0.5555555555555556,
              "#d8576b"
             ],
             [
              0.6666666666666666,
              "#ed7953"
             ],
             [
              0.7777777777777778,
              "#fb9f3a"
             ],
             [
              0.8888888888888888,
              "#fdca26"
             ],
             [
              1,
              "#f0f921"
             ]
            ],
            "type": "heatmapgl"
           }
          ],
          "histogram": [
           {
            "marker": {
             "colorbar": {
              "outlinewidth": 0,
              "ticks": ""
             }
            },
            "type": "histogram"
           }
          ],
          "histogram2d": [
           {
            "colorbar": {
             "outlinewidth": 0,
             "ticks": ""
            },
            "colorscale": [
             [
              0,
              "#0d0887"
             ],
             [
              0.1111111111111111,
              "#46039f"
             ],
             [
              0.2222222222222222,
              "#7201a8"
             ],
             [
              0.3333333333333333,
              "#9c179e"
             ],
             [
              0.4444444444444444,
              "#bd3786"
             ],
             [
              0.5555555555555556,
              "#d8576b"
             ],
             [
              0.6666666666666666,
              "#ed7953"
             ],
             [
              0.7777777777777778,
              "#fb9f3a"
             ],
             [
              0.8888888888888888,
              "#fdca26"
             ],
             [
              1,
              "#f0f921"
             ]
            ],
            "type": "histogram2d"
           }
          ],
          "histogram2dcontour": [
           {
            "colorbar": {
             "outlinewidth": 0,
             "ticks": ""
            },
            "colorscale": [
             [
              0,
              "#0d0887"
             ],
             [
              0.1111111111111111,
              "#46039f"
             ],
             [
              0.2222222222222222,
              "#7201a8"
             ],
             [
              0.3333333333333333,
              "#9c179e"
             ],
             [
              0.4444444444444444,
              "#bd3786"
             ],
             [
              0.5555555555555556,
              "#d8576b"
             ],
             [
              0.6666666666666666,
              "#ed7953"
             ],
             [
              0.7777777777777778,
              "#fb9f3a"
             ],
             [
              0.8888888888888888,
              "#fdca26"
             ],
             [
              1,
              "#f0f921"
             ]
            ],
            "type": "histogram2dcontour"
           }
          ],
          "mesh3d": [
           {
            "colorbar": {
             "outlinewidth": 0,
             "ticks": ""
            },
            "type": "mesh3d"
           }
          ],
          "parcoords": [
           {
            "line": {
             "colorbar": {
              "outlinewidth": 0,
              "ticks": ""
             }
            },
            "type": "parcoords"
           }
          ],
          "pie": [
           {
            "automargin": true,
            "type": "pie"
           }
          ],
          "scatter": [
           {
            "marker": {
             "colorbar": {
              "outlinewidth": 0,
              "ticks": ""
             }
            },
            "type": "scatter"
           }
          ],
          "scatter3d": [
           {
            "line": {
             "colorbar": {
              "outlinewidth": 0,
              "ticks": ""
             }
            },
            "marker": {
             "colorbar": {
              "outlinewidth": 0,
              "ticks": ""
             }
            },
            "type": "scatter3d"
           }
          ],
          "scattercarpet": [
           {
            "marker": {
             "colorbar": {
              "outlinewidth": 0,
              "ticks": ""
             }
            },
            "type": "scattercarpet"
           }
          ],
          "scattergeo": [
           {
            "marker": {
             "colorbar": {
              "outlinewidth": 0,
              "ticks": ""
             }
            },
            "type": "scattergeo"
           }
          ],
          "scattergl": [
           {
            "marker": {
             "colorbar": {
              "outlinewidth": 0,
              "ticks": ""
             }
            },
            "type": "scattergl"
           }
          ],
          "scattermapbox": [
           {
            "marker": {
             "colorbar": {
              "outlinewidth": 0,
              "ticks": ""
             }
            },
            "type": "scattermapbox"
           }
          ],
          "scatterpolar": [
           {
            "marker": {
             "colorbar": {
              "outlinewidth": 0,
              "ticks": ""
             }
            },
            "type": "scatterpolar"
           }
          ],
          "scatterpolargl": [
           {
            "marker": {
             "colorbar": {
              "outlinewidth": 0,
              "ticks": ""
             }
            },
            "type": "scatterpolargl"
           }
          ],
          "scatterternary": [
           {
            "marker": {
             "colorbar": {
              "outlinewidth": 0,
              "ticks": ""
             }
            },
            "type": "scatterternary"
           }
          ],
          "surface": [
           {
            "colorbar": {
             "outlinewidth": 0,
             "ticks": ""
            },
            "colorscale": [
             [
              0,
              "#0d0887"
             ],
             [
              0.1111111111111111,
              "#46039f"
             ],
             [
              0.2222222222222222,
              "#7201a8"
             ],
             [
              0.3333333333333333,
              "#9c179e"
             ],
             [
              0.4444444444444444,
              "#bd3786"
             ],
             [
              0.5555555555555556,
              "#d8576b"
             ],
             [
              0.6666666666666666,
              "#ed7953"
             ],
             [
              0.7777777777777778,
              "#fb9f3a"
             ],
             [
              0.8888888888888888,
              "#fdca26"
             ],
             [
              1,
              "#f0f921"
             ]
            ],
            "type": "surface"
           }
          ],
          "table": [
           {
            "cells": {
             "fill": {
              "color": "#EBF0F8"
             },
             "line": {
              "color": "white"
             }
            },
            "header": {
             "fill": {
              "color": "#C8D4E3"
             },
             "line": {
              "color": "white"
             }
            },
            "type": "table"
           }
          ]
         },
         "layout": {
          "annotationdefaults": {
           "arrowcolor": "#2a3f5f",
           "arrowhead": 0,
           "arrowwidth": 1
          },
          "coloraxis": {
           "colorbar": {
            "outlinewidth": 0,
            "ticks": ""
           }
          },
          "colorscale": {
           "diverging": [
            [
             0,
             "#8e0152"
            ],
            [
             0.1,
             "#c51b7d"
            ],
            [
             0.2,
             "#de77ae"
            ],
            [
             0.3,
             "#f1b6da"
            ],
            [
             0.4,
             "#fde0ef"
            ],
            [
             0.5,
             "#f7f7f7"
            ],
            [
             0.6,
             "#e6f5d0"
            ],
            [
             0.7,
             "#b8e186"
            ],
            [
             0.8,
             "#7fbc41"
            ],
            [
             0.9,
             "#4d9221"
            ],
            [
             1,
             "#276419"
            ]
           ],
           "sequential": [
            [
             0,
             "#0d0887"
            ],
            [
             0.1111111111111111,
             "#46039f"
            ],
            [
             0.2222222222222222,
             "#7201a8"
            ],
            [
             0.3333333333333333,
             "#9c179e"
            ],
            [
             0.4444444444444444,
             "#bd3786"
            ],
            [
             0.5555555555555556,
             "#d8576b"
            ],
            [
             0.6666666666666666,
             "#ed7953"
            ],
            [
             0.7777777777777778,
             "#fb9f3a"
            ],
            [
             0.8888888888888888,
             "#fdca26"
            ],
            [
             1,
             "#f0f921"
            ]
           ],
           "sequentialminus": [
            [
             0,
             "#0d0887"
            ],
            [
             0.1111111111111111,
             "#46039f"
            ],
            [
             0.2222222222222222,
             "#7201a8"
            ],
            [
             0.3333333333333333,
             "#9c179e"
            ],
            [
             0.4444444444444444,
             "#bd3786"
            ],
            [
             0.5555555555555556,
             "#d8576b"
            ],
            [
             0.6666666666666666,
             "#ed7953"
            ],
            [
             0.7777777777777778,
             "#fb9f3a"
            ],
            [
             0.8888888888888888,
             "#fdca26"
            ],
            [
             1,
             "#f0f921"
            ]
           ]
          },
          "colorway": [
           "#636efa",
           "#EF553B",
           "#00cc96",
           "#ab63fa",
           "#FFA15A",
           "#19d3f3",
           "#FF6692",
           "#B6E880",
           "#FF97FF",
           "#FECB52"
          ],
          "font": {
           "color": "#2a3f5f"
          },
          "geo": {
           "bgcolor": "white",
           "lakecolor": "white",
           "landcolor": "#E5ECF6",
           "showlakes": true,
           "showland": true,
           "subunitcolor": "white"
          },
          "hoverlabel": {
           "align": "left"
          },
          "hovermode": "closest",
          "mapbox": {
           "style": "light"
          },
          "paper_bgcolor": "white",
          "plot_bgcolor": "#E5ECF6",
          "polar": {
           "angularaxis": {
            "gridcolor": "white",
            "linecolor": "white",
            "ticks": ""
           },
           "bgcolor": "#E5ECF6",
           "radialaxis": {
            "gridcolor": "white",
            "linecolor": "white",
            "ticks": ""
           }
          },
          "scene": {
           "xaxis": {
            "backgroundcolor": "#E5ECF6",
            "gridcolor": "white",
            "gridwidth": 2,
            "linecolor": "white",
            "showbackground": true,
            "ticks": "",
            "zerolinecolor": "white"
           },
           "yaxis": {
            "backgroundcolor": "#E5ECF6",
            "gridcolor": "white",
            "gridwidth": 2,
            "linecolor": "white",
            "showbackground": true,
            "ticks": "",
            "zerolinecolor": "white"
           },
           "zaxis": {
            "backgroundcolor": "#E5ECF6",
            "gridcolor": "white",
            "gridwidth": 2,
            "linecolor": "white",
            "showbackground": true,
            "ticks": "",
            "zerolinecolor": "white"
           }
          },
          "shapedefaults": {
           "line": {
            "color": "#2a3f5f"
           }
          },
          "ternary": {
           "aaxis": {
            "gridcolor": "white",
            "linecolor": "white",
            "ticks": ""
           },
           "baxis": {
            "gridcolor": "white",
            "linecolor": "white",
            "ticks": ""
           },
           "bgcolor": "#E5ECF6",
           "caxis": {
            "gridcolor": "white",
            "linecolor": "white",
            "ticks": ""
           }
          },
          "title": {
           "x": 0.05
          },
          "xaxis": {
           "automargin": true,
           "gridcolor": "white",
           "linecolor": "white",
           "ticks": "",
           "title": {
            "standoff": 15
           },
           "zerolinecolor": "white",
           "zerolinewidth": 2
          },
          "yaxis": {
           "automargin": true,
           "gridcolor": "white",
           "linecolor": "white",
           "ticks": "",
           "title": {
            "standoff": 15
           },
           "zerolinecolor": "white",
           "zerolinewidth": 2
          }
         }
        },
        "title": {
         "font": {
          "size": 16
         },
         "text": "<br>Network graph made with Python"
        },
        "xaxis": {
         "showgrid": false,
         "showticklabels": false,
         "zeroline": false
        },
        "yaxis": {
         "showgrid": false,
         "showticklabels": false,
         "zeroline": false
        }
       }
      },
      "text/html": [
       "<div>\n",
       "        \n",
       "        \n",
       "            <div id=\"55ede196-04e2-4511-be44-1059e68d4910\" class=\"plotly-graph-div\" style=\"height:525px; width:100%;\"></div>\n",
       "            <script type=\"text/javascript\">\n",
       "                require([\"plotly\"], function(Plotly) {\n",
       "                    window.PLOTLYENV=window.PLOTLYENV || {};\n",
       "                    \n",
       "                if (document.getElementById(\"55ede196-04e2-4511-be44-1059e68d4910\")) {\n",
       "                    Plotly.newPlot(\n",
       "                        '55ede196-04e2-4511-be44-1059e68d4910',\n",
       "                        [{\"hoverinfo\": \"none\", \"line\": {\"color\": \"#888\", \"width\": 0.5}, \"mode\": \"lines\", \"type\": \"scatter\", \"x\": [320.42, 360.08, null, 320.42, 280.75, null, 320.42, 255.55, null, 320.42, 248.42, null, 320.42, 266.2, null, 320.42, 310.75, null, 320.42, 323.65, null, 320.42, 336.44, null, 320.42, 378.67, null, 360.08, 266.2, null, 360.08, 310.75, null, 360.08, 255.55, null, 360.08, 323.65, null, 360.08, 280.75, null, 360.08, 248.42, null, 360.08, 463.84, null, 360.08, 459.23, null, 360.08, 450.16, null, 360.08, 428.86, null, 360.08, 377.01, null, 360.08, 313.96, null, 360.08, 275.92, null, 280.75, 248.42, null, 280.75, 336.44, null, 280.75, 266.2, null, 280.75, 241.09, null, 255.55, 266.2, null, 255.55, 378.67, null, 255.55, 190.68, null, 255.55, 248.42, null, 255.55, 310.75, null, 255.55, 336.44, null, 255.55, 450.16, null, 248.42, 336.44, null, 248.42, 450.16, null, 248.42, 241.09, null, 266.2, 463.84, null, 266.2, 323.65, null, 266.2, 190.68, null, 266.2, 178.73, null, 266.2, 428.86, null, 266.2, 196.8, null, 266.2, 252.18, null, 266.2, 313.96, null, 266.2, 275.92, null, 310.75, 459.23, null, 310.75, 450.16, null, 323.65, 178.73, null, 323.65, 428.86, null, 323.65, 463.84, null, 323.65, 196.8, null, 323.65, 275.92, null, 336.44, 241.09, null, 336.44, 450.16, null, 378.67, 377.01, null, 378.67, 399.75, null, 378.67, 455.24, null, 378.67, 459.23, null, 190.68, 125.81, null, 190.68, 196.8, null, 190.68, 252.18, null, 463.84, 313.96, null, 463.84, 275.92, null, 463.84, 178.73, null, 459.23, 528.63, null, 459.23, 450.16, null, 178.73, 313.96, null, 178.73, 428.86, null, 428.86, 495.17, null, 428.86, 469.69, null, 241.09, 218.06, null, 241.09, 185.74, null, 377.01, 439.41, null, 377.01, 405.31, null, 377.01, 368.48, null, 399.75, 405.31, null, 399.75, 439.41, null, 399.75, 455.24, null, 399.75, 469.69, null, 455.24, 495.17, null, 455.24, 515.03, null, 455.24, 528.63, null, 455.24, 535.55, null, 125.81, 103.53, null, 125.81, 73.185, null, 125.81, 50.783, null, 125.81, 37.047, null, 196.8, 118.19, null, 196.8, 134.99, null, 196.8, 157.75, null, 252.18, 157.75, null, 252.18, 185.74, null, 252.18, 218.06, null, 252.18, 253.67, null, 313.96, 330.11, null, 313.96, 291.42, null, 275.92, 253.67, null], \"y\": [223.43, 283.52, null, 223.43, 283.52, null, 223.43, 254.67, null, 223.43, 223.43, null, 223.43, 176.06, null, 223.43, 152.08, null, 223.43, 151.5, null, 223.43, 153.23, null, 223.43, 181.11, null, 283.52, 176.06, null, 283.52, 152.08, null, 283.52, 254.67, null, 283.52, 151.5, null, 283.52, 283.52, null, 283.52, 223.43, null, 283.52, 236.34, null, 283.52, 261.74, null, 283.52, 285.91, null, 283.52, 318.17, null, 283.52, 355.84, null, 283.52, 367.28, null, 283.52, 360.38, null, 283.52, 223.43, null, 283.52, 153.23, null, 283.52, 176.06, null, 283.52, 343.61, null, 254.67, 176.06, null, 254.67, 181.11, null, 254.67, 285.91, null, 254.67, 223.43, null, 254.67, 152.08, null, 254.67, 153.23, null, 254.67, 285.91, null, 223.43, 153.23, null, 223.43, 285.91, null, 223.43, 343.61, null, 176.06, 236.34, null, 176.06, 151.5, null, 176.06, 285.91, null, 176.06, 197.72, null, 176.06, 318.17, null, 176.06, 149.57, null, 176.06, 96.622, null, 176.06, 367.28, null, 176.06, 360.38, null, 152.08, 261.74, null, 152.08, 285.91, null, 151.5, 197.72, null, 151.5, 318.17, null, 151.5, 236.34, null, 151.5, 149.57, null, 151.5, 360.38, null, 153.23, 343.61, null, 153.23, 285.91, null, 181.11, 355.84, null, 181.11, 103.25, null, 181.11, 172.83, null, 181.11, 261.74, null, 285.91, 317.15, null, 285.91, 149.57, null, 285.91, 96.622, null, 236.34, 367.28, null, 236.34, 360.38, null, 236.34, 197.72, null, 261.74, 280.89, null, 261.74, 285.91, null, 197.72, 367.28, null, 197.72, 318.17, null, 318.17, 350.39, null, 318.17, 379.55, null, 343.61, 413.64, null, 343.61, 392.3, null, 355.84, 403.7, null, 355.84, 422.05, null, 355.84, 434.01, null, 103.25, 24.81, null, 103.25, 43.16, null, 103.25, 172.83, null, 103.25, 67.305, null, 172.83, 96.467, null, 172.83, 129.71, null, 172.83, 165.96, null, 172.83, 204.07, null, 317.15, 412.91, null, 317.15, 371.14, null, 317.15, 324.62, null, 317.15, 274.85, null, 149.57, 147.53, null, 149.57, 112.64, null, 149.57, 81.313, null, 96.622, 81.313, null, 96.622, 54.553, null, 96.622, 33.22, null, 96.622, 18.0, null, 367.28, 439.21, null, 367.28, 437.47, null, 360.38, 428.86, null]}, {\"marker\": {\"color\": [], \"colorscale\": [[0.0, \"rgb(255,255,217)\"], [0.125, \"rgb(237,248,177)\"], [0.25, \"rgb(199,233,180)\"], [0.375, \"rgb(127,205,187)\"], [0.5, \"rgb(65,182,196)\"], [0.625, \"rgb(29,145,192)\"], [0.75, \"rgb(34,94,168)\"], [0.875, \"rgb(37,52,148)\"], [1.0, \"rgb(8,29,88)\"]], \"line\": {\"width\": 0}, \"reversescale\": true, \"showscale\": false, \"size\": [14.999999999999998, 5.231729055258467, 5.124777183600713, 7.121212121212121, 5.338680926916221, 5.213903743315508, 5.0356506238859176, 5.35650623885918, 5.053475935828877, 5.427807486631016, 5.053475935828877, 5.053475935828877, 5.0, 5.409982174688057, 5.124777183600713, 5.017825311942959, 5.017825311942959, 5.819964349376114, 5.071301247771836, 5.017825311942959, 5.0356506238859176, 5.089126559714795, 5.0, 5.017825311942959, 5.053475935828877, 5.0, 5.0, 5.071301247771836, 5.303030303030303, 5.053475935828877, 5.017825311942959, 5.071301247771836, 5.0, 5.071301247771836, 5.267379679144385, 5.071301247771836, 5.0, 5.017825311942959, 5.0, 5.0, 5.0, 5.0, 5.017825311942959, 5.017825311942959, 5.0, 5.17825311942959, 5.017825311942959, 5.0, 5.0, 5.0356506238859176, 5.089126559714795, 5.0, 5.017825311942959]}, \"mode\": \"markers+text\", \"text\": [\"pain\", \"discomfort\", \"hurting\", \"##amps\", \"hurt\", \"lesions\", \"sore\", \"injury\", \"hurts\", \"muscles\", \"##cts\", \"bleeding\", \"stiff\", \"ache\", \"damage\", \"impairment\", \"feels\", \"muscle\", \"legs\", \"calves\", \"##ctions\", \"##ction\", \"##dder\", \"deterioration\", \"inflammation\", \"tremor\", \"deficiency\", \"failure\", \"feel\", \"felt\", \"shoulder\", \"joint\", \"foot\", \"feet\", \"leg\", \"arm\", \"circulation\", \"ratios\", \"calf\", \"clothes\", \"##tment\", \"##nts\", \"##ctors\", \"##cting\", \"##psy\", \"##mia\", \"##llation\", \"##pus\", \"##osis\", \"##rosis\", \"weakness\", \"deposits\", \"swelling\"], \"textposition\": \"bottom center\", \"type\": \"scatter\", \"x\": [320.42, 360.08, 280.75, 255.55, 248.42, 266.2, 310.75, 323.65, 336.44, 378.67, 190.68, 463.84, 459.23, 450.16, 178.73, 428.86, 241.09, 377.01, 399.75, 455.24, 125.81, 196.8, 252.18, 313.96, 275.92, 528.63, 495.17, 469.69, 218.06, 185.74, 439.41, 405.31, 368.48, 405.31, 439.41, 469.69, 495.17, 515.03, 528.63, 535.55, 103.53, 73.185, 50.783, 37.047, 118.19, 134.99, 157.75, 185.74, 218.06, 253.67, 330.11, 291.42, 253.67], \"y\": [223.43, 283.52, 283.52, 254.67, 223.43, 176.06, 152.08, 151.5, 153.23, 181.11, 285.91, 236.34, 261.74, 285.91, 197.72, 318.17, 343.61, 355.84, 103.25, 172.83, 317.15, 149.57, 96.622, 367.28, 360.38, 280.89, 350.39, 379.55, 413.64, 392.3, 403.7, 422.05, 434.01, 24.81, 43.16, 67.305, 96.467, 129.71, 165.96, 204.07, 412.91, 371.14, 324.62, 274.85, 147.53, 112.64, 81.313, 54.553, 33.22, 18.0, 439.21, 437.47, 428.86]}, {\"hoverinfo\": \"text\", \"marker\": {\"color\": [0.636, 0.633, 0.634, 0.599, 0.653, 0.642, 0.672, 0.64, 0.664, 0.666, 0.595, 0.635, 0.702, 0.577, 0.63, 0.61, 0.552, 0.655, 0.612, 0.6, 0.582, 0.565, 0.55, 0.625, 0.581, 0.593, 0.604, 0.552, 0.578, 0.562, 0.631, 0.604, 0.585, 0.63, 0.622, 0.577, 0.645, 0.628, 0.614, 0.58, 0.603, 0.591, 0.572, 0.56, 0.631, 0.627, 0.611, 0.602, 0.593, 0.581, 0.587, 0.582, 0.61], \"colorbar\": {\"thickness\": 15, \"title\": {\"side\": \"right\", \"text\": \"Node Connections\"}, \"xanchor\": \"left\"}, \"colorscale\": [[0.0, \"rgb(255,245,240)\"], [0.125, \"rgb(254,224,210)\"], [0.25, \"rgb(252,187,161)\"], [0.375, \"rgb(252,146,114)\"], [0.5, \"rgb(251,106,74)\"], [0.625, \"rgb(239,59,44)\"], [0.75, \"rgb(203,24,29)\"], [0.875, \"rgb(165,15,21)\"], [1.0, \"rgb(103,0,13)\"]], \"line\": {\"width\": 1}, \"reversescale\": false, \"showscale\": true, \"size\": [14.999999999999998, 5.231729055258467, 5.124777183600713, 7.121212121212121, 5.338680926916221, 5.213903743315508, 5.0356506238859176, 5.35650623885918, 5.053475935828877, 5.427807486631016, 5.053475935828877, 5.053475935828877, 5.0, 5.409982174688057, 5.124777183600713, 5.017825311942959, 5.017825311942959, 5.819964349376114, 5.071301247771836, 5.017825311942959, 5.0356506238859176, 5.089126559714795, 5.0, 5.017825311942959, 5.053475935828877, 5.0, 5.0, 5.071301247771836, 5.303030303030303, 5.053475935828877, 5.017825311942959, 5.071301247771836, 5.0, 5.071301247771836, 5.267379679144385, 5.071301247771836, 5.0, 5.017825311942959, 5.0, 5.0, 5.0, 5.0, 5.017825311942959, 5.017825311942959, 5.0, 5.17825311942959, 5.017825311942959, 5.0, 5.0, 5.0356506238859176, 5.089126559714795, 5.0, 5.017825311942959]}, \"mode\": \"markers\", \"text\": [\"pain <br>Count : 562 <br>Score : 0.636\", \"discomfort <br>Count : 14 <br>Score : 0.633\", \"hurting <br>Count : 8 <br>Score : 0.634\", \"##amps <br>Count : 120 <br>Score : 0.599\", \"hurt <br>Count : 20 <br>Score : 0.653\", \"lesions <br>Count : 13 <br>Score : 0.642\", \"sore <br>Count : 3 <br>Score : 0.672\", \"injury <br>Count : 21 <br>Score : 0.64\", \"hurts <br>Count : 4 <br>Score : 0.664\", \"muscles <br>Count : 25 <br>Score : 0.666\", \"##cts <br>Count : 4 <br>Score : 0.595\", \"bleeding <br>Count : 4 <br>Score : 0.635\", \"stiff <br>Count : 1 <br>Score : 0.702\", \"ache <br>Count : 24 <br>Score : 0.577\", \"damage <br>Count : 8 <br>Score : 0.63\", \"impairment <br>Count : 2 <br>Score : 0.61\", \"feels <br>Count : 2 <br>Score : 0.552\", \"muscle <br>Count : 47 <br>Score : 0.655\", \"legs <br>Count : 5 <br>Score : 0.612\", \"calves <br>Count : 2 <br>Score : 0.6\", \"##ctions <br>Count : 3 <br>Score : 0.582\", \"##ction <br>Count : 6 <br>Score : 0.565\", \"##dder <br>Count : 1 <br>Score : 0.55\", \"deterioration <br>Count : 2 <br>Score : 0.625\", \"inflammation <br>Count : 4 <br>Score : 0.581\", \"tremor <br>Count : 1 <br>Score : 0.593\", \"deficiency <br>Count : 1 <br>Score : 0.604\", \"failure <br>Count : 5 <br>Score : 0.552\", \"feel <br>Count : 18 <br>Score : 0.578\", \"felt <br>Count : 4 <br>Score : 0.562\", \"shoulder <br>Count : 2 <br>Score : 0.631\", \"joint <br>Count : 5 <br>Score : 0.604\", \"foot <br>Count : 1 <br>Score : 0.585\", \"feet <br>Count : 5 <br>Score : 0.63\", \"leg <br>Count : 16 <br>Score : 0.622\", \"arm <br>Count : 5 <br>Score : 0.577\", \"circulation <br>Count : 1 <br>Score : 0.645\", \"ratios <br>Count : 2 <br>Score : 0.628\", \"calf <br>Count : 1 <br>Score : 0.614\", \"clothes <br>Count : 1 <br>Score : 0.58\", \"##tment <br>Count : 1 <br>Score : 0.603\", \"##nts <br>Count : 1 <br>Score : 0.591\", \"##ctors <br>Count : 2 <br>Score : 0.572\", \"##cting <br>Count : 2 <br>Score : 0.56\", \"##psy <br>Count : 1 <br>Score : 0.631\", \"##mia <br>Count : 11 <br>Score : 0.627\", \"##llation <br>Count : 2 <br>Score : 0.611\", \"##pus <br>Count : 1 <br>Score : 0.602\", \"##osis <br>Count : 1 <br>Score : 0.593\", \"##rosis <br>Count : 3 <br>Score : 0.581\", \"weakness <br>Count : 6 <br>Score : 0.587\", \"deposits <br>Count : 1 <br>Score : 0.582\", \"swelling <br>Count : 2 <br>Score : 0.61\"], \"type\": \"scatter\", \"x\": [320.42, 360.08, 280.75, 255.55, 248.42, 266.2, 310.75, 323.65, 336.44, 378.67, 190.68, 463.84, 459.23, 450.16, 178.73, 428.86, 241.09, 377.01, 399.75, 455.24, 125.81, 196.8, 252.18, 313.96, 275.92, 528.63, 495.17, 469.69, 218.06, 185.74, 439.41, 405.31, 368.48, 405.31, 439.41, 469.69, 495.17, 515.03, 528.63, 535.55, 103.53, 73.185, 50.783, 37.047, 118.19, 134.99, 157.75, 185.74, 218.06, 253.67, 330.11, 291.42, 253.67], \"y\": [223.43, 283.52, 283.52, 254.67, 223.43, 176.06, 152.08, 151.5, 153.23, 181.11, 285.91, 236.34, 261.74, 285.91, 197.72, 318.17, 343.61, 355.84, 103.25, 172.83, 317.15, 149.57, 96.622, 367.28, 360.38, 280.89, 350.39, 379.55, 413.64, 392.3, 403.7, 422.05, 434.01, 24.81, 43.16, 67.305, 96.467, 129.71, 165.96, 204.07, 412.91, 371.14, 324.62, 274.85, 147.53, 112.64, 81.313, 54.553, 33.22, 18.0, 439.21, 437.47, 428.86]}],\n",
       "                        {\"hovermode\": \"closest\", \"margin\": {\"b\": 20, \"l\": 5, \"r\": 5, \"t\": 50}, \"showlegend\": false, \"template\": {\"data\": {\"bar\": [{\"error_x\": {\"color\": \"#2a3f5f\"}, \"error_y\": {\"color\": \"#2a3f5f\"}, \"marker\": {\"line\": {\"color\": \"#E5ECF6\", \"width\": 0.5}}, \"type\": \"bar\"}], \"barpolar\": [{\"marker\": {\"line\": {\"color\": \"#E5ECF6\", \"width\": 0.5}}, \"type\": \"barpolar\"}], \"carpet\": [{\"aaxis\": {\"endlinecolor\": \"#2a3f5f\", \"gridcolor\": \"white\", \"linecolor\": \"white\", \"minorgridcolor\": \"white\", \"startlinecolor\": \"#2a3f5f\"}, \"baxis\": {\"endlinecolor\": \"#2a3f5f\", \"gridcolor\": \"white\", \"linecolor\": \"white\", \"minorgridcolor\": \"white\", \"startlinecolor\": \"#2a3f5f\"}, \"type\": \"carpet\"}], \"choropleth\": [{\"colorbar\": {\"outlinewidth\": 0, \"ticks\": \"\"}, \"type\": \"choropleth\"}], \"contour\": [{\"colorbar\": {\"outlinewidth\": 0, \"ticks\": \"\"}, \"colorscale\": [[0.0, \"#0d0887\"], [0.1111111111111111, \"#46039f\"], [0.2222222222222222, \"#7201a8\"], [0.3333333333333333, \"#9c179e\"], [0.4444444444444444, \"#bd3786\"], [0.5555555555555556, \"#d8576b\"], [0.6666666666666666, \"#ed7953\"], [0.7777777777777778, \"#fb9f3a\"], [0.8888888888888888, \"#fdca26\"], [1.0, \"#f0f921\"]], \"type\": \"contour\"}], \"contourcarpet\": [{\"colorbar\": {\"outlinewidth\": 0, \"ticks\": \"\"}, \"type\": \"contourcarpet\"}], \"heatmap\": [{\"colorbar\": {\"outlinewidth\": 0, \"ticks\": \"\"}, \"colorscale\": [[0.0, \"#0d0887\"], [0.1111111111111111, \"#46039f\"], [0.2222222222222222, \"#7201a8\"], [0.3333333333333333, \"#9c179e\"], [0.4444444444444444, \"#bd3786\"], [0.5555555555555556, \"#d8576b\"], [0.6666666666666666, \"#ed7953\"], [0.7777777777777778, \"#fb9f3a\"], [0.8888888888888888, \"#fdca26\"], [1.0, \"#f0f921\"]], \"type\": \"heatmap\"}], \"heatmapgl\": [{\"colorbar\": {\"outlinewidth\": 0, \"ticks\": \"\"}, \"colorscale\": [[0.0, \"#0d0887\"], [0.1111111111111111, \"#46039f\"], [0.2222222222222222, \"#7201a8\"], [0.3333333333333333, \"#9c179e\"], [0.4444444444444444, \"#bd3786\"], [0.5555555555555556, \"#d8576b\"], [0.6666666666666666, \"#ed7953\"], [0.7777777777777778, \"#fb9f3a\"], [0.8888888888888888, \"#fdca26\"], [1.0, \"#f0f921\"]], \"type\": \"heatmapgl\"}], \"histogram\": [{\"marker\": {\"colorbar\": {\"outlinewidth\": 0, \"ticks\": \"\"}}, \"type\": \"histogram\"}], \"histogram2d\": [{\"colorbar\": {\"outlinewidth\": 0, \"ticks\": \"\"}, \"colorscale\": [[0.0, \"#0d0887\"], [0.1111111111111111, \"#46039f\"], [0.2222222222222222, \"#7201a8\"], [0.3333333333333333, \"#9c179e\"], [0.4444444444444444, \"#bd3786\"], [0.5555555555555556, \"#d8576b\"], [0.6666666666666666, \"#ed7953\"], [0.7777777777777778, \"#fb9f3a\"], [0.8888888888888888, \"#fdca26\"], [1.0, \"#f0f921\"]], \"type\": \"histogram2d\"}], \"histogram2dcontour\": [{\"colorbar\": {\"outlinewidth\": 0, \"ticks\": \"\"}, \"colorscale\": [[0.0, \"#0d0887\"], [0.1111111111111111, \"#46039f\"], [0.2222222222222222, \"#7201a8\"], [0.3333333333333333, \"#9c179e\"], [0.4444444444444444, \"#bd3786\"], [0.5555555555555556, \"#d8576b\"], [0.6666666666666666, \"#ed7953\"], [0.7777777777777778, \"#fb9f3a\"], [0.8888888888888888, \"#fdca26\"], [1.0, \"#f0f921\"]], \"type\": \"histogram2dcontour\"}], \"mesh3d\": [{\"colorbar\": {\"outlinewidth\": 0, \"ticks\": \"\"}, \"type\": \"mesh3d\"}], \"parcoords\": [{\"line\": {\"colorbar\": {\"outlinewidth\": 0, \"ticks\": \"\"}}, \"type\": \"parcoords\"}], \"pie\": [{\"automargin\": true, \"type\": \"pie\"}], \"scatter\": [{\"marker\": {\"colorbar\": {\"outlinewidth\": 0, \"ticks\": \"\"}}, \"type\": \"scatter\"}], \"scatter3d\": [{\"line\": {\"colorbar\": {\"outlinewidth\": 0, \"ticks\": \"\"}}, \"marker\": {\"colorbar\": {\"outlinewidth\": 0, \"ticks\": \"\"}}, \"type\": \"scatter3d\"}], \"scattercarpet\": [{\"marker\": {\"colorbar\": {\"outlinewidth\": 0, \"ticks\": \"\"}}, \"type\": \"scattercarpet\"}], \"scattergeo\": [{\"marker\": {\"colorbar\": {\"outlinewidth\": 0, \"ticks\": \"\"}}, \"type\": \"scattergeo\"}], \"scattergl\": [{\"marker\": {\"colorbar\": {\"outlinewidth\": 0, \"ticks\": \"\"}}, \"type\": \"scattergl\"}], \"scattermapbox\": [{\"marker\": {\"colorbar\": {\"outlinewidth\": 0, \"ticks\": \"\"}}, \"type\": \"scattermapbox\"}], \"scatterpolar\": [{\"marker\": {\"colorbar\": {\"outlinewidth\": 0, \"ticks\": \"\"}}, \"type\": \"scatterpolar\"}], \"scatterpolargl\": [{\"marker\": {\"colorbar\": {\"outlinewidth\": 0, \"ticks\": \"\"}}, \"type\": \"scatterpolargl\"}], \"scatterternary\": [{\"marker\": {\"colorbar\": {\"outlinewidth\": 0, \"ticks\": \"\"}}, \"type\": \"scatterternary\"}], \"surface\": [{\"colorbar\": {\"outlinewidth\": 0, \"ticks\": \"\"}, \"colorscale\": [[0.0, \"#0d0887\"], [0.1111111111111111, \"#46039f\"], [0.2222222222222222, \"#7201a8\"], [0.3333333333333333, \"#9c179e\"], [0.4444444444444444, \"#bd3786\"], [0.5555555555555556, \"#d8576b\"], [0.6666666666666666, \"#ed7953\"], [0.7777777777777778, \"#fb9f3a\"], [0.8888888888888888, \"#fdca26\"], [1.0, \"#f0f921\"]], \"type\": \"surface\"}], \"table\": [{\"cells\": {\"fill\": {\"color\": \"#EBF0F8\"}, \"line\": {\"color\": \"white\"}}, \"header\": {\"fill\": {\"color\": \"#C8D4E3\"}, \"line\": {\"color\": \"white\"}}, \"type\": \"table\"}]}, \"layout\": {\"annotationdefaults\": {\"arrowcolor\": \"#2a3f5f\", \"arrowhead\": 0, \"arrowwidth\": 1}, \"coloraxis\": {\"colorbar\": {\"outlinewidth\": 0, \"ticks\": \"\"}}, \"colorscale\": {\"diverging\": [[0, \"#8e0152\"], [0.1, \"#c51b7d\"], [0.2, \"#de77ae\"], [0.3, \"#f1b6da\"], [0.4, \"#fde0ef\"], [0.5, \"#f7f7f7\"], [0.6, \"#e6f5d0\"], [0.7, \"#b8e186\"], [0.8, \"#7fbc41\"], [0.9, \"#4d9221\"], [1, \"#276419\"]], \"sequential\": [[0.0, \"#0d0887\"], [0.1111111111111111, \"#46039f\"], [0.2222222222222222, \"#7201a8\"], [0.3333333333333333, \"#9c179e\"], [0.4444444444444444, \"#bd3786\"], [0.5555555555555556, \"#d8576b\"], [0.6666666666666666, \"#ed7953\"], [0.7777777777777778, \"#fb9f3a\"], [0.8888888888888888, \"#fdca26\"], [1.0, \"#f0f921\"]], \"sequentialminus\": [[0.0, \"#0d0887\"], [0.1111111111111111, \"#46039f\"], [0.2222222222222222, \"#7201a8\"], [0.3333333333333333, \"#9c179e\"], [0.4444444444444444, \"#bd3786\"], [0.5555555555555556, \"#d8576b\"], [0.6666666666666666, \"#ed7953\"], [0.7777777777777778, \"#fb9f3a\"], [0.8888888888888888, \"#fdca26\"], [1.0, \"#f0f921\"]]}, \"colorway\": [\"#636efa\", \"#EF553B\", \"#00cc96\", \"#ab63fa\", \"#FFA15A\", \"#19d3f3\", \"#FF6692\", \"#B6E880\", \"#FF97FF\", \"#FECB52\"], \"font\": {\"color\": \"#2a3f5f\"}, \"geo\": {\"bgcolor\": \"white\", \"lakecolor\": \"white\", \"landcolor\": \"#E5ECF6\", \"showlakes\": true, \"showland\": true, \"subunitcolor\": \"white\"}, \"hoverlabel\": {\"align\": \"left\"}, \"hovermode\": \"closest\", \"mapbox\": {\"style\": \"light\"}, \"paper_bgcolor\": \"white\", \"plot_bgcolor\": \"#E5ECF6\", \"polar\": {\"angularaxis\": {\"gridcolor\": \"white\", \"linecolor\": \"white\", \"ticks\": \"\"}, \"bgcolor\": \"#E5ECF6\", \"radialaxis\": {\"gridcolor\": \"white\", \"linecolor\": \"white\", \"ticks\": \"\"}}, \"scene\": {\"xaxis\": {\"backgroundcolor\": \"#E5ECF6\", \"gridcolor\": \"white\", \"gridwidth\": 2, \"linecolor\": \"white\", \"showbackground\": true, \"ticks\": \"\", \"zerolinecolor\": \"white\"}, \"yaxis\": {\"backgroundcolor\": \"#E5ECF6\", \"gridcolor\": \"white\", \"gridwidth\": 2, \"linecolor\": \"white\", \"showbackground\": true, \"ticks\": \"\", \"zerolinecolor\": \"white\"}, \"zaxis\": {\"backgroundcolor\": \"#E5ECF6\", \"gridcolor\": \"white\", \"gridwidth\": 2, \"linecolor\": \"white\", \"showbackground\": true, \"ticks\": \"\", \"zerolinecolor\": \"white\"}}, \"shapedefaults\": {\"line\": {\"color\": \"#2a3f5f\"}}, \"ternary\": {\"aaxis\": {\"gridcolor\": \"white\", \"linecolor\": \"white\", \"ticks\": \"\"}, \"baxis\": {\"gridcolor\": \"white\", \"linecolor\": \"white\", \"ticks\": \"\"}, \"bgcolor\": \"#E5ECF6\", \"caxis\": {\"gridcolor\": \"white\", \"linecolor\": \"white\", \"ticks\": \"\"}}, \"title\": {\"x\": 0.05}, \"xaxis\": {\"automargin\": true, \"gridcolor\": \"white\", \"linecolor\": \"white\", \"ticks\": \"\", \"title\": {\"standoff\": 15}, \"zerolinecolor\": \"white\", \"zerolinewidth\": 2}, \"yaxis\": {\"automargin\": true, \"gridcolor\": \"white\", \"linecolor\": \"white\", \"ticks\": \"\", \"title\": {\"standoff\": 15}, \"zerolinecolor\": \"white\", \"zerolinewidth\": 2}}}, \"title\": {\"font\": {\"size\": 16}, \"text\": \"<br>Network graph made with Python\"}, \"xaxis\": {\"showgrid\": false, \"showticklabels\": false, \"zeroline\": false}, \"yaxis\": {\"showgrid\": false, \"showticklabels\": false, \"zeroline\": false}},\n",
       "                        {\"responsive\": true}\n",
       "                    ).then(function(){\n",
       "                            \n",
       "var gd = document.getElementById('55ede196-04e2-4511-be44-1059e68d4910');\n",
       "var x = new MutationObserver(function (mutations, observer) {{\n",
       "        var display = window.getComputedStyle(gd).display;\n",
       "        if (!display || display === 'none') {{\n",
       "            console.log([gd, 'removed!']);\n",
       "            Plotly.purge(gd);\n",
       "            observer.disconnect();\n",
       "        }}\n",
       "}});\n",
       "\n",
       "// Listen for the removal of the full notebook cells\n",
       "var notebookContainer = gd.closest('#notebook-container');\n",
       "if (notebookContainer) {{\n",
       "    x.observe(notebookContainer, {childList: true});\n",
       "}}\n",
       "\n",
       "// Listen for the clearing of the current output cell\n",
       "var outputEl = gd.closest('.output');\n",
       "if (outputEl) {{\n",
       "    x.observe(outputEl, {childList: true});\n",
       "}}\n",
       "\n",
       "                        })\n",
       "                };\n",
       "                });\n",
       "            </script>\n",
       "        </div>"
      ]
     },
     "metadata": {},
     "output_type": "display_data"
    }
   ],
   "source": [
    "ADR.plotGraph()"
   ]
  },
  {
   "cell_type": "code",
   "execution_count": 65,
   "metadata": {
    "hidden": true
   },
   "outputs": [
    {
     "name": "stdout",
     "output_type": "stream",
     "text": [
      "Exploring sore\n",
      "discomfort -> sore       | 1 |  0.623 | [257]\n",
      "--------------------\n"
     ]
    }
   ],
   "source": [
    "ADR.graph.describeNode('sore')"
   ]
  },
  {
   "cell_type": "code",
   "execution_count": 66,
   "metadata": {
    "hidden": true
   },
   "outputs": [
    {
     "data": {
      "text/plain": [
       "'Dear Lipitor, thanks for trying to kill me with one dose. Good lord! Possible side effects lists were kidding. Muscle and joint soreness? Took one dose Thurs night and felt like whole body got instant rheumatoid arthritis! Just now easing off. F this stuff! #lipitor'"
      ]
     },
     "execution_count": 66,
     "metadata": {},
     "output_type": "execute_result"
    }
   ],
   "source": [
    "finalDf.iloc[257]['message']"
   ]
  },
  {
   "cell_type": "code",
   "execution_count": 81,
   "metadata": {
    "hidden": true
   },
   "outputs": [
    {
     "name": "stdout",
     "output_type": "stream",
     "text": [
      "Exploring clothes\n",
      "calves     -> clothes    | 1 |   0.58 | [1024]\n",
      "--------------------\n"
     ]
    }
   ],
   "source": [
    "ADR.graph.describeNode('clothes')"
   ]
  },
  {
   "cell_type": "code",
   "execution_count": 82,
   "metadata": {
    "hidden": true
   },
   "outputs": [
    {
     "data": {
      "text/plain": [
       "'@Pseudologichunt @RichLucido @jaketapper That’s not true it’s good. He is on a high cholesterol medication. His clothes drawl levels without that would be dangerously high and so it is blood pressure! He’s on a Statin drug called Rosuvastatin. If he wasn’t on it his Cholesterol levels would be dangerously high! https://t.co/s9NSiKndBK'"
      ]
     },
     "execution_count": 82,
     "metadata": {},
     "output_type": "execute_result"
    }
   ],
   "source": [
    "finalDf.iloc[1024]['message']"
   ]
  },
  {
   "cell_type": "code",
   "execution_count": 107,
   "metadata": {
    "hidden": true
   },
   "outputs": [
    {
     "name": "stdout",
     "output_type": "stream",
     "text": [
      "Exploring swelling\n",
      "inflammation -> swelling   | 2 |   0.61 | [280, 1589]\n",
      "--------------------\n"
     ]
    }
   ],
   "source": [
    "ADR.graph.describeNode('swelling')"
   ]
  },
  {
   "cell_type": "code",
   "execution_count": 108,
   "metadata": {
    "hidden": true
   },
   "outputs": [
    {
     "data": {
      "text/plain": [
       "'@johnraysta thank you. used to get severe allergic reaction (swelling, itchy skin) when using simvastatin before, but so far none w/ crestor'"
      ]
     },
     "execution_count": 108,
     "metadata": {},
     "output_type": "execute_result"
    }
   ],
   "source": [
    "finalDf.iloc[280]['message']"
   ]
  },
  {
   "cell_type": "code",
   "execution_count": 114,
   "metadata": {
    "hidden": true
   },
   "outputs": [],
   "source": [
    "def evaluateText(text, model, tokenizer, compareEmb):\n",
    "    tokens = tokenizer.encode(text)\n",
    "    temp = tokenizer.convert_ids_to_tokens(tokens)\n",
    "\n",
    "    decoded = tokenizer.decode(tokens).split(\" \")\n",
    "    logits, hidden_states = model(torch.Tensor(tokens).unsqueeze(0).long())\n",
    "    hidden_states = torch.stack(hidden_states).squeeze(1).permute(1,0,2)\n",
    "\n",
    "    emb = torch.sum(hidden_states[:,9:13,:],1).detach().cpu().numpy()\n",
    "\n",
    "    sim = cosine_similarity(emb, compareEmb.reshape(1,-1)).reshape(-1)\n",
    "\n",
    "    sim = cosine_similarity(emb, compareEmb.reshape(1,-1)).reshape(-1)\n",
    "\n",
    "    for i in range(len(temp)):\n",
    "        print(f\"{temp[i]:10s} : {str(np.round(sim[i],3))}\")"
   ]
  },
  {
   "cell_type": "code",
   "execution_count": 115,
   "metadata": {
    "hidden": true
   },
   "outputs": [
    {
     "name": "stdout",
     "output_type": "stream",
     "text": [
      "[CLS]      : 0.073\n",
      "@          : 0.212\n",
      "john       : 0.274\n",
      "##ray      : 0.261\n",
      "##sta      : 0.241\n",
      "thank      : 0.242\n",
      "you        : 0.191\n",
      ".          : 0.117\n",
      "used       : 0.304\n",
      "to         : 0.271\n",
      "get        : 0.357\n",
      "severe     : 0.387\n",
      "allergic   : 0.47\n",
      "reaction   : 0.469\n",
      "(          : 0.336\n",
      "swelling   : 0.631\n",
      ",          : 0.358\n",
      "it         : 0.31\n",
      "##chy      : 0.482\n",
      "skin       : 0.506\n",
      ")          : 0.27\n",
      "when       : 0.33\n",
      "using      : 0.272\n",
      "sim        : 0.228\n",
      "##vas      : 0.229\n",
      "##tat      : 0.301\n",
      "##in       : 0.318\n",
      "before     : 0.264\n",
      ",          : 0.265\n",
      "but        : 0.276\n",
      "so         : 0.156\n",
      "far        : 0.116\n",
      "none       : 0.269\n",
      "w          : 0.289\n",
      "/          : 0.268\n",
      "crest      : 0.269\n",
      "##or       : 0.228\n",
      "[SEP]      : 0.073\n"
     ]
    }
   ],
   "source": [
    "evaluateText(finalDf.iloc[280]['message'], model, tokenizer, ADR.masterEmb)"
   ]
  },
  {
   "cell_type": "code",
   "execution_count": null,
   "metadata": {
    "hidden": true
   },
   "outputs": [],
   "source": []
  }
 ],
 "metadata": {
  "kernelspec": {
   "display_name": "env",
   "language": "python",
   "name": "env"
  },
  "language_info": {
   "codemirror_mode": {
    "name": "ipython",
    "version": 3
   },
   "file_extension": ".py",
   "mimetype": "text/x-python",
   "name": "python",
   "nbconvert_exporter": "python",
   "pygments_lexer": "ipython3",
   "version": "3.6.4"
  }
 },
 "nbformat": 4,
 "nbformat_minor": 4
}
